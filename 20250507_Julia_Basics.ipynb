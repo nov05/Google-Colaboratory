{
  "nbformat": 4,
  "nbformat_minor": 0,
  "metadata": {
    "colab": {
      "provenance": [],
      "toc_visible": true,
      "authorship_tag": "ABX9TyPwPfdo0+T4TTrHo7FcODaJ",
      "include_colab_link": true
    },
    "kernelspec": {
      "name": "julia",
      "display_name": "Julia"
    },
    "language_info": {
      "name": "julia"
    }
  },
  "cells": [
    {
      "cell_type": "markdown",
      "metadata": {
        "id": "view-in-github",
        "colab_type": "text"
      },
      "source": [
        "<a href=\"https://colab.research.google.com/github/nov05/Google-Colaboratory/blob/master/20250507_Julia_Basics.ipynb\" target=\"_parent\"><img src=\"https://colab.research.google.com/assets/colab-badge.svg\" alt=\"Open In Colab\"/></a>"
      ]
    },
    {
      "cell_type": "markdown",
      "source": [
        "## **<TOP\\>**\n",
        "* Created by nov05 on 2025-05-07  \n",
        "* Check [the GibHub copy](https://github.com/nov05/Google-Colaboratory/blob/master/20250507_Julia_Basics.ipynb)"
      ],
      "metadata": {
        "id": "PZGMILfeODVi"
      }
    },
    {
      "cell_type": "markdown",
      "source": [
        "## **Arithmetic**"
      ],
      "metadata": {
        "id": "v_sSSRO8Qp76"
      }
    },
    {
      "cell_type": "code",
      "execution_count": 13,
      "metadata": {
        "colab": {
          "base_uri": "https://localhost:8080/"
        },
        "id": "CYKOlq_MN-jE",
        "outputId": "89c97ab6-ff18-4f4f-cf26-18bbb3c8ffd6"
      },
      "outputs": [
        {
          "output_type": "stream",
          "name": "stdout",
          "text": [
            "2\n",
            "2.5\n",
            "8\n",
            "1\n",
            "6\n"
          ]
        }
      ],
      "source": [
        "#=\n",
        "    This file includes example code from the following video.\n",
        "    https://www.youtube.com/watch?v=KlorfxsdWDw\n",
        "=#\n",
        "## Alt+JO to open the Julia REPL terminal\n",
        "## Ctrl+Enter to evalute a line\n",
        "println(1 + 1)\n",
        "println(5 / 2)\n",
        "println(2^3)\n",
        "println(5 % 2)\n",
        "println(1 + (2-3)^4 * 5)"
      ]
    },
    {
      "cell_type": "markdown",
      "source": [
        "## **Boolean**"
      ],
      "metadata": {
        "id": "37pHt45FQ9WF"
      }
    },
    {
      "cell_type": "code",
      "source": [
        "## boolean\n",
        "println(3 > 2)\n",
        "println(3 < 2)\n",
        "println(4 >= 3)\n",
        "println(4 == 3)\n",
        "println((1==1) && (1>1))\n",
        "println((1==1) || (1>1))"
      ],
      "metadata": {
        "colab": {
          "base_uri": "https://localhost:8080/"
        },
        "id": "5plRhygmOZbs",
        "outputId": "1e3c7874-9fc5-4b69-87a8-9930ec2bfdf3"
      },
      "execution_count": 14,
      "outputs": [
        {
          "output_type": "stream",
          "name": "stdout",
          "text": [
            "true\n",
            "false\n",
            "true\n",
            "false\n",
            "false\n",
            "true\n"
          ]
        }
      ]
    },
    {
      "cell_type": "code",
      "source": [
        "i = 1"
      ],
      "metadata": {
        "colab": {
          "base_uri": "https://localhost:8080/"
        },
        "id": "hEaGXFZwO0Vi",
        "outputId": "d6a1ecf7-7993-4ddb-f5b1-194b28191b8a"
      },
      "execution_count": 15,
      "outputs": [
        {
          "output_type": "execute_result",
          "data": {
            "text/plain": [
              "1"
            ]
          },
          "metadata": {},
          "execution_count": 15
        }
      ]
    },
    {
      "cell_type": "code",
      "source": [
        "i += 1"
      ],
      "metadata": {
        "colab": {
          "base_uri": "https://localhost:8080/"
        },
        "id": "Kvb--9isQGIL",
        "outputId": "8f020d4d-d31d-43d2-baa3-9f8c11a21d40"
      },
      "execution_count": 20,
      "outputs": [
        {
          "output_type": "execute_result",
          "data": {
            "text/plain": [
              "5"
            ]
          },
          "metadata": {},
          "execution_count": 20
        }
      ]
    },
    {
      "cell_type": "code",
      "source": [
        "x = 8"
      ],
      "metadata": {
        "colab": {
          "base_uri": "https://localhost:8080/"
        },
        "id": "4rq4RYK3QHKK",
        "outputId": "48464b49-04d0-4574-d3b9-8f0386c684dc"
      },
      "execution_count": 21,
      "outputs": [
        {
          "output_type": "execute_result",
          "data": {
            "text/plain": [
              "8"
            ]
          },
          "metadata": {},
          "execution_count": 21
        }
      ]
    },
    {
      "cell_type": "code",
      "source": [
        "x >>= 1"
      ],
      "metadata": {
        "colab": {
          "base_uri": "https://localhost:8080/"
        },
        "id": "9Vy5kP3DQOgA",
        "outputId": "eb36a0a1-9d86-4b20-db05-02afb29f45ec"
      },
      "execution_count": 25,
      "outputs": [
        {
          "output_type": "execute_result",
          "data": {
            "text/plain": [
              "0"
            ]
          },
          "metadata": {},
          "execution_count": 25
        }
      ]
    },
    {
      "cell_type": "code",
      "source": [
        "height = 2; width = 3; area = height * width"
      ],
      "metadata": {
        "colab": {
          "base_uri": "https://localhost:8080/"
        },
        "id": "DE6HdA4lQUhM",
        "outputId": "1eb31f64-1da6-47ba-bc8b-57a6a98e43fa"
      },
      "execution_count": 26,
      "outputs": [
        {
          "output_type": "execute_result",
          "data": {
            "text/plain": [
              "6"
            ]
          },
          "metadata": {},
          "execution_count": 26
        }
      ]
    },
    {
      "cell_type": "markdown",
      "source": [
        "## **Unicode**"
      ],
      "metadata": {
        "id": "-dPuM2GZQ_wP"
      }
    },
    {
      "cell_type": "code",
      "source": [
        "## \\:dog:<tab>\n",
        "typeof('🐶')"
      ],
      "metadata": {
        "colab": {
          "base_uri": "https://localhost:8080/"
        },
        "id": "jJXxi4_7QaUN",
        "outputId": "d3de60f6-4e57-4455-c19f-1db29af67420"
      },
      "execution_count": 27,
      "outputs": [
        {
          "output_type": "execute_result",
          "data": {
            "text/plain": [
              "Char"
            ]
          },
          "metadata": {},
          "execution_count": 27
        }
      ]
    },
    {
      "cell_type": "code",
      "source": [
        "## \\pi<tab>\n",
        "π"
      ],
      "metadata": {
        "colab": {
          "base_uri": "https://localhost:8080/"
        },
        "id": "lul0H2ixQe_f",
        "outputId": "8b41d2c4-197f-432c-e581-aa8c2235ef1d"
      },
      "execution_count": 28,
      "outputs": [
        {
          "output_type": "execute_result",
          "data": {
            "text/plain": [
              "π = 3.1415926535897..."
            ]
          },
          "metadata": {},
          "execution_count": 28
        }
      ]
    },
    {
      "cell_type": "code",
      "source": [
        "## \\euler<tab>\n",
        "ℯ"
      ],
      "metadata": {
        "colab": {
          "base_uri": "https://localhost:8080/"
        },
        "id": "JkB7M_FiQiGI",
        "outputId": "b2f1b86a-c569-4832-cba5-b5051876dec1"
      },
      "execution_count": 29,
      "outputs": [
        {
          "output_type": "execute_result",
          "data": {
            "text/plain": [
              "ℯ = 2.7182818284590..."
            ]
          },
          "metadata": {},
          "execution_count": 29
        }
      ]
    }
  ]
}