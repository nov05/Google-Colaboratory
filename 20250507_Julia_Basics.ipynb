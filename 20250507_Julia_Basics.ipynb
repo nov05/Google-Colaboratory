{
  "nbformat": 4,
  "nbformat_minor": 0,
  "metadata": {
    "colab": {
      "provenance": [],
      "toc_visible": true,
      "authorship_tag": "ABX9TyP1c+enFs+OCWwySirADmVv",
      "include_colab_link": true
    },
    "kernelspec": {
      "name": "julia",
      "display_name": "Julia"
    },
    "language_info": {
      "name": "julia"
    }
  },
  "cells": [
    {
      "cell_type": "markdown",
      "metadata": {
        "id": "view-in-github",
        "colab_type": "text"
      },
      "source": [
        "<a href=\"https://colab.research.google.com/github/nov05/Google-Colaboratory/blob/master/20250507_Julia_Basics.ipynb\" target=\"_parent\"><img src=\"https://colab.research.google.com/assets/colab-badge.svg\" alt=\"Open In Colab\"/></a>"
      ]
    },
    {
      "cell_type": "markdown",
      "source": [
        "* Created by nov05 on 2025-05-07"
      ],
      "metadata": {
        "id": "PZGMILfeODVi"
      }
    },
    {
      "cell_type": "code",
      "execution_count": 13,
      "metadata": {
        "colab": {
          "base_uri": "https://localhost:8080/"
        },
        "id": "CYKOlq_MN-jE",
        "outputId": "89c97ab6-ff18-4f4f-cf26-18bbb3c8ffd6"
      },
      "outputs": [
        {
          "output_type": "stream",
          "name": "stdout",
          "text": [
            "2\n",
            "2.5\n",
            "8\n",
            "1\n",
            "6\n"
          ]
        }
      ],
      "source": [
        "## created by nov05 on 2025-05-07\n",
        "#=\n",
        "    This file includes example code from the following video.\n",
        "    https://www.youtube.com/watch?v=KlorfxsdWDw\n",
        "=#\n",
        "## Alt+JO to open the Julia REPL terminal\n",
        "## Ctrl+Enter to evalute a line\n",
        "println(1 + 1)\n",
        "println(5 / 2)\n",
        "println(2^3)\n",
        "println(5 % 2)\n",
        "println(1 + (2-3)^4 * 5)"
      ]
    },
    {
      "cell_type": "code",
      "source": [
        "println(3 > 2)"
      ],
      "metadata": {
        "colab": {
          "base_uri": "https://localhost:8080/"
        },
        "id": "5plRhygmOZbs",
        "outputId": "e99ca1f6-f3bf-401a-8291-5485f33688db"
      },
      "execution_count": 8,
      "outputs": [
        {
          "output_type": "stream",
          "name": "stdout",
          "text": [
            "true\n"
          ]
        }
      ]
    },
    {
      "cell_type": "code",
      "source": [
        "3 < 2\n",
        "4 >= 3\n",
        "4 == 3\n",
        "(1==1) && (1>1)\n",
        "(1==1) || (1>1)"
      ],
      "metadata": {
        "id": "hEaGXFZwO0Vi"
      },
      "execution_count": null,
      "outputs": []
    }
  ]
}