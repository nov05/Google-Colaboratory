{
  "cells": [
    {
      "cell_type": "markdown",
      "metadata": {
        "id": "view-in-github",
        "colab_type": "text"
      },
      "source": [
        "<a href=\"https://colab.research.google.com/github/nov05/Google-Colaboratory/blob/master/generative_ai_with_langchain/08_02_advanced_evaluation.ipynb\" target=\"_parent\"><img src=\"https://colab.research.google.com/assets/colab-badge.svg\" alt=\"Open In Colab\"/></a>"
      ]
    },
    {
      "cell_type": "markdown",
      "source": [
        "* Notebook modified by nov05 on 2025-06-13  "
      ],
      "metadata": {
        "id": "aCI-OQynAAda"
      },
      "id": "aCI-OQynAAda"
    },
    {
      "cell_type": "code",
      "source": [
        "%%capture\n",
        "!pip install langchain langsmith langchain_community langchain_openai\n",
        "## ⚠️ Restart session after installation"
      ],
      "metadata": {
        "id": "gGFb57VdC8hE"
      },
      "id": "gGFb57VdC8hE",
      "execution_count": 1,
      "outputs": []
    },
    {
      "cell_type": "markdown",
      "source": [
        "*Successfully installed dataclasses-json-0.6.7 httpx-sse-0.4.0 langchain-core-0.3.65 langchain_community-0.3.25 langchain_openai-0.3.23 langsmith-0.3.45 marshmallow-3.26.1 mypy-extensions-1.1.0 pydantic-settings-2.9.1 python-dotenv-1.1.0 typing-inspect-0.9.0*  "
      ],
      "metadata": {
        "id": "ZR8BdP2NDL6r"
      },
      "id": "ZR8BdP2NDL6r"
    },
    {
      "cell_type": "markdown",
      "id": "b61113c0-e45b-4723-8878-41fa74bd46f4",
      "metadata": {
        "id": "b61113c0-e45b-4723-8878-41fa74bd46f4"
      },
      "source": [
        "**Make sure you load the API keys for cloud providers!**\n",
        "\n",
        "You can set your environment keys yourself or use a script. Please note that since keys are private, they are not included in the repository."
      ]
    },
    {
      "cell_type": "code",
      "execution_count": null,
      "id": "cd4535b4-20c7-44ca-bac3-c1653839f11d",
      "metadata": {
        "id": "cd4535b4-20c7-44ca-bac3-c1653839f11d"
      },
      "outputs": [],
      "source": [
        "# # setting the environment variables, the keys\n",
        "# import sys\n",
        "# import os\n",
        "# sys.path.insert(0, os.path.abspath('..'))\n",
        "# from config import set_environment\n",
        "# # for the keys - as explained early in chapter 2\n",
        "# set_environment()"
      ]
    },
    {
      "cell_type": "code",
      "source": [
        "import os\n",
        "from google.colab import userdata\n",
        "# os.environ[\"LANGSMITH_TRACING\"] = \"true\"\n",
        "os.environ[\"LANGSMITH_API_KEY\"] = userdata.get(\"LANGSMITH_API_KEY\")\n",
        "# os.environ[\"LANGSMITH_PROJECT\"] = \"generative_ai_with_langchain\"\n",
        "os.environ[\"OPENAI_API_KEY\"] = userdata.get(\"OPENAI_API_KEY\")"
      ],
      "metadata": {
        "id": "kg1vw7EWCsTL"
      },
      "id": "kg1vw7EWCsTL",
      "execution_count": 1,
      "outputs": []
    },
    {
      "cell_type": "markdown",
      "source": [
        "# 🟢 **Advanced Evaluation**  "
      ],
      "metadata": {
        "id": "BTxdTJKYAryF"
      },
      "id": "BTxdTJKYAryF"
    },
    {
      "cell_type": "markdown",
      "id": "25c4d525-529a-4bcc-ad87-3c3e00df2ec0",
      "metadata": {
        "id": "25c4d525-529a-4bcc-ad87-3c3e00df2ec0"
      },
      "source": [
        "## 👉 **Chain-of-Thought Evaluation**  "
      ]
    },
    {
      "cell_type": "markdown",
      "source": [
        "* The following code uses an OpenAI LLM (e.g., `gpt-4o`) by default, so you'll need to set `os.environ['OPENAI_API_KEY']`.  \n",
        "\n",
        "  * Check the documentation at https://python.langchain.com/docs/integrations/chat/openai/.  \n",
        "\n",
        "* `class langchain.evaluation.qa.eval_chain.CotQAEvalChain`: LLM Chain for evaluating QA using chain of thought reasoning.    \n",
        "\n",
        "  * Check the documentation at https://python.langchain.com/api_reference/langchain/evaluation/langchain.evaluation.qa.eval_chain.CotQAEvalChain.html  \n",
        "\n",
        "  * **ChatGPT**: LangChain's meta-evaluation studies show that using CoT-style evaluation generally aligns better with human judgments, although it comes with slightly higher token use and runtime cost.    \n",
        "\n",
        "| Task Type       | Evaluator    | Behavior                                             |\n",
        "| --------------- | ------------ | ---------------------------------------------------- |\n",
        "| QA              | `cot_qa`     | Uses chain-of-thought reasoning to judge correctness |\n",
        "| QA              | `qa`         | Direct correctness verdict without CoT               |\n",
        "| QA with context | `context_qa` | Uses reference context in straightforward judgment   |\n",
        "  \n",
        "\n",
        "  "
      ],
      "metadata": {
        "id": "VcePxjSiDZRk"
      },
      "id": "VcePxjSiDZRk"
    },
    {
      "cell_type": "code",
      "execution_count": null,
      "id": "e9bc7051-d358-4655-a6c2-af59115090e7",
      "metadata": {
        "colab": {
          "base_uri": "https://localhost:8080/"
        },
        "id": "e9bc7051-d358-4655-a6c2-af59115090e7",
        "outputId": "b1894441-6fd7-4508-847d-7e04b23281c3"
      },
      "outputs": [
        {
          "output_type": "stream",
          "name": "stdout",
          "text": [
            "Chain-of-Thought Reasoning Evaluation:\n",
            "{'reasoning': 'The student correctly identifies the current Federal Reserve '\n",
            "              'interest rate as 0.25%. They also correctly explain that this '\n",
            "              'low rate is intended to stimulate economic growth by keeping '\n",
            "              'borrowing costs low. They further explain that this encourages '\n",
            "              'consumer spending and business investment, which aligns with '\n",
            "              \"the context provided. Therefore, the student's answer is \"\n",
            "              'factually accurate and addresses all parts of the question.\\n'\n",
            "              'GRADE: CORRECT',\n",
            " 'score': 1,\n",
            " 'value': 'CORRECT'}\n",
            "CPU times: user 129 ms, sys: 11.2 ms, total: 141 ms\n",
            "Wall time: 2.73 s\n"
          ]
        }
      ],
      "source": [
        "%%time\n",
        "from langchain.evaluation import load_evaluator\n",
        "from pprint import pprint\n",
        "\n",
        "# Simulated chain-of-thought reasoning provided by the agent:\n",
        "agent_reasoning = (\n",
        "    \"The current interest rate is 0.25%. I determined this by recalling that recent monetary policies have aimed \"\n",
        "    \"to stimulate economic growth by keeping borrowing costs low. A rate of 0.25% is consistent with the ongoing \"\n",
        "    \"trend of low rates, which encourages consumer spending and business investment.\"\n",
        ")\n",
        "# Expected reasoning reference:\n",
        "expected_reasoning = (\n",
        "    \"An ideal reasoning should mention that the Federal Reserve has maintained a low interest rate—around 0.25%—to \"\n",
        "    \"support economic growth, and it should briefly explain the implications for borrowing costs and consumer spending.\"\n",
        ")\n",
        "# Load the chain-of-thought evaluator.\n",
        "cot_evaluator = load_evaluator(\"cot_qa\")  ## ⚠️\n",
        "\n",
        "result_reasoning = cot_evaluator.evaluate_strings(\n",
        "    input=\"What is the current Federal Reserve interest rate and why does it matter?\",\n",
        "    prediction=agent_reasoning,\n",
        "    reference=expected_reasoning,\n",
        ")\n",
        "print(\"Chain-of-Thought Reasoning Evaluation:\")\n",
        "pprint(result_reasoning)"
      ]
    },
    {
      "cell_type": "markdown",
      "id": "fc4b794a-3b8a-40b4-adb1-8d73b05fb7c5",
      "metadata": {
        "id": "fc4b794a-3b8a-40b4-adb1-8d73b05fb7c5"
      },
      "source": [
        "## 👉 **Agent Trajectory Evaluation**  "
      ]
    },
    {
      "cell_type": "markdown",
      "source": [
        "* You're testing an agent that’s expected to go through:  \n",
        "  `[\"intent_classifier\", \"healthcare_agent\", \"MedicalDatabaseSearch\", \"format_response\"]`\n",
        "\n",
        "  And the function `run_graph_with_trajectory` is set up to return this exact trajectory. So you expect a perfect score of **1.0**.\n",
        "\n",
        "* But in real cases, your agent might do:  \n",
        "  `[\"intent_classifier\", \"MedicalDatabaseSearch\", \"format_response\"]`  \n",
        "\n",
        "  Then trajectory_subsequence would score this as **0.75**, since it missed `healthcare_agent`."
      ],
      "metadata": {
        "id": "kdqHTzDMhQge"
      },
      "id": "kdqHTzDMhQge"
    },
    {
      "cell_type": "code",
      "execution_count": 3,
      "id": "b7085ab2-f70b-4ef9-af24-9844c5975bbe",
      "metadata": {
        "colab": {
          "base_uri": "https://localhost:8080/"
        },
        "id": "b7085ab2-f70b-4ef9-af24-9844c5975bbe",
        "outputId": "e65f55f4-309e-42c9-e868-08749c22c59e"
      },
      "outputs": [
        {
          "output_type": "execute_result",
          "data": {
            "text/plain": [
              "<class 'langsmith.schemas.Example'>(id=31ec1825-a96c-4ebe-923c-7b5a4c7560ce, dataset_id=e8f944f9-58ff-4fe1-88f6-fee256b89a73, link='https://smith.langchain.com/o/bb2fe87a-6912-4ab2-9937-88deb93a5479/datasets/e8f944f9-58ff-4fe1-88f6-fee256b89a73/e/31ec1825-a96c-4ebe-923c-7b5a4c7560ce')"
            ]
          },
          "metadata": {},
          "execution_count": 3
        }
      ],
      "source": [
        "from langsmith import Client\n",
        "\n",
        "def trajectory_subsequence(outputs: dict, reference_outputs: dict) -> float:\n",
        "    \"\"\"Check how many of the desired steps the agent took.\"\"\"\n",
        "    if len(reference_outputs['trajectory']) > len(outputs['trajectory']):\n",
        "        return 0.0\n",
        "    i, j = 0, 0\n",
        "    while i < len(reference_outputs['trajectory']) and j < len(outputs['trajectory']):\n",
        "        if reference_outputs['trajectory'][i] == outputs['trajectory'][j]:\n",
        "            i += 1\n",
        "        j += 1\n",
        "    return i / len(reference_outputs['trajectory'])\n",
        "\n",
        "# Create example dataset with expected trajectories\n",
        "client = Client(\n",
        "    api_key=userdata.get(\"LANGSMITH_API_KEY\"), ## ✅\n",
        ")\n",
        "trajectory_dataset = client.create_dataset(\n",
        "    \"Healthcare Agent Trajectory Evaluation\",\n",
        "    description=\"Evaluates agent trajectory for medication queries\",\n",
        ")\n",
        "# Add example with expected trajectory\n",
        "client.create_example(\n",
        "    inputs={\n",
        "        \"question\": \"What is the recommended dosage of ibuprofen for an adult?\"\n",
        "    },\n",
        "    outputs={\n",
        "        \"trajectory\": [\n",
        "            \"intent_classifier\",\n",
        "            \"healthcare_agent\",\n",
        "            \"MedicalDatabaseSearch\",\n",
        "            \"format_response\"\n",
        "        ],\n",
        "        \"response\": \"Typically, 200-400 mg every 4-6 hours, not exceeding 3200 mg per day.\"\n",
        "    },\n",
        "    dataset_id=trajectory_dataset.id\n",
        ")"
      ]
    },
    {
      "cell_type": "markdown",
      "id": "8bf327d6-362a-4ffd-9c64-c0ec88acb7b7",
      "metadata": {
        "id": "8bf327d6-362a-4ffd-9c64-c0ec88acb7b7"
      },
      "source": [
        "### **Run evaluation with our custom trajectory evaluator**"
      ]
    },
    {
      "cell_type": "code",
      "execution_count": 4,
      "id": "fb371afe-e987-4958-9f6f-27104aa0e707",
      "metadata": {
        "colab": {
          "base_uri": "https://localhost:8080/",
          "height": 140,
          "referenced_widgets": [
            "0bdababd7e7f451e817909a47e4f7eda",
            "01cf48e1e7184984b2b9891ebf1f5464",
            "4d32edb795a24ce58da0e2d67b60d65b",
            "791b56e4f9e84d36b00c3c393d3cc316",
            "7e3185eed3fa423c94f17ce0997db512",
            "f1afd9471338452eb74ba7b4faa68247",
            "83309f4922b54cec9fad0df76fbb86ee",
            "e52aa63ff3c0422389705983b5c0a608",
            "b85f89c6cfed424f8b1f4a23b1e056b2",
            "3c1a6b94b31e4bdf8a00eb7e83c8c42f",
            "bae68fdde27646aa92252d54d407a5b5"
          ]
        },
        "id": "fb371afe-e987-4958-9f6f-27104aa0e707",
        "outputId": "b9ce81bc-0ecb-401f-da77-f4204472753d"
      },
      "outputs": [
        {
          "output_type": "stream",
          "name": "stdout",
          "text": [
            "View the evaluation results for experiment: 'healthcare-agent-trajectory-0540aa6a' at:\n",
            "https://smith.langchain.com/o/bb2fe87a-6912-4ab2-9937-88deb93a5479/datasets/e8f944f9-58ff-4fe1-88f6-fee256b89a73/compare?selectedSessions=e3b00894-e4ab-462b-aa4e-1e35160b00f0\n",
            "\n",
            "\n"
          ]
        },
        {
          "output_type": "display_data",
          "data": {
            "text/plain": [
              "0it [00:00, ?it/s]"
            ],
            "application/vnd.jupyter.widget-view+json": {
              "version_major": 2,
              "version_minor": 0,
              "model_id": "0bdababd7e7f451e817909a47e4f7eda"
            }
          },
          "metadata": {}
        }
      ],
      "source": [
        "# Function to run graph with trajectory tracking (example implementation)\n",
        "async def run_graph_with_trajectory(inputs: dict) -> dict:\n",
        "    \"\"\"Run graph and track the trajectory it takes along with the final response.\"\"\"\n",
        "    trajectory, final_response = [], \"\"\n",
        "    # Here you would implement your actual graph execution\n",
        "    # For the example, we'll just return a sample result\n",
        "    trajectory = [\"intent_classifier\", \"healthcare_agent\", \"MedicalDatabaseSearch\", \"format_response\"]\n",
        "    final_response = \"Typically, 200-400mg every 4-6 hours, not exceeding 3200mg per day.\"\n",
        "    return {\n",
        "        \"trajectory\": trajectory,\n",
        "        \"response\": final_response,\n",
        "    }\n",
        "\n",
        "# Note: This is an async function, so in a notebook you'd need to use await\n",
        "experiment_results = await client.aevaluate(\n",
        "    run_graph_with_trajectory,\n",
        "    data=trajectory_dataset.id,\n",
        "    evaluators=[trajectory_subsequence],\n",
        "    experiment_prefix=\"healthcare-agent-trajectory\",\n",
        "    num_repetitions=1,\n",
        "    max_concurrency=4,\n",
        ")\n",
        "## For demonstration without async:\n",
        "# results_df = experiment_results.to_pandas()\n",
        "# print(f\"Average trajectory match score: {results_df['trajectory_subsequence'].mean()}\")"
      ]
    },
    {
      "cell_type": "code",
      "execution_count": 5,
      "id": "055a4933-d351-4ced-a3d3-00548ceb89c6",
      "metadata": {
        "id": "055a4933-d351-4ced-a3d3-00548ceb89c6",
        "colab": {
          "base_uri": "https://localhost:8080/"
        },
        "outputId": "12718f9e-4aaa-48fc-fc0b-f0bd148a4a1c"
      },
      "outputs": [
        {
          "output_type": "stream",
          "name": "stdout",
          "text": [
            "Average trajectory match score: 1.0\n"
          ]
        }
      ],
      "source": [
        "results_df = experiment_results.to_pandas()\n",
        "print(f\"Average trajectory match score: {results_df['feedback.trajectory_subsequence'].mean()}\")"
      ]
    }
  ],
  "metadata": {
    "kernelspec": {
      "display_name": "Python 3 (ipykernel)",
      "language": "python",
      "name": "python3"
    },
    "language_info": {
      "codemirror_mode": {
        "name": "ipython",
        "version": 3
      },
      "file_extension": ".py",
      "mimetype": "text/x-python",
      "name": "python",
      "nbconvert_exporter": "python",
      "pygments_lexer": "ipython3",
      "version": "3.11.11"
    },
    "colab": {
      "provenance": [],
      "toc_visible": true,
      "include_colab_link": true
    },
    "widgets": {
      "application/vnd.jupyter.widget-state+json": {
        "0bdababd7e7f451e817909a47e4f7eda": {
          "model_module": "@jupyter-widgets/controls",
          "model_name": "HBoxModel",
          "model_module_version": "1.5.0",
          "state": {
            "_dom_classes": [],
            "_model_module": "@jupyter-widgets/controls",
            "_model_module_version": "1.5.0",
            "_model_name": "HBoxModel",
            "_view_count": null,
            "_view_module": "@jupyter-widgets/controls",
            "_view_module_version": "1.5.0",
            "_view_name": "HBoxView",
            "box_style": "",
            "children": [
              "IPY_MODEL_01cf48e1e7184984b2b9891ebf1f5464",
              "IPY_MODEL_4d32edb795a24ce58da0e2d67b60d65b",
              "IPY_MODEL_791b56e4f9e84d36b00c3c393d3cc316"
            ],
            "layout": "IPY_MODEL_7e3185eed3fa423c94f17ce0997db512"
          }
        },
        "01cf48e1e7184984b2b9891ebf1f5464": {
          "model_module": "@jupyter-widgets/controls",
          "model_name": "HTMLModel",
          "model_module_version": "1.5.0",
          "state": {
            "_dom_classes": [],
            "_model_module": "@jupyter-widgets/controls",
            "_model_module_version": "1.5.0",
            "_model_name": "HTMLModel",
            "_view_count": null,
            "_view_module": "@jupyter-widgets/controls",
            "_view_module_version": "1.5.0",
            "_view_name": "HTMLView",
            "description": "",
            "description_tooltip": null,
            "layout": "IPY_MODEL_f1afd9471338452eb74ba7b4faa68247",
            "placeholder": "​",
            "style": "IPY_MODEL_83309f4922b54cec9fad0df76fbb86ee",
            "value": ""
          }
        },
        "4d32edb795a24ce58da0e2d67b60d65b": {
          "model_module": "@jupyter-widgets/controls",
          "model_name": "FloatProgressModel",
          "model_module_version": "1.5.0",
          "state": {
            "_dom_classes": [],
            "_model_module": "@jupyter-widgets/controls",
            "_model_module_version": "1.5.0",
            "_model_name": "FloatProgressModel",
            "_view_count": null,
            "_view_module": "@jupyter-widgets/controls",
            "_view_module_version": "1.5.0",
            "_view_name": "ProgressView",
            "bar_style": "success",
            "description": "",
            "description_tooltip": null,
            "layout": "IPY_MODEL_e52aa63ff3c0422389705983b5c0a608",
            "max": 1,
            "min": 0,
            "orientation": "horizontal",
            "style": "IPY_MODEL_b85f89c6cfed424f8b1f4a23b1e056b2",
            "value": 1
          }
        },
        "791b56e4f9e84d36b00c3c393d3cc316": {
          "model_module": "@jupyter-widgets/controls",
          "model_name": "HTMLModel",
          "model_module_version": "1.5.0",
          "state": {
            "_dom_classes": [],
            "_model_module": "@jupyter-widgets/controls",
            "_model_module_version": "1.5.0",
            "_model_name": "HTMLModel",
            "_view_count": null,
            "_view_module": "@jupyter-widgets/controls",
            "_view_module_version": "1.5.0",
            "_view_name": "HTMLView",
            "description": "",
            "description_tooltip": null,
            "layout": "IPY_MODEL_3c1a6b94b31e4bdf8a00eb7e83c8c42f",
            "placeholder": "​",
            "style": "IPY_MODEL_bae68fdde27646aa92252d54d407a5b5",
            "value": " 1/? [00:00&lt;00:00,  1.64it/s]"
          }
        },
        "7e3185eed3fa423c94f17ce0997db512": {
          "model_module": "@jupyter-widgets/base",
          "model_name": "LayoutModel",
          "model_module_version": "1.2.0",
          "state": {
            "_model_module": "@jupyter-widgets/base",
            "_model_module_version": "1.2.0",
            "_model_name": "LayoutModel",
            "_view_count": null,
            "_view_module": "@jupyter-widgets/base",
            "_view_module_version": "1.2.0",
            "_view_name": "LayoutView",
            "align_content": null,
            "align_items": null,
            "align_self": null,
            "border": null,
            "bottom": null,
            "display": null,
            "flex": null,
            "flex_flow": null,
            "grid_area": null,
            "grid_auto_columns": null,
            "grid_auto_flow": null,
            "grid_auto_rows": null,
            "grid_column": null,
            "grid_gap": null,
            "grid_row": null,
            "grid_template_areas": null,
            "grid_template_columns": null,
            "grid_template_rows": null,
            "height": null,
            "justify_content": null,
            "justify_items": null,
            "left": null,
            "margin": null,
            "max_height": null,
            "max_width": null,
            "min_height": null,
            "min_width": null,
            "object_fit": null,
            "object_position": null,
            "order": null,
            "overflow": null,
            "overflow_x": null,
            "overflow_y": null,
            "padding": null,
            "right": null,
            "top": null,
            "visibility": null,
            "width": null
          }
        },
        "f1afd9471338452eb74ba7b4faa68247": {
          "model_module": "@jupyter-widgets/base",
          "model_name": "LayoutModel",
          "model_module_version": "1.2.0",
          "state": {
            "_model_module": "@jupyter-widgets/base",
            "_model_module_version": "1.2.0",
            "_model_name": "LayoutModel",
            "_view_count": null,
            "_view_module": "@jupyter-widgets/base",
            "_view_module_version": "1.2.0",
            "_view_name": "LayoutView",
            "align_content": null,
            "align_items": null,
            "align_self": null,
            "border": null,
            "bottom": null,
            "display": null,
            "flex": null,
            "flex_flow": null,
            "grid_area": null,
            "grid_auto_columns": null,
            "grid_auto_flow": null,
            "grid_auto_rows": null,
            "grid_column": null,
            "grid_gap": null,
            "grid_row": null,
            "grid_template_areas": null,
            "grid_template_columns": null,
            "grid_template_rows": null,
            "height": null,
            "justify_content": null,
            "justify_items": null,
            "left": null,
            "margin": null,
            "max_height": null,
            "max_width": null,
            "min_height": null,
            "min_width": null,
            "object_fit": null,
            "object_position": null,
            "order": null,
            "overflow": null,
            "overflow_x": null,
            "overflow_y": null,
            "padding": null,
            "right": null,
            "top": null,
            "visibility": null,
            "width": null
          }
        },
        "83309f4922b54cec9fad0df76fbb86ee": {
          "model_module": "@jupyter-widgets/controls",
          "model_name": "DescriptionStyleModel",
          "model_module_version": "1.5.0",
          "state": {
            "_model_module": "@jupyter-widgets/controls",
            "_model_module_version": "1.5.0",
            "_model_name": "DescriptionStyleModel",
            "_view_count": null,
            "_view_module": "@jupyter-widgets/base",
            "_view_module_version": "1.2.0",
            "_view_name": "StyleView",
            "description_width": ""
          }
        },
        "e52aa63ff3c0422389705983b5c0a608": {
          "model_module": "@jupyter-widgets/base",
          "model_name": "LayoutModel",
          "model_module_version": "1.2.0",
          "state": {
            "_model_module": "@jupyter-widgets/base",
            "_model_module_version": "1.2.0",
            "_model_name": "LayoutModel",
            "_view_count": null,
            "_view_module": "@jupyter-widgets/base",
            "_view_module_version": "1.2.0",
            "_view_name": "LayoutView",
            "align_content": null,
            "align_items": null,
            "align_self": null,
            "border": null,
            "bottom": null,
            "display": null,
            "flex": null,
            "flex_flow": null,
            "grid_area": null,
            "grid_auto_columns": null,
            "grid_auto_flow": null,
            "grid_auto_rows": null,
            "grid_column": null,
            "grid_gap": null,
            "grid_row": null,
            "grid_template_areas": null,
            "grid_template_columns": null,
            "grid_template_rows": null,
            "height": null,
            "justify_content": null,
            "justify_items": null,
            "left": null,
            "margin": null,
            "max_height": null,
            "max_width": null,
            "min_height": null,
            "min_width": null,
            "object_fit": null,
            "object_position": null,
            "order": null,
            "overflow": null,
            "overflow_x": null,
            "overflow_y": null,
            "padding": null,
            "right": null,
            "top": null,
            "visibility": null,
            "width": "20px"
          }
        },
        "b85f89c6cfed424f8b1f4a23b1e056b2": {
          "model_module": "@jupyter-widgets/controls",
          "model_name": "ProgressStyleModel",
          "model_module_version": "1.5.0",
          "state": {
            "_model_module": "@jupyter-widgets/controls",
            "_model_module_version": "1.5.0",
            "_model_name": "ProgressStyleModel",
            "_view_count": null,
            "_view_module": "@jupyter-widgets/base",
            "_view_module_version": "1.2.0",
            "_view_name": "StyleView",
            "bar_color": null,
            "description_width": ""
          }
        },
        "3c1a6b94b31e4bdf8a00eb7e83c8c42f": {
          "model_module": "@jupyter-widgets/base",
          "model_name": "LayoutModel",
          "model_module_version": "1.2.0",
          "state": {
            "_model_module": "@jupyter-widgets/base",
            "_model_module_version": "1.2.0",
            "_model_name": "LayoutModel",
            "_view_count": null,
            "_view_module": "@jupyter-widgets/base",
            "_view_module_version": "1.2.0",
            "_view_name": "LayoutView",
            "align_content": null,
            "align_items": null,
            "align_self": null,
            "border": null,
            "bottom": null,
            "display": null,
            "flex": null,
            "flex_flow": null,
            "grid_area": null,
            "grid_auto_columns": null,
            "grid_auto_flow": null,
            "grid_auto_rows": null,
            "grid_column": null,
            "grid_gap": null,
            "grid_row": null,
            "grid_template_areas": null,
            "grid_template_columns": null,
            "grid_template_rows": null,
            "height": null,
            "justify_content": null,
            "justify_items": null,
            "left": null,
            "margin": null,
            "max_height": null,
            "max_width": null,
            "min_height": null,
            "min_width": null,
            "object_fit": null,
            "object_position": null,
            "order": null,
            "overflow": null,
            "overflow_x": null,
            "overflow_y": null,
            "padding": null,
            "right": null,
            "top": null,
            "visibility": null,
            "width": null
          }
        },
        "bae68fdde27646aa92252d54d407a5b5": {
          "model_module": "@jupyter-widgets/controls",
          "model_name": "DescriptionStyleModel",
          "model_module_version": "1.5.0",
          "state": {
            "_model_module": "@jupyter-widgets/controls",
            "_model_module_version": "1.5.0",
            "_model_name": "DescriptionStyleModel",
            "_view_count": null,
            "_view_module": "@jupyter-widgets/base",
            "_view_module_version": "1.2.0",
            "_view_name": "StyleView",
            "description_width": ""
          }
        }
      }
    }
  },
  "nbformat": 4,
  "nbformat_minor": 5
}