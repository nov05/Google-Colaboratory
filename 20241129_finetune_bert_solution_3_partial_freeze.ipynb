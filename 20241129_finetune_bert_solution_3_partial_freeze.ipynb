{
  "cells": [
    {
      "cell_type": "markdown",
      "metadata": {
        "id": "view-in-github",
        "colab_type": "text"
      },
      "source": [
        "<a href=\"https://colab.research.google.com/github/nov05/Google-Colaboratory/blob/master/20241129_finetune_bert_solution_3_partial_freeze.ipynb\" target=\"_parent\"><img src=\"https://colab.research.google.com/assets/colab-badge.svg\" alt=\"Open In Colab\"/></a>"
      ]
    },
    {
      "cell_type": "markdown",
      "id": "079808d1",
      "metadata": {
        "id": "079808d1"
      },
      "source": [
        "# **\\<TOP\\>**  \n",
        "\n",
        "* changed by nov05 on 2024-11-28  \n",
        "* Udacity AWS MLE Nanodegree (ND189)  \n",
        "  Course 4, 3.15 Excercise: Fine-Tuning BERT    \n",
        "* local env `conda activate cuda_py310` with cuda enabled  \n",
        "* data source: [CoLA dataset on KaggleHub](https://www.kaggle.com/datasets/krazy47/cola-the-corpus-of-linguistic-acceptability)  \n",
        "  The Corpus of Linguistic Acceptability   "
      ]
    },
    {
      "cell_type": "markdown",
      "id": "ece7b442",
      "metadata": {
        "id": "ece7b442"
      },
      "source": [
        "# **Solution: Fine-tune BERT model**"
      ]
    },
    {
      "cell_type": "code",
      "execution_count": null,
      "id": "20247d44",
      "metadata": {
        "id": "20247d44"
      },
      "outputs": [],
      "source": [
        "import os\n",
        "# import sys\n",
        "# import json\n",
        "from tqdm import tqdm\n",
        "import wandb\n",
        "import numpy as np\n",
        "import pandas as pd\n",
        "import torch\n",
        "from torch.optim import AdamW\n",
        "# import torch.distributed as dist\n",
        "import torch.utils.data\n",
        "import torch.utils.data.distributed\n",
        "from torch.utils.data import DataLoader, RandomSampler, TensorDataset\n",
        "from transformers import BertForSequenceClassification, BertTokenizer # type: ignore\n",
        "from transformers import get_linear_schedule_with_warmup # type: ignore\n",
        "from sklearn.model_selection import train_test_split # type: ignore\n",
        "from sklearn.utils.class_weight import compute_class_weight # type: ignore\n",
        "\n",
        "## log training process with W&B if uncommented\n",
        "# os.environ['WANDB_MODE'] = 'disabled'"
      ]
    },
    {
      "cell_type": "code",
      "execution_count": null,
      "id": "23828261",
      "metadata": {
        "colab": {
          "base_uri": "https://localhost:8080/"
        },
        "id": "23828261",
        "outputId": "74a47687-380a-4551-9cb2-1c86f825be42"
      },
      "outputs": [
        {
          "output_type": "stream",
          "name": "stdout",
          "text": [
            "👉 Running on device type: cuda:0\n"
          ]
        }
      ],
      "source": [
        "class Config:\n",
        "    def __init__(self):\n",
        "        self.wandb = True\n",
        "        self.device = torch.device('cpu')\n",
        "        self.max_len = int(64) ## this is the max length of the sentence\n",
        "        self.epochs = int(15)\n",
        "        self.batch_size = int(64)  ## ⚠️ important\n",
        "        self.opt_lr = 2e-5    ## ⚠️ VERY important\n",
        "        self.opt_weight_decay = 1e-6\n",
        "        self.use_class_weights = False\n",
        "        self.freeze_layers = int(9)  ## from bottom to top, total 15 for BERT-base\n",
        "\n",
        "config = Config()\n",
        "config.device = torch.device(\"cuda:0\" if torch.cuda.is_available() else \"cpu\")\n",
        "print(f\"👉 Running on device type: {config.device}\")"
      ]
    },
    {
      "cell_type": "markdown",
      "source": [
        "# **Prepare train-test datasets**    \n",
        "\n",
        "---\n",
        "\n"
      ],
      "metadata": {
        "id": "HURZLmTPQy5s"
      },
      "id": "HURZLmTPQy5s"
    },
    {
      "cell_type": "code",
      "execution_count": null,
      "id": "kaD2qZyV2Abt",
      "metadata": {
        "colab": {
          "base_uri": "https://localhost:8080/"
        },
        "id": "kaD2qZyV2Abt",
        "outputId": "7b66f1d5-ad0a-4fe1-93d7-ff65985f4ca4"
      },
      "outputs": [
        {
          "output_type": "stream",
          "name": "stdout",
          "text": [
            "--2024-11-29 23:01:17--  https://raw.githubusercontent.com/nov05/udacity-CD0387-deep-learning-topics-within-computer-vision-nlp-project-starter/refs/heads/main/cd0387_common_model_arch_types_fine_tuning/cola_public/raw/in_domain_train.tsv\n",
            "Resolving raw.githubusercontent.com (raw.githubusercontent.com)... 185.199.108.133, 185.199.109.133, 185.199.110.133, ...\n",
            "Connecting to raw.githubusercontent.com (raw.githubusercontent.com)|185.199.108.133|:443... connected.\n",
            "HTTP request sent, awaiting response... 200 OK\n",
            "Length: 428578 (419K) [text/plain]\n",
            "Saving to: ‘cola_public/raw/in_domain_train.tsv’\n",
            "\n",
            "cola_public/raw/in_ 100%[===================>] 418.53K  --.-KB/s    in 0.005s  \n",
            "\n",
            "2024-11-29 23:01:17 (81.1 MB/s) - ‘cola_public/raw/in_domain_train.tsv’ saved [428578/428578]\n",
            "\n"
          ]
        }
      ],
      "source": [
        "## get raw data\n",
        "!mkdir -p cola_public\n",
        "!mkdir -p cola_public/raw\n",
        "!wget https://raw.githubusercontent.com/nov05/udacity-CD0387-deep-learning-topics-within-computer-vision-nlp-project-starter/refs/heads/main/cd0387_common_model_arch_types_fine_tuning/cola_public/raw/in_domain_train.tsv -O cola_public/raw/in_domain_train.tsv"
      ]
    },
    {
      "cell_type": "code",
      "execution_count": null,
      "id": "9a15cc9a",
      "metadata": {
        "colab": {
          "base_uri": "https://localhost:8080/",
          "height": 179
        },
        "id": "9a15cc9a",
        "outputId": "8f823625-6d6a-4d4d-d495-c03812c9eeb6"
      },
      "outputs": [
        {
          "output_type": "stream",
          "name": "stdout",
          "text": [
            "(8551, 2)\n",
            "0.704362062916618\n"
          ]
        },
        {
          "output_type": "execute_result",
          "data": {
            "text/plain": [
              "      label                                           sentence\n",
              "3500      1  He said that that ` that ' that that man used ...\n",
              "7539      1            Mary appreciates only John and herself.\n",
              "1966      0      Bill believes Anna and himself to be similar."
            ],
            "text/html": [
              "\n",
              "  <div id=\"df-f61ba0aa-4643-488a-a1f7-f2ac0d8df846\" class=\"colab-df-container\">\n",
              "    <div>\n",
              "<style scoped>\n",
              "    .dataframe tbody tr th:only-of-type {\n",
              "        vertical-align: middle;\n",
              "    }\n",
              "\n",
              "    .dataframe tbody tr th {\n",
              "        vertical-align: top;\n",
              "    }\n",
              "\n",
              "    .dataframe thead th {\n",
              "        text-align: right;\n",
              "    }\n",
              "</style>\n",
              "<table border=\"1\" class=\"dataframe\">\n",
              "  <thead>\n",
              "    <tr style=\"text-align: right;\">\n",
              "      <th></th>\n",
              "      <th>label</th>\n",
              "      <th>sentence</th>\n",
              "    </tr>\n",
              "  </thead>\n",
              "  <tbody>\n",
              "    <tr>\n",
              "      <th>3500</th>\n",
              "      <td>1</td>\n",
              "      <td>He said that that ` that ' that that man used ...</td>\n",
              "    </tr>\n",
              "    <tr>\n",
              "      <th>7539</th>\n",
              "      <td>1</td>\n",
              "      <td>Mary appreciates only John and herself.</td>\n",
              "    </tr>\n",
              "    <tr>\n",
              "      <th>1966</th>\n",
              "      <td>0</td>\n",
              "      <td>Bill believes Anna and himself to be similar.</td>\n",
              "    </tr>\n",
              "  </tbody>\n",
              "</table>\n",
              "</div>\n",
              "    <div class=\"colab-df-buttons\">\n",
              "\n",
              "  <div class=\"colab-df-container\">\n",
              "    <button class=\"colab-df-convert\" onclick=\"convertToInteractive('df-f61ba0aa-4643-488a-a1f7-f2ac0d8df846')\"\n",
              "            title=\"Convert this dataframe to an interactive table.\"\n",
              "            style=\"display:none;\">\n",
              "\n",
              "  <svg xmlns=\"http://www.w3.org/2000/svg\" height=\"24px\" viewBox=\"0 -960 960 960\">\n",
              "    <path d=\"M120-120v-720h720v720H120Zm60-500h600v-160H180v160Zm220 220h160v-160H400v160Zm0 220h160v-160H400v160ZM180-400h160v-160H180v160Zm440 0h160v-160H620v160ZM180-180h160v-160H180v160Zm440 0h160v-160H620v160Z\"/>\n",
              "  </svg>\n",
              "    </button>\n",
              "\n",
              "  <style>\n",
              "    .colab-df-container {\n",
              "      display:flex;\n",
              "      gap: 12px;\n",
              "    }\n",
              "\n",
              "    .colab-df-convert {\n",
              "      background-color: #E8F0FE;\n",
              "      border: none;\n",
              "      border-radius: 50%;\n",
              "      cursor: pointer;\n",
              "      display: none;\n",
              "      fill: #1967D2;\n",
              "      height: 32px;\n",
              "      padding: 0 0 0 0;\n",
              "      width: 32px;\n",
              "    }\n",
              "\n",
              "    .colab-df-convert:hover {\n",
              "      background-color: #E2EBFA;\n",
              "      box-shadow: 0px 1px 2px rgba(60, 64, 67, 0.3), 0px 1px 3px 1px rgba(60, 64, 67, 0.15);\n",
              "      fill: #174EA6;\n",
              "    }\n",
              "\n",
              "    .colab-df-buttons div {\n",
              "      margin-bottom: 4px;\n",
              "    }\n",
              "\n",
              "    [theme=dark] .colab-df-convert {\n",
              "      background-color: #3B4455;\n",
              "      fill: #D2E3FC;\n",
              "    }\n",
              "\n",
              "    [theme=dark] .colab-df-convert:hover {\n",
              "      background-color: #434B5C;\n",
              "      box-shadow: 0px 1px 3px 1px rgba(0, 0, 0, 0.15);\n",
              "      filter: drop-shadow(0px 1px 2px rgba(0, 0, 0, 0.3));\n",
              "      fill: #FFFFFF;\n",
              "    }\n",
              "  </style>\n",
              "\n",
              "    <script>\n",
              "      const buttonEl =\n",
              "        document.querySelector('#df-f61ba0aa-4643-488a-a1f7-f2ac0d8df846 button.colab-df-convert');\n",
              "      buttonEl.style.display =\n",
              "        google.colab.kernel.accessAllowed ? 'block' : 'none';\n",
              "\n",
              "      async function convertToInteractive(key) {\n",
              "        const element = document.querySelector('#df-f61ba0aa-4643-488a-a1f7-f2ac0d8df846');\n",
              "        const dataTable =\n",
              "          await google.colab.kernel.invokeFunction('convertToInteractive',\n",
              "                                                    [key], {});\n",
              "        if (!dataTable) return;\n",
              "\n",
              "        const docLinkHtml = 'Like what you see? Visit the ' +\n",
              "          '<a target=\"_blank\" href=https://colab.research.google.com/notebooks/data_table.ipynb>data table notebook</a>'\n",
              "          + ' to learn more about interactive tables.';\n",
              "        element.innerHTML = '';\n",
              "        dataTable['output_type'] = 'display_data';\n",
              "        await google.colab.output.renderOutput(dataTable, element);\n",
              "        const docLink = document.createElement('div');\n",
              "        docLink.innerHTML = docLinkHtml;\n",
              "        element.appendChild(docLink);\n",
              "      }\n",
              "    </script>\n",
              "  </div>\n",
              "\n",
              "\n",
              "<div id=\"df-6fa7b6e0-ab06-4ee1-937b-a9f49d997c6b\">\n",
              "  <button class=\"colab-df-quickchart\" onclick=\"quickchart('df-6fa7b6e0-ab06-4ee1-937b-a9f49d997c6b')\"\n",
              "            title=\"Suggest charts\"\n",
              "            style=\"display:none;\">\n",
              "\n",
              "<svg xmlns=\"http://www.w3.org/2000/svg\" height=\"24px\"viewBox=\"0 0 24 24\"\n",
              "     width=\"24px\">\n",
              "    <g>\n",
              "        <path d=\"M19 3H5c-1.1 0-2 .9-2 2v14c0 1.1.9 2 2 2h14c1.1 0 2-.9 2-2V5c0-1.1-.9-2-2-2zM9 17H7v-7h2v7zm4 0h-2V7h2v10zm4 0h-2v-4h2v4z\"/>\n",
              "    </g>\n",
              "</svg>\n",
              "  </button>\n",
              "\n",
              "<style>\n",
              "  .colab-df-quickchart {\n",
              "      --bg-color: #E8F0FE;\n",
              "      --fill-color: #1967D2;\n",
              "      --hover-bg-color: #E2EBFA;\n",
              "      --hover-fill-color: #174EA6;\n",
              "      --disabled-fill-color: #AAA;\n",
              "      --disabled-bg-color: #DDD;\n",
              "  }\n",
              "\n",
              "  [theme=dark] .colab-df-quickchart {\n",
              "      --bg-color: #3B4455;\n",
              "      --fill-color: #D2E3FC;\n",
              "      --hover-bg-color: #434B5C;\n",
              "      --hover-fill-color: #FFFFFF;\n",
              "      --disabled-bg-color: #3B4455;\n",
              "      --disabled-fill-color: #666;\n",
              "  }\n",
              "\n",
              "  .colab-df-quickchart {\n",
              "    background-color: var(--bg-color);\n",
              "    border: none;\n",
              "    border-radius: 50%;\n",
              "    cursor: pointer;\n",
              "    display: none;\n",
              "    fill: var(--fill-color);\n",
              "    height: 32px;\n",
              "    padding: 0;\n",
              "    width: 32px;\n",
              "  }\n",
              "\n",
              "  .colab-df-quickchart:hover {\n",
              "    background-color: var(--hover-bg-color);\n",
              "    box-shadow: 0 1px 2px rgba(60, 64, 67, 0.3), 0 1px 3px 1px rgba(60, 64, 67, 0.15);\n",
              "    fill: var(--button-hover-fill-color);\n",
              "  }\n",
              "\n",
              "  .colab-df-quickchart-complete:disabled,\n",
              "  .colab-df-quickchart-complete:disabled:hover {\n",
              "    background-color: var(--disabled-bg-color);\n",
              "    fill: var(--disabled-fill-color);\n",
              "    box-shadow: none;\n",
              "  }\n",
              "\n",
              "  .colab-df-spinner {\n",
              "    border: 2px solid var(--fill-color);\n",
              "    border-color: transparent;\n",
              "    border-bottom-color: var(--fill-color);\n",
              "    animation:\n",
              "      spin 1s steps(1) infinite;\n",
              "  }\n",
              "\n",
              "  @keyframes spin {\n",
              "    0% {\n",
              "      border-color: transparent;\n",
              "      border-bottom-color: var(--fill-color);\n",
              "      border-left-color: var(--fill-color);\n",
              "    }\n",
              "    20% {\n",
              "      border-color: transparent;\n",
              "      border-left-color: var(--fill-color);\n",
              "      border-top-color: var(--fill-color);\n",
              "    }\n",
              "    30% {\n",
              "      border-color: transparent;\n",
              "      border-left-color: var(--fill-color);\n",
              "      border-top-color: var(--fill-color);\n",
              "      border-right-color: var(--fill-color);\n",
              "    }\n",
              "    40% {\n",
              "      border-color: transparent;\n",
              "      border-right-color: var(--fill-color);\n",
              "      border-top-color: var(--fill-color);\n",
              "    }\n",
              "    60% {\n",
              "      border-color: transparent;\n",
              "      border-right-color: var(--fill-color);\n",
              "    }\n",
              "    80% {\n",
              "      border-color: transparent;\n",
              "      border-right-color: var(--fill-color);\n",
              "      border-bottom-color: var(--fill-color);\n",
              "    }\n",
              "    90% {\n",
              "      border-color: transparent;\n",
              "      border-bottom-color: var(--fill-color);\n",
              "    }\n",
              "  }\n",
              "</style>\n",
              "\n",
              "  <script>\n",
              "    async function quickchart(key) {\n",
              "      const quickchartButtonEl =\n",
              "        document.querySelector('#' + key + ' button');\n",
              "      quickchartButtonEl.disabled = true;  // To prevent multiple clicks.\n",
              "      quickchartButtonEl.classList.add('colab-df-spinner');\n",
              "      try {\n",
              "        const charts = await google.colab.kernel.invokeFunction(\n",
              "            'suggestCharts', [key], {});\n",
              "      } catch (error) {\n",
              "        console.error('Error during call to suggestCharts:', error);\n",
              "      }\n",
              "      quickchartButtonEl.classList.remove('colab-df-spinner');\n",
              "      quickchartButtonEl.classList.add('colab-df-quickchart-complete');\n",
              "    }\n",
              "    (() => {\n",
              "      let quickchartButtonEl =\n",
              "        document.querySelector('#df-6fa7b6e0-ab06-4ee1-937b-a9f49d997c6b button');\n",
              "      quickchartButtonEl.style.display =\n",
              "        google.colab.kernel.accessAllowed ? 'block' : 'none';\n",
              "    })();\n",
              "  </script>\n",
              "</div>\n",
              "\n",
              "    </div>\n",
              "  </div>\n"
            ],
            "application/vnd.google.colaboratory.intrinsic+json": {
              "type": "dataframe",
              "summary": "{\n  \"name\": \"df\",\n  \"rows\": 3,\n  \"fields\": [\n    {\n      \"column\": \"label\",\n      \"properties\": {\n        \"dtype\": \"number\",\n        \"std\": 0,\n        \"min\": 0,\n        \"max\": 1,\n        \"num_unique_values\": 2,\n        \"samples\": [\n          0,\n          1\n        ],\n        \"semantic_type\": \"\",\n        \"description\": \"\"\n      }\n    },\n    {\n      \"column\": \"sentence\",\n      \"properties\": {\n        \"dtype\": \"string\",\n        \"num_unique_values\": 3,\n        \"samples\": [\n          \"He said that that ` that ' that that man used was wrong.\",\n          \"Mary appreciates only John and herself.\"\n        ],\n        \"semantic_type\": \"\",\n        \"description\": \"\"\n      }\n    }\n  ]\n}"
            }
          },
          "metadata": {},
          "execution_count": 4
        }
      ],
      "source": [
        "df = pd.read_csv(\n",
        "   r\"/content/cola_public/raw/in_domain_train.tsv\",\n",
        "   sep=\"\\t\",\n",
        "   header=None,\n",
        "   usecols=[1, 3],\n",
        "   names=[\"label\", \"sentence\"],\n",
        ")\n",
        "sentences = df.sentence.values\n",
        "labels = df.label.values\n",
        "print(df.shape)\n",
        "## there is some imbalance in the training dataset\n",
        "print(sum(labels)/len(labels))\n",
        "df.sample(3)"
      ]
    },
    {
      "cell_type": "code",
      "execution_count": null,
      "id": "1c7d8d8c",
      "metadata": {
        "id": "1c7d8d8c"
      },
      "outputs": [],
      "source": [
        "## train-test split\n",
        "!mkdir -p data\n",
        "!mkdir -p data/cola\n",
        "train_df, test_df = train_test_split(df, stratify=labels)\n",
        "train_df.to_csv(r\"data/cola/train.csv\", index=False)\n",
        "test_df.to_csv(r\"data/cola/test.csv\", index=False)"
      ]
    },
    {
      "cell_type": "markdown",
      "source": [
        "# **Functions**"
      ],
      "metadata": {
        "id": "jsKxYDRxQ-Kj"
      },
      "id": "jsKxYDRxQ-Kj"
    },
    {
      "cell_type": "code",
      "execution_count": null,
      "id": "7e22c3cf",
      "metadata": {
        "colab": {
          "base_uri": "https://localhost:8080/",
          "height": 163,
          "referenced_widgets": [
            "c1255eb509ad4dd7ae63506e7c8e94f0",
            "f6ec275703e641f780591fe7b9cfc7f0",
            "d66309a78bc14d4e8b691b225d937764",
            "cd927615cf7348f99d563fd2fc108932",
            "524f03f43d314bdaa5fd6b699865918b",
            "6337cb7b8d9345c8b04e5eb83e9b6334",
            "55e5012c49ac4e408753bc6dbe1cb17e",
            "0f423f0e28f44c0983eb27195419feb4",
            "cdab01b62ade4486849d09502da866cc",
            "4c9f2668505246b3839903f84f85e839",
            "8b9ae21a9f3f42f19e6f78a953621e50",
            "6e3f2fc0a34f496a807d5e3ae8e7fdb5",
            "46c129dd47e147a280fb8b2c2bb78508",
            "bc44fa0a02c54ff392f471e260cc0ef1",
            "6980dbdf2a114007bc9b4f1eb38b991d",
            "28e7eae0c4fc487bad9f9f516ceaad50",
            "bc62be09c4534d83a99e0c8aa20f43d1",
            "f8b34514e04a4a49870e20e2a68c43fc",
            "1913449458c647cfa89ed2869c904411",
            "5e1e77a9de7348d28db2c64720fbdf5e",
            "a128083035034172bf229408ba56342d",
            "d5bf007a6a894c52934f6978b3324dfd",
            "d18f577db3dc48e9a4fcbbed2ecfc339",
            "40cafb13b69a4319a3284bf8d1df770c",
            "04a5d505a487484dbd7aaea3e04cb9c5",
            "d9162d5d73544c7aa0773311ade07903",
            "7d995f2d7f544c8590a89498b8102862",
            "8db57d49d7414e25b470aa31e1e6c468",
            "272a7c0c0bd94a0ca2f155fa30b02ab3",
            "ecea80f984cc49748827887c38b23507",
            "540fadf4fdaf4304b29bc88eee0871b4",
            "0c43d2f9524344568b84373f3d708769",
            "76787913fb5d4e77887e504be0118d7b",
            "f7a02e100d5e403eacb70f29736f2631",
            "1fbd601d6d38498e88549aa59a55ebdf",
            "54fbec52ebc3430384de0c9c25f8d2df",
            "e50e86d4bb91462b9a1024c8c7d4cbc6",
            "27077bf41cd749c39ec48f78e700bf4d",
            "c6cbbeb7f04e45389892e0d4b4f5bf63",
            "d72a16f1f5cd4c20b9314a43dd310a5c",
            "e8cb8afb41b1485695aa26eeeb5a28a9",
            "4d7046a6280d43fd88f81c69e8329440",
            "d2963dd91e26423aa4bd557be47b1f6a",
            "465226b702f943edb47efd1d14d5ae7a"
          ]
        },
        "id": "7e22c3cf",
        "outputId": "bee1a71f-399e-4d06-9532-76b3e90c4018"
      },
      "outputs": [
        {
          "output_type": "stream",
          "name": "stdout",
          "text": [
            "Loading BERT tokenizer...\n"
          ]
        },
        {
          "output_type": "display_data",
          "data": {
            "text/plain": [
              "tokenizer_config.json:   0%|          | 0.00/48.0 [00:00<?, ?B/s]"
            ],
            "application/vnd.jupyter.widget-view+json": {
              "version_major": 2,
              "version_minor": 0,
              "model_id": "c1255eb509ad4dd7ae63506e7c8e94f0"
            }
          },
          "metadata": {}
        },
        {
          "output_type": "display_data",
          "data": {
            "text/plain": [
              "vocab.txt:   0%|          | 0.00/232k [00:00<?, ?B/s]"
            ],
            "application/vnd.jupyter.widget-view+json": {
              "version_major": 2,
              "version_minor": 0,
              "model_id": "6e3f2fc0a34f496a807d5e3ae8e7fdb5"
            }
          },
          "metadata": {}
        },
        {
          "output_type": "display_data",
          "data": {
            "text/plain": [
              "tokenizer.json:   0%|          | 0.00/466k [00:00<?, ?B/s]"
            ],
            "application/vnd.jupyter.widget-view+json": {
              "version_major": 2,
              "version_minor": 0,
              "model_id": "d18f577db3dc48e9a4fcbbed2ecfc339"
            }
          },
          "metadata": {}
        },
        {
          "output_type": "display_data",
          "data": {
            "text/plain": [
              "config.json:   0%|          | 0.00/570 [00:00<?, ?B/s]"
            ],
            "application/vnd.jupyter.widget-view+json": {
              "version_major": 2,
              "version_minor": 0,
              "model_id": "f7a02e100d5e403eacb70f29736f2631"
            }
          },
          "metadata": {}
        }
      ],
      "source": [
        "print(\"Loading BERT tokenizer...\")\n",
        "tokenizer = BertTokenizer.from_pretrained(\"bert-base-uncased\", do_lower_case=True)\n",
        "\n",
        "\n",
        "def flat_accuracy(preds, labels):\n",
        "    pred_flat = np.argmax(preds, axis=1).flatten()\n",
        "    labels_flat = labels.flatten()\n",
        "    return np.sum(pred_flat==labels_flat) / len(labels_flat)\n",
        "\n",
        "\n",
        "def get_train_data_loader(batch_size):\n",
        "    dataset = pd.read_csv(os.path.join(\"data\", \"cola\", \"train.csv\"))\n",
        "    sentences = dataset.sentence.values\n",
        "    labels = dataset.label.values\n",
        "\n",
        "    input_ids = []\n",
        "    for sent in sentences:\n",
        "        encoded_sent = tokenizer.encode(sent, add_special_tokens=True)\n",
        "        input_ids.append(encoded_sent)\n",
        "\n",
        "    # pad shorter sentences\n",
        "    input_ids_padded = []\n",
        "    for id in input_ids:\n",
        "        while len(id) < config.max_len:\n",
        "            id.append(0)\n",
        "        input_ids_padded.append(id)\n",
        "    input_ids = input_ids_padded\n",
        "\n",
        "    # mask; 0: added, 1: otherwise\n",
        "    attention_masks = []\n",
        "    # For each sentence...\n",
        "    for sent in input_ids:\n",
        "        att_mask = [int(token_id > 0) for token_id in sent]\n",
        "        attention_masks.append(att_mask)\n",
        "\n",
        "    # convert to PyTorch data types.\n",
        "    train_inputs = torch.tensor(input_ids)\n",
        "    train_labels = torch.tensor(labels)\n",
        "    train_masks = torch.tensor(attention_masks)\n",
        "\n",
        "    train_data = TensorDataset(train_inputs, train_masks, train_labels)\n",
        "    train_sampler = RandomSampler(train_data)\n",
        "    train_dataloader = DataLoader(train_data, sampler=train_sampler, batch_size=batch_size)\n",
        "\n",
        "    return train_dataloader\n",
        "\n",
        "\n",
        "def get_test_data_loader(test_batch_size):\n",
        "    dataset = pd.read_csv(os.path.join(\"data\", \"cola\", \"test.csv\"))\n",
        "    sentences = dataset.sentence.values\n",
        "    labels = dataset.label.values\n",
        "\n",
        "    input_ids = []\n",
        "    for sent in sentences:\n",
        "        encoded_sent = tokenizer.encode(sent, add_special_tokens=True)\n",
        "        input_ids.append(encoded_sent)\n",
        "\n",
        "    # pad shorter sentences\n",
        "    input_ids_padded = []\n",
        "    for id in input_ids:\n",
        "        while len(id)<config.max_len:\n",
        "            id.append(0)\n",
        "        input_ids_padded.append(id)\n",
        "    input_ids = input_ids_padded\n",
        "\n",
        "    # mask; 0: added, 1: otherwise\n",
        "    attention_masks = []\n",
        "    # For each sentence...\n",
        "    for sent in input_ids:\n",
        "        att_mask = [int(token_id>0) for token_id in sent]\n",
        "        attention_masks.append(att_mask)\n",
        "\n",
        "    # convert to PyTorch data types.\n",
        "    train_inputs = torch.tensor(input_ids)\n",
        "    train_labels = torch.tensor(labels)\n",
        "    train_masks = torch.tensor(attention_masks)\n",
        "\n",
        "    train_data = TensorDataset(train_inputs, train_masks, train_labels)\n",
        "    train_sampler = RandomSampler(train_data)\n",
        "    train_dataloader = DataLoader(train_data, sampler=train_sampler, batch_size=test_batch_size)\n",
        "\n",
        "    return train_dataloader\n",
        "\n",
        "\n",
        "def train():\n",
        "    train_loader = get_train_data_loader(config.batch_size)\n",
        "    test_loader = get_test_data_loader(config.batch_size)\n",
        "\n",
        "    model = BertForSequenceClassification.from_pretrained(\n",
        "        \"bert-base-uncased\",  # Use the 12-layer BERT model, with an uncased vocab.\n",
        "        num_labels=2,  # The number of output labels--2 for binary classification.\n",
        "        output_attentions=False,  # Whether the model returns attentions weights\n",
        "        output_hidden_states=False,  # Whether the model returns all hidden-states\n",
        "    )\n",
        "    ## from bottom to top, freeze {config.freeze_layers} layers\n",
        "    param_names_to_freeze = []\n",
        "    for i in range(config.freeze_layers):\n",
        "        if i==0:\n",
        "            g = model.bert.embeddings.named_parameters()  ## generator\n",
        "            prefix = \"bert.embeddings.\"\n",
        "        elif i<=12:\n",
        "            g = model.bert.encoder.layer[i-1].named_parameters()\n",
        "            prefix = f\"bert.encoder.layer{i-1}.\"\n",
        "        elif i==13:\n",
        "            g = model.bert.pooler.named_parameters()\n",
        "            prefix = \"bert.pooler.\"\n",
        "        else:\n",
        "            # g = model.classifier.named_parameters()\n",
        "            raise Exception(\"⚠️ No more layers to freeze\")\n",
        "        for name, params in g:\n",
        "            params.requires_grad = False\n",
        "            param_names_to_freeze.append(prefix+name)\n",
        "    model = model.to(config.device)\n",
        "\n",
        "    ## set up optimizer\n",
        "    optimizer_grouped_parameters = [{\n",
        "        \"params\": [params for name,params in model.named_parameters()\n",
        "            if not name in param_names_to_freeze],\n",
        "        \"lr\": config.opt_lr,\n",
        "        \"weight_decay\": config.opt_weight_decay,\n",
        "    }]\n",
        "    optimizer = AdamW(optimizer_grouped_parameters)\n",
        "\n",
        "    ## set up scheduler\n",
        "    scheduler = get_linear_schedule_with_warmup(\n",
        "        optimizer,\n",
        "        num_warmup_steps=0,\n",
        "        num_training_steps=len(train_loader)*config.epochs)\n",
        "\n",
        "    ## set up loss function\n",
        "    if config.use_class_weights:\n",
        "        class_weights = compute_class_weight('balanced', classes=np.array([0, 1]), y=labels)\n",
        "        class_weights = torch.tensor(class_weights, dtype=torch.float).to(config.device)\n",
        "        loss_fn = torch.nn.CrossEntropyLoss(weight=class_weights)\n",
        "\n",
        "    total_steps = 0\n",
        "    for epoch in tqdm(range(config.epochs)):\n",
        "        print(f\"👉 Train Epoch {epoch}:\")\n",
        "        loss_epoch = 0\n",
        "        model.train()\n",
        "        for step, batch in enumerate(train_loader):\n",
        "            total_steps += 1\n",
        "            b_input_ids = batch[0].to(config.device)\n",
        "            b_input_mask = batch[1].to(config.device)\n",
        "            b_labels = batch[2].to(config.device)\n",
        "            model.zero_grad()\n",
        "\n",
        "            outputs = model(\n",
        "                b_input_ids,  ## Shape: (batch_size, sequence_length)\n",
        "                token_type_ids=None, ## Shape: (batch_size, sequence_length)\n",
        "                attention_mask=b_input_mask, ## Shape: (batch_size, sequence_length)\n",
        "                labels=b_labels) ## Shape: (batch_size,)\n",
        "\n",
        "            if config.use_class_weights:\n",
        "                logits = outputs.logits  ## same with outputs[1]\n",
        "                loss = loss_fn(logits.view(-1, 2), b_labels.view(-1))\n",
        "            else:\n",
        "                loss = outputs.loss  ## same with outputs[0]\n",
        "            wandb.log({\"train_loss\": loss.item()}, step=total_steps)\n",
        "            loss_epoch += loss.item()\n",
        "            loss.backward()\n",
        "            torch.nn.utils.clip_grad_norm_(model.parameters(), 1.)\n",
        "            optimizer.step()\n",
        "            if step%10==0:\n",
        "                print(\n",
        "                    f\"Step {total_steps}: \"\n",
        "                    f\"[{step*len(batch[0])}/{len(train_loader.sampler)} \"\n",
        "                    f\"({(100.0*step/len(train_loader)):.0f}%)] \"\n",
        "                    f\"Loss: {loss.item():.6f}\"\n",
        "                )\n",
        "        scheduler.step()\n",
        "        wandb.log({\"train_loss_epoch\": loss_epoch/config.batch_size}, step=total_steps)\n",
        "        eval_accuracy = test(model, test_loader)\n",
        "        wandb.log({f\"eval_accuracy_epoch (%)\": eval_accuracy*100}, step=total_steps)\n",
        "    return model\n",
        "\n",
        "\n",
        "def test(model, test_loader):\n",
        "    model.eval()\n",
        "    eval_accuracy_steps = 0\n",
        "    total_steps = 0\n",
        "    with torch.no_grad():\n",
        "        for batch in test_loader:\n",
        "            total_steps += 1\n",
        "            b_input_ids = batch[0].to(config.device)\n",
        "            b_input_mask = batch[1].to(config.device)\n",
        "            b_labels = batch[2].to(config.device)\n",
        "            outputs = model(b_input_ids,\n",
        "                            token_type_ids=None,\n",
        "                            attention_mask=b_input_mask)\n",
        "            logits = outputs.logits.detach().cpu().numpy()\n",
        "            label_ids = b_labels.to(\"cpu\").numpy()\n",
        "            eval_accuracy_steps += flat_accuracy(logits, label_ids)\n",
        "    eval_accuracy = eval_accuracy_steps / total_steps\n",
        "    print(\"🟢 Test Accuracy (%): \", eval_accuracy*100)\n",
        "    return eval_accuracy"
      ]
    },
    {
      "cell_type": "markdown",
      "source": [
        "# **👉 Train the model**  \n",
        "\n"
      ],
      "metadata": {
        "id": "spPiQepkP4fO"
      },
      "id": "spPiQepkP4fO"
    },
    {
      "cell_type": "code",
      "source": [
        "wandb.init(\n",
        "    # set the wandb project where this run will be logged\n",
        "    project=\"udacity-awsmle-bert-cola\",\n",
        "    config=config\n",
        ")\n",
        "train()"
      ],
      "metadata": {
        "colab": {
          "base_uri": "https://localhost:8080/",
          "height": 1000,
          "referenced_widgets": [
            "13aa5ae4e4e8479f8c657ff09f54b808",
            "9e235a8ae4c54693bdc704333a0eccaa",
            "1539f9f0b2a34e10abc38df3fb980dee",
            "bbf66cd2aa5b4e7ba23b43fa333daaf9",
            "5686249e82ae46c7b33964926b61499e",
            "bead88703e364fb4adb65a3506d2cd63",
            "4ccbcbd716754ebfb9ee25f82d26eb51",
            "32d006bea4b047c7a75c07183dcbee97",
            "50d2fb41029a43da9118b250573b3160",
            "c414f60706054526bd82ae0e80b1499a",
            "9bb03c12c02c4eb1a87faf9ae19253d3"
          ]
        },
        "id": "0QdsT6GHOwj8",
        "outputId": "2c90474f-59e0-4e20-a267-789fc9401a43"
      },
      "id": "0QdsT6GHOwj8",
      "execution_count": null,
      "outputs": [
        {
          "output_type": "stream",
          "name": "stderr",
          "text": [
            "\u001b[34m\u001b[1mwandb\u001b[0m: Using wandb-core as the SDK backend.  Please refer to https://wandb.me/wandb-core for more information.\n"
          ]
        },
        {
          "output_type": "display_data",
          "data": {
            "text/plain": [
              "<IPython.core.display.Javascript object>"
            ],
            "application/javascript": [
              "\n",
              "        window._wandbApiKey = new Promise((resolve, reject) => {\n",
              "            function loadScript(url) {\n",
              "            return new Promise(function(resolve, reject) {\n",
              "                let newScript = document.createElement(\"script\");\n",
              "                newScript.onerror = reject;\n",
              "                newScript.onload = resolve;\n",
              "                document.body.appendChild(newScript);\n",
              "                newScript.src = url;\n",
              "            });\n",
              "            }\n",
              "            loadScript(\"https://cdn.jsdelivr.net/npm/postmate/build/postmate.min.js\").then(() => {\n",
              "            const iframe = document.createElement('iframe')\n",
              "            iframe.style.cssText = \"width:0;height:0;border:none\"\n",
              "            document.body.appendChild(iframe)\n",
              "            const handshake = new Postmate({\n",
              "                container: iframe,\n",
              "                url: 'https://wandb.ai/authorize'\n",
              "            });\n",
              "            const timeout = setTimeout(() => reject(\"Couldn't auto authenticate\"), 5000)\n",
              "            handshake.then(function(child) {\n",
              "                child.on('authorize', data => {\n",
              "                    clearTimeout(timeout)\n",
              "                    resolve(data)\n",
              "                });\n",
              "            });\n",
              "            })\n",
              "        });\n",
              "    "
            ]
          },
          "metadata": {}
        },
        {
          "output_type": "stream",
          "name": "stderr",
          "text": [
            "\u001b[34m\u001b[1mwandb\u001b[0m: Logging into wandb.ai. (Learn how to deploy a W&B server locally: https://wandb.me/wandb-server)\n",
            "\u001b[34m\u001b[1mwandb\u001b[0m: You can find your API key in your browser here: https://wandb.ai/authorize\n",
            "wandb: Paste an API key from your profile and hit enter, or press ctrl+c to quit:"
          ]
        },
        {
          "name": "stdout",
          "output_type": "stream",
          "text": [
            " ··········\n"
          ]
        },
        {
          "output_type": "stream",
          "name": "stderr",
          "text": [
            "\u001b[34m\u001b[1mwandb\u001b[0m: Appending key for api.wandb.ai to your netrc file: /root/.netrc\n"
          ]
        },
        {
          "output_type": "display_data",
          "data": {
            "text/plain": [
              "<IPython.core.display.HTML object>"
            ],
            "text/html": [
              "Tracking run with wandb version 0.18.7"
            ]
          },
          "metadata": {}
        },
        {
          "output_type": "display_data",
          "data": {
            "text/plain": [
              "<IPython.core.display.HTML object>"
            ],
            "text/html": [
              "Run data is saved locally in <code>/content/wandb/run-20241129_230150-72jzrfqq</code>"
            ]
          },
          "metadata": {}
        },
        {
          "output_type": "display_data",
          "data": {
            "text/plain": [
              "<IPython.core.display.HTML object>"
            ],
            "text/html": [
              "Syncing run <strong><a href='https://wandb.ai/nov05/udacity-awsmle-bert-cola/runs/72jzrfqq' target=\"_blank\">ethereal-leaf-21</a></strong> to <a href='https://wandb.ai/nov05/udacity-awsmle-bert-cola' target=\"_blank\">Weights & Biases</a> (<a href='https://wandb.me/developer-guide' target=\"_blank\">docs</a>)<br/>"
            ]
          },
          "metadata": {}
        },
        {
          "output_type": "display_data",
          "data": {
            "text/plain": [
              "<IPython.core.display.HTML object>"
            ],
            "text/html": [
              " View project at <a href='https://wandb.ai/nov05/udacity-awsmle-bert-cola' target=\"_blank\">https://wandb.ai/nov05/udacity-awsmle-bert-cola</a>"
            ]
          },
          "metadata": {}
        },
        {
          "output_type": "display_data",
          "data": {
            "text/plain": [
              "<IPython.core.display.HTML object>"
            ],
            "text/html": [
              " View run at <a href='https://wandb.ai/nov05/udacity-awsmle-bert-cola/runs/72jzrfqq' target=\"_blank\">https://wandb.ai/nov05/udacity-awsmle-bert-cola/runs/72jzrfqq</a>"
            ]
          },
          "metadata": {}
        },
        {
          "output_type": "display_data",
          "data": {
            "text/plain": [
              "model.safetensors:   0%|          | 0.00/440M [00:00<?, ?B/s]"
            ],
            "application/vnd.jupyter.widget-view+json": {
              "version_major": 2,
              "version_minor": 0,
              "model_id": "13aa5ae4e4e8479f8c657ff09f54b808"
            }
          },
          "metadata": {}
        },
        {
          "output_type": "stream",
          "name": "stderr",
          "text": [
            "Some weights of BertForSequenceClassification were not initialized from the model checkpoint at bert-base-uncased and are newly initialized: ['classifier.bias', 'classifier.weight']\n",
            "You should probably TRAIN this model on a down-stream task to be able to use it for predictions and inference.\n",
            "  0%|          | 0/15 [00:00<?, ?it/s]"
          ]
        },
        {
          "output_type": "stream",
          "name": "stdout",
          "text": [
            "👉 Train Epoch 0:\n",
            "Step 1: [0/6413 (0%)] Loss: 0.756517\n",
            "Step 11: [640/6413 (10%)] Loss: 0.701416\n",
            "Step 21: [1280/6413 (20%)] Loss: 0.671886\n",
            "Step 31: [1920/6413 (30%)] Loss: 0.599734\n",
            "Step 41: [2560/6413 (40%)] Loss: 0.603671\n",
            "Step 51: [3200/6413 (50%)] Loss: 0.502183\n",
            "Step 61: [3840/6413 (59%)] Loss: 0.492291\n",
            "Step 71: [4480/6413 (69%)] Loss: 0.490550\n",
            "Step 81: [5120/6413 (79%)] Loss: 0.596813\n",
            "Step 91: [5760/6413 (89%)] Loss: 0.524993\n",
            "Step 101: [1300/6413 (99%)] Loss: 0.438866\n"
          ]
        },
        {
          "output_type": "stream",
          "name": "stderr",
          "text": [
            "\r  7%|▋         | 1/15 [00:40<09:20, 40.02s/it]"
          ]
        },
        {
          "output_type": "stream",
          "name": "stdout",
          "text": [
            "🟢 Test Accuracy (%):  76.71097285067874\n",
            "👉 Train Epoch 1:\n",
            "Step 102: [0/6413 (0%)] Loss: 0.439794\n",
            "Step 112: [640/6413 (10%)] Loss: 0.540486\n",
            "Step 122: [1280/6413 (20%)] Loss: 0.513954\n",
            "Step 132: [1920/6413 (30%)] Loss: 0.514369\n",
            "Step 142: [2560/6413 (40%)] Loss: 0.611787\n",
            "Step 152: [3200/6413 (50%)] Loss: 0.480883\n",
            "Step 162: [3840/6413 (59%)] Loss: 0.588971\n",
            "Step 172: [4480/6413 (69%)] Loss: 0.489342\n",
            "Step 182: [5120/6413 (79%)] Loss: 0.488673\n",
            "Step 192: [5760/6413 (89%)] Loss: 0.426580\n",
            "Step 202: [1300/6413 (99%)] Loss: 0.325422\n"
          ]
        },
        {
          "output_type": "stream",
          "name": "stderr",
          "text": [
            "\r 13%|█▎        | 2/15 [01:22<08:59, 41.50s/it]"
          ]
        },
        {
          "output_type": "stream",
          "name": "stdout",
          "text": [
            "🟢 Test Accuracy (%):  78.93806561085972\n",
            "👉 Train Epoch 2:\n",
            "Step 203: [0/6413 (0%)] Loss: 0.447470\n",
            "Step 213: [640/6413 (10%)] Loss: 0.397232\n",
            "Step 223: [1280/6413 (20%)] Loss: 0.474420\n",
            "Step 233: [1920/6413 (30%)] Loss: 0.401801\n",
            "Step 243: [2560/6413 (40%)] Loss: 0.407112\n",
            "Step 253: [3200/6413 (50%)] Loss: 0.449395\n",
            "Step 263: [3840/6413 (59%)] Loss: 0.425739\n",
            "Step 273: [4480/6413 (69%)] Loss: 0.490978\n",
            "Step 283: [5120/6413 (79%)] Loss: 0.524763\n",
            "Step 293: [5760/6413 (89%)] Loss: 0.438577\n",
            "Step 303: [1300/6413 (99%)] Loss: 0.170845\n"
          ]
        },
        {
          "output_type": "stream",
          "name": "stderr",
          "text": [
            "\r 20%|██        | 3/15 [02:05<08:26, 42.21s/it]"
          ]
        },
        {
          "output_type": "stream",
          "name": "stdout",
          "text": [
            "🟢 Test Accuracy (%):  77.10690045248869\n",
            "👉 Train Epoch 3:\n",
            "Step 304: [0/6413 (0%)] Loss: 0.357586\n",
            "Step 314: [640/6413 (10%)] Loss: 0.361628\n",
            "Step 324: [1280/6413 (20%)] Loss: 0.480146\n",
            "Step 334: [1920/6413 (30%)] Loss: 0.463931\n",
            "Step 344: [2560/6413 (40%)] Loss: 0.350428\n",
            "Step 354: [3200/6413 (50%)] Loss: 0.441879\n",
            "Step 364: [3840/6413 (59%)] Loss: 0.414411\n",
            "Step 374: [4480/6413 (69%)] Loss: 0.310124\n",
            "Step 384: [5120/6413 (79%)] Loss: 0.499061\n",
            "Step 394: [5760/6413 (89%)] Loss: 0.359746\n",
            "Step 404: [1300/6413 (99%)] Loss: 0.224744\n"
          ]
        },
        {
          "output_type": "stream",
          "name": "stderr",
          "text": [
            "\r 27%|██▋       | 4/15 [02:48<07:45, 42.32s/it]"
          ]
        },
        {
          "output_type": "stream",
          "name": "stdout",
          "text": [
            "🟢 Test Accuracy (%):  79.78294683257919\n",
            "👉 Train Epoch 4:\n",
            "Step 405: [0/6413 (0%)] Loss: 0.467405\n",
            "Step 415: [640/6413 (10%)] Loss: 0.309520\n",
            "Step 425: [1280/6413 (20%)] Loss: 0.314902\n",
            "Step 435: [1920/6413 (30%)] Loss: 0.363320\n",
            "Step 445: [2560/6413 (40%)] Loss: 0.417427\n",
            "Step 455: [3200/6413 (50%)] Loss: 0.473132\n",
            "Step 465: [3840/6413 (59%)] Loss: 0.403437\n",
            "Step 475: [4480/6413 (69%)] Loss: 0.257580\n",
            "Step 485: [5120/6413 (79%)] Loss: 0.325849\n",
            "Step 495: [5760/6413 (89%)] Loss: 0.444509\n",
            "Step 505: [1300/6413 (99%)] Loss: 0.252284\n"
          ]
        },
        {
          "output_type": "stream",
          "name": "stderr",
          "text": [
            "\r 33%|███▎      | 5/15 [03:30<07:05, 42.51s/it]"
          ]
        },
        {
          "output_type": "stream",
          "name": "stdout",
          "text": [
            "🟢 Test Accuracy (%):  80.24250565610859\n",
            "👉 Train Epoch 5:\n",
            "Step 506: [0/6413 (0%)] Loss: 0.249646\n",
            "Step 516: [640/6413 (10%)] Loss: 0.253876\n",
            "Step 526: [1280/6413 (20%)] Loss: 0.210429\n",
            "Step 536: [1920/6413 (30%)] Loss: 0.220391\n",
            "Step 546: [2560/6413 (40%)] Loss: 0.289700\n",
            "Step 556: [3200/6413 (50%)] Loss: 0.299400\n",
            "Step 566: [3840/6413 (59%)] Loss: 0.281828\n",
            "Step 576: [4480/6413 (69%)] Loss: 0.470837\n",
            "Step 586: [5120/6413 (79%)] Loss: 0.190935\n",
            "Step 596: [5760/6413 (89%)] Loss: 0.467592\n",
            "Step 606: [1300/6413 (99%)] Loss: 0.390194\n"
          ]
        },
        {
          "output_type": "stream",
          "name": "stderr",
          "text": [
            "\r 40%|████      | 6/15 [04:13<06:22, 42.55s/it]"
          ]
        },
        {
          "output_type": "stream",
          "name": "stdout",
          "text": [
            "🟢 Test Accuracy (%):  79.88192873303169\n",
            "👉 Train Epoch 6:\n",
            "Step 607: [0/6413 (0%)] Loss: 0.230833\n",
            "Step 617: [640/6413 (10%)] Loss: 0.280144\n",
            "Step 627: [1280/6413 (20%)] Loss: 0.158762\n",
            "Step 637: [1920/6413 (30%)] Loss: 0.231473\n",
            "Step 647: [2560/6413 (40%)] Loss: 0.225810\n",
            "Step 657: [3200/6413 (50%)] Loss: 0.163863\n",
            "Step 667: [3840/6413 (59%)] Loss: 0.234189\n",
            "Step 677: [4480/6413 (69%)] Loss: 0.407893\n",
            "Step 687: [5120/6413 (79%)] Loss: 0.259751\n",
            "Step 697: [5760/6413 (89%)] Loss: 0.285487\n",
            "Step 707: [1300/6413 (99%)] Loss: 0.258355\n"
          ]
        },
        {
          "output_type": "stream",
          "name": "stderr",
          "text": [
            "\r 47%|████▋     | 7/15 [04:56<05:41, 42.65s/it]"
          ]
        },
        {
          "output_type": "stream",
          "name": "stdout",
          "text": [
            "🟢 Test Accuracy (%):  78.82494343891403\n",
            "👉 Train Epoch 7:\n",
            "Step 708: [0/6413 (0%)] Loss: 0.228358\n",
            "Step 718: [640/6413 (10%)] Loss: 0.202294\n",
            "Step 728: [1280/6413 (20%)] Loss: 0.178522\n",
            "Step 738: [1920/6413 (30%)] Loss: 0.239800\n",
            "Step 748: [2560/6413 (40%)] Loss: 0.132071\n",
            "Step 758: [3200/6413 (50%)] Loss: 0.282218\n",
            "Step 768: [3840/6413 (59%)] Loss: 0.205099\n",
            "Step 778: [4480/6413 (69%)] Loss: 0.247124\n",
            "Step 788: [5120/6413 (79%)] Loss: 0.313512\n",
            "Step 798: [5760/6413 (89%)] Loss: 0.281066\n",
            "Step 808: [1300/6413 (99%)] Loss: 0.210129\n"
          ]
        },
        {
          "output_type": "stream",
          "name": "stderr",
          "text": [
            "\r 53%|█████▎    | 8/15 [05:39<04:58, 42.71s/it]"
          ]
        },
        {
          "output_type": "stream",
          "name": "stdout",
          "text": [
            "🟢 Test Accuracy (%):  81.48684954751131\n",
            "👉 Train Epoch 8:\n",
            "Step 809: [0/6413 (0%)] Loss: 0.144862\n",
            "Step 819: [640/6413 (10%)] Loss: 0.187588\n",
            "Step 829: [1280/6413 (20%)] Loss: 0.246064\n",
            "Step 839: [1920/6413 (30%)] Loss: 0.192888\n",
            "Step 849: [2560/6413 (40%)] Loss: 0.193674\n",
            "Step 859: [3200/6413 (50%)] Loss: 0.287888\n",
            "Step 869: [3840/6413 (59%)] Loss: 0.211983\n",
            "Step 879: [4480/6413 (69%)] Loss: 0.263762\n",
            "Step 889: [5120/6413 (79%)] Loss: 0.158421\n",
            "Step 899: [5760/6413 (89%)] Loss: 0.160421\n",
            "Step 909: [1300/6413 (99%)] Loss: 0.318943\n"
          ]
        },
        {
          "output_type": "stream",
          "name": "stderr",
          "text": [
            "\r 60%|██████    | 9/15 [06:21<04:16, 42.69s/it]"
          ]
        },
        {
          "output_type": "stream",
          "name": "stdout",
          "text": [
            "🟢 Test Accuracy (%):  81.21464932126698\n",
            "👉 Train Epoch 9:\n",
            "Step 910: [0/6413 (0%)] Loss: 0.157845\n",
            "Step 920: [640/6413 (10%)] Loss: 0.176996\n",
            "Step 930: [1280/6413 (20%)] Loss: 0.174256\n",
            "Step 940: [1920/6413 (30%)] Loss: 0.174051\n",
            "Step 950: [2560/6413 (40%)] Loss: 0.170287\n",
            "Step 960: [3200/6413 (50%)] Loss: 0.095635\n",
            "Step 970: [3840/6413 (59%)] Loss: 0.094711\n",
            "Step 980: [4480/6413 (69%)] Loss: 0.088395\n",
            "Step 990: [5120/6413 (79%)] Loss: 0.078080\n",
            "Step 1000: [5760/6413 (89%)] Loss: 0.123963\n",
            "Step 1010: [1300/6413 (99%)] Loss: 0.280432\n"
          ]
        },
        {
          "output_type": "stream",
          "name": "stderr",
          "text": [
            "\r 67%|██████▋   | 10/15 [07:04<03:33, 42.64s/it]"
          ]
        },
        {
          "output_type": "stream",
          "name": "stdout",
          "text": [
            "🟢 Test Accuracy (%):  81.53280542986425\n",
            "👉 Train Epoch 10:\n",
            "Step 1011: [0/6413 (0%)] Loss: 0.133292\n",
            "Step 1021: [640/6413 (10%)] Loss: 0.186429\n",
            "Step 1031: [1280/6413 (20%)] Loss: 0.169395\n",
            "Step 1041: [1920/6413 (30%)] Loss: 0.164703\n",
            "Step 1051: [2560/6413 (40%)] Loss: 0.158455\n",
            "Step 1061: [3200/6413 (50%)] Loss: 0.155473\n",
            "Step 1071: [3840/6413 (59%)] Loss: 0.256995\n",
            "Step 1081: [4480/6413 (69%)] Loss: 0.181932\n",
            "Step 1091: [5120/6413 (79%)] Loss: 0.122954\n",
            "Step 1101: [5760/6413 (89%)] Loss: 0.166738\n",
            "Step 1111: [1300/6413 (99%)] Loss: 0.177839\n"
          ]
        },
        {
          "output_type": "stream",
          "name": "stderr",
          "text": [
            "\r 73%|███████▎  | 11/15 [07:47<02:50, 42.65s/it]"
          ]
        },
        {
          "output_type": "stream",
          "name": "stdout",
          "text": [
            "🟢 Test Accuracy (%):  81.87570701357465\n",
            "👉 Train Epoch 11:\n",
            "Step 1112: [0/6413 (0%)] Loss: 0.091421\n",
            "Step 1122: [640/6413 (10%)] Loss: 0.077255\n",
            "Step 1132: [1280/6413 (20%)] Loss: 0.062777\n",
            "Step 1142: [1920/6413 (30%)] Loss: 0.261466\n",
            "Step 1152: [2560/6413 (40%)] Loss: 0.089743\n",
            "Step 1162: [3200/6413 (50%)] Loss: 0.081116\n",
            "Step 1172: [3840/6413 (59%)] Loss: 0.091776\n",
            "Step 1182: [4480/6413 (69%)] Loss: 0.090972\n",
            "Step 1192: [5120/6413 (79%)] Loss: 0.091178\n",
            "Step 1202: [5760/6413 (89%)] Loss: 0.134397\n",
            "Step 1212: [1300/6413 (99%)] Loss: 0.056990\n"
          ]
        },
        {
          "output_type": "stream",
          "name": "stderr",
          "text": [
            "\r 80%|████████  | 12/15 [08:29<02:07, 42.67s/it]"
          ]
        },
        {
          "output_type": "stream",
          "name": "stdout",
          "text": [
            "🟢 Test Accuracy (%):  80.3591628959276\n",
            "👉 Train Epoch 12:\n",
            "Step 1213: [0/6413 (0%)] Loss: 0.061171\n",
            "Step 1223: [640/6413 (10%)] Loss: 0.134280\n",
            "Step 1233: [1280/6413 (20%)] Loss: 0.099588\n",
            "Step 1243: [1920/6413 (30%)] Loss: 0.096212\n",
            "Step 1253: [2560/6413 (40%)] Loss: 0.155983\n",
            "Step 1263: [3200/6413 (50%)] Loss: 0.088073\n",
            "Step 1273: [3840/6413 (59%)] Loss: 0.079642\n",
            "Step 1283: [4480/6413 (69%)] Loss: 0.160286\n",
            "Step 1293: [5120/6413 (79%)] Loss: 0.093575\n",
            "Step 1303: [5760/6413 (89%)] Loss: 0.101051\n",
            "Step 1313: [1300/6413 (99%)] Loss: 0.018928\n"
          ]
        },
        {
          "output_type": "stream",
          "name": "stderr",
          "text": [
            "\r 87%|████████▋ | 13/15 [09:12<01:25, 42.73s/it]"
          ]
        },
        {
          "output_type": "stream",
          "name": "stdout",
          "text": [
            "🟢 Test Accuracy (%):  80.34148755656109\n",
            "👉 Train Epoch 13:\n",
            "Step 1314: [0/6413 (0%)] Loss: 0.042458\n",
            "Step 1324: [640/6413 (10%)] Loss: 0.044936\n",
            "Step 1334: [1280/6413 (20%)] Loss: 0.064478\n",
            "Step 1344: [1920/6413 (30%)] Loss: 0.026382\n",
            "Step 1354: [2560/6413 (40%)] Loss: 0.103847\n",
            "Step 1364: [3200/6413 (50%)] Loss: 0.111362\n",
            "Step 1374: [3840/6413 (59%)] Loss: 0.226038\n",
            "Step 1384: [4480/6413 (69%)] Loss: 0.212814\n",
            "Step 1394: [5120/6413 (79%)] Loss: 0.086681\n",
            "Step 1404: [5760/6413 (89%)] Loss: 0.190671\n",
            "Step 1414: [1300/6413 (99%)] Loss: 0.016977\n"
          ]
        },
        {
          "output_type": "stream",
          "name": "stderr",
          "text": [
            "\r 93%|█████████▎| 14/15 [09:55<00:42, 42.75s/it]"
          ]
        },
        {
          "output_type": "stream",
          "name": "stdout",
          "text": [
            "🟢 Test Accuracy (%):  80.64196832579185\n",
            "👉 Train Epoch 14:\n",
            "Step 1415: [0/6413 (0%)] Loss: 0.034952\n",
            "Step 1425: [640/6413 (10%)] Loss: 0.038055\n",
            "Step 1435: [1280/6413 (20%)] Loss: 0.056662\n",
            "Step 1445: [1920/6413 (30%)] Loss: 0.078263\n",
            "Step 1455: [2560/6413 (40%)] Loss: 0.037956\n",
            "Step 1465: [3200/6413 (50%)] Loss: 0.059445\n",
            "Step 1475: [3840/6413 (59%)] Loss: 0.144710\n",
            "Step 1485: [4480/6413 (69%)] Loss: 0.190261\n",
            "Step 1495: [5120/6413 (79%)] Loss: 0.081944\n",
            "Step 1505: [5760/6413 (89%)] Loss: 0.094223\n",
            "Step 1515: [1300/6413 (99%)] Loss: 0.261738\n"
          ]
        },
        {
          "output_type": "stream",
          "name": "stderr",
          "text": [
            "100%|██████████| 15/15 [10:38<00:00, 42.55s/it]"
          ]
        },
        {
          "output_type": "stream",
          "name": "stdout",
          "text": [
            "🟢 Test Accuracy (%):  81.11566742081449\n"
          ]
        },
        {
          "output_type": "stream",
          "name": "stderr",
          "text": [
            "\n"
          ]
        },
        {
          "output_type": "execute_result",
          "data": {
            "text/plain": [
              "BertForSequenceClassification(\n",
              "  (bert): BertModel(\n",
              "    (embeddings): BertEmbeddings(\n",
              "      (word_embeddings): Embedding(30522, 768, padding_idx=0)\n",
              "      (position_embeddings): Embedding(512, 768)\n",
              "      (token_type_embeddings): Embedding(2, 768)\n",
              "      (LayerNorm): LayerNorm((768,), eps=1e-12, elementwise_affine=True)\n",
              "      (dropout): Dropout(p=0.1, inplace=False)\n",
              "    )\n",
              "    (encoder): BertEncoder(\n",
              "      (layer): ModuleList(\n",
              "        (0-11): 12 x BertLayer(\n",
              "          (attention): BertAttention(\n",
              "            (self): BertSdpaSelfAttention(\n",
              "              (query): Linear(in_features=768, out_features=768, bias=True)\n",
              "              (key): Linear(in_features=768, out_features=768, bias=True)\n",
              "              (value): Linear(in_features=768, out_features=768, bias=True)\n",
              "              (dropout): Dropout(p=0.1, inplace=False)\n",
              "            )\n",
              "            (output): BertSelfOutput(\n",
              "              (dense): Linear(in_features=768, out_features=768, bias=True)\n",
              "              (LayerNorm): LayerNorm((768,), eps=1e-12, elementwise_affine=True)\n",
              "              (dropout): Dropout(p=0.1, inplace=False)\n",
              "            )\n",
              "          )\n",
              "          (intermediate): BertIntermediate(\n",
              "            (dense): Linear(in_features=768, out_features=3072, bias=True)\n",
              "            (intermediate_act_fn): GELUActivation()\n",
              "          )\n",
              "          (output): BertOutput(\n",
              "            (dense): Linear(in_features=3072, out_features=768, bias=True)\n",
              "            (LayerNorm): LayerNorm((768,), eps=1e-12, elementwise_affine=True)\n",
              "            (dropout): Dropout(p=0.1, inplace=False)\n",
              "          )\n",
              "        )\n",
              "      )\n",
              "    )\n",
              "    (pooler): BertPooler(\n",
              "      (dense): Linear(in_features=768, out_features=768, bias=True)\n",
              "      (activation): Tanh()\n",
              "    )\n",
              "  )\n",
              "  (dropout): Dropout(p=0.1, inplace=False)\n",
              "  (classifier): Linear(in_features=768, out_features=2, bias=True)\n",
              ")"
            ]
          },
          "metadata": {},
          "execution_count": 7
        }
      ]
    },
    {
      "cell_type": "code",
      "source": [
        "wandb.finish()"
      ],
      "metadata": {
        "colab": {
          "base_uri": "https://localhost:8080/",
          "height": 266,
          "referenced_widgets": [
            "83a1b5e80e5b4b5099a50feb9814ab64",
            "578b56b9befd493496ad5721e27fc9a6",
            "b598f908b1ee4f909df72e8a75537849",
            "e23fb6805625415188f10fa6478de4b1",
            "599e253858554defbbd69568974d96d0",
            "82cc773268904281aeb1535dba5b3587",
            "dad48626044146f18f46c4643809950c",
            "4a8c25e18d9846c18021f92626b0b3db"
          ]
        },
        "id": "TyS5cpPqOxeY",
        "outputId": "713ae72f-5d7b-4ed4-b146-f4956a36c552"
      },
      "id": "TyS5cpPqOxeY",
      "execution_count": null,
      "outputs": [
        {
          "output_type": "display_data",
          "data": {
            "text/plain": [
              "VBox(children=(Label(value='0.208 MB of 0.208 MB uploaded\\r'), FloatProgress(value=1.0, max=1.0)))"
            ],
            "application/vnd.jupyter.widget-view+json": {
              "version_major": 2,
              "version_minor": 0,
              "model_id": "83a1b5e80e5b4b5099a50feb9814ab64"
            }
          },
          "metadata": {}
        },
        {
          "output_type": "display_data",
          "data": {
            "text/plain": [
              "<IPython.core.display.HTML object>"
            ],
            "text/html": [
              "\n",
              "    <style>\n",
              "        .wandb-row {\n",
              "            display: flex;\n",
              "            flex-direction: row;\n",
              "            flex-wrap: wrap;\n",
              "            justify-content: flex-start;\n",
              "            width: 100%;\n",
              "        }\n",
              "        .wandb-col {\n",
              "            display: flex;\n",
              "            flex-direction: column;\n",
              "            flex-basis: 100%;\n",
              "            flex: 1;\n",
              "            padding: 10px;\n",
              "        }\n",
              "    </style>\n",
              "<div class=\"wandb-row\"><div class=\"wandb-col\"><h3>Run history:</h3><br/><table class=\"wandb\"><tr><td>eval_accuracy_epoch (%)</td><td>▁▄▂▅▆▅▄▇▇██▆▆▆▇</td></tr><tr><td>train_loss</td><td>█▇██▇▆▇▇▆▅██▇▇▆▅▃▄▄▅▄▅▅▆▄▅▃▂▄▅▂▃▁▂▂▃▄▁▂▄</td></tr><tr><td>train_loss_epoch</td><td>█▇▆▅▅▄▃▃▃▂▂▁▁▁▁</td></tr></table><br/></div><div class=\"wandb-col\"><h3>Run summary:</h3><br/><table class=\"wandb\"><tr><td>eval_accuracy_epoch (%)</td><td>81.11567</td></tr><tr><td>train_loss</td><td>0.26174</td></tr><tr><td>train_loss_epoch</td><td>0.17329</td></tr></table><br/></div></div>"
            ]
          },
          "metadata": {}
        },
        {
          "output_type": "display_data",
          "data": {
            "text/plain": [
              "<IPython.core.display.HTML object>"
            ],
            "text/html": [
              " View run <strong style=\"color:#cdcd00\">ethereal-leaf-21</strong> at: <a href='https://wandb.ai/nov05/udacity-awsmle-bert-cola/runs/72jzrfqq' target=\"_blank\">https://wandb.ai/nov05/udacity-awsmle-bert-cola/runs/72jzrfqq</a><br/> View project at: <a href='https://wandb.ai/nov05/udacity-awsmle-bert-cola' target=\"_blank\">https://wandb.ai/nov05/udacity-awsmle-bert-cola</a><br/>Synced 4 W&B file(s), 0 media file(s), 10 artifact file(s) and 0 other file(s)"
            ]
          },
          "metadata": {}
        },
        {
          "output_type": "display_data",
          "data": {
            "text/plain": [
              "<IPython.core.display.HTML object>"
            ],
            "text/html": [
              "Find logs at: <code>./wandb/run-20241129_230150-72jzrfqq/logs</code>"
            ]
          },
          "metadata": {}
        }
      ]
    },
    {
      "cell_type": "markdown",
      "source": [
        "# **Explore BERT-base Architecture**  "
      ],
      "metadata": {
        "id": "FBU7kOfxPx2Q"
      },
      "id": "FBU7kOfxPx2Q"
    },
    {
      "cell_type": "markdown",
      "id": "07bf3539",
      "metadata": {
        "id": "07bf3539"
      },
      "source": [
        "```python\n",
        "BertForSequenceClassification(\n",
        "  (bert): BertModel(\n",
        "    (embeddings): BertEmbeddings(\n",
        "      (word_embeddings): Embedding(30522, 768, padding_idx=0)\n",
        "      (position_embeddings): Embedding(512, 768)\n",
        "      (token_type_embeddings): Embedding(2, 768)\n",
        "      (LayerNorm): LayerNorm((768,), eps=1e-12, elementwise_affine=True)\n",
        "      (dropout): Dropout(p=0.1, inplace=False)\n",
        "    )\n",
        "    (encoder): BertEncoder(\n",
        "      (layer): ModuleList(\n",
        "        (0-11): 12 x BertLayer(\n",
        "          (attention): BertAttention(\n",
        "            (self): BertSdpaSelfAttention(\n",
        "              (query): Linear(in_features=768, out_features=768, bias=True)\n",
        "              (key): Linear(in_features=768, out_features=768, bias=True)\n",
        "              (value): Linear(in_features=768, out_features=768, bias=True)\n",
        "              (dropout): Dropout(p=0.1, inplace=False)\n",
        "            )\n",
        "            (output): BertSelfOutput(\n",
        "              (dense): Linear(in_features=768, out_features=768, bias=True)\n",
        "              (LayerNorm): LayerNorm((768,), eps=1e-12, elementwise_affine=True)\n",
        "              (dropout): Dropout(p=0.1, inplace=False)\n",
        "            )\n",
        "          )\n",
        "          (intermediate): BertIntermediate(\n",
        "            (dense): Linear(in_features=768, out_features=3072, bias=True)\n",
        "            (intermediate_act_fn): GELUActivation()\n",
        "          )\n",
        "          (output): BertOutput(\n",
        "            (dense): Linear(in_features=3072, out_features=768, bias=True)\n",
        "            (LayerNorm): LayerNorm((768,), eps=1e-12, elementwise_affine=True)\n",
        "            (dropout): Dropout(p=0.1, inplace=False)\n",
        "          )\n",
        "        )\n",
        "      )\n",
        "    )\n",
        "    (pooler): BertPooler(\n",
        "      (dense): Linear(in_features=768, out_features=768, bias=True)\n",
        "      (activation): Tanh()\n",
        "    )\n",
        "  )\n",
        "  (dropout): Dropout(p=0.1, inplace=False)\n",
        "  (classifier): Linear(in_features=768, out_features=2, bias=True)\n",
        ")\n",
        "```"
      ]
    },
    {
      "cell_type": "code",
      "source": [
        "from transformers import BertForSequenceClassification\n",
        "model = BertForSequenceClassification.from_pretrained(\n",
        "    \"bert-base-uncased\",  # Use the 12-layer BERT model, with an uncased vocab.\n",
        "    num_labels=2,  # The number of output labels--2 for binary classification\n",
        "    output_attentions=False,  # Whether the model returns attentions weights\n",
        "    output_hidden_states=False,  # Whether the model returns all hidden-states\n",
        ")\n",
        "## Some weights of BertForSequenceClassification were not initialized from the model checkpoint\n",
        "## at bert-base-uncased and are newly initialized: ['classifier.bias', 'classifier.weight']\n",
        "## You should probably TRAIN this model on a down-stream task to be able to use\n",
        "## it for predictions and inference."
      ],
      "metadata": {
        "colab": {
          "base_uri": "https://localhost:8080/"
        },
        "id": "Qn8kI-alGXCx",
        "outputId": "1fb8c877-dd57-419e-f448-67cdce5c082e"
      },
      "id": "Qn8kI-alGXCx",
      "execution_count": null,
      "outputs": [
        {
          "output_type": "stream",
          "name": "stderr",
          "text": [
            "Some weights of BertForSequenceClassification were not initialized from the model checkpoint at bert-base-uncased and are newly initialized: ['classifier.bias', 'classifier.weight']\n",
            "You should probably TRAIN this model on a down-stream task to be able to use it for predictions and inference.\n"
          ]
        }
      ]
    },
    {
      "cell_type": "code",
      "source": [
        "param_names = [name for name,param in model.named_parameters()]\n",
        "print(len(param_names))\n",
        "param_names[:23]  ## bottom layers param names"
      ],
      "metadata": {
        "colab": {
          "base_uri": "https://localhost:8080/"
        },
        "id": "k2ipgtsM5h8R",
        "outputId": "d2ba0350-022f-45bf-c11a-3aa3043cfc2d"
      },
      "id": "k2ipgtsM5h8R",
      "execution_count": null,
      "outputs": [
        {
          "output_type": "stream",
          "name": "stdout",
          "text": [
            "201\n"
          ]
        },
        {
          "output_type": "execute_result",
          "data": {
            "text/plain": [
              "['bert.embeddings.word_embeddings.weight',\n",
              " 'bert.embeddings.position_embeddings.weight',\n",
              " 'bert.embeddings.token_type_embeddings.weight',\n",
              " 'bert.embeddings.LayerNorm.weight',\n",
              " 'bert.embeddings.LayerNorm.bias',\n",
              " 'bert.encoder.layer.0.attention.self.query.weight',\n",
              " 'bert.encoder.layer.0.attention.self.query.bias',\n",
              " 'bert.encoder.layer.0.attention.self.key.weight',\n",
              " 'bert.encoder.layer.0.attention.self.key.bias',\n",
              " 'bert.encoder.layer.0.attention.self.value.weight',\n",
              " 'bert.encoder.layer.0.attention.self.value.bias',\n",
              " 'bert.encoder.layer.0.attention.output.dense.weight',\n",
              " 'bert.encoder.layer.0.attention.output.dense.bias',\n",
              " 'bert.encoder.layer.0.attention.output.LayerNorm.weight',\n",
              " 'bert.encoder.layer.0.attention.output.LayerNorm.bias',\n",
              " 'bert.encoder.layer.0.intermediate.dense.weight',\n",
              " 'bert.encoder.layer.0.intermediate.dense.bias',\n",
              " 'bert.encoder.layer.0.output.dense.weight',\n",
              " 'bert.encoder.layer.0.output.dense.bias',\n",
              " 'bert.encoder.layer.0.output.LayerNorm.weight',\n",
              " 'bert.encoder.layer.0.output.LayerNorm.bias',\n",
              " 'bert.encoder.layer.1.attention.self.query.weight',\n",
              " 'bert.encoder.layer.1.attention.self.query.bias']"
            ]
          },
          "metadata": {},
          "execution_count": 11
        }
      ]
    },
    {
      "cell_type": "code",
      "source": [
        "param_names[-10:]  ## top layers param names"
      ],
      "metadata": {
        "colab": {
          "base_uri": "https://localhost:8080/"
        },
        "id": "53veUfFGIxxH",
        "outputId": "b1ba45a2-ef31-4864-aedc-aec51fa57cec"
      },
      "id": "53veUfFGIxxH",
      "execution_count": null,
      "outputs": [
        {
          "output_type": "execute_result",
          "data": {
            "text/plain": [
              "['bert.encoder.layer.11.intermediate.dense.weight',\n",
              " 'bert.encoder.layer.11.intermediate.dense.bias',\n",
              " 'bert.encoder.layer.11.output.dense.weight',\n",
              " 'bert.encoder.layer.11.output.dense.bias',\n",
              " 'bert.encoder.layer.11.output.LayerNorm.weight',\n",
              " 'bert.encoder.layer.11.output.LayerNorm.bias',\n",
              " 'bert.pooler.dense.weight',\n",
              " 'bert.pooler.dense.bias',\n",
              " 'classifier.weight',\n",
              " 'classifier.bias']"
            ]
          },
          "metadata": {},
          "execution_count": 12
        }
      ]
    },
    {
      "cell_type": "markdown",
      "source": [
        "* 🟢 BERT-base layers from the bottom to the top:  \n",
        "`[embeddings, encoder.layer[0], encoder.layer[1], ..., encoder.layer[11], pooler, classifier]`"
      ],
      "metadata": {
        "id": "CZKWhlCccuwi"
      },
      "id": "CZKWhlCccuwi"
    },
    {
      "cell_type": "code",
      "source": [
        "## access a specific layer\n",
        "for name, params in model.bert.embeddings.named_parameters():\n",
        "    print(name)"
      ],
      "metadata": {
        "colab": {
          "base_uri": "https://localhost:8080/"
        },
        "id": "WOERAIQFWb2B",
        "outputId": "4f0d099d-2284-48ee-bf56-e734b5eab060"
      },
      "id": "WOERAIQFWb2B",
      "execution_count": null,
      "outputs": [
        {
          "output_type": "stream",
          "name": "stdout",
          "text": [
            "word_embeddings.weight\n",
            "position_embeddings.weight\n",
            "token_type_embeddings.weight\n",
            "LayerNorm.weight\n",
            "LayerNorm.bias\n"
          ]
        }
      ]
    },
    {
      "cell_type": "code",
      "source": [
        "## access a specific encoder layer\n",
        "for name, params in model.bert.encoder.layer[0].named_parameters():\n",
        "    print(name)"
      ],
      "metadata": {
        "colab": {
          "base_uri": "https://localhost:8080/"
        },
        "id": "tMbtpN9MYbSI",
        "outputId": "39c3db2f-71ff-4e4a-eb42-fd84e200543c"
      },
      "id": "tMbtpN9MYbSI",
      "execution_count": null,
      "outputs": [
        {
          "output_type": "stream",
          "name": "stdout",
          "text": [
            "attention.self.query.weight\n",
            "attention.self.query.bias\n",
            "attention.self.key.weight\n",
            "attention.self.key.bias\n",
            "attention.self.value.weight\n",
            "attention.self.value.bias\n",
            "attention.output.dense.weight\n",
            "attention.output.dense.bias\n",
            "attention.output.LayerNorm.weight\n",
            "attention.output.LayerNorm.bias\n",
            "intermediate.dense.weight\n",
            "intermediate.dense.bias\n",
            "output.dense.weight\n",
            "output.dense.bias\n",
            "output.LayerNorm.weight\n",
            "output.LayerNorm.bias\n"
          ]
        }
      ]
    },
    {
      "cell_type": "code",
      "source": [
        "## access a specific layer\n",
        "for name, params in model.bert.pooler.named_parameters():\n",
        "    print(name)"
      ],
      "metadata": {
        "colab": {
          "base_uri": "https://localhost:8080/"
        },
        "id": "44ngP2wubsHv",
        "outputId": "fcceff96-b658-496a-bb04-d731b2219d2f"
      },
      "id": "44ngP2wubsHv",
      "execution_count": null,
      "outputs": [
        {
          "output_type": "stream",
          "name": "stdout",
          "text": [
            "dense.weight\n",
            "dense.bias\n"
          ]
        }
      ]
    },
    {
      "cell_type": "markdown",
      "id": "wmMGvdGFFy-a",
      "metadata": {
        "id": "wmMGvdGFFy-a"
      },
      "source": [
        "# **Online discussion**    \n",
        "\n",
        "* [Unfreezing all layers of BERT giving good results than freezing and adding custom Forward layer for Fine-Tuning](https://www.reddit.com/r/MLQuestions/comments/1d07qlz/unfreezing_all_layers_of_bert_giving_good_results/)   \n",
        "\n",
        "* [I just can't fine tune BERT over 40% accuracy for text-classification task](https://www.reddit.com/r/MachineLearning/comments/1bx5r8r/d_i_just_cant_fine_tune_bert_over_40_accuracy_for/)  \n",
        "\n",
        "* [Why do we train whole BERT model for fine tuning and not freeze it?](https://www.reddit.com/r/deeplearning/comments/ndmqm6/why_do_we_train_whole_bert_model_for_fine_tuning/)   \n",
        "  > That is how you usually train BERT. It gives more room for improvement and adjustment than just adding a classifier. The pretrained weights are not destroyed since you use very low learning rates, e.g. 1e-5  \n",
        "\n",
        "* [Why don't we regularize the bias term?](https://www.deepwizai.com/simply-deep/why-does-regularizing-the-bias-lead-to-underfitting-in-neural-networks#:~:text=Regularization%20and%20Bias&text=Each%20bias%20controls%20only%20a,a%20significant%20amount%20of%20underfitting.%E2%80%9D)    \n",
        "  > Each bias controls only a single variable. This means that we do not induce too much variance by leaving the biases unregularized. Also, regularizing the bias parameters can introduce a significant amount of underfitting.” May 17, 2021   \n",
        "\n",
        "* > When using weight decay in optimizers (like in AdamW), **the decay is typically applied only to the weights of the model** (usually the parameters associated with the kernels in layers like Linear or Convolutional). Biases, along with parameters like batch normalization weights, generally do not have weight decay applied by default.\n",
        "\n",
        "  > You **don't have to manually freeze the biases** for this behavior to occur. The optimizer can be set up to apply weight decay only to specific parameters (like weights) and exclude others (like biases). This is often done by creating parameter groups in your optimizer configuration."
      ]
    },
    {
      "cell_type": "code",
      "source": [],
      "metadata": {
        "id": "B7LiGF7LTFzk"
      },
      "id": "B7LiGF7LTFzk",
      "execution_count": null,
      "outputs": []
    }
  ],
  "metadata": {
    "colab": {
      "provenance": [],
      "toc_visible": true,
      "gpuType": "T4",
      "include_colab_link": true
    },
    "kernelspec": {
      "display_name": "Python 3",
      "name": "python3"
    },
    "language_info": {
      "codemirror_mode": {
        "name": "ipython",
        "version": 3
      },
      "file_extension": ".py",
      "mimetype": "text/x-python",
      "name": "python",
      "nbconvert_exporter": "python",
      "pygments_lexer": "ipython3",
      "version": "3.10.15"
    },
    "widgets": {
      "application/vnd.jupyter.widget-state+json": {
        "c1255eb509ad4dd7ae63506e7c8e94f0": {
          "model_module": "@jupyter-widgets/controls",
          "model_name": "HBoxModel",
          "model_module_version": "1.5.0",
          "state": {
            "_dom_classes": [],
            "_model_module": "@jupyter-widgets/controls",
            "_model_module_version": "1.5.0",
            "_model_name": "HBoxModel",
            "_view_count": null,
            "_view_module": "@jupyter-widgets/controls",
            "_view_module_version": "1.5.0",
            "_view_name": "HBoxView",
            "box_style": "",
            "children": [
              "IPY_MODEL_f6ec275703e641f780591fe7b9cfc7f0",
              "IPY_MODEL_d66309a78bc14d4e8b691b225d937764",
              "IPY_MODEL_cd927615cf7348f99d563fd2fc108932"
            ],
            "layout": "IPY_MODEL_524f03f43d314bdaa5fd6b699865918b"
          }
        },
        "f6ec275703e641f780591fe7b9cfc7f0": {
          "model_module": "@jupyter-widgets/controls",
          "model_name": "HTMLModel",
          "model_module_version": "1.5.0",
          "state": {
            "_dom_classes": [],
            "_model_module": "@jupyter-widgets/controls",
            "_model_module_version": "1.5.0",
            "_model_name": "HTMLModel",
            "_view_count": null,
            "_view_module": "@jupyter-widgets/controls",
            "_view_module_version": "1.5.0",
            "_view_name": "HTMLView",
            "description": "",
            "description_tooltip": null,
            "layout": "IPY_MODEL_6337cb7b8d9345c8b04e5eb83e9b6334",
            "placeholder": "​",
            "style": "IPY_MODEL_55e5012c49ac4e408753bc6dbe1cb17e",
            "value": "tokenizer_config.json: 100%"
          }
        },
        "d66309a78bc14d4e8b691b225d937764": {
          "model_module": "@jupyter-widgets/controls",
          "model_name": "FloatProgressModel",
          "model_module_version": "1.5.0",
          "state": {
            "_dom_classes": [],
            "_model_module": "@jupyter-widgets/controls",
            "_model_module_version": "1.5.0",
            "_model_name": "FloatProgressModel",
            "_view_count": null,
            "_view_module": "@jupyter-widgets/controls",
            "_view_module_version": "1.5.0",
            "_view_name": "ProgressView",
            "bar_style": "success",
            "description": "",
            "description_tooltip": null,
            "layout": "IPY_MODEL_0f423f0e28f44c0983eb27195419feb4",
            "max": 48,
            "min": 0,
            "orientation": "horizontal",
            "style": "IPY_MODEL_cdab01b62ade4486849d09502da866cc",
            "value": 48
          }
        },
        "cd927615cf7348f99d563fd2fc108932": {
          "model_module": "@jupyter-widgets/controls",
          "model_name": "HTMLModel",
          "model_module_version": "1.5.0",
          "state": {
            "_dom_classes": [],
            "_model_module": "@jupyter-widgets/controls",
            "_model_module_version": "1.5.0",
            "_model_name": "HTMLModel",
            "_view_count": null,
            "_view_module": "@jupyter-widgets/controls",
            "_view_module_version": "1.5.0",
            "_view_name": "HTMLView",
            "description": "",
            "description_tooltip": null,
            "layout": "IPY_MODEL_4c9f2668505246b3839903f84f85e839",
            "placeholder": "​",
            "style": "IPY_MODEL_8b9ae21a9f3f42f19e6f78a953621e50",
            "value": " 48.0/48.0 [00:00&lt;00:00, 2.23kB/s]"
          }
        },
        "524f03f43d314bdaa5fd6b699865918b": {
          "model_module": "@jupyter-widgets/base",
          "model_name": "LayoutModel",
          "model_module_version": "1.2.0",
          "state": {
            "_model_module": "@jupyter-widgets/base",
            "_model_module_version": "1.2.0",
            "_model_name": "LayoutModel",
            "_view_count": null,
            "_view_module": "@jupyter-widgets/base",
            "_view_module_version": "1.2.0",
            "_view_name": "LayoutView",
            "align_content": null,
            "align_items": null,
            "align_self": null,
            "border": null,
            "bottom": null,
            "display": null,
            "flex": null,
            "flex_flow": null,
            "grid_area": null,
            "grid_auto_columns": null,
            "grid_auto_flow": null,
            "grid_auto_rows": null,
            "grid_column": null,
            "grid_gap": null,
            "grid_row": null,
            "grid_template_areas": null,
            "grid_template_columns": null,
            "grid_template_rows": null,
            "height": null,
            "justify_content": null,
            "justify_items": null,
            "left": null,
            "margin": null,
            "max_height": null,
            "max_width": null,
            "min_height": null,
            "min_width": null,
            "object_fit": null,
            "object_position": null,
            "order": null,
            "overflow": null,
            "overflow_x": null,
            "overflow_y": null,
            "padding": null,
            "right": null,
            "top": null,
            "visibility": null,
            "width": null
          }
        },
        "6337cb7b8d9345c8b04e5eb83e9b6334": {
          "model_module": "@jupyter-widgets/base",
          "model_name": "LayoutModel",
          "model_module_version": "1.2.0",
          "state": {
            "_model_module": "@jupyter-widgets/base",
            "_model_module_version": "1.2.0",
            "_model_name": "LayoutModel",
            "_view_count": null,
            "_view_module": "@jupyter-widgets/base",
            "_view_module_version": "1.2.0",
            "_view_name": "LayoutView",
            "align_content": null,
            "align_items": null,
            "align_self": null,
            "border": null,
            "bottom": null,
            "display": null,
            "flex": null,
            "flex_flow": null,
            "grid_area": null,
            "grid_auto_columns": null,
            "grid_auto_flow": null,
            "grid_auto_rows": null,
            "grid_column": null,
            "grid_gap": null,
            "grid_row": null,
            "grid_template_areas": null,
            "grid_template_columns": null,
            "grid_template_rows": null,
            "height": null,
            "justify_content": null,
            "justify_items": null,
            "left": null,
            "margin": null,
            "max_height": null,
            "max_width": null,
            "min_height": null,
            "min_width": null,
            "object_fit": null,
            "object_position": null,
            "order": null,
            "overflow": null,
            "overflow_x": null,
            "overflow_y": null,
            "padding": null,
            "right": null,
            "top": null,
            "visibility": null,
            "width": null
          }
        },
        "55e5012c49ac4e408753bc6dbe1cb17e": {
          "model_module": "@jupyter-widgets/controls",
          "model_name": "DescriptionStyleModel",
          "model_module_version": "1.5.0",
          "state": {
            "_model_module": "@jupyter-widgets/controls",
            "_model_module_version": "1.5.0",
            "_model_name": "DescriptionStyleModel",
            "_view_count": null,
            "_view_module": "@jupyter-widgets/base",
            "_view_module_version": "1.2.0",
            "_view_name": "StyleView",
            "description_width": ""
          }
        },
        "0f423f0e28f44c0983eb27195419feb4": {
          "model_module": "@jupyter-widgets/base",
          "model_name": "LayoutModel",
          "model_module_version": "1.2.0",
          "state": {
            "_model_module": "@jupyter-widgets/base",
            "_model_module_version": "1.2.0",
            "_model_name": "LayoutModel",
            "_view_count": null,
            "_view_module": "@jupyter-widgets/base",
            "_view_module_version": "1.2.0",
            "_view_name": "LayoutView",
            "align_content": null,
            "align_items": null,
            "align_self": null,
            "border": null,
            "bottom": null,
            "display": null,
            "flex": null,
            "flex_flow": null,
            "grid_area": null,
            "grid_auto_columns": null,
            "grid_auto_flow": null,
            "grid_auto_rows": null,
            "grid_column": null,
            "grid_gap": null,
            "grid_row": null,
            "grid_template_areas": null,
            "grid_template_columns": null,
            "grid_template_rows": null,
            "height": null,
            "justify_content": null,
            "justify_items": null,
            "left": null,
            "margin": null,
            "max_height": null,
            "max_width": null,
            "min_height": null,
            "min_width": null,
            "object_fit": null,
            "object_position": null,
            "order": null,
            "overflow": null,
            "overflow_x": null,
            "overflow_y": null,
            "padding": null,
            "right": null,
            "top": null,
            "visibility": null,
            "width": null
          }
        },
        "cdab01b62ade4486849d09502da866cc": {
          "model_module": "@jupyter-widgets/controls",
          "model_name": "ProgressStyleModel",
          "model_module_version": "1.5.0",
          "state": {
            "_model_module": "@jupyter-widgets/controls",
            "_model_module_version": "1.5.0",
            "_model_name": "ProgressStyleModel",
            "_view_count": null,
            "_view_module": "@jupyter-widgets/base",
            "_view_module_version": "1.2.0",
            "_view_name": "StyleView",
            "bar_color": null,
            "description_width": ""
          }
        },
        "4c9f2668505246b3839903f84f85e839": {
          "model_module": "@jupyter-widgets/base",
          "model_name": "LayoutModel",
          "model_module_version": "1.2.0",
          "state": {
            "_model_module": "@jupyter-widgets/base",
            "_model_module_version": "1.2.0",
            "_model_name": "LayoutModel",
            "_view_count": null,
            "_view_module": "@jupyter-widgets/base",
            "_view_module_version": "1.2.0",
            "_view_name": "LayoutView",
            "align_content": null,
            "align_items": null,
            "align_self": null,
            "border": null,
            "bottom": null,
            "display": null,
            "flex": null,
            "flex_flow": null,
            "grid_area": null,
            "grid_auto_columns": null,
            "grid_auto_flow": null,
            "grid_auto_rows": null,
            "grid_column": null,
            "grid_gap": null,
            "grid_row": null,
            "grid_template_areas": null,
            "grid_template_columns": null,
            "grid_template_rows": null,
            "height": null,
            "justify_content": null,
            "justify_items": null,
            "left": null,
            "margin": null,
            "max_height": null,
            "max_width": null,
            "min_height": null,
            "min_width": null,
            "object_fit": null,
            "object_position": null,
            "order": null,
            "overflow": null,
            "overflow_x": null,
            "overflow_y": null,
            "padding": null,
            "right": null,
            "top": null,
            "visibility": null,
            "width": null
          }
        },
        "8b9ae21a9f3f42f19e6f78a953621e50": {
          "model_module": "@jupyter-widgets/controls",
          "model_name": "DescriptionStyleModel",
          "model_module_version": "1.5.0",
          "state": {
            "_model_module": "@jupyter-widgets/controls",
            "_model_module_version": "1.5.0",
            "_model_name": "DescriptionStyleModel",
            "_view_count": null,
            "_view_module": "@jupyter-widgets/base",
            "_view_module_version": "1.2.0",
            "_view_name": "StyleView",
            "description_width": ""
          }
        },
        "6e3f2fc0a34f496a807d5e3ae8e7fdb5": {
          "model_module": "@jupyter-widgets/controls",
          "model_name": "HBoxModel",
          "model_module_version": "1.5.0",
          "state": {
            "_dom_classes": [],
            "_model_module": "@jupyter-widgets/controls",
            "_model_module_version": "1.5.0",
            "_model_name": "HBoxModel",
            "_view_count": null,
            "_view_module": "@jupyter-widgets/controls",
            "_view_module_version": "1.5.0",
            "_view_name": "HBoxView",
            "box_style": "",
            "children": [
              "IPY_MODEL_46c129dd47e147a280fb8b2c2bb78508",
              "IPY_MODEL_bc44fa0a02c54ff392f471e260cc0ef1",
              "IPY_MODEL_6980dbdf2a114007bc9b4f1eb38b991d"
            ],
            "layout": "IPY_MODEL_28e7eae0c4fc487bad9f9f516ceaad50"
          }
        },
        "46c129dd47e147a280fb8b2c2bb78508": {
          "model_module": "@jupyter-widgets/controls",
          "model_name": "HTMLModel",
          "model_module_version": "1.5.0",
          "state": {
            "_dom_classes": [],
            "_model_module": "@jupyter-widgets/controls",
            "_model_module_version": "1.5.0",
            "_model_name": "HTMLModel",
            "_view_count": null,
            "_view_module": "@jupyter-widgets/controls",
            "_view_module_version": "1.5.0",
            "_view_name": "HTMLView",
            "description": "",
            "description_tooltip": null,
            "layout": "IPY_MODEL_bc62be09c4534d83a99e0c8aa20f43d1",
            "placeholder": "​",
            "style": "IPY_MODEL_f8b34514e04a4a49870e20e2a68c43fc",
            "value": "vocab.txt: 100%"
          }
        },
        "bc44fa0a02c54ff392f471e260cc0ef1": {
          "model_module": "@jupyter-widgets/controls",
          "model_name": "FloatProgressModel",
          "model_module_version": "1.5.0",
          "state": {
            "_dom_classes": [],
            "_model_module": "@jupyter-widgets/controls",
            "_model_module_version": "1.5.0",
            "_model_name": "FloatProgressModel",
            "_view_count": null,
            "_view_module": "@jupyter-widgets/controls",
            "_view_module_version": "1.5.0",
            "_view_name": "ProgressView",
            "bar_style": "success",
            "description": "",
            "description_tooltip": null,
            "layout": "IPY_MODEL_1913449458c647cfa89ed2869c904411",
            "max": 231508,
            "min": 0,
            "orientation": "horizontal",
            "style": "IPY_MODEL_5e1e77a9de7348d28db2c64720fbdf5e",
            "value": 231508
          }
        },
        "6980dbdf2a114007bc9b4f1eb38b991d": {
          "model_module": "@jupyter-widgets/controls",
          "model_name": "HTMLModel",
          "model_module_version": "1.5.0",
          "state": {
            "_dom_classes": [],
            "_model_module": "@jupyter-widgets/controls",
            "_model_module_version": "1.5.0",
            "_model_name": "HTMLModel",
            "_view_count": null,
            "_view_module": "@jupyter-widgets/controls",
            "_view_module_version": "1.5.0",
            "_view_name": "HTMLView",
            "description": "",
            "description_tooltip": null,
            "layout": "IPY_MODEL_a128083035034172bf229408ba56342d",
            "placeholder": "​",
            "style": "IPY_MODEL_d5bf007a6a894c52934f6978b3324dfd",
            "value": " 232k/232k [00:00&lt;00:00, 10.9MB/s]"
          }
        },
        "28e7eae0c4fc487bad9f9f516ceaad50": {
          "model_module": "@jupyter-widgets/base",
          "model_name": "LayoutModel",
          "model_module_version": "1.2.0",
          "state": {
            "_model_module": "@jupyter-widgets/base",
            "_model_module_version": "1.2.0",
            "_model_name": "LayoutModel",
            "_view_count": null,
            "_view_module": "@jupyter-widgets/base",
            "_view_module_version": "1.2.0",
            "_view_name": "LayoutView",
            "align_content": null,
            "align_items": null,
            "align_self": null,
            "border": null,
            "bottom": null,
            "display": null,
            "flex": null,
            "flex_flow": null,
            "grid_area": null,
            "grid_auto_columns": null,
            "grid_auto_flow": null,
            "grid_auto_rows": null,
            "grid_column": null,
            "grid_gap": null,
            "grid_row": null,
            "grid_template_areas": null,
            "grid_template_columns": null,
            "grid_template_rows": null,
            "height": null,
            "justify_content": null,
            "justify_items": null,
            "left": null,
            "margin": null,
            "max_height": null,
            "max_width": null,
            "min_height": null,
            "min_width": null,
            "object_fit": null,
            "object_position": null,
            "order": null,
            "overflow": null,
            "overflow_x": null,
            "overflow_y": null,
            "padding": null,
            "right": null,
            "top": null,
            "visibility": null,
            "width": null
          }
        },
        "bc62be09c4534d83a99e0c8aa20f43d1": {
          "model_module": "@jupyter-widgets/base",
          "model_name": "LayoutModel",
          "model_module_version": "1.2.0",
          "state": {
            "_model_module": "@jupyter-widgets/base",
            "_model_module_version": "1.2.0",
            "_model_name": "LayoutModel",
            "_view_count": null,
            "_view_module": "@jupyter-widgets/base",
            "_view_module_version": "1.2.0",
            "_view_name": "LayoutView",
            "align_content": null,
            "align_items": null,
            "align_self": null,
            "border": null,
            "bottom": null,
            "display": null,
            "flex": null,
            "flex_flow": null,
            "grid_area": null,
            "grid_auto_columns": null,
            "grid_auto_flow": null,
            "grid_auto_rows": null,
            "grid_column": null,
            "grid_gap": null,
            "grid_row": null,
            "grid_template_areas": null,
            "grid_template_columns": null,
            "grid_template_rows": null,
            "height": null,
            "justify_content": null,
            "justify_items": null,
            "left": null,
            "margin": null,
            "max_height": null,
            "max_width": null,
            "min_height": null,
            "min_width": null,
            "object_fit": null,
            "object_position": null,
            "order": null,
            "overflow": null,
            "overflow_x": null,
            "overflow_y": null,
            "padding": null,
            "right": null,
            "top": null,
            "visibility": null,
            "width": null
          }
        },
        "f8b34514e04a4a49870e20e2a68c43fc": {
          "model_module": "@jupyter-widgets/controls",
          "model_name": "DescriptionStyleModel",
          "model_module_version": "1.5.0",
          "state": {
            "_model_module": "@jupyter-widgets/controls",
            "_model_module_version": "1.5.0",
            "_model_name": "DescriptionStyleModel",
            "_view_count": null,
            "_view_module": "@jupyter-widgets/base",
            "_view_module_version": "1.2.0",
            "_view_name": "StyleView",
            "description_width": ""
          }
        },
        "1913449458c647cfa89ed2869c904411": {
          "model_module": "@jupyter-widgets/base",
          "model_name": "LayoutModel",
          "model_module_version": "1.2.0",
          "state": {
            "_model_module": "@jupyter-widgets/base",
            "_model_module_version": "1.2.0",
            "_model_name": "LayoutModel",
            "_view_count": null,
            "_view_module": "@jupyter-widgets/base",
            "_view_module_version": "1.2.0",
            "_view_name": "LayoutView",
            "align_content": null,
            "align_items": null,
            "align_self": null,
            "border": null,
            "bottom": null,
            "display": null,
            "flex": null,
            "flex_flow": null,
            "grid_area": null,
            "grid_auto_columns": null,
            "grid_auto_flow": null,
            "grid_auto_rows": null,
            "grid_column": null,
            "grid_gap": null,
            "grid_row": null,
            "grid_template_areas": null,
            "grid_template_columns": null,
            "grid_template_rows": null,
            "height": null,
            "justify_content": null,
            "justify_items": null,
            "left": null,
            "margin": null,
            "max_height": null,
            "max_width": null,
            "min_height": null,
            "min_width": null,
            "object_fit": null,
            "object_position": null,
            "order": null,
            "overflow": null,
            "overflow_x": null,
            "overflow_y": null,
            "padding": null,
            "right": null,
            "top": null,
            "visibility": null,
            "width": null
          }
        },
        "5e1e77a9de7348d28db2c64720fbdf5e": {
          "model_module": "@jupyter-widgets/controls",
          "model_name": "ProgressStyleModel",
          "model_module_version": "1.5.0",
          "state": {
            "_model_module": "@jupyter-widgets/controls",
            "_model_module_version": "1.5.0",
            "_model_name": "ProgressStyleModel",
            "_view_count": null,
            "_view_module": "@jupyter-widgets/base",
            "_view_module_version": "1.2.0",
            "_view_name": "StyleView",
            "bar_color": null,
            "description_width": ""
          }
        },
        "a128083035034172bf229408ba56342d": {
          "model_module": "@jupyter-widgets/base",
          "model_name": "LayoutModel",
          "model_module_version": "1.2.0",
          "state": {
            "_model_module": "@jupyter-widgets/base",
            "_model_module_version": "1.2.0",
            "_model_name": "LayoutModel",
            "_view_count": null,
            "_view_module": "@jupyter-widgets/base",
            "_view_module_version": "1.2.0",
            "_view_name": "LayoutView",
            "align_content": null,
            "align_items": null,
            "align_self": null,
            "border": null,
            "bottom": null,
            "display": null,
            "flex": null,
            "flex_flow": null,
            "grid_area": null,
            "grid_auto_columns": null,
            "grid_auto_flow": null,
            "grid_auto_rows": null,
            "grid_column": null,
            "grid_gap": null,
            "grid_row": null,
            "grid_template_areas": null,
            "grid_template_columns": null,
            "grid_template_rows": null,
            "height": null,
            "justify_content": null,
            "justify_items": null,
            "left": null,
            "margin": null,
            "max_height": null,
            "max_width": null,
            "min_height": null,
            "min_width": null,
            "object_fit": null,
            "object_position": null,
            "order": null,
            "overflow": null,
            "overflow_x": null,
            "overflow_y": null,
            "padding": null,
            "right": null,
            "top": null,
            "visibility": null,
            "width": null
          }
        },
        "d5bf007a6a894c52934f6978b3324dfd": {
          "model_module": "@jupyter-widgets/controls",
          "model_name": "DescriptionStyleModel",
          "model_module_version": "1.5.0",
          "state": {
            "_model_module": "@jupyter-widgets/controls",
            "_model_module_version": "1.5.0",
            "_model_name": "DescriptionStyleModel",
            "_view_count": null,
            "_view_module": "@jupyter-widgets/base",
            "_view_module_version": "1.2.0",
            "_view_name": "StyleView",
            "description_width": ""
          }
        },
        "d18f577db3dc48e9a4fcbbed2ecfc339": {
          "model_module": "@jupyter-widgets/controls",
          "model_name": "HBoxModel",
          "model_module_version": "1.5.0",
          "state": {
            "_dom_classes": [],
            "_model_module": "@jupyter-widgets/controls",
            "_model_module_version": "1.5.0",
            "_model_name": "HBoxModel",
            "_view_count": null,
            "_view_module": "@jupyter-widgets/controls",
            "_view_module_version": "1.5.0",
            "_view_name": "HBoxView",
            "box_style": "",
            "children": [
              "IPY_MODEL_40cafb13b69a4319a3284bf8d1df770c",
              "IPY_MODEL_04a5d505a487484dbd7aaea3e04cb9c5",
              "IPY_MODEL_d9162d5d73544c7aa0773311ade07903"
            ],
            "layout": "IPY_MODEL_7d995f2d7f544c8590a89498b8102862"
          }
        },
        "40cafb13b69a4319a3284bf8d1df770c": {
          "model_module": "@jupyter-widgets/controls",
          "model_name": "HTMLModel",
          "model_module_version": "1.5.0",
          "state": {
            "_dom_classes": [],
            "_model_module": "@jupyter-widgets/controls",
            "_model_module_version": "1.5.0",
            "_model_name": "HTMLModel",
            "_view_count": null,
            "_view_module": "@jupyter-widgets/controls",
            "_view_module_version": "1.5.0",
            "_view_name": "HTMLView",
            "description": "",
            "description_tooltip": null,
            "layout": "IPY_MODEL_8db57d49d7414e25b470aa31e1e6c468",
            "placeholder": "​",
            "style": "IPY_MODEL_272a7c0c0bd94a0ca2f155fa30b02ab3",
            "value": "tokenizer.json: 100%"
          }
        },
        "04a5d505a487484dbd7aaea3e04cb9c5": {
          "model_module": "@jupyter-widgets/controls",
          "model_name": "FloatProgressModel",
          "model_module_version": "1.5.0",
          "state": {
            "_dom_classes": [],
            "_model_module": "@jupyter-widgets/controls",
            "_model_module_version": "1.5.0",
            "_model_name": "FloatProgressModel",
            "_view_count": null,
            "_view_module": "@jupyter-widgets/controls",
            "_view_module_version": "1.5.0",
            "_view_name": "ProgressView",
            "bar_style": "success",
            "description": "",
            "description_tooltip": null,
            "layout": "IPY_MODEL_ecea80f984cc49748827887c38b23507",
            "max": 466062,
            "min": 0,
            "orientation": "horizontal",
            "style": "IPY_MODEL_540fadf4fdaf4304b29bc88eee0871b4",
            "value": 466062
          }
        },
        "d9162d5d73544c7aa0773311ade07903": {
          "model_module": "@jupyter-widgets/controls",
          "model_name": "HTMLModel",
          "model_module_version": "1.5.0",
          "state": {
            "_dom_classes": [],
            "_model_module": "@jupyter-widgets/controls",
            "_model_module_version": "1.5.0",
            "_model_name": "HTMLModel",
            "_view_count": null,
            "_view_module": "@jupyter-widgets/controls",
            "_view_module_version": "1.5.0",
            "_view_name": "HTMLView",
            "description": "",
            "description_tooltip": null,
            "layout": "IPY_MODEL_0c43d2f9524344568b84373f3d708769",
            "placeholder": "​",
            "style": "IPY_MODEL_76787913fb5d4e77887e504be0118d7b",
            "value": " 466k/466k [00:00&lt;00:00, 30.8MB/s]"
          }
        },
        "7d995f2d7f544c8590a89498b8102862": {
          "model_module": "@jupyter-widgets/base",
          "model_name": "LayoutModel",
          "model_module_version": "1.2.0",
          "state": {
            "_model_module": "@jupyter-widgets/base",
            "_model_module_version": "1.2.0",
            "_model_name": "LayoutModel",
            "_view_count": null,
            "_view_module": "@jupyter-widgets/base",
            "_view_module_version": "1.2.0",
            "_view_name": "LayoutView",
            "align_content": null,
            "align_items": null,
            "align_self": null,
            "border": null,
            "bottom": null,
            "display": null,
            "flex": null,
            "flex_flow": null,
            "grid_area": null,
            "grid_auto_columns": null,
            "grid_auto_flow": null,
            "grid_auto_rows": null,
            "grid_column": null,
            "grid_gap": null,
            "grid_row": null,
            "grid_template_areas": null,
            "grid_template_columns": null,
            "grid_template_rows": null,
            "height": null,
            "justify_content": null,
            "justify_items": null,
            "left": null,
            "margin": null,
            "max_height": null,
            "max_width": null,
            "min_height": null,
            "min_width": null,
            "object_fit": null,
            "object_position": null,
            "order": null,
            "overflow": null,
            "overflow_x": null,
            "overflow_y": null,
            "padding": null,
            "right": null,
            "top": null,
            "visibility": null,
            "width": null
          }
        },
        "8db57d49d7414e25b470aa31e1e6c468": {
          "model_module": "@jupyter-widgets/base",
          "model_name": "LayoutModel",
          "model_module_version": "1.2.0",
          "state": {
            "_model_module": "@jupyter-widgets/base",
            "_model_module_version": "1.2.0",
            "_model_name": "LayoutModel",
            "_view_count": null,
            "_view_module": "@jupyter-widgets/base",
            "_view_module_version": "1.2.0",
            "_view_name": "LayoutView",
            "align_content": null,
            "align_items": null,
            "align_self": null,
            "border": null,
            "bottom": null,
            "display": null,
            "flex": null,
            "flex_flow": null,
            "grid_area": null,
            "grid_auto_columns": null,
            "grid_auto_flow": null,
            "grid_auto_rows": null,
            "grid_column": null,
            "grid_gap": null,
            "grid_row": null,
            "grid_template_areas": null,
            "grid_template_columns": null,
            "grid_template_rows": null,
            "height": null,
            "justify_content": null,
            "justify_items": null,
            "left": null,
            "margin": null,
            "max_height": null,
            "max_width": null,
            "min_height": null,
            "min_width": null,
            "object_fit": null,
            "object_position": null,
            "order": null,
            "overflow": null,
            "overflow_x": null,
            "overflow_y": null,
            "padding": null,
            "right": null,
            "top": null,
            "visibility": null,
            "width": null
          }
        },
        "272a7c0c0bd94a0ca2f155fa30b02ab3": {
          "model_module": "@jupyter-widgets/controls",
          "model_name": "DescriptionStyleModel",
          "model_module_version": "1.5.0",
          "state": {
            "_model_module": "@jupyter-widgets/controls",
            "_model_module_version": "1.5.0",
            "_model_name": "DescriptionStyleModel",
            "_view_count": null,
            "_view_module": "@jupyter-widgets/base",
            "_view_module_version": "1.2.0",
            "_view_name": "StyleView",
            "description_width": ""
          }
        },
        "ecea80f984cc49748827887c38b23507": {
          "model_module": "@jupyter-widgets/base",
          "model_name": "LayoutModel",
          "model_module_version": "1.2.0",
          "state": {
            "_model_module": "@jupyter-widgets/base",
            "_model_module_version": "1.2.0",
            "_model_name": "LayoutModel",
            "_view_count": null,
            "_view_module": "@jupyter-widgets/base",
            "_view_module_version": "1.2.0",
            "_view_name": "LayoutView",
            "align_content": null,
            "align_items": null,
            "align_self": null,
            "border": null,
            "bottom": null,
            "display": null,
            "flex": null,
            "flex_flow": null,
            "grid_area": null,
            "grid_auto_columns": null,
            "grid_auto_flow": null,
            "grid_auto_rows": null,
            "grid_column": null,
            "grid_gap": null,
            "grid_row": null,
            "grid_template_areas": null,
            "grid_template_columns": null,
            "grid_template_rows": null,
            "height": null,
            "justify_content": null,
            "justify_items": null,
            "left": null,
            "margin": null,
            "max_height": null,
            "max_width": null,
            "min_height": null,
            "min_width": null,
            "object_fit": null,
            "object_position": null,
            "order": null,
            "overflow": null,
            "overflow_x": null,
            "overflow_y": null,
            "padding": null,
            "right": null,
            "top": null,
            "visibility": null,
            "width": null
          }
        },
        "540fadf4fdaf4304b29bc88eee0871b4": {
          "model_module": "@jupyter-widgets/controls",
          "model_name": "ProgressStyleModel",
          "model_module_version": "1.5.0",
          "state": {
            "_model_module": "@jupyter-widgets/controls",
            "_model_module_version": "1.5.0",
            "_model_name": "ProgressStyleModel",
            "_view_count": null,
            "_view_module": "@jupyter-widgets/base",
            "_view_module_version": "1.2.0",
            "_view_name": "StyleView",
            "bar_color": null,
            "description_width": ""
          }
        },
        "0c43d2f9524344568b84373f3d708769": {
          "model_module": "@jupyter-widgets/base",
          "model_name": "LayoutModel",
          "model_module_version": "1.2.0",
          "state": {
            "_model_module": "@jupyter-widgets/base",
            "_model_module_version": "1.2.0",
            "_model_name": "LayoutModel",
            "_view_count": null,
            "_view_module": "@jupyter-widgets/base",
            "_view_module_version": "1.2.0",
            "_view_name": "LayoutView",
            "align_content": null,
            "align_items": null,
            "align_self": null,
            "border": null,
            "bottom": null,
            "display": null,
            "flex": null,
            "flex_flow": null,
            "grid_area": null,
            "grid_auto_columns": null,
            "grid_auto_flow": null,
            "grid_auto_rows": null,
            "grid_column": null,
            "grid_gap": null,
            "grid_row": null,
            "grid_template_areas": null,
            "grid_template_columns": null,
            "grid_template_rows": null,
            "height": null,
            "justify_content": null,
            "justify_items": null,
            "left": null,
            "margin": null,
            "max_height": null,
            "max_width": null,
            "min_height": null,
            "min_width": null,
            "object_fit": null,
            "object_position": null,
            "order": null,
            "overflow": null,
            "overflow_x": null,
            "overflow_y": null,
            "padding": null,
            "right": null,
            "top": null,
            "visibility": null,
            "width": null
          }
        },
        "76787913fb5d4e77887e504be0118d7b": {
          "model_module": "@jupyter-widgets/controls",
          "model_name": "DescriptionStyleModel",
          "model_module_version": "1.5.0",
          "state": {
            "_model_module": "@jupyter-widgets/controls",
            "_model_module_version": "1.5.0",
            "_model_name": "DescriptionStyleModel",
            "_view_count": null,
            "_view_module": "@jupyter-widgets/base",
            "_view_module_version": "1.2.0",
            "_view_name": "StyleView",
            "description_width": ""
          }
        },
        "f7a02e100d5e403eacb70f29736f2631": {
          "model_module": "@jupyter-widgets/controls",
          "model_name": "HBoxModel",
          "model_module_version": "1.5.0",
          "state": {
            "_dom_classes": [],
            "_model_module": "@jupyter-widgets/controls",
            "_model_module_version": "1.5.0",
            "_model_name": "HBoxModel",
            "_view_count": null,
            "_view_module": "@jupyter-widgets/controls",
            "_view_module_version": "1.5.0",
            "_view_name": "HBoxView",
            "box_style": "",
            "children": [
              "IPY_MODEL_1fbd601d6d38498e88549aa59a55ebdf",
              "IPY_MODEL_54fbec52ebc3430384de0c9c25f8d2df",
              "IPY_MODEL_e50e86d4bb91462b9a1024c8c7d4cbc6"
            ],
            "layout": "IPY_MODEL_27077bf41cd749c39ec48f78e700bf4d"
          }
        },
        "1fbd601d6d38498e88549aa59a55ebdf": {
          "model_module": "@jupyter-widgets/controls",
          "model_name": "HTMLModel",
          "model_module_version": "1.5.0",
          "state": {
            "_dom_classes": [],
            "_model_module": "@jupyter-widgets/controls",
            "_model_module_version": "1.5.0",
            "_model_name": "HTMLModel",
            "_view_count": null,
            "_view_module": "@jupyter-widgets/controls",
            "_view_module_version": "1.5.0",
            "_view_name": "HTMLView",
            "description": "",
            "description_tooltip": null,
            "layout": "IPY_MODEL_c6cbbeb7f04e45389892e0d4b4f5bf63",
            "placeholder": "​",
            "style": "IPY_MODEL_d72a16f1f5cd4c20b9314a43dd310a5c",
            "value": "config.json: 100%"
          }
        },
        "54fbec52ebc3430384de0c9c25f8d2df": {
          "model_module": "@jupyter-widgets/controls",
          "model_name": "FloatProgressModel",
          "model_module_version": "1.5.0",
          "state": {
            "_dom_classes": [],
            "_model_module": "@jupyter-widgets/controls",
            "_model_module_version": "1.5.0",
            "_model_name": "FloatProgressModel",
            "_view_count": null,
            "_view_module": "@jupyter-widgets/controls",
            "_view_module_version": "1.5.0",
            "_view_name": "ProgressView",
            "bar_style": "success",
            "description": "",
            "description_tooltip": null,
            "layout": "IPY_MODEL_e8cb8afb41b1485695aa26eeeb5a28a9",
            "max": 570,
            "min": 0,
            "orientation": "horizontal",
            "style": "IPY_MODEL_4d7046a6280d43fd88f81c69e8329440",
            "value": 570
          }
        },
        "e50e86d4bb91462b9a1024c8c7d4cbc6": {
          "model_module": "@jupyter-widgets/controls",
          "model_name": "HTMLModel",
          "model_module_version": "1.5.0",
          "state": {
            "_dom_classes": [],
            "_model_module": "@jupyter-widgets/controls",
            "_model_module_version": "1.5.0",
            "_model_name": "HTMLModel",
            "_view_count": null,
            "_view_module": "@jupyter-widgets/controls",
            "_view_module_version": "1.5.0",
            "_view_name": "HTMLView",
            "description": "",
            "description_tooltip": null,
            "layout": "IPY_MODEL_d2963dd91e26423aa4bd557be47b1f6a",
            "placeholder": "​",
            "style": "IPY_MODEL_465226b702f943edb47efd1d14d5ae7a",
            "value": " 570/570 [00:00&lt;00:00, 42.9kB/s]"
          }
        },
        "27077bf41cd749c39ec48f78e700bf4d": {
          "model_module": "@jupyter-widgets/base",
          "model_name": "LayoutModel",
          "model_module_version": "1.2.0",
          "state": {
            "_model_module": "@jupyter-widgets/base",
            "_model_module_version": "1.2.0",
            "_model_name": "LayoutModel",
            "_view_count": null,
            "_view_module": "@jupyter-widgets/base",
            "_view_module_version": "1.2.0",
            "_view_name": "LayoutView",
            "align_content": null,
            "align_items": null,
            "align_self": null,
            "border": null,
            "bottom": null,
            "display": null,
            "flex": null,
            "flex_flow": null,
            "grid_area": null,
            "grid_auto_columns": null,
            "grid_auto_flow": null,
            "grid_auto_rows": null,
            "grid_column": null,
            "grid_gap": null,
            "grid_row": null,
            "grid_template_areas": null,
            "grid_template_columns": null,
            "grid_template_rows": null,
            "height": null,
            "justify_content": null,
            "justify_items": null,
            "left": null,
            "margin": null,
            "max_height": null,
            "max_width": null,
            "min_height": null,
            "min_width": null,
            "object_fit": null,
            "object_position": null,
            "order": null,
            "overflow": null,
            "overflow_x": null,
            "overflow_y": null,
            "padding": null,
            "right": null,
            "top": null,
            "visibility": null,
            "width": null
          }
        },
        "c6cbbeb7f04e45389892e0d4b4f5bf63": {
          "model_module": "@jupyter-widgets/base",
          "model_name": "LayoutModel",
          "model_module_version": "1.2.0",
          "state": {
            "_model_module": "@jupyter-widgets/base",
            "_model_module_version": "1.2.0",
            "_model_name": "LayoutModel",
            "_view_count": null,
            "_view_module": "@jupyter-widgets/base",
            "_view_module_version": "1.2.0",
            "_view_name": "LayoutView",
            "align_content": null,
            "align_items": null,
            "align_self": null,
            "border": null,
            "bottom": null,
            "display": null,
            "flex": null,
            "flex_flow": null,
            "grid_area": null,
            "grid_auto_columns": null,
            "grid_auto_flow": null,
            "grid_auto_rows": null,
            "grid_column": null,
            "grid_gap": null,
            "grid_row": null,
            "grid_template_areas": null,
            "grid_template_columns": null,
            "grid_template_rows": null,
            "height": null,
            "justify_content": null,
            "justify_items": null,
            "left": null,
            "margin": null,
            "max_height": null,
            "max_width": null,
            "min_height": null,
            "min_width": null,
            "object_fit": null,
            "object_position": null,
            "order": null,
            "overflow": null,
            "overflow_x": null,
            "overflow_y": null,
            "padding": null,
            "right": null,
            "top": null,
            "visibility": null,
            "width": null
          }
        },
        "d72a16f1f5cd4c20b9314a43dd310a5c": {
          "model_module": "@jupyter-widgets/controls",
          "model_name": "DescriptionStyleModel",
          "model_module_version": "1.5.0",
          "state": {
            "_model_module": "@jupyter-widgets/controls",
            "_model_module_version": "1.5.0",
            "_model_name": "DescriptionStyleModel",
            "_view_count": null,
            "_view_module": "@jupyter-widgets/base",
            "_view_module_version": "1.2.0",
            "_view_name": "StyleView",
            "description_width": ""
          }
        },
        "e8cb8afb41b1485695aa26eeeb5a28a9": {
          "model_module": "@jupyter-widgets/base",
          "model_name": "LayoutModel",
          "model_module_version": "1.2.0",
          "state": {
            "_model_module": "@jupyter-widgets/base",
            "_model_module_version": "1.2.0",
            "_model_name": "LayoutModel",
            "_view_count": null,
            "_view_module": "@jupyter-widgets/base",
            "_view_module_version": "1.2.0",
            "_view_name": "LayoutView",
            "align_content": null,
            "align_items": null,
            "align_self": null,
            "border": null,
            "bottom": null,
            "display": null,
            "flex": null,
            "flex_flow": null,
            "grid_area": null,
            "grid_auto_columns": null,
            "grid_auto_flow": null,
            "grid_auto_rows": null,
            "grid_column": null,
            "grid_gap": null,
            "grid_row": null,
            "grid_template_areas": null,
            "grid_template_columns": null,
            "grid_template_rows": null,
            "height": null,
            "justify_content": null,
            "justify_items": null,
            "left": null,
            "margin": null,
            "max_height": null,
            "max_width": null,
            "min_height": null,
            "min_width": null,
            "object_fit": null,
            "object_position": null,
            "order": null,
            "overflow": null,
            "overflow_x": null,
            "overflow_y": null,
            "padding": null,
            "right": null,
            "top": null,
            "visibility": null,
            "width": null
          }
        },
        "4d7046a6280d43fd88f81c69e8329440": {
          "model_module": "@jupyter-widgets/controls",
          "model_name": "ProgressStyleModel",
          "model_module_version": "1.5.0",
          "state": {
            "_model_module": "@jupyter-widgets/controls",
            "_model_module_version": "1.5.0",
            "_model_name": "ProgressStyleModel",
            "_view_count": null,
            "_view_module": "@jupyter-widgets/base",
            "_view_module_version": "1.2.0",
            "_view_name": "StyleView",
            "bar_color": null,
            "description_width": ""
          }
        },
        "d2963dd91e26423aa4bd557be47b1f6a": {
          "model_module": "@jupyter-widgets/base",
          "model_name": "LayoutModel",
          "model_module_version": "1.2.0",
          "state": {
            "_model_module": "@jupyter-widgets/base",
            "_model_module_version": "1.2.0",
            "_model_name": "LayoutModel",
            "_view_count": null,
            "_view_module": "@jupyter-widgets/base",
            "_view_module_version": "1.2.0",
            "_view_name": "LayoutView",
            "align_content": null,
            "align_items": null,
            "align_self": null,
            "border": null,
            "bottom": null,
            "display": null,
            "flex": null,
            "flex_flow": null,
            "grid_area": null,
            "grid_auto_columns": null,
            "grid_auto_flow": null,
            "grid_auto_rows": null,
            "grid_column": null,
            "grid_gap": null,
            "grid_row": null,
            "grid_template_areas": null,
            "grid_template_columns": null,
            "grid_template_rows": null,
            "height": null,
            "justify_content": null,
            "justify_items": null,
            "left": null,
            "margin": null,
            "max_height": null,
            "max_width": null,
            "min_height": null,
            "min_width": null,
            "object_fit": null,
            "object_position": null,
            "order": null,
            "overflow": null,
            "overflow_x": null,
            "overflow_y": null,
            "padding": null,
            "right": null,
            "top": null,
            "visibility": null,
            "width": null
          }
        },
        "465226b702f943edb47efd1d14d5ae7a": {
          "model_module": "@jupyter-widgets/controls",
          "model_name": "DescriptionStyleModel",
          "model_module_version": "1.5.0",
          "state": {
            "_model_module": "@jupyter-widgets/controls",
            "_model_module_version": "1.5.0",
            "_model_name": "DescriptionStyleModel",
            "_view_count": null,
            "_view_module": "@jupyter-widgets/base",
            "_view_module_version": "1.2.0",
            "_view_name": "StyleView",
            "description_width": ""
          }
        },
        "13aa5ae4e4e8479f8c657ff09f54b808": {
          "model_module": "@jupyter-widgets/controls",
          "model_name": "HBoxModel",
          "model_module_version": "1.5.0",
          "state": {
            "_dom_classes": [],
            "_model_module": "@jupyter-widgets/controls",
            "_model_module_version": "1.5.0",
            "_model_name": "HBoxModel",
            "_view_count": null,
            "_view_module": "@jupyter-widgets/controls",
            "_view_module_version": "1.5.0",
            "_view_name": "HBoxView",
            "box_style": "",
            "children": [
              "IPY_MODEL_9e235a8ae4c54693bdc704333a0eccaa",
              "IPY_MODEL_1539f9f0b2a34e10abc38df3fb980dee",
              "IPY_MODEL_bbf66cd2aa5b4e7ba23b43fa333daaf9"
            ],
            "layout": "IPY_MODEL_5686249e82ae46c7b33964926b61499e"
          }
        },
        "9e235a8ae4c54693bdc704333a0eccaa": {
          "model_module": "@jupyter-widgets/controls",
          "model_name": "HTMLModel",
          "model_module_version": "1.5.0",
          "state": {
            "_dom_classes": [],
            "_model_module": "@jupyter-widgets/controls",
            "_model_module_version": "1.5.0",
            "_model_name": "HTMLModel",
            "_view_count": null,
            "_view_module": "@jupyter-widgets/controls",
            "_view_module_version": "1.5.0",
            "_view_name": "HTMLView",
            "description": "",
            "description_tooltip": null,
            "layout": "IPY_MODEL_bead88703e364fb4adb65a3506d2cd63",
            "placeholder": "​",
            "style": "IPY_MODEL_4ccbcbd716754ebfb9ee25f82d26eb51",
            "value": "model.safetensors: 100%"
          }
        },
        "1539f9f0b2a34e10abc38df3fb980dee": {
          "model_module": "@jupyter-widgets/controls",
          "model_name": "FloatProgressModel",
          "model_module_version": "1.5.0",
          "state": {
            "_dom_classes": [],
            "_model_module": "@jupyter-widgets/controls",
            "_model_module_version": "1.5.0",
            "_model_name": "FloatProgressModel",
            "_view_count": null,
            "_view_module": "@jupyter-widgets/controls",
            "_view_module_version": "1.5.0",
            "_view_name": "ProgressView",
            "bar_style": "success",
            "description": "",
            "description_tooltip": null,
            "layout": "IPY_MODEL_32d006bea4b047c7a75c07183dcbee97",
            "max": 440449768,
            "min": 0,
            "orientation": "horizontal",
            "style": "IPY_MODEL_50d2fb41029a43da9118b250573b3160",
            "value": 440449768
          }
        },
        "bbf66cd2aa5b4e7ba23b43fa333daaf9": {
          "model_module": "@jupyter-widgets/controls",
          "model_name": "HTMLModel",
          "model_module_version": "1.5.0",
          "state": {
            "_dom_classes": [],
            "_model_module": "@jupyter-widgets/controls",
            "_model_module_version": "1.5.0",
            "_model_name": "HTMLModel",
            "_view_count": null,
            "_view_module": "@jupyter-widgets/controls",
            "_view_module_version": "1.5.0",
            "_view_name": "HTMLView",
            "description": "",
            "description_tooltip": null,
            "layout": "IPY_MODEL_c414f60706054526bd82ae0e80b1499a",
            "placeholder": "​",
            "style": "IPY_MODEL_9bb03c12c02c4eb1a87faf9ae19253d3",
            "value": " 440M/440M [00:05&lt;00:00, 42.4MB/s]"
          }
        },
        "5686249e82ae46c7b33964926b61499e": {
          "model_module": "@jupyter-widgets/base",
          "model_name": "LayoutModel",
          "model_module_version": "1.2.0",
          "state": {
            "_model_module": "@jupyter-widgets/base",
            "_model_module_version": "1.2.0",
            "_model_name": "LayoutModel",
            "_view_count": null,
            "_view_module": "@jupyter-widgets/base",
            "_view_module_version": "1.2.0",
            "_view_name": "LayoutView",
            "align_content": null,
            "align_items": null,
            "align_self": null,
            "border": null,
            "bottom": null,
            "display": null,
            "flex": null,
            "flex_flow": null,
            "grid_area": null,
            "grid_auto_columns": null,
            "grid_auto_flow": null,
            "grid_auto_rows": null,
            "grid_column": null,
            "grid_gap": null,
            "grid_row": null,
            "grid_template_areas": null,
            "grid_template_columns": null,
            "grid_template_rows": null,
            "height": null,
            "justify_content": null,
            "justify_items": null,
            "left": null,
            "margin": null,
            "max_height": null,
            "max_width": null,
            "min_height": null,
            "min_width": null,
            "object_fit": null,
            "object_position": null,
            "order": null,
            "overflow": null,
            "overflow_x": null,
            "overflow_y": null,
            "padding": null,
            "right": null,
            "top": null,
            "visibility": null,
            "width": null
          }
        },
        "bead88703e364fb4adb65a3506d2cd63": {
          "model_module": "@jupyter-widgets/base",
          "model_name": "LayoutModel",
          "model_module_version": "1.2.0",
          "state": {
            "_model_module": "@jupyter-widgets/base",
            "_model_module_version": "1.2.0",
            "_model_name": "LayoutModel",
            "_view_count": null,
            "_view_module": "@jupyter-widgets/base",
            "_view_module_version": "1.2.0",
            "_view_name": "LayoutView",
            "align_content": null,
            "align_items": null,
            "align_self": null,
            "border": null,
            "bottom": null,
            "display": null,
            "flex": null,
            "flex_flow": null,
            "grid_area": null,
            "grid_auto_columns": null,
            "grid_auto_flow": null,
            "grid_auto_rows": null,
            "grid_column": null,
            "grid_gap": null,
            "grid_row": null,
            "grid_template_areas": null,
            "grid_template_columns": null,
            "grid_template_rows": null,
            "height": null,
            "justify_content": null,
            "justify_items": null,
            "left": null,
            "margin": null,
            "max_height": null,
            "max_width": null,
            "min_height": null,
            "min_width": null,
            "object_fit": null,
            "object_position": null,
            "order": null,
            "overflow": null,
            "overflow_x": null,
            "overflow_y": null,
            "padding": null,
            "right": null,
            "top": null,
            "visibility": null,
            "width": null
          }
        },
        "4ccbcbd716754ebfb9ee25f82d26eb51": {
          "model_module": "@jupyter-widgets/controls",
          "model_name": "DescriptionStyleModel",
          "model_module_version": "1.5.0",
          "state": {
            "_model_module": "@jupyter-widgets/controls",
            "_model_module_version": "1.5.0",
            "_model_name": "DescriptionStyleModel",
            "_view_count": null,
            "_view_module": "@jupyter-widgets/base",
            "_view_module_version": "1.2.0",
            "_view_name": "StyleView",
            "description_width": ""
          }
        },
        "32d006bea4b047c7a75c07183dcbee97": {
          "model_module": "@jupyter-widgets/base",
          "model_name": "LayoutModel",
          "model_module_version": "1.2.0",
          "state": {
            "_model_module": "@jupyter-widgets/base",
            "_model_module_version": "1.2.0",
            "_model_name": "LayoutModel",
            "_view_count": null,
            "_view_module": "@jupyter-widgets/base",
            "_view_module_version": "1.2.0",
            "_view_name": "LayoutView",
            "align_content": null,
            "align_items": null,
            "align_self": null,
            "border": null,
            "bottom": null,
            "display": null,
            "flex": null,
            "flex_flow": null,
            "grid_area": null,
            "grid_auto_columns": null,
            "grid_auto_flow": null,
            "grid_auto_rows": null,
            "grid_column": null,
            "grid_gap": null,
            "grid_row": null,
            "grid_template_areas": null,
            "grid_template_columns": null,
            "grid_template_rows": null,
            "height": null,
            "justify_content": null,
            "justify_items": null,
            "left": null,
            "margin": null,
            "max_height": null,
            "max_width": null,
            "min_height": null,
            "min_width": null,
            "object_fit": null,
            "object_position": null,
            "order": null,
            "overflow": null,
            "overflow_x": null,
            "overflow_y": null,
            "padding": null,
            "right": null,
            "top": null,
            "visibility": null,
            "width": null
          }
        },
        "50d2fb41029a43da9118b250573b3160": {
          "model_module": "@jupyter-widgets/controls",
          "model_name": "ProgressStyleModel",
          "model_module_version": "1.5.0",
          "state": {
            "_model_module": "@jupyter-widgets/controls",
            "_model_module_version": "1.5.0",
            "_model_name": "ProgressStyleModel",
            "_view_count": null,
            "_view_module": "@jupyter-widgets/base",
            "_view_module_version": "1.2.0",
            "_view_name": "StyleView",
            "bar_color": null,
            "description_width": ""
          }
        },
        "c414f60706054526bd82ae0e80b1499a": {
          "model_module": "@jupyter-widgets/base",
          "model_name": "LayoutModel",
          "model_module_version": "1.2.0",
          "state": {
            "_model_module": "@jupyter-widgets/base",
            "_model_module_version": "1.2.0",
            "_model_name": "LayoutModel",
            "_view_count": null,
            "_view_module": "@jupyter-widgets/base",
            "_view_module_version": "1.2.0",
            "_view_name": "LayoutView",
            "align_content": null,
            "align_items": null,
            "align_self": null,
            "border": null,
            "bottom": null,
            "display": null,
            "flex": null,
            "flex_flow": null,
            "grid_area": null,
            "grid_auto_columns": null,
            "grid_auto_flow": null,
            "grid_auto_rows": null,
            "grid_column": null,
            "grid_gap": null,
            "grid_row": null,
            "grid_template_areas": null,
            "grid_template_columns": null,
            "grid_template_rows": null,
            "height": null,
            "justify_content": null,
            "justify_items": null,
            "left": null,
            "margin": null,
            "max_height": null,
            "max_width": null,
            "min_height": null,
            "min_width": null,
            "object_fit": null,
            "object_position": null,
            "order": null,
            "overflow": null,
            "overflow_x": null,
            "overflow_y": null,
            "padding": null,
            "right": null,
            "top": null,
            "visibility": null,
            "width": null
          }
        },
        "9bb03c12c02c4eb1a87faf9ae19253d3": {
          "model_module": "@jupyter-widgets/controls",
          "model_name": "DescriptionStyleModel",
          "model_module_version": "1.5.0",
          "state": {
            "_model_module": "@jupyter-widgets/controls",
            "_model_module_version": "1.5.0",
            "_model_name": "DescriptionStyleModel",
            "_view_count": null,
            "_view_module": "@jupyter-widgets/base",
            "_view_module_version": "1.2.0",
            "_view_name": "StyleView",
            "description_width": ""
          }
        },
        "83a1b5e80e5b4b5099a50feb9814ab64": {
          "model_module": "@jupyter-widgets/controls",
          "model_name": "VBoxModel",
          "model_module_version": "1.5.0",
          "state": {
            "_dom_classes": [],
            "_model_module": "@jupyter-widgets/controls",
            "_model_module_version": "1.5.0",
            "_model_name": "VBoxModel",
            "_view_count": null,
            "_view_module": "@jupyter-widgets/controls",
            "_view_module_version": "1.5.0",
            "_view_name": "VBoxView",
            "box_style": "",
            "children": [
              "IPY_MODEL_578b56b9befd493496ad5721e27fc9a6",
              "IPY_MODEL_b598f908b1ee4f909df72e8a75537849"
            ],
            "layout": "IPY_MODEL_e23fb6805625415188f10fa6478de4b1"
          }
        },
        "578b56b9befd493496ad5721e27fc9a6": {
          "model_module": "@jupyter-widgets/controls",
          "model_name": "LabelModel",
          "model_module_version": "1.5.0",
          "state": {
            "_dom_classes": [],
            "_model_module": "@jupyter-widgets/controls",
            "_model_module_version": "1.5.0",
            "_model_name": "LabelModel",
            "_view_count": null,
            "_view_module": "@jupyter-widgets/controls",
            "_view_module_version": "1.5.0",
            "_view_name": "LabelView",
            "description": "",
            "description_tooltip": null,
            "layout": "IPY_MODEL_599e253858554defbbd69568974d96d0",
            "placeholder": "​",
            "style": "IPY_MODEL_82cc773268904281aeb1535dba5b3587",
            "value": "0.320 MB of 0.320 MB uploaded\r"
          }
        },
        "b598f908b1ee4f909df72e8a75537849": {
          "model_module": "@jupyter-widgets/controls",
          "model_name": "FloatProgressModel",
          "model_module_version": "1.5.0",
          "state": {
            "_dom_classes": [],
            "_model_module": "@jupyter-widgets/controls",
            "_model_module_version": "1.5.0",
            "_model_name": "FloatProgressModel",
            "_view_count": null,
            "_view_module": "@jupyter-widgets/controls",
            "_view_module_version": "1.5.0",
            "_view_name": "ProgressView",
            "bar_style": "",
            "description": "",
            "description_tooltip": null,
            "layout": "IPY_MODEL_dad48626044146f18f46c4643809950c",
            "max": 1,
            "min": 0,
            "orientation": "horizontal",
            "style": "IPY_MODEL_4a8c25e18d9846c18021f92626b0b3db",
            "value": 1
          }
        },
        "e23fb6805625415188f10fa6478de4b1": {
          "model_module": "@jupyter-widgets/base",
          "model_name": "LayoutModel",
          "model_module_version": "1.2.0",
          "state": {
            "_model_module": "@jupyter-widgets/base",
            "_model_module_version": "1.2.0",
            "_model_name": "LayoutModel",
            "_view_count": null,
            "_view_module": "@jupyter-widgets/base",
            "_view_module_version": "1.2.0",
            "_view_name": "LayoutView",
            "align_content": null,
            "align_items": null,
            "align_self": null,
            "border": null,
            "bottom": null,
            "display": null,
            "flex": null,
            "flex_flow": null,
            "grid_area": null,
            "grid_auto_columns": null,
            "grid_auto_flow": null,
            "grid_auto_rows": null,
            "grid_column": null,
            "grid_gap": null,
            "grid_row": null,
            "grid_template_areas": null,
            "grid_template_columns": null,
            "grid_template_rows": null,
            "height": null,
            "justify_content": null,
            "justify_items": null,
            "left": null,
            "margin": null,
            "max_height": null,
            "max_width": null,
            "min_height": null,
            "min_width": null,
            "object_fit": null,
            "object_position": null,
            "order": null,
            "overflow": null,
            "overflow_x": null,
            "overflow_y": null,
            "padding": null,
            "right": null,
            "top": null,
            "visibility": null,
            "width": null
          }
        },
        "599e253858554defbbd69568974d96d0": {
          "model_module": "@jupyter-widgets/base",
          "model_name": "LayoutModel",
          "model_module_version": "1.2.0",
          "state": {
            "_model_module": "@jupyter-widgets/base",
            "_model_module_version": "1.2.0",
            "_model_name": "LayoutModel",
            "_view_count": null,
            "_view_module": "@jupyter-widgets/base",
            "_view_module_version": "1.2.0",
            "_view_name": "LayoutView",
            "align_content": null,
            "align_items": null,
            "align_self": null,
            "border": null,
            "bottom": null,
            "display": null,
            "flex": null,
            "flex_flow": null,
            "grid_area": null,
            "grid_auto_columns": null,
            "grid_auto_flow": null,
            "grid_auto_rows": null,
            "grid_column": null,
            "grid_gap": null,
            "grid_row": null,
            "grid_template_areas": null,
            "grid_template_columns": null,
            "grid_template_rows": null,
            "height": null,
            "justify_content": null,
            "justify_items": null,
            "left": null,
            "margin": null,
            "max_height": null,
            "max_width": null,
            "min_height": null,
            "min_width": null,
            "object_fit": null,
            "object_position": null,
            "order": null,
            "overflow": null,
            "overflow_x": null,
            "overflow_y": null,
            "padding": null,
            "right": null,
            "top": null,
            "visibility": null,
            "width": null
          }
        },
        "82cc773268904281aeb1535dba5b3587": {
          "model_module": "@jupyter-widgets/controls",
          "model_name": "DescriptionStyleModel",
          "model_module_version": "1.5.0",
          "state": {
            "_model_module": "@jupyter-widgets/controls",
            "_model_module_version": "1.5.0",
            "_model_name": "DescriptionStyleModel",
            "_view_count": null,
            "_view_module": "@jupyter-widgets/base",
            "_view_module_version": "1.2.0",
            "_view_name": "StyleView",
            "description_width": ""
          }
        },
        "dad48626044146f18f46c4643809950c": {
          "model_module": "@jupyter-widgets/base",
          "model_name": "LayoutModel",
          "model_module_version": "1.2.0",
          "state": {
            "_model_module": "@jupyter-widgets/base",
            "_model_module_version": "1.2.0",
            "_model_name": "LayoutModel",
            "_view_count": null,
            "_view_module": "@jupyter-widgets/base",
            "_view_module_version": "1.2.0",
            "_view_name": "LayoutView",
            "align_content": null,
            "align_items": null,
            "align_self": null,
            "border": null,
            "bottom": null,
            "display": null,
            "flex": null,
            "flex_flow": null,
            "grid_area": null,
            "grid_auto_columns": null,
            "grid_auto_flow": null,
            "grid_auto_rows": null,
            "grid_column": null,
            "grid_gap": null,
            "grid_row": null,
            "grid_template_areas": null,
            "grid_template_columns": null,
            "grid_template_rows": null,
            "height": null,
            "justify_content": null,
            "justify_items": null,
            "left": null,
            "margin": null,
            "max_height": null,
            "max_width": null,
            "min_height": null,
            "min_width": null,
            "object_fit": null,
            "object_position": null,
            "order": null,
            "overflow": null,
            "overflow_x": null,
            "overflow_y": null,
            "padding": null,
            "right": null,
            "top": null,
            "visibility": null,
            "width": null
          }
        },
        "4a8c25e18d9846c18021f92626b0b3db": {
          "model_module": "@jupyter-widgets/controls",
          "model_name": "ProgressStyleModel",
          "model_module_version": "1.5.0",
          "state": {
            "_model_module": "@jupyter-widgets/controls",
            "_model_module_version": "1.5.0",
            "_model_name": "ProgressStyleModel",
            "_view_count": null,
            "_view_module": "@jupyter-widgets/base",
            "_view_module_version": "1.2.0",
            "_view_name": "StyleView",
            "bar_color": null,
            "description_width": ""
          }
        }
      }
    },
    "accelerator": "GPU"
  },
  "nbformat": 4,
  "nbformat_minor": 5
}