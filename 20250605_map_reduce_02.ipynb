{
  "cells": [
    {
      "cell_type": "markdown",
      "metadata": {
        "id": "view-in-github",
        "colab_type": "text"
      },
      "source": [
        "<a href=\"https://colab.research.google.com/github/nov05/Google-Colaboratory/blob/master/20250605_map_reduce_02.ipynb\" target=\"_parent\"><img src=\"https://colab.research.google.com/assets/colab-badge.svg\" alt=\"Open In Colab\"/></a>"
      ]
    },
    {
      "cell_type": "markdown",
      "source": [
        "* Notebook modified by nov05 on 2025-06-05"
      ],
      "metadata": {
        "id": "9aGVhfaWKXuL"
      },
      "id": "9aGVhfaWKXuL"
    },
    {
      "cell_type": "code",
      "source": [
        "%%capture\n",
        "!pip install langchain_google_vertexai langchain_core langgraph\n",
        "## Successfully installed httpx-sse-0.4.0 langchain_google_vertexai-2.0.24 langgraph-0.4.8 langgraph-checkpoint-2.0.26\n",
        "## langgraph-prebuilt-0.2.2 langgraph-sdk-0.1.70 ormsgpack-1.10.0 pyarrow-19.0.1 validators-0.35.0"
      ],
      "metadata": {
        "collapsed": true,
        "id": "f5Jdf8yIUWom"
      },
      "id": "f5Jdf8yIUWom",
      "execution_count": null,
      "outputs": []
    },
    {
      "cell_type": "code",
      "source": [
        "from google.colab import drive\n",
        "drive.mount('/content/drive')"
      ],
      "metadata": {
        "colab": {
          "base_uri": "https://localhost:8080/"
        },
        "id": "DfbSYyt9Xbpz",
        "outputId": "02491906-0d91-4aec-fddb-05c9aa9d9a8d"
      },
      "id": "DfbSYyt9Xbpz",
      "execution_count": null,
      "outputs": [
        {
          "output_type": "stream",
          "name": "stdout",
          "text": [
            "Mounted at /content/drive\n"
          ]
        }
      ]
    },
    {
      "cell_type": "code",
      "source": [
        "from google.oauth2 import service_account\n",
        "json_path = \"/content/drive/MyDrive/config/20250604_google_service_account_key-lucid-bebop-461722-c5-a91d4ab1be75.json\"\n",
        "credentials = service_account.Credentials.from_service_account_file(json_path)\n",
        "print(credentials)"
      ],
      "metadata": {
        "colab": {
          "base_uri": "https://localhost:8080/"
        },
        "id": "I0MJPJ9_XhiG",
        "outputId": "8da7f0fc-2d4a-4a18-ead3-130a2e4f4e52"
      },
      "id": "I0MJPJ9_XhiG",
      "execution_count": null,
      "outputs": [
        {
          "output_type": "stream",
          "name": "stdout",
          "text": [
            "<google.oauth2.service_account.Credentials object at 0x7a31b85523d0>\n"
          ]
        }
      ]
    },
    {
      "cell_type": "markdown",
      "id": "OBNgO5Cjr_Z7",
      "metadata": {
        "id": "OBNgO5Cjr_Z7"
      },
      "source": [
        "# 🟢 **Handling a long input**  "
      ]
    },
    {
      "cell_type": "markdown",
      "id": "bwl7HOCuKgBl",
      "metadata": {
        "id": "bwl7HOCuKgBl"
      },
      "source": [
        "Find a long video you'd like to process and put it on GCS:"
      ]
    },
    {
      "cell_type": "code",
      "source": [
        "video_uri = \"gs://generative_ai_with_langchain/procrastination.mp4\""
      ],
      "metadata": {
        "id": "vi5P0NQbjed_"
      },
      "id": "vi5P0NQbjed_",
      "execution_count": null,
      "outputs": []
    },
    {
      "cell_type": "code",
      "source": [
        "from IPython.display import YouTubeVideo\n",
        "YouTubeVideo(\"O3XBoC7bXso\", width=640, height=360)"
      ],
      "metadata": {
        "colab": {
          "base_uri": "https://localhost:8080/",
          "height": 381
        },
        "id": "OyQIrPCineA3",
        "outputId": "0eb0cb5f-bbc5-405d-d3de-9540990db3b9"
      },
      "id": "OyQIrPCineA3",
      "execution_count": null,
      "outputs": [
        {
          "output_type": "execute_result",
          "data": {
            "text/plain": [
              "<IPython.lib.display.YouTubeVideo at 0x7a31bbf54f50>"
            ],
            "text/html": [
              "\n",
              "        <iframe\n",
              "            width=\"640\"\n",
              "            height=\"360\"\n",
              "            src=\"https://www.youtube.com/embed/O3XBoC7bXso\"\n",
              "            frameborder=\"0\"\n",
              "            allowfullscreen\n",
              "            \n",
              "        ></iframe>\n",
              "        "
            ],
            "image/jpeg": "[encoded data removed]"
          },
          "metadata": {},
          "execution_count": 5
        }
      ]
    },
    {
      "cell_type": "markdown",
      "source": [
        "## 👉 **Using LangChain**  "
      ],
      "metadata": {
        "id": "N7I-LPweCBxO"
      },
      "id": "N7I-LPweCBxO"
    },
    {
      "cell_type": "code",
      "execution_count": null,
      "id": "YN6a7YHILGZF",
      "metadata": {
        "id": "YN6a7YHILGZF",
        "colab": {
          "base_uri": "https://localhost:8080/"
        },
        "outputId": "3f7f39c3-4323-46a2-d517-e1bb77b81064"
      },
      "outputs": [
        {
          "output_type": "stream",
          "name": "stdout",
          "text": [
            "CPU times: user 9.36 s, sys: 1.29 s, total: 10.7 s\n",
            "Wall time: 25.6 s\n"
          ]
        }
      ],
      "source": [
        "%%time\n",
        "from langchain_core.messages import HumanMessage\n",
        "from langchain_core.output_parsers import StrOutputParser\n",
        "from langchain_google_vertexai import ChatVertexAI\n",
        "from langchain_core.runnables import RunnableLambda\n",
        "\n",
        "def _create_input_messages(*, video_uri:str, chunks:int=8, interval_secs:int=30):\n",
        "    video_parts = []\n",
        "    for start_offset in range(chunks):\n",
        "        part = {\n",
        "            \"type\": \"media\", \"file_uri\": video_uri, \"mime_type\": \"video/mp4\",\n",
        "            \"video_metadata\": {\n",
        "                \"start_offset\": {\"seconds\": start_offset * interval_secs},\n",
        "                \"end_offset\": {\"seconds\": (start_offset+1) * interval_secs}\n",
        "            }\n",
        "        }\n",
        "        video_parts.append(part)\n",
        "    return [[HumanMessage(content=[human_part, vp])] for vp in video_parts]\n",
        "\n",
        "human_part = {\"type\": \"text\", \"text\": \"Provide a summary of the video.\"}  ## ⚠️ Uniform prompt for chunks\n",
        "input_messages = _create_input_messages(video_uri=video_uri)\n",
        "## https://cloud.google.com/vertex-ai/generative-ai/docs/models/gemini/2-0-flash\n",
        "llm = ChatVertexAI(\n",
        "    model=\"gemini-2.0-flash-001\",\n",
        "    project=\"lucid-bebop-461722-c5\",  ## ✅ mandatory\n",
        "    credentials=credentials           ## ✅ mandatory\n",
        ")\n",
        "chain = llm | StrOutputParser()\n",
        "# summaries = chain.batch(input_messages, config={\"max_concurrency\": 3})\n",
        "create_inputs_chain = RunnableLambda(lambda x: _create_input_messages(**x))\n",
        "map_chain = create_inputs_chain | RunnableLambda(lambda x: chain.batch(x, config={\"max_concurrency\": 4}))\n",
        "summaries = map_chain.invoke({\"video_uri\": video_uri})"
      ]
    },
    {
      "cell_type": "markdown",
      "id": "BlD0kaN0ZTAJ",
      "metadata": {
        "id": "BlD0kaN0ZTAJ"
      },
      "source": [
        "Let's define a function to merge summaries together:"
      ]
    },
    {
      "cell_type": "code",
      "execution_count": null,
      "id": "lMUgDnrMM_iY",
      "metadata": {
        "id": "lMUgDnrMM_iY",
        "colab": {
          "base_uri": "https://localhost:8080/",
          "height": 291
        },
        "outputId": "0fdc085f-96b1-4db0-f043-93649bd4ce2c"
      },
      "outputs": [
        {
          "output_type": "display_data",
          "data": {
            "text/plain": [
              "<IPython.core.display.Markdown object>"
            ],
            "text/markdown": "This video, titled \"Procrastination,\" follows a young woman named Tiffany Lu as she struggles to write a 3000-word research paper on Quantum Theory. The video opens with her waking up and attempting to start her research, but she quickly gets overwhelmed. Over the next several segments, we see her engage in various procrastination techniques. These include drinking tea and eating snacks (chocolate and cinnamon sticks), browsing the internet, using her phone, and lounging in bed. She also prepares and eats avocado toast.\n\nA montage depicts moments of frustration and distraction, interspersed with shots of clocks showing the passage of time. We also see glimpses of her getting ready for the day, including tying her shoes.\n\nThe video then shifts to a segment where she is in the bathtub. Her emotional state fluctuates; she expresses anger, sings along to music, becomes upset, relaxes, and then dramatically spits into the air and submerges herself.\n\nThe video explicitly acknowledges its theme by showing the title \"Procrastination\" alongside a blinking cursor. We see her decide to avoid the task at hand and shut her laptop. The final segment shows her sitting in her bedroom, watching music videos on her laptop, specifically listening to a playlist of songs like \"I Will Survive,\" \"I Will Always Love You,\" \"Dancing on My Own,\" \"Dancing Queen,\" and \"It’s My Life.\" The video concludes with the room gradually darkening as she continues to procrastinate and listen to music. The credits indicate that Tiffany Lu wrote, filmed, and edited the video, implying it is based on a true story.\n"
          },
          "metadata": {}
        },
        {
          "output_type": "stream",
          "name": "stdout",
          "text": [
            "CPU times: user 13.2 ms, sys: 3.72 ms, total: 17 ms\n",
            "Wall time: 2.65 s\n"
          ]
        }
      ],
      "source": [
        "%%time\n",
        "from langchain_core.prompts import PromptTemplate\n",
        "from IPython.display import Markdown, display\n",
        "\n",
        "def _merge_summaries(summaries:list[str], interval_secs:int=10, **kwargs) -> str:\n",
        "    sub_summaries = []\n",
        "    for i, summary in enumerate(summaries):\n",
        "        sub_summary = (\n",
        "            f\"Summary from sec {i*interval_secs} to sec {(i+1)*interval_secs}:\"\n",
        "            f\"\\n{summary}\\n\")\n",
        "        sub_summaries.append(sub_summary)\n",
        "    return \"\".join(sub_summaries)\n",
        "\n",
        "reduce_prompt = PromptTemplate.from_template(\n",
        "    \"You are given a list of summaries that \"\n",
        "    \"of a video splitted into sequential pieces.\\n\"\n",
        "    \"SUMMARIES:\\n{summaries}\"\n",
        "    \"Based on that, prepare a summary of a whole video.\"\n",
        ")\n",
        "reduce_chain = RunnableLambda(lambda x: _merge_summaries(**x)) | reduce_prompt | llm | StrOutputParser()\n",
        "final_summary = reduce_chain.invoke({\"summaries\": summaries})\n",
        "display(Markdown(final_summary))"
      ]
    },
    {
      "cell_type": "markdown",
      "id": "0fec5027",
      "metadata": {
        "id": "0fec5027"
      },
      "source": [
        "Let's implement a reduce step that merges intermediatesummaries together:"
      ]
    },
    {
      "cell_type": "code",
      "execution_count": null,
      "id": "mEojnz2AQYK1",
      "metadata": {
        "id": "mEojnz2AQYK1",
        "colab": {
          "base_uri": "https://localhost:8080/",
          "height": 197
        },
        "outputId": "5ec22d75-ecad-4e42-eeec-2b79afc8add4"
      },
      "outputs": [
        {
          "output_type": "stream",
          "name": "stderr",
          "text": [
            "WARNING:langchain_google_vertexai._retry:Retrying langchain_google_vertexai.chat_models._completion_with_retry.<locals>._completion_with_retry_inner in 4.0 seconds as it raised InvalidArgument: 400 Request contains an invalid argument..\n"
          ]
        },
        {
          "output_type": "stream",
          "name": "stdout",
          "text": [
            "CPU times: user 87.6 ms, sys: 16 ms, total: 104 ms\n",
            "Wall time: 11.3 s\n"
          ]
        },
        {
          "output_type": "execute_result",
          "data": {
            "text/plain": [
              "'This video depicts a young woman\\'s struggle with procrastination while trying to write a 3000-word research paper on quantum theory.\\n\\nThe video opens with her morning routine, transitioning to her facing the daunting task. We see her preparing tea and attempting to research the topic, but quickly becoming frustrated and distracted. The video highlights her procrastination, showing her wasting time on her phone and other activities, while the clock ticks away. She has breakfast at 2pm.\\n\\nOverwhelmed, she takes a break, skateboarding, then returns home and relaxes in a bathtub, singing and crying. After her bath, she returns to the task at hand, eventually deciding to postpone it until the next day. The video ends with her listening to upbeat music and the title card \"Procrastination,\" revealing it\\'s a film based on a true story by Tiffany Lu.\\n'"
            ],
            "application/vnd.google.colaboratory.intrinsic+json": {
              "type": "string"
            }
          },
          "metadata": {},
          "execution_count": 10
        }
      ],
      "source": [
        "%%time\n",
        "from langchain_core.runnables import RunnablePassthrough\n",
        "reduce_chain = (\n",
        "    RunnableLambda(lambda x: _merge_summaries(**x)) |\n",
        "    reduce_prompt | llm | StrOutputParser()\n",
        ")\n",
        "final_chain = (\n",
        "    RunnablePassthrough.assign(summaries=map_chain).assign(final_summary=reduce_chain) |\n",
        "    RunnableLambda(lambda x: x[\"final_summary\"])\n",
        ")\n",
        "result = final_chain.invoke({\n",
        "    \"video_uri\": video_uri, \"interval_secs\": 30, \"chunks\": 8})\n",
        "result"
      ]
    },
    {
      "cell_type": "code",
      "source": [
        "display(Markdown(result))"
      ],
      "metadata": {
        "colab": {
          "base_uri": "https://localhost:8080/",
          "height": 162
        },
        "id": "Dx7yJRVjpzj5",
        "outputId": "01be3266-a12b-4b2e-a787-54b7e39366fb"
      },
      "id": "Dx7yJRVjpzj5",
      "execution_count": null,
      "outputs": [
        {
          "output_type": "display_data",
          "data": {
            "text/plain": [
              "<IPython.core.display.Markdown object>"
            ],
            "text/markdown": "This video depicts a young woman's struggle with procrastination while trying to write a 3000-word research paper on quantum theory.\n\nThe video opens with her morning routine, transitioning to her facing the daunting task. We see her preparing tea and attempting to research the topic, but quickly becoming frustrated and distracted. The video highlights her procrastination, showing her wasting time on her phone and other activities, while the clock ticks away. She has breakfast at 2pm.\n\nOverwhelmed, she takes a break, skateboarding, then returns home and relaxes in a bathtub, singing and crying. After her bath, she returns to the task at hand, eventually deciding to postpone it until the next day. The video ends with her listening to upbeat music and the title card \"Procrastination,\" revealing it's a film based on a true story by Tiffany Lu.\n"
          },
          "metadata": {}
        }
      ]
    },
    {
      "cell_type": "markdown",
      "id": "pXJNqzpsYMxz",
      "metadata": {
        "id": "pXJNqzpsYMxz"
      },
      "source": [
        "## 👉 Using LangGraph"
      ]
    },
    {
      "cell_type": "markdown",
      "id": "doF3XfG-YOgj",
      "metadata": {
        "id": "doF3XfG-YOgj"
      },
      "source": [
        "Let's implement the same logic using LangGraph:"
      ]
    },
    {
      "cell_type": "code",
      "execution_count": null,
      "id": "abq7Nb0hYPU0",
      "metadata": {
        "id": "abq7Nb0hYPU0",
        "colab": {
          "base_uri": "https://localhost:8080/",
          "height": 350
        },
        "outputId": "8900943e-f485-49c3-9f84-127b32432e93"
      },
      "outputs": [
        {
          "output_type": "execute_result",
          "data": {
            "image/png": "[encoded data removed]",
            "text/plain": [
              "<IPython.core.display.Image object>"
            ]
          },
          "metadata": {},
          "execution_count": 12
        }
      ],
      "source": [
        "import operator\n",
        "from typing_extensions import TypedDict\n",
        "from typing import Annotated\n",
        "from langgraph.constants import Send\n",
        "from langgraph.graph import StateGraph, START, END\n",
        "\n",
        "class AgentState(TypedDict):\n",
        "    video_uri: str\n",
        "    chunks: int\n",
        "    interval_secs: int\n",
        "    summaries: Annotated[list, operator.add]\n",
        "    final_summary: str\n",
        "\n",
        "class _ChunkState(TypedDict):\n",
        "    video_uri: str\n",
        "    start_offset: int\n",
        "    interval_secs: int\n",
        "\n",
        "## ⚠️ I'm not sure if the model takes the metadata into account during summarization.\n",
        "# human_part = {\"type\": \"text\", \"text\": \"Provide a summary of the video.\"}\n",
        "\n",
        "async def _summarize_video_chunk(state:  _ChunkState):\n",
        "    start_offset = state[\"start_offset\"]\n",
        "    interval_secs = state[\"interval_secs\"]\n",
        "    start_sec = start_offset * interval_secs\n",
        "    end_sec = (start_offset+1) * interval_secs\n",
        "    human_part = {\n",
        "        \"type\": \"text\",\n",
        "        ## ⚠️ Prompt to include time information in chunck summaries\n",
        "        \"text\": f\"Provide a summary of the video between seconds {start_sec} and {end_sec}. \"\n",
        "                f\"Include time-stamped descriptions along with the summary.\"\n",
        "    }\n",
        "    video_part = {\n",
        "        \"type\": \"media\", \"file_uri\": state[\"video_uri\"], \"mime_type\": \"video/mp4\",\n",
        "        \"video_metadata\": {\n",
        "            \"start_offset\": {\"seconds\": start_sec},\n",
        "            \"end_offset\": {\"seconds\": end_sec},\n",
        "        }\n",
        "    }\n",
        "    response = await llm.ainvoke(\n",
        "        [HumanMessage(content=[human_part, video_part])])\n",
        "    return {\"summaries\": [response.content]}\n",
        "\n",
        "def _map_summaries(state: AgentState):\n",
        "    chunks = state[\"chunks\"]\n",
        "    payloads = [\n",
        "        {\n",
        "            \"video_uri\": state[\"video_uri\"],\n",
        "            \"interval_secs\": state[\"interval_secs\"],\n",
        "            \"start_offset\": i\n",
        "        } for i in range(state[\"chunks\"])\n",
        "    ]\n",
        "    return [Send(\"summarize_video_chunk\", payload) for payload in payloads]\n",
        "\n",
        "async def _generate_final_summary(state: AgentState):\n",
        "    summary = _merge_summaries(\n",
        "        summaries=state[\"summaries\"], interval_secs=state[\"interval_secs\"])\n",
        "    final_summary = await (reduce_prompt | llm | StrOutputParser()).ainvoke({\"summaries\": summary})\n",
        "    return {\"final_summary\": final_summary}\n",
        "\n",
        "graph = StateGraph(AgentState)\n",
        "graph.add_node(\"summarize_video_chunk\", _summarize_video_chunk)\n",
        "graph.add_node(\"generate_final_summary\", _generate_final_summary)\n",
        "\n",
        "graph.add_conditional_edges(START, _map_summaries, [\"summarize_video_chunk\"])\n",
        "graph.add_edge(\"summarize_video_chunk\", \"generate_final_summary\")\n",
        "graph.add_edge(\"generate_final_summary\", END)\n",
        "\n",
        "app = graph.compile()\n",
        "from IPython.display import Image\n",
        "Image(app.get_graph().draw_mermaid_png())"
      ]
    },
    {
      "cell_type": "code",
      "execution_count": null,
      "id": "bQNNZ3jH5Ts9",
      "metadata": {
        "id": "bQNNZ3jH5Ts9",
        "colab": {
          "base_uri": "https://localhost:8080/",
          "height": 142
        },
        "outputId": "ee88795b-2629-47f8-a802-740130443ced"
      },
      "outputs": [
        {
          "output_type": "execute_result",
          "data": {
            "text/plain": [
              "'This video portrays a young woman\\'s relatable struggle with procrastination while trying to write a research paper on Quantum Theory.\\n\\nThe video opens with a sunny morning and the woman waking up, starting her day with brushing her teeth and working on her laptop at 5:50 AM. She tries to get motivated, even biting a cinnamon stick and making tea. Despite her efforts, visible on the laptop screen showing \"Research Paper: Quantum Theory\" increasing from 300 to 3000 words, she seems stuck.\\n\\nThe scene transitions to later in the day, almost 2:30 PM.  The woman is shown looking unmotivated, tapping a pencil against her desk. She grabs her phone, smiles while on her bed, and generally avoids working.  She prepares avocado toast, further delaying the task.  The time jumps to 3:20 PM, and she\\'s still making silly faces instead of writing.\\n\\nFrustrated, she appears to need a break.  She goes skateboarding, fills a bathtub, lights a candle and tries to relax. But her emotions bubble to the surface, and she yells in despair. Then she is singing along to music, the scene is playful, she even sticks her middle fingers up. She submerges herself fully in the water, suggesting a desire to escape.  Another woman enters the bathroom, looking directly at the camera, adding a somewhat mysterious element to the narrative.\\n\\nThe final part of the video shows her further giving in to procrastination. A black line with an hourglass appears on the computer screen, symbolizing the passing of time. She says \"Yeah, I\\'ll do it tomorrow\" and closes her computer. Then, she\\'s at her desk watching a video titled \"Procrastination. Based on true story.\" Finally, the screen displays a playlist of upbeat and defiant songs, reinforcing her avoidance and desire to escape the task, before the screen fades to black. The video is a humorous and honest depiction of the procrastination cycle, highlighting the emotional rollercoaster it can be.\\n'"
            ],
            "application/vnd.google.colaboratory.intrinsic+json": {
              "type": "string"
            }
          },
          "metadata": {},
          "execution_count": 14
        }
      ],
      "source": [
        "result = await app.ainvoke(\n",
        "    {\"video_uri\": video_uri, \"chunks\": 8, \"interval_secs\": 30},\n",
        "    {\"max_concurrency\": 3}\n",
        ")\n",
        "result[\"final_summary\"]"
      ]
    },
    {
      "cell_type": "code",
      "source": [
        "display(Markdown(result['final_summary']))"
      ],
      "metadata": {
        "colab": {
          "base_uri": "https://localhost:8080/",
          "height": 296
        },
        "id": "RuS6MvFdEf6P",
        "outputId": "9ebffde3-1822-4cbc-989d-5253e121a449"
      },
      "id": "RuS6MvFdEf6P",
      "execution_count": null,
      "outputs": [
        {
          "output_type": "display_data",
          "data": {
            "text/plain": [
              "<IPython.core.display.Markdown object>"
            ],
            "text/markdown": "This video portrays a young woman's relatable struggle with procrastination while trying to write a research paper on Quantum Theory.\n\nThe video opens with a sunny morning and the woman waking up, starting her day with brushing her teeth and working on her laptop at 5:50 AM. She tries to get motivated, even biting a cinnamon stick and making tea. Despite her efforts, visible on the laptop screen showing \"Research Paper: Quantum Theory\" increasing from 300 to 3000 words, she seems stuck.\n\nThe scene transitions to later in the day, almost 2:30 PM.  The woman is shown looking unmotivated, tapping a pencil against her desk. She grabs her phone, smiles while on her bed, and generally avoids working.  She prepares avocado toast, further delaying the task.  The time jumps to 3:20 PM, and she's still making silly faces instead of writing.\n\nFrustrated, she appears to need a break.  She goes skateboarding, fills a bathtub, lights a candle and tries to relax. But her emotions bubble to the surface, and she yells in despair. Then she is singing along to music, the scene is playful, she even sticks her middle fingers up. She submerges herself fully in the water, suggesting a desire to escape.  Another woman enters the bathroom, looking directly at the camera, adding a somewhat mysterious element to the narrative.\n\nThe final part of the video shows her further giving in to procrastination. A black line with an hourglass appears on the computer screen, symbolizing the passing of time. She says \"Yeah, I'll do it tomorrow\" and closes her computer. Then, she's at her desk watching a video titled \"Procrastination. Based on true story.\" Finally, the screen displays a playlist of upbeat and defiant songs, reinforcing her avoidance and desire to escape the task, before the screen fades to black. The video is a humorous and honest depiction of the procrastination cycle, highlighting the emotional rollercoaster it can be.\n"
          },
          "metadata": {}
        }
      ]
    },
    {
      "cell_type": "code",
      "execution_count": null,
      "id": "1zGvMUraxexs",
      "metadata": {
        "colab": {
          "base_uri": "https://localhost:8080/"
        },
        "id": "1zGvMUraxexs",
        "outputId": "bebb5a3f-eac5-4bdc-ec26-3aa76a378390"
      },
      "outputs": [
        {
          "output_type": "stream",
          "name": "stdout",
          "text": [
            "['summarize_video_chunk']\n",
            "['summarize_video_chunk']\n",
            "['summarize_video_chunk']\n",
            "['summarize_video_chunk']\n",
            "['summarize_video_chunk']\n",
            "['summarize_video_chunk']\n",
            "['summarize_video_chunk']\n",
            "['summarize_video_chunk']\n",
            "['generate_final_summary']\n"
          ]
        }
      ],
      "source": [
        "## executing the LangGraph app again\n",
        "async for step in app.astream(\n",
        "    {\"video_uri\": video_uri, \"chunks\": 8, \"interval_secs\": 30},\n",
        "    {\"recursion_limit\": 10},\n",
        "):\n",
        "    print(list(step.keys()))"
      ]
    },
    {
      "cell_type": "code",
      "source": [
        "## executing the LangGraph app again\n",
        "chunk_summaries = []\n",
        "async for step in app.astream(\n",
        "    {\"video_uri\": video_uri, \"chunks\": 8, \"interval_secs\": 30},\n",
        "    {\"recursion_limit\": 50},\n",
        "):\n",
        "    # print(list(step.values()))\n",
        "    for val in step.values():\n",
        "        if isinstance(val, dict) and \"summaries\" in val:\n",
        "            chunk_summaries.append(val[\"summaries\"][0])"
      ],
      "metadata": {
        "id": "DIXm8WN9NWdw",
        "collapsed": true
      },
      "id": "DIXm8WN9NWdw",
      "execution_count": 30,
      "outputs": []
    },
    {
      "cell_type": "code",
      "source": [
        "md = \"\"\n",
        "for i, chunk_summary in enumerate(chunk_summaries):\n",
        "    # Replace newlines with <br> for wrapping\n",
        "    md_summary = str(chunk_summary).replace('\\n', '<br>')\n",
        "    md += f\"**{i}.**<br>{md_summary}<br><br>\"\n",
        "display(Markdown(md))"
      ],
      "metadata": {
        "colab": {
          "base_uri": "https://localhost:8080/",
          "height": 1000
        },
        "id": "xE-gSw76FRnJ",
        "outputId": "beadba1a-d70b-4f69-857c-a6fe2cab52f6"
      },
      "id": "xE-gSw76FRnJ",
      "execution_count": 31,
      "outputs": [
        {
          "output_type": "display_data",
          "data": {
            "text/plain": [
              "<IPython.core.display.Markdown object>"
            ],
            "text/markdown": "**0.**<br>Here is a summary of the video between seconds 150 and 180, with time-stamped descriptions:<br><br>The woman, sitting in a bathtub with her hair up in a bun, begins singing to the music. She is animated while singing (2:30). She then punches the air a few times to the music, throws her hair, and gives the camera the middle finger (2:41). At (2:51) she leans on the tub, looking at the camera, with a serious expression, then jumps back and puts her head underwater (2:56). The camera flashes to a hallway before the woman exits the bathroom and looks directly at the camera (2:58).<br><br>**1.**<br>Okay! Here's a summary of the video between 0 and 30 seconds:<br><br>The video starts with a shot of the sun shining through a tree in the morning. A woman wakes up in her bedroom (0:02), gets out of bed, and brushes her teeth (0:13 - 0:16). She sits down at a desk and opens up a laptop, looking at a document titled \"Research Paper: Quantum Theory (3000 words)\". (0:17 - 0:22) A close-up of her face shows her chewing on a stick, and a shot of a clock showing it is 7:25 am. (0:23 - 0:30).<br><br>**2.**<br>Okay, here is a summary of the video from seconds 120 to 150, along with time-stamped descriptions:<br><br>*   **0:02:00 - 0:02:07**: The video cuts to a close up of a skateboarder's feet and board. They ride down the street in front of a house and then attempt to do a trick on the board.<br>*   **0:02:08 - 0:02:11**: A hand reaches up to turn on the faucet in a bathtub.<br>*   **0:02:11 - 0:02:12**: The hand lights a lighter.<br>*   **0:02:12 - 0:02:30**: A woman is shown sitting in the bathtub and singing. She then leans forward and looks sad.<br><br>**3.**<br>Here's a summary of the video between seconds 30 and 60, with time-stamped descriptions:<br><br>**Summary:** The woman begins a session of studying for Quantum Theory. She does this by putting a small piece of cinnamon into her mouth. She then starts the process of making a cup of tea. She then looks at the research paper that is on quantum theory and the camera shows that she is researching quantum theory on the internet.<br><br>*   0:30-0:33 A woman is shown putting a small piece of cinnamon into her mouth.<br>*   0:34-0:40 The woman begins to prepare a cup of tea.<br>*   0:41-0:53 The title of the woman's research paper is displayed, and she begins researching quantum theory on the internet.<br>*   0:54-0:59 The woman looks up at the ceiling.<br><br>**4.**<br>Here is a summary of the video from seconds 60 to 90, with time stamps.<br><br>From [00:01:00] to [00:01:06], there are close up shots of the face of a woman and the words \"Research Paper: Quantum Theory\" on a computer screen. From [00:01:07] to [00:01:09], a wooden pencil is shown and the woman's face again. A phone is shown at [00:01:11] to [00:01:13]. From [00:01:14] to [00:01:20], a girl is on a bed looking at her phone. She moves around and smiles, and then does leg lifts. From [00:01:21] to [00:01:23] a close up is shown of the woman's face with the wooden pencil. From [00:01:23] to [00:01:26] are images of the computer screen again and a clock, and from [00:01:29] to [00:01:29] a final shot of the woman is shown.<br><br>**5.**<br>Okay, here is a summary of the video between seconds 90 and 120, with time stamps.<br><br>The subject is hurrying to get ready.<br><br>[00:01:32-00:01:33] Two pieces of toast pop up out of the toaster.<br>[00:01:34-00:01:35] A stovetop burner is lit and a frying pan is placed on top of it.<br>[00:01:36-00:01:37] Someone spreads avocado on top of the toast.<br>[00:01:38-00:01:39] Time on a clock shows it is almost 2 o'clock.<br>[00:01:41-00:01:41] The subject is looking at the camera with a pencil on their forehead.<br>[00:01:43-00:01:44] The pencil is resting in the same place as the subject thinks.<br>[00:01:47-00:01:48] Time on a clock shows that it is almost 3 o'clock.<br>[00:01:50-00:01:51] Subject places the pencil between their nose and top lip.<br>[00:01:52-00:01:53] They zip up their jeans.<br>[00:01:53-00:02:00] They tie their shoelaces on their tennis shoes.<br><br>**6.**<br>Okay, here is a summary of the video between seconds 210 and 240, with time-stamped descriptions:<br><br>The video continues with the same setting as the previous frames, showcasing a woman sitting at a desk with a laptop playing a video.  The window behind her provides natural light. During this period, more song titles and artist information are displayed on the screen.<br><br>*   **0:02:10 - 0:02:15** The title \"I WILL ALWAYS LOVE YOU\" with the words written by Dolly Parton and performed by Whitney Houston are displayed.<br><br>*   **0:02:16 - 0:02:22** The title \"DANCING ON MY OWN\" with the words written by Patrik Berger, Robin Carlsson, Stig Anderson, and performed by Calum Scott are displayed.<br><br>*   **0:02:23 - 0:02:29** The title \"DANCING QUEEN\" with the words written by Benny Andersson, Björn Ulvaeus, Stig Anderson, and performed by Christine Baranski, Julie Walters, and Meryl Streep are displayed.<br><br>*   **0:02:30 - 0:02:40** The title \"IT'S MY LIFE\" with the words written by Jon Bon Jovi, Martin Sandberg, Richie Sambora, and performed by Bon Jovi are displayed. The girl rests her feet on the window frame.<br><br><br>**7.**<br>Okay, here's the summary of the video between seconds 180 and 210.<br><br>The woman with long hair is struggling to start writing.<br>* At [00:03:00], the video shows the woman looking at the camera.<br>* At [00:03:01], the video shifts to a blank page on the laptop with a cursor blinking.<br>* At [00:03:03], the video goes back to the woman looking at the camera with a pencil in her mouth.<br>* At [00:03:05], the video shows a close up of a wall clock with the hands moving.<br>* At [00:03:08], the video goes back to the woman looking at the camera with a pencil in her mouth.<br>* At [00:03:11], the video shifts to a blank page on the laptop with a cursor blinking.<br>* At [00:03:13], the woman again puts a pencil to her lips.<br>* At [00:03:15], she says, \"Yeah, I'll do it tomorrow!\".<br>* At [00:03:16], the woman closes her laptop.<br>* At [00:03:18], the video displays the title \"Procrastination\" with the words, \"Based on true story\" under it. The woman sits at her desk and watches a show on the laptop. Additional credits appear as the woman watches a show on her laptop.<br><br>"
          },
          "metadata": {}
        }
      ]
    },
    {
      "cell_type": "markdown",
      "id": "pLER-9NAZeO-",
      "metadata": {
        "id": "pLER-9NAZeO-"
      },
      "source": [
        "Let's look at the final summary:"
      ]
    },
    {
      "cell_type": "code",
      "source": [
        "display(Markdown(list(step.values())[0]['final_summary']))\n",
        "## The final summary is more time specific."
      ],
      "metadata": {
        "colab": {
          "base_uri": "https://localhost:8080/",
          "height": 285
        },
        "id": "qj_opuCVG0PO",
        "outputId": "8b851ea8-73c2-49ff-e32b-8d5e6303acf1"
      },
      "id": "qj_opuCVG0PO",
      "execution_count": 32,
      "outputs": [
        {
          "output_type": "display_data",
          "data": {
            "text/plain": [
              "<IPython.core.display.Markdown object>"
            ],
            "text/markdown": "Okay, here is a summary of the entire video, based on the provided summaries:\n\nThe video opens with a morning scene of sunlight through trees. A woman wakes up, brushes her teeth, and sits down at her desk to work on a research paper about Quantum Theory. She prepares tea and researches the topic online. She struggles to focus, fiddling with a pencil and looking at her phone.\n\nAs time passes (clocks showing 7:25 AM, then later almost 2 and 3 PM), she hurries to make toast with avocado. She appears distracted, putting a pencil on her forehead and between her lip and nose, showing her procrastination.\n\nLater, she's seen skateboarding (though only feet and board are shown) and then relaxing in a bathtub, singing along to music. Her mood shifts from animated and rebellious (giving the camera the middle finger) to pensive and sad, even briefly submerging her head.\n\nAfter exiting the bathroom, the video returns to her struggle to write. She stares at a blank page, puts a pencil in her mouth, and watches the clock ticking. Finally, she gives up, declaring \"Yeah, I'll do it tomorrow!\" She closes her laptop.\n\nThe title card \"Procrastination: Based on a True Story\" appears, and the remainder of the video shows her watching a show on her laptop while credits (and presumably more songs) roll by. The video displays the title \"I WILL ALWAYS LOVE YOU\" written by Dolly Parton and performed by Whitney Houston. Then, the title \"DANCING ON MY OWN\" written by Patrik Berger, Robin Carlsson, Stig Anderson, and performed by Calum Scott are displayed. Finally, the titles \"DANCING QUEEN\" and \"IT'S MY LIFE\" are displayed. During this period, the girl rests her feet on the window frame.\n"
          },
          "metadata": {}
        }
      ]
    },
    {
      "cell_type": "code",
      "source": [],
      "metadata": {
        "id": "TAF9zeDKNlTk"
      },
      "id": "TAF9zeDKNlTk",
      "execution_count": null,
      "outputs": []
    }
  ],
  "metadata": {
    "colab": {
      "provenance": [],
      "toc_visible": true,
      "include_colab_link": true
    },
    "kernelspec": {
      "display_name": "Python 3 (ipykernel)",
      "language": "python",
      "name": "python3"
    }
  },
  "nbformat": 4,
  "nbformat_minor": 5
}