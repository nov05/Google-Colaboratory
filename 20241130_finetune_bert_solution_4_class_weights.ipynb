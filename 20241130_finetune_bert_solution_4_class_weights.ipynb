{
  "cells": [
    {
      "cell_type": "markdown",
      "metadata": {
        "id": "view-in-github",
        "colab_type": "text"
      },
      "source": [
        "<a href=\"https://colab.research.google.com/github/nov05/Google-Colaboratory/blob/master/20241130_finetune_bert_solution_4_class_weights.ipynb\" target=\"_parent\"><img src=\"https://colab.research.google.com/assets/colab-badge.svg\" alt=\"Open In Colab\"/></a>"
      ]
    },
    {
      "cell_type": "markdown",
      "id": "079808d1",
      "metadata": {
        "id": "079808d1"
      },
      "source": [
        "# **\\<TOP\\>**  \n",
        "\n",
        "* changed by nov05 on 2024-11-28  \n",
        "* Udacity AWS MLE Nanodegree (ND189)  \n",
        "  Course 4, 3.15 Excercise: Fine-Tuning BERT    \n",
        "* Colab or local env `conda activate cuda_py310` with cuda enabled  \n",
        "* data source: [CoLA dataset on KaggleHub](https://www.kaggle.com/datasets/krazy47/cola-the-corpus-of-linguistic-acceptability)  \n",
        "  The Corpus of Linguistic Acceptability   \n",
        "\n",
        "---  "
      ]
    },
    {
      "cell_type": "markdown",
      "source": [
        "* This notebook is based on the 3-partial-freeze one.  \n",
        "* Set `config.use_class_weights = True` in this notebook for training to see if there is improvement.    \n",
        "\n",
        "* freeze top 6 layers + class weights  \n",
        "```\n",
        "Step 1515: [1300/6413 (99%)] Loss: 0.069613\n",
        "100%|██████████| 15/15 [10:05<00:00, 40.36s/it]🟢 Test Accuracy (%):  80.59247737556561\n",
        "```  \n",
        "* train the whole model + class weights  \n",
        "```\n",
        "Step 808: [1300/6413 (99%)] Loss: 0.006557\n",
        " 53%|█████▎    | 8/15 [09:14<08:04, 69.21s/it]🟢 Test Accuracy (%):  84.40328054298642  \n",
        "```\n",
        "```\n",
        "Step 1515: [1300/6413 (99%)] Loss: 0.431469\n",
        "100%|██████████| 15/15 [17:19<00:00, 69.30s/it]🟢 Test Accuracy (%):  84.19824660633485\n",
        "```  "
      ],
      "metadata": {
        "id": "xPX2-SQY3K64"
      },
      "id": "xPX2-SQY3K64"
    },
    {
      "cell_type": "markdown",
      "id": "ece7b442",
      "metadata": {
        "id": "ece7b442"
      },
      "source": [
        "# **Solution: Fine-tune BERT model**"
      ]
    },
    {
      "cell_type": "code",
      "execution_count": 1,
      "id": "20247d44",
      "metadata": {
        "id": "20247d44"
      },
      "outputs": [],
      "source": [
        "import os\n",
        "# import sys\n",
        "# import json\n",
        "from tqdm import tqdm\n",
        "import wandb\n",
        "import numpy as np\n",
        "import pandas as pd\n",
        "import torch\n",
        "from torch.optim import AdamW\n",
        "# import torch.distributed as dist\n",
        "import torch.utils.data\n",
        "import torch.utils.data.distributed\n",
        "from torch.utils.data import DataLoader, RandomSampler, TensorDataset\n",
        "from transformers import BertForSequenceClassification, BertTokenizer # type: ignore\n",
        "from transformers import get_linear_schedule_with_warmup # type: ignore\n",
        "from sklearn.model_selection import train_test_split # type: ignore\n",
        "from sklearn.utils.class_weight import compute_class_weight # type: ignore\n",
        "\n",
        "## log training process with W&B if commented\n",
        "# os.environ['WANDB_MODE'] = 'disabled'"
      ]
    },
    {
      "cell_type": "code",
      "execution_count": 2,
      "id": "23828261",
      "metadata": {
        "colab": {
          "base_uri": "https://localhost:8080/"
        },
        "id": "23828261",
        "outputId": "dbf003d8-a25e-42f5-cfe9-7ec3483e604c"
      },
      "outputs": [
        {
          "output_type": "stream",
          "name": "stdout",
          "text": [
            "👉 Running on device type: cuda:0\n"
          ]
        }
      ],
      "source": [
        "class Config:\n",
        "    def __init__(self):\n",
        "        \"\"\"\n",
        "        hyperparameters\n",
        "        \"\"\"\n",
        "        self.wandb = True\n",
        "        self.device = torch.device('cpu')\n",
        "        self.max_len = int(64) ## this is the max length of the sentence\n",
        "        self.epochs = int(15)\n",
        "        self.batch_size = int(64)  ## ⚠️ important. if too small, the model might not learn.\n",
        "        self.opt_lr = 2e-5    ## ⚠️ VERY important. keep it small for pre-trained model.\n",
        "        self.opt_weight_decay = 1e-6\n",
        "        self.use_class_weights = True\n",
        "        self.freeze_layers = 0 #int(9)  ## from bottom to top, total 15 for BERT-base\n",
        "\n",
        "config = Config()\n",
        "config.device = torch.device(\"cuda:0\" if torch.cuda.is_available() else \"cpu\")\n",
        "print(f\"👉 Running on device type: {config.device}\")"
      ]
    },
    {
      "cell_type": "markdown",
      "source": [
        "# **Prepare train-test datasets**    \n",
        "\n",
        "---\n",
        "\n"
      ],
      "metadata": {
        "id": "HURZLmTPQy5s"
      },
      "id": "HURZLmTPQy5s"
    },
    {
      "cell_type": "code",
      "execution_count": 3,
      "id": "kaD2qZyV2Abt",
      "metadata": {
        "colab": {
          "base_uri": "https://localhost:8080/"
        },
        "id": "kaD2qZyV2Abt",
        "outputId": "932f2bce-5ebd-4697-81ef-309c567ccabf"
      },
      "outputs": [
        {
          "output_type": "stream",
          "name": "stdout",
          "text": [
            "--2024-11-30 07:54:09--  https://raw.githubusercontent.com/nov05/udacity-CD0387-deep-learning-topics-within-computer-vision-nlp-project-starter/refs/heads/main/cd0387_common_model_arch_types_fine_tuning/cola_public/raw/in_domain_train.tsv\n",
            "Resolving raw.githubusercontent.com (raw.githubusercontent.com)... 185.199.108.133, 185.199.109.133, 185.199.110.133, ...\n",
            "Connecting to raw.githubusercontent.com (raw.githubusercontent.com)|185.199.108.133|:443... connected.\n",
            "HTTP request sent, awaiting response... 200 OK\n",
            "Length: 428578 (419K) [text/plain]\n",
            "Saving to: ‘cola_public/raw/in_domain_train.tsv’\n",
            "\n",
            "cola_public/raw/in_ 100%[===================>] 418.53K  --.-KB/s    in 0.03s   \n",
            "\n",
            "2024-11-30 07:54:09 (13.3 MB/s) - ‘cola_public/raw/in_domain_train.tsv’ saved [428578/428578]\n",
            "\n"
          ]
        }
      ],
      "source": [
        "## get raw data\n",
        "!mkdir -p cola_public\n",
        "!mkdir -p cola_public/raw\n",
        "!wget https://raw.githubusercontent.com/nov05/udacity-CD0387-deep-learning-topics-within-computer-vision-nlp-project-starter/refs/heads/main/cd0387_common_model_arch_types_fine_tuning/cola_public/raw/in_domain_train.tsv -O cola_public/raw/in_domain_train.tsv"
      ]
    },
    {
      "cell_type": "code",
      "execution_count": 4,
      "id": "9a15cc9a",
      "metadata": {
        "colab": {
          "base_uri": "https://localhost:8080/",
          "height": 179
        },
        "id": "9a15cc9a",
        "outputId": "cd042d1e-efe6-4423-865b-6454a2cb1003"
      },
      "outputs": [
        {
          "output_type": "stream",
          "name": "stdout",
          "text": [
            "(8551, 2)\n",
            "0.704362062916618\n"
          ]
        },
        {
          "output_type": "execute_result",
          "data": {
            "text/plain": [
              "      label                                           sentence\n",
              "7710      1      Michael abandoned an old friend at Mardi Gras\n",
              "7177      1     She may have and should have thawed the roast.\n",
              "4839      1  What causes students to select particular majors?"
            ],
            "text/html": [
              "\n",
              "  <div id=\"df-53450912-d2b4-4f6e-b732-fafe627d53d3\" class=\"colab-df-container\">\n",
              "    <div>\n",
              "<style scoped>\n",
              "    .dataframe tbody tr th:only-of-type {\n",
              "        vertical-align: middle;\n",
              "    }\n",
              "\n",
              "    .dataframe tbody tr th {\n",
              "        vertical-align: top;\n",
              "    }\n",
              "\n",
              "    .dataframe thead th {\n",
              "        text-align: right;\n",
              "    }\n",
              "</style>\n",
              "<table border=\"1\" class=\"dataframe\">\n",
              "  <thead>\n",
              "    <tr style=\"text-align: right;\">\n",
              "      <th></th>\n",
              "      <th>label</th>\n",
              "      <th>sentence</th>\n",
              "    </tr>\n",
              "  </thead>\n",
              "  <tbody>\n",
              "    <tr>\n",
              "      <th>7710</th>\n",
              "      <td>1</td>\n",
              "      <td>Michael abandoned an old friend at Mardi Gras</td>\n",
              "    </tr>\n",
              "    <tr>\n",
              "      <th>7177</th>\n",
              "      <td>1</td>\n",
              "      <td>She may have and should have thawed the roast.</td>\n",
              "    </tr>\n",
              "    <tr>\n",
              "      <th>4839</th>\n",
              "      <td>1</td>\n",
              "      <td>What causes students to select particular majors?</td>\n",
              "    </tr>\n",
              "  </tbody>\n",
              "</table>\n",
              "</div>\n",
              "    <div class=\"colab-df-buttons\">\n",
              "\n",
              "  <div class=\"colab-df-container\">\n",
              "    <button class=\"colab-df-convert\" onclick=\"convertToInteractive('df-53450912-d2b4-4f6e-b732-fafe627d53d3')\"\n",
              "            title=\"Convert this dataframe to an interactive table.\"\n",
              "            style=\"display:none;\">\n",
              "\n",
              "  <svg xmlns=\"http://www.w3.org/2000/svg\" height=\"24px\" viewBox=\"0 -960 960 960\">\n",
              "    <path d=\"M120-120v-720h720v720H120Zm60-500h600v-160H180v160Zm220 220h160v-160H400v160Zm0 220h160v-160H400v160ZM180-400h160v-160H180v160Zm440 0h160v-160H620v160ZM180-180h160v-160H180v160Zm440 0h160v-160H620v160Z\"/>\n",
              "  </svg>\n",
              "    </button>\n",
              "\n",
              "  <style>\n",
              "    .colab-df-container {\n",
              "      display:flex;\n",
              "      gap: 12px;\n",
              "    }\n",
              "\n",
              "    .colab-df-convert {\n",
              "      background-color: #E8F0FE;\n",
              "      border: none;\n",
              "      border-radius: 50%;\n",
              "      cursor: pointer;\n",
              "      display: none;\n",
              "      fill: #1967D2;\n",
              "      height: 32px;\n",
              "      padding: 0 0 0 0;\n",
              "      width: 32px;\n",
              "    }\n",
              "\n",
              "    .colab-df-convert:hover {\n",
              "      background-color: #E2EBFA;\n",
              "      box-shadow: 0px 1px 2px rgba(60, 64, 67, 0.3), 0px 1px 3px 1px rgba(60, 64, 67, 0.15);\n",
              "      fill: #174EA6;\n",
              "    }\n",
              "\n",
              "    .colab-df-buttons div {\n",
              "      margin-bottom: 4px;\n",
              "    }\n",
              "\n",
              "    [theme=dark] .colab-df-convert {\n",
              "      background-color: #3B4455;\n",
              "      fill: #D2E3FC;\n",
              "    }\n",
              "\n",
              "    [theme=dark] .colab-df-convert:hover {\n",
              "      background-color: #434B5C;\n",
              "      box-shadow: 0px 1px 3px 1px rgba(0, 0, 0, 0.15);\n",
              "      filter: drop-shadow(0px 1px 2px rgba(0, 0, 0, 0.3));\n",
              "      fill: #FFFFFF;\n",
              "    }\n",
              "  </style>\n",
              "\n",
              "    <script>\n",
              "      const buttonEl =\n",
              "        document.querySelector('#df-53450912-d2b4-4f6e-b732-fafe627d53d3 button.colab-df-convert');\n",
              "      buttonEl.style.display =\n",
              "        google.colab.kernel.accessAllowed ? 'block' : 'none';\n",
              "\n",
              "      async function convertToInteractive(key) {\n",
              "        const element = document.querySelector('#df-53450912-d2b4-4f6e-b732-fafe627d53d3');\n",
              "        const dataTable =\n",
              "          await google.colab.kernel.invokeFunction('convertToInteractive',\n",
              "                                                    [key], {});\n",
              "        if (!dataTable) return;\n",
              "\n",
              "        const docLinkHtml = 'Like what you see? Visit the ' +\n",
              "          '<a target=\"_blank\" href=https://colab.research.google.com/notebooks/data_table.ipynb>data table notebook</a>'\n",
              "          + ' to learn more about interactive tables.';\n",
              "        element.innerHTML = '';\n",
              "        dataTable['output_type'] = 'display_data';\n",
              "        await google.colab.output.renderOutput(dataTable, element);\n",
              "        const docLink = document.createElement('div');\n",
              "        docLink.innerHTML = docLinkHtml;\n",
              "        element.appendChild(docLink);\n",
              "      }\n",
              "    </script>\n",
              "  </div>\n",
              "\n",
              "\n",
              "<div id=\"df-3679d892-0656-4b16-a37c-eaf93bc412b1\">\n",
              "  <button class=\"colab-df-quickchart\" onclick=\"quickchart('df-3679d892-0656-4b16-a37c-eaf93bc412b1')\"\n",
              "            title=\"Suggest charts\"\n",
              "            style=\"display:none;\">\n",
              "\n",
              "<svg xmlns=\"http://www.w3.org/2000/svg\" height=\"24px\"viewBox=\"0 0 24 24\"\n",
              "     width=\"24px\">\n",
              "    <g>\n",
              "        <path d=\"M19 3H5c-1.1 0-2 .9-2 2v14c0 1.1.9 2 2 2h14c1.1 0 2-.9 2-2V5c0-1.1-.9-2-2-2zM9 17H7v-7h2v7zm4 0h-2V7h2v10zm4 0h-2v-4h2v4z\"/>\n",
              "    </g>\n",
              "</svg>\n",
              "  </button>\n",
              "\n",
              "<style>\n",
              "  .colab-df-quickchart {\n",
              "      --bg-color: #E8F0FE;\n",
              "      --fill-color: #1967D2;\n",
              "      --hover-bg-color: #E2EBFA;\n",
              "      --hover-fill-color: #174EA6;\n",
              "      --disabled-fill-color: #AAA;\n",
              "      --disabled-bg-color: #DDD;\n",
              "  }\n",
              "\n",
              "  [theme=dark] .colab-df-quickchart {\n",
              "      --bg-color: #3B4455;\n",
              "      --fill-color: #D2E3FC;\n",
              "      --hover-bg-color: #434B5C;\n",
              "      --hover-fill-color: #FFFFFF;\n",
              "      --disabled-bg-color: #3B4455;\n",
              "      --disabled-fill-color: #666;\n",
              "  }\n",
              "\n",
              "  .colab-df-quickchart {\n",
              "    background-color: var(--bg-color);\n",
              "    border: none;\n",
              "    border-radius: 50%;\n",
              "    cursor: pointer;\n",
              "    display: none;\n",
              "    fill: var(--fill-color);\n",
              "    height: 32px;\n",
              "    padding: 0;\n",
              "    width: 32px;\n",
              "  }\n",
              "\n",
              "  .colab-df-quickchart:hover {\n",
              "    background-color: var(--hover-bg-color);\n",
              "    box-shadow: 0 1px 2px rgba(60, 64, 67, 0.3), 0 1px 3px 1px rgba(60, 64, 67, 0.15);\n",
              "    fill: var(--button-hover-fill-color);\n",
              "  }\n",
              "\n",
              "  .colab-df-quickchart-complete:disabled,\n",
              "  .colab-df-quickchart-complete:disabled:hover {\n",
              "    background-color: var(--disabled-bg-color);\n",
              "    fill: var(--disabled-fill-color);\n",
              "    box-shadow: none;\n",
              "  }\n",
              "\n",
              "  .colab-df-spinner {\n",
              "    border: 2px solid var(--fill-color);\n",
              "    border-color: transparent;\n",
              "    border-bottom-color: var(--fill-color);\n",
              "    animation:\n",
              "      spin 1s steps(1) infinite;\n",
              "  }\n",
              "\n",
              "  @keyframes spin {\n",
              "    0% {\n",
              "      border-color: transparent;\n",
              "      border-bottom-color: var(--fill-color);\n",
              "      border-left-color: var(--fill-color);\n",
              "    }\n",
              "    20% {\n",
              "      border-color: transparent;\n",
              "      border-left-color: var(--fill-color);\n",
              "      border-top-color: var(--fill-color);\n",
              "    }\n",
              "    30% {\n",
              "      border-color: transparent;\n",
              "      border-left-color: var(--fill-color);\n",
              "      border-top-color: var(--fill-color);\n",
              "      border-right-color: var(--fill-color);\n",
              "    }\n",
              "    40% {\n",
              "      border-color: transparent;\n",
              "      border-right-color: var(--fill-color);\n",
              "      border-top-color: var(--fill-color);\n",
              "    }\n",
              "    60% {\n",
              "      border-color: transparent;\n",
              "      border-right-color: var(--fill-color);\n",
              "    }\n",
              "    80% {\n",
              "      border-color: transparent;\n",
              "      border-right-color: var(--fill-color);\n",
              "      border-bottom-color: var(--fill-color);\n",
              "    }\n",
              "    90% {\n",
              "      border-color: transparent;\n",
              "      border-bottom-color: var(--fill-color);\n",
              "    }\n",
              "  }\n",
              "</style>\n",
              "\n",
              "  <script>\n",
              "    async function quickchart(key) {\n",
              "      const quickchartButtonEl =\n",
              "        document.querySelector('#' + key + ' button');\n",
              "      quickchartButtonEl.disabled = true;  // To prevent multiple clicks.\n",
              "      quickchartButtonEl.classList.add('colab-df-spinner');\n",
              "      try {\n",
              "        const charts = await google.colab.kernel.invokeFunction(\n",
              "            'suggestCharts', [key], {});\n",
              "      } catch (error) {\n",
              "        console.error('Error during call to suggestCharts:', error);\n",
              "      }\n",
              "      quickchartButtonEl.classList.remove('colab-df-spinner');\n",
              "      quickchartButtonEl.classList.add('colab-df-quickchart-complete');\n",
              "    }\n",
              "    (() => {\n",
              "      let quickchartButtonEl =\n",
              "        document.querySelector('#df-3679d892-0656-4b16-a37c-eaf93bc412b1 button');\n",
              "      quickchartButtonEl.style.display =\n",
              "        google.colab.kernel.accessAllowed ? 'block' : 'none';\n",
              "    })();\n",
              "  </script>\n",
              "</div>\n",
              "\n",
              "    </div>\n",
              "  </div>\n"
            ],
            "application/vnd.google.colaboratory.intrinsic+json": {
              "type": "dataframe",
              "summary": "{\n  \"name\": \"df\",\n  \"rows\": 3,\n  \"fields\": [\n    {\n      \"column\": \"label\",\n      \"properties\": {\n        \"dtype\": \"number\",\n        \"std\": 0,\n        \"min\": 1,\n        \"max\": 1,\n        \"num_unique_values\": 1,\n        \"samples\": [\n          1\n        ],\n        \"semantic_type\": \"\",\n        \"description\": \"\"\n      }\n    },\n    {\n      \"column\": \"sentence\",\n      \"properties\": {\n        \"dtype\": \"string\",\n        \"num_unique_values\": 3,\n        \"samples\": [\n          \"Michael abandoned an old friend at Mardi Gras\"\n        ],\n        \"semantic_type\": \"\",\n        \"description\": \"\"\n      }\n    }\n  ]\n}"
            }
          },
          "metadata": {},
          "execution_count": 4
        }
      ],
      "source": [
        "df = pd.read_csv(\n",
        "   r\"/content/cola_public/raw/in_domain_train.tsv\",\n",
        "   sep=\"\\t\",\n",
        "   header=None,\n",
        "   usecols=[1, 3],\n",
        "   names=[\"label\", \"sentence\"],\n",
        ")\n",
        "sentences = df.sentence.values\n",
        "labels = df.label.values\n",
        "print(df.shape)\n",
        "## ⚠️ there is some imbalance in the training dataset\n",
        "print(sum(labels)/len(labels))\n",
        "df.sample(3)"
      ]
    },
    {
      "cell_type": "code",
      "execution_count": 5,
      "id": "1c7d8d8c",
      "metadata": {
        "id": "1c7d8d8c"
      },
      "outputs": [],
      "source": [
        "## train-test split\n",
        "!mkdir -p data\n",
        "!mkdir -p data/cola\n",
        "train_df, test_df = train_test_split(df, stratify=labels)\n",
        "train_df.to_csv(r\"data/cola/train.csv\", index=False)\n",
        "test_df.to_csv(r\"data/cola/test.csv\", index=False)"
      ]
    },
    {
      "cell_type": "markdown",
      "source": [
        "# **Functions**"
      ],
      "metadata": {
        "id": "jsKxYDRxQ-Kj"
      },
      "id": "jsKxYDRxQ-Kj"
    },
    {
      "cell_type": "code",
      "execution_count": 6,
      "id": "7e22c3cf",
      "metadata": {
        "colab": {
          "base_uri": "https://localhost:8080/",
          "height": 163,
          "referenced_widgets": [
            "cb0db163c3ef4f7c97779fe508df1c19",
            "8102aa333bd3420799826bf16a52f35d",
            "f5420ac5162e468f92920a75cc001f73",
            "bab5174e513146d6b23cd871a08a5b7c",
            "6f288e15e88949be99c5f42d408b356d",
            "e7b28a5a1abf4361b1a34d51adbaa25c",
            "7f4848163e1d45e6ad5de4e4f7dcd901",
            "569f379bd02d4c54adeac477dd97952f",
            "42d5acc6e0ef4643b36d4ef8d494eb6d",
            "e2da6ed4b0df44acb06c5a4bd2bf596c",
            "5ff049f61b054353bc1a6a6ab10531e1",
            "531a77915069498bae8852ae12192425",
            "81c66c46207b46d4bc221f139dba443c",
            "fba265af5abe4ace8cbc6f3c808a57cd",
            "e2d35f39da724e868bf212eb630912d0",
            "63a543ff0cd94385947997b44af03dc3",
            "3cbbd5f002ca4985b56833730d28398a",
            "53c3f45cad7d4a0581c9360c826b72bc",
            "f05912de50c3487bb5586564beaab7a9",
            "65cf58221c00465486a6e27e4f0dec11",
            "fad1cf8141654526bf97428815533b0d",
            "f62342f5be96466c99d1fe066fad417d",
            "8afd2db6289448b68bf362bb357f8214",
            "5ad3e5011b234ed990d33bc2f412a835",
            "f91143f818e24f77b9a60b38b04b6bfc",
            "67e727243bb54b8f94d90a1d1f39083a",
            "c933b6955fe340bdadef15e2751150ec",
            "6993e9a574b74647937407eb197910a4",
            "5ae4b33e6a8849639a1858d6c4d246c0",
            "7fe0c7b73f324173b39bf27f6b7a357f",
            "f4ce542430174b51a0ab34b6e9600ed4",
            "75b6910747504185b056d2186f28ed56",
            "0d866c3ca93948c58e49d23ccebc9234",
            "6eed380be3684c8d907964b9864564f8",
            "0eee4d3dc5934cf2af4a22e065f653fb",
            "e475e488df2343be957a9de380b651a5",
            "3401062e63114e8dace09aa430e651fa",
            "4e32ad93abd74fa89c06173fbf458a45",
            "00fb53ab8c964b87b435f33029d3e67f",
            "d437e19b3239405796368701476b4842",
            "4da347ae3463473d95a90f692c4cfba8",
            "2275876dd78b4adc8c0303181a330434",
            "c7a7b565679d4fceb1920d930d37d6ae",
            "188f0aa42c9a48ac9b8472cd305ace36"
          ]
        },
        "id": "7e22c3cf",
        "outputId": "b50a063f-8fc4-4c76-8735-50ec065e1e0d"
      },
      "outputs": [
        {
          "output_type": "stream",
          "name": "stdout",
          "text": [
            "Loading BERT tokenizer...\n"
          ]
        },
        {
          "output_type": "display_data",
          "data": {
            "text/plain": [
              "tokenizer_config.json:   0%|          | 0.00/48.0 [00:00<?, ?B/s]"
            ],
            "application/vnd.jupyter.widget-view+json": {
              "version_major": 2,
              "version_minor": 0,
              "model_id": "cb0db163c3ef4f7c97779fe508df1c19"
            }
          },
          "metadata": {}
        },
        {
          "output_type": "display_data",
          "data": {
            "text/plain": [
              "vocab.txt:   0%|          | 0.00/232k [00:00<?, ?B/s]"
            ],
            "application/vnd.jupyter.widget-view+json": {
              "version_major": 2,
              "version_minor": 0,
              "model_id": "531a77915069498bae8852ae12192425"
            }
          },
          "metadata": {}
        },
        {
          "output_type": "display_data",
          "data": {
            "text/plain": [
              "tokenizer.json:   0%|          | 0.00/466k [00:00<?, ?B/s]"
            ],
            "application/vnd.jupyter.widget-view+json": {
              "version_major": 2,
              "version_minor": 0,
              "model_id": "8afd2db6289448b68bf362bb357f8214"
            }
          },
          "metadata": {}
        },
        {
          "output_type": "display_data",
          "data": {
            "text/plain": [
              "config.json:   0%|          | 0.00/570 [00:00<?, ?B/s]"
            ],
            "application/vnd.jupyter.widget-view+json": {
              "version_major": 2,
              "version_minor": 0,
              "model_id": "6eed380be3684c8d907964b9864564f8"
            }
          },
          "metadata": {}
        }
      ],
      "source": [
        "print(\"Loading BERT tokenizer...\")\n",
        "tokenizer = BertTokenizer.from_pretrained(\"bert-base-uncased\", do_lower_case=True)\n",
        "\n",
        "\n",
        "def flat_accuracy(preds, labels):\n",
        "    pred_flat = np.argmax(preds, axis=1).flatten()\n",
        "    labels_flat = labels.flatten()\n",
        "    return np.sum(pred_flat==labels_flat) / len(labels_flat)\n",
        "\n",
        "\n",
        "def get_train_data_loader(batch_size):\n",
        "    dataset = pd.read_csv(os.path.join(\"data\", \"cola\", \"train.csv\"))\n",
        "    sentences = dataset.sentence.values\n",
        "    labels = dataset.label.values\n",
        "\n",
        "    input_ids = []\n",
        "    for sent in sentences:\n",
        "        encoded_sent = tokenizer.encode(sent, add_special_tokens=True)\n",
        "        input_ids.append(encoded_sent)\n",
        "\n",
        "    # pad shorter sentences\n",
        "    input_ids_padded = []\n",
        "    for id in input_ids:\n",
        "        while len(id) < config.max_len:\n",
        "            id.append(0)\n",
        "        input_ids_padded.append(id)\n",
        "    input_ids = input_ids_padded\n",
        "\n",
        "    # mask; 0: added, 1: otherwise\n",
        "    attention_masks = []\n",
        "    # For each sentence...\n",
        "    for sent in input_ids:\n",
        "        att_mask = [int(token_id > 0) for token_id in sent]\n",
        "        attention_masks.append(att_mask)\n",
        "\n",
        "    # convert to PyTorch data types.\n",
        "    train_inputs = torch.tensor(input_ids)\n",
        "    train_labels = torch.tensor(labels)\n",
        "    train_masks = torch.tensor(attention_masks)\n",
        "\n",
        "    train_data = TensorDataset(train_inputs, train_masks, train_labels)\n",
        "    train_sampler = RandomSampler(train_data)\n",
        "    train_dataloader = DataLoader(train_data, sampler=train_sampler, batch_size=batch_size)\n",
        "\n",
        "    return train_dataloader\n",
        "\n",
        "\n",
        "def get_test_data_loader(test_batch_size):\n",
        "    dataset = pd.read_csv(os.path.join(\"data\", \"cola\", \"test.csv\"))\n",
        "    sentences = dataset.sentence.values\n",
        "    labels = dataset.label.values\n",
        "\n",
        "    input_ids = []\n",
        "    for sent in sentences:\n",
        "        encoded_sent = tokenizer.encode(sent, add_special_tokens=True)\n",
        "        input_ids.append(encoded_sent)\n",
        "\n",
        "    # pad shorter sentences\n",
        "    input_ids_padded = []\n",
        "    for id in input_ids:\n",
        "        while len(id)<config.max_len:\n",
        "            id.append(0)\n",
        "        input_ids_padded.append(id)\n",
        "    input_ids = input_ids_padded\n",
        "\n",
        "    # mask; 0: added, 1: otherwise\n",
        "    attention_masks = []\n",
        "    # For each sentence...\n",
        "    for sent in input_ids:\n",
        "        att_mask = [int(token_id>0) for token_id in sent]\n",
        "        attention_masks.append(att_mask)\n",
        "\n",
        "    # convert to PyTorch data types.\n",
        "    train_inputs = torch.tensor(input_ids)\n",
        "    train_labels = torch.tensor(labels)\n",
        "    train_masks = torch.tensor(attention_masks)\n",
        "\n",
        "    train_data = TensorDataset(train_inputs, train_masks, train_labels)\n",
        "    train_sampler = RandomSampler(train_data)\n",
        "    train_dataloader = DataLoader(train_data, sampler=train_sampler, batch_size=test_batch_size)\n",
        "\n",
        "    return train_dataloader\n",
        "\n",
        "\n",
        "def train():\n",
        "    train_loader = get_train_data_loader(config.batch_size)\n",
        "    test_loader = get_test_data_loader(config.batch_size)\n",
        "\n",
        "    model = BertForSequenceClassification.from_pretrained(\n",
        "        \"bert-base-uncased\",  # Use the 12-layer BERT model, with an uncased vocab.\n",
        "        num_labels=2,  # The number of output labels--2 for binary classification.\n",
        "        output_attentions=False,  # Whether the model returns attentions weights\n",
        "        output_hidden_states=False,  # Whether the model returns all hidden-states\n",
        "    )\n",
        "    ## from bottom to top, freeze {config.freeze_layers} layers\n",
        "    param_names_to_freeze = []\n",
        "    for i in range(config.freeze_layers):\n",
        "        if i==0:\n",
        "            g = model.bert.embeddings.named_parameters()  ## generator\n",
        "            prefix = \"bert.embeddings.\"\n",
        "        elif i<=12:\n",
        "            g = model.bert.encoder.layer[i-1].named_parameters()\n",
        "            prefix = f\"bert.encoder.layer{i-1}.\"\n",
        "        elif i==13:\n",
        "            g = model.bert.pooler.named_parameters()\n",
        "            prefix = \"bert.pooler.\"\n",
        "        else:\n",
        "            # g = model.classifier.named_parameters()\n",
        "            raise Exception(\"⚠️ No more layers to freeze\")\n",
        "        for name, params in g:\n",
        "            params.requires_grad = False\n",
        "            param_names_to_freeze.append(prefix+name)\n",
        "    model = model.to(config.device)\n",
        "\n",
        "    ## set up optimizer\n",
        "    optimizer_grouped_parameters = [{\n",
        "        \"params\": [params for name,params in model.named_parameters()\n",
        "            if not name in param_names_to_freeze],\n",
        "        \"lr\": config.opt_lr,\n",
        "        \"weight_decay\": config.opt_weight_decay,\n",
        "    }]\n",
        "    optimizer = AdamW(optimizer_grouped_parameters)\n",
        "\n",
        "    ## set up scheduler\n",
        "    scheduler = get_linear_schedule_with_warmup(\n",
        "        optimizer,\n",
        "        num_warmup_steps=0,\n",
        "        num_training_steps=len(train_loader)*config.epochs)\n",
        "\n",
        "    ## set up loss function\n",
        "    if config.use_class_weights:\n",
        "        class_weights = compute_class_weight('balanced', classes=np.array([0, 1]), y=labels)\n",
        "        class_weights = torch.tensor(class_weights, dtype=torch.float).to(config.device)\n",
        "        loss_fn = torch.nn.CrossEntropyLoss(weight=class_weights)\n",
        "\n",
        "    total_steps = 0\n",
        "    for epoch in tqdm(range(config.epochs)):\n",
        "        print(f\"👉 Train Epoch {epoch}:\")\n",
        "        loss_epoch = 0\n",
        "        model.train()\n",
        "        for step, batch in enumerate(train_loader):\n",
        "            total_steps += 1\n",
        "            b_input_ids = batch[0].to(config.device)\n",
        "            b_input_mask = batch[1].to(config.device)\n",
        "            b_labels = batch[2].to(config.device)\n",
        "            model.zero_grad()\n",
        "\n",
        "            outputs = model(\n",
        "                b_input_ids,                 ## Shape: (batch_size, sequence_length)\n",
        "                token_type_ids=None,         ## Shape: (batch_size, sequence_length)\n",
        "                attention_mask=b_input_mask, ## Shape: (batch_size, sequence_length)\n",
        "                labels=b_labels)             ## Shape: (batch_size,)\n",
        "\n",
        "            if config.use_class_weights:\n",
        "                logits = outputs.logits  ## same with outputs[1]\n",
        "                loss = loss_fn(logits.view(-1, 2), b_labels.view(-1))\n",
        "            else:\n",
        "                loss = outputs.loss  ## same with outputs[0]\n",
        "            wandb.log({\"train_loss\": loss.item()}, step=total_steps)\n",
        "            loss_epoch += loss.item()\n",
        "            loss.backward()\n",
        "            torch.nn.utils.clip_grad_norm_(model.parameters(), 1.)\n",
        "            optimizer.step()\n",
        "            scheduler.step()\n",
        "            if step%10==0:\n",
        "                print(\n",
        "                    f\"Step {total_steps}: \"\n",
        "                    f\"[{step*len(batch[0])}/{len(train_loader.sampler)} \"\n",
        "                    f\"({(100.0*step/len(train_loader)):.0f}%)] \"\n",
        "                    f\"Loss: {loss.item():.6f}\"\n",
        "                )\n",
        "        wandb.log({\"train_loss_epoch\": loss_epoch/config.batch_size}, step=total_steps)\n",
        "        eval_accuracy = test(model, test_loader)\n",
        "        wandb.log({f\"eval_accuracy_epoch (%)\": eval_accuracy*100}, step=total_steps)\n",
        "    return model\n",
        "\n",
        "\n",
        "def test(model, test_loader):\n",
        "    model.eval()\n",
        "    eval_accuracy_steps = 0\n",
        "    total_steps = 0\n",
        "    with torch.no_grad():\n",
        "        for batch in test_loader:\n",
        "            total_steps += 1\n",
        "            b_input_ids = batch[0].to(config.device)\n",
        "            b_input_mask = batch[1].to(config.device)\n",
        "            b_labels = batch[2].to(config.device)\n",
        "            outputs = model(b_input_ids,\n",
        "                            token_type_ids=None,\n",
        "                            attention_mask=b_input_mask)\n",
        "            logits = outputs.logits.detach().cpu().numpy()\n",
        "            label_ids = b_labels.to(\"cpu\").numpy()\n",
        "            eval_accuracy_steps += flat_accuracy(logits, label_ids)\n",
        "    eval_accuracy = eval_accuracy_steps / total_steps\n",
        "    print(\"🟢 Test Accuracy (%): \", eval_accuracy*100)\n",
        "    return eval_accuracy"
      ]
    },
    {
      "cell_type": "markdown",
      "source": [
        "# **👉 Train the model**  \n",
        "\n"
      ],
      "metadata": {
        "id": "spPiQepkP4fO"
      },
      "id": "spPiQepkP4fO"
    },
    {
      "cell_type": "code",
      "source": [
        "wandb.init(\n",
        "    # set the wandb project where this run will be logged\n",
        "    project=\"udacity-awsmle-bert-cola\",\n",
        "    config=config\n",
        ")\n",
        "train()"
      ],
      "metadata": {
        "colab": {
          "base_uri": "https://localhost:8080/",
          "height": 1000,
          "referenced_widgets": [
            "82edecbabb4445e09b266e355c7a9775",
            "545f0bc2251b46a69ec7b2bf33180ad5",
            "2cff6d39aabd433388cdf0070a475f22",
            "75c72c51bf6f43e2a3a196d022046bb0",
            "95c268f89aa344a5b2a5c389f8ee8bb9",
            "d529b2349444421dbc36e247e2c2fce1",
            "ab15132b0c744a239e53e399438a01dc",
            "a91c934b37c34d16bd645e238bda6e0d",
            "d913c919654148cab60fa2a5d54d033c",
            "acf38333cdd94668934e922151058be0",
            "4136fc07b66442df9cd8d7054760d2c5"
          ]
        },
        "id": "0QdsT6GHOwj8",
        "outputId": "c64f533e-deab-4da7-a637-ccf352852203"
      },
      "id": "0QdsT6GHOwj8",
      "execution_count": 7,
      "outputs": [
        {
          "output_type": "stream",
          "name": "stderr",
          "text": [
            "\u001b[34m\u001b[1mwandb\u001b[0m: Using wandb-core as the SDK backend.  Please refer to https://wandb.me/wandb-core for more information.\n"
          ]
        },
        {
          "output_type": "display_data",
          "data": {
            "text/plain": [
              "<IPython.core.display.Javascript object>"
            ],
            "application/javascript": [
              "\n",
              "        window._wandbApiKey = new Promise((resolve, reject) => {\n",
              "            function loadScript(url) {\n",
              "            return new Promise(function(resolve, reject) {\n",
              "                let newScript = document.createElement(\"script\");\n",
              "                newScript.onerror = reject;\n",
              "                newScript.onload = resolve;\n",
              "                document.body.appendChild(newScript);\n",
              "                newScript.src = url;\n",
              "            });\n",
              "            }\n",
              "            loadScript(\"https://cdn.jsdelivr.net/npm/postmate/build/postmate.min.js\").then(() => {\n",
              "            const iframe = document.createElement('iframe')\n",
              "            iframe.style.cssText = \"width:0;height:0;border:none\"\n",
              "            document.body.appendChild(iframe)\n",
              "            const handshake = new Postmate({\n",
              "                container: iframe,\n",
              "                url: 'https://wandb.ai/authorize'\n",
              "            });\n",
              "            const timeout = setTimeout(() => reject(\"Couldn't auto authenticate\"), 5000)\n",
              "            handshake.then(function(child) {\n",
              "                child.on('authorize', data => {\n",
              "                    clearTimeout(timeout)\n",
              "                    resolve(data)\n",
              "                });\n",
              "            });\n",
              "            })\n",
              "        });\n",
              "    "
            ]
          },
          "metadata": {}
        },
        {
          "output_type": "stream",
          "name": "stderr",
          "text": [
            "\u001b[34m\u001b[1mwandb\u001b[0m: Appending key for api.wandb.ai to your netrc file: /root/.netrc\n"
          ]
        },
        {
          "output_type": "display_data",
          "data": {
            "text/plain": [
              "<IPython.core.display.HTML object>"
            ],
            "text/html": [
              "Tracking run with wandb version 0.18.7"
            ]
          },
          "metadata": {}
        },
        {
          "output_type": "display_data",
          "data": {
            "text/plain": [
              "<IPython.core.display.HTML object>"
            ],
            "text/html": [
              "Run data is saved locally in <code>/content/wandb/run-20241130_075417-syufkf88</code>"
            ]
          },
          "metadata": {}
        },
        {
          "output_type": "display_data",
          "data": {
            "text/plain": [
              "<IPython.core.display.HTML object>"
            ],
            "text/html": [
              "Syncing run <strong><a href='https://wandb.ai/nov05/udacity-awsmle-bert-cola/runs/syufkf88' target=\"_blank\">whole-jazz-23</a></strong> to <a href='https://wandb.ai/nov05/udacity-awsmle-bert-cola' target=\"_blank\">Weights & Biases</a> (<a href='https://wandb.me/developer-guide' target=\"_blank\">docs</a>)<br/>"
            ]
          },
          "metadata": {}
        },
        {
          "output_type": "display_data",
          "data": {
            "text/plain": [
              "<IPython.core.display.HTML object>"
            ],
            "text/html": [
              " View project at <a href='https://wandb.ai/nov05/udacity-awsmle-bert-cola' target=\"_blank\">https://wandb.ai/nov05/udacity-awsmle-bert-cola</a>"
            ]
          },
          "metadata": {}
        },
        {
          "output_type": "display_data",
          "data": {
            "text/plain": [
              "<IPython.core.display.HTML object>"
            ],
            "text/html": [
              " View run at <a href='https://wandb.ai/nov05/udacity-awsmle-bert-cola/runs/syufkf88' target=\"_blank\">https://wandb.ai/nov05/udacity-awsmle-bert-cola/runs/syufkf88</a>"
            ]
          },
          "metadata": {}
        },
        {
          "output_type": "display_data",
          "data": {
            "text/plain": [
              "model.safetensors:   0%|          | 0.00/440M [00:00<?, ?B/s]"
            ],
            "application/vnd.jupyter.widget-view+json": {
              "version_major": 2,
              "version_minor": 0,
              "model_id": "82edecbabb4445e09b266e355c7a9775"
            }
          },
          "metadata": {}
        },
        {
          "output_type": "stream",
          "name": "stderr",
          "text": [
            "Some weights of BertForSequenceClassification were not initialized from the model checkpoint at bert-base-uncased and are newly initialized: ['classifier.bias', 'classifier.weight']\n",
            "You should probably TRAIN this model on a down-stream task to be able to use it for predictions and inference.\n",
            "  0%|          | 0/15 [00:00<?, ?it/s]"
          ]
        },
        {
          "output_type": "stream",
          "name": "stdout",
          "text": [
            "👉 Train Epoch 0:\n",
            "Step 1: [0/6413 (0%)] Loss: 0.738792\n",
            "Step 11: [640/6413 (10%)] Loss: 0.728826\n",
            "Step 21: [1280/6413 (20%)] Loss: 0.706061\n",
            "Step 31: [1920/6413 (30%)] Loss: 0.621637\n",
            "Step 41: [2560/6413 (40%)] Loss: 0.612003\n",
            "Step 51: [3200/6413 (50%)] Loss: 0.570739\n",
            "Step 61: [3840/6413 (59%)] Loss: 0.450484\n",
            "Step 71: [4480/6413 (69%)] Loss: 0.492788\n",
            "Step 81: [5120/6413 (79%)] Loss: 0.660544\n",
            "Step 91: [5760/6413 (89%)] Loss: 0.569081\n",
            "Step 101: [1300/6413 (99%)] Loss: 0.502328\n"
          ]
        },
        {
          "output_type": "stream",
          "name": "stderr",
          "text": [
            "\r  7%|▋         | 1/15 [01:10<16:27, 70.55s/it]"
          ]
        },
        {
          "output_type": "stream",
          "name": "stdout",
          "text": [
            "🟢 Test Accuracy (%):  81.34898190045249\n",
            "👉 Train Epoch 1:\n",
            "Step 102: [0/6413 (0%)] Loss: 0.501650\n",
            "Step 112: [640/6413 (10%)] Loss: 0.442684\n",
            "Step 122: [1280/6413 (20%)] Loss: 0.626598\n",
            "Step 132: [1920/6413 (30%)] Loss: 0.418529\n",
            "Step 142: [2560/6413 (40%)] Loss: 0.445397\n",
            "Step 152: [3200/6413 (50%)] Loss: 0.452360\n",
            "Step 162: [3840/6413 (59%)] Loss: 0.445938\n",
            "Step 172: [4480/6413 (69%)] Loss: 0.342342\n",
            "Step 182: [5120/6413 (79%)] Loss: 0.273417\n",
            "Step 192: [5760/6413 (89%)] Loss: 0.341619\n",
            "Step 202: [1300/6413 (99%)] Loss: 0.118672\n"
          ]
        },
        {
          "output_type": "stream",
          "name": "stderr",
          "text": [
            "\r 13%|█▎        | 2/15 [02:19<15:05, 69.64s/it]"
          ]
        },
        {
          "output_type": "stream",
          "name": "stdout",
          "text": [
            "🟢 Test Accuracy (%):  82.54736990950227\n",
            "👉 Train Epoch 2:\n",
            "Step 203: [0/6413 (0%)] Loss: 0.211259\n",
            "Step 213: [640/6413 (10%)] Loss: 0.219813\n",
            "Step 223: [1280/6413 (20%)] Loss: 0.296103\n",
            "Step 233: [1920/6413 (30%)] Loss: 0.368566\n",
            "Step 243: [2560/6413 (40%)] Loss: 0.295980\n",
            "Step 253: [3200/6413 (50%)] Loss: 0.271861\n",
            "Step 263: [3840/6413 (59%)] Loss: 0.286728\n",
            "Step 273: [4480/6413 (69%)] Loss: 0.186388\n",
            "Step 283: [5120/6413 (79%)] Loss: 0.207534\n",
            "Step 293: [5760/6413 (89%)] Loss: 0.296881\n",
            "Step 303: [1300/6413 (99%)] Loss: 0.327017\n"
          ]
        },
        {
          "output_type": "stream",
          "name": "stderr",
          "text": [
            "\r 20%|██        | 3/15 [03:28<13:54, 69.52s/it]"
          ]
        },
        {
          "output_type": "stream",
          "name": "stdout",
          "text": [
            "🟢 Test Accuracy (%):  83.68566176470588\n",
            "👉 Train Epoch 3:\n",
            "Step 304: [0/6413 (0%)] Loss: 0.201366\n",
            "Step 314: [640/6413 (10%)] Loss: 0.198949\n",
            "Step 324: [1280/6413 (20%)] Loss: 0.261161\n",
            "Step 334: [1920/6413 (30%)] Loss: 0.097853\n",
            "Step 344: [2560/6413 (40%)] Loss: 0.108924\n",
            "Step 354: [3200/6413 (50%)] Loss: 0.322979\n",
            "Step 364: [3840/6413 (59%)] Loss: 0.222440\n",
            "Step 374: [4480/6413 (69%)] Loss: 0.262337\n",
            "Step 384: [5120/6413 (79%)] Loss: 0.137842\n",
            "Step 394: [5760/6413 (89%)] Loss: 0.158039\n",
            "Step 404: [1300/6413 (99%)] Loss: 0.359986\n"
          ]
        },
        {
          "output_type": "stream",
          "name": "stderr",
          "text": [
            "\r 27%|██▋       | 4/15 [04:38<12:43, 69.38s/it]"
          ]
        },
        {
          "output_type": "stream",
          "name": "stdout",
          "text": [
            "🟢 Test Accuracy (%):  83.60082013574662\n",
            "👉 Train Epoch 4:\n",
            "Step 405: [0/6413 (0%)] Loss: 0.161881\n",
            "Step 415: [640/6413 (10%)] Loss: 0.182914\n",
            "Step 425: [1280/6413 (20%)] Loss: 0.110208\n",
            "Step 435: [1920/6413 (30%)] Loss: 0.330010\n",
            "Step 445: [2560/6413 (40%)] Loss: 0.200017\n",
            "Step 455: [3200/6413 (50%)] Loss: 0.179399\n",
            "Step 465: [3840/6413 (59%)] Loss: 0.166785\n",
            "Step 475: [4480/6413 (69%)] Loss: 0.111171\n",
            "Step 485: [5120/6413 (79%)] Loss: 0.084678\n",
            "Step 495: [5760/6413 (89%)] Loss: 0.083957\n",
            "Step 505: [1300/6413 (99%)] Loss: 0.032021\n"
          ]
        },
        {
          "output_type": "stream",
          "name": "stderr",
          "text": [
            "\r 33%|███▎      | 5/15 [05:47<11:33, 69.33s/it]"
          ]
        },
        {
          "output_type": "stream",
          "name": "stdout",
          "text": [
            "🟢 Test Accuracy (%):  84.01442307692308\n",
            "👉 Train Epoch 5:\n",
            "Step 506: [0/6413 (0%)] Loss: 0.259623\n",
            "Step 516: [640/6413 (10%)] Loss: 0.145073\n",
            "Step 526: [1280/6413 (20%)] Loss: 0.104231\n",
            "Step 536: [1920/6413 (30%)] Loss: 0.107245\n",
            "Step 546: [2560/6413 (40%)] Loss: 0.066661\n",
            "Step 556: [3200/6413 (50%)] Loss: 0.213245\n",
            "Step 566: [3840/6413 (59%)] Loss: 0.087944\n",
            "Step 576: [4480/6413 (69%)] Loss: 0.064968\n",
            "Step 586: [5120/6413 (79%)] Loss: 0.032251\n",
            "Step 596: [5760/6413 (89%)] Loss: 0.056209\n",
            "Step 606: [1300/6413 (99%)] Loss: 0.066160\n"
          ]
        },
        {
          "output_type": "stream",
          "name": "stderr",
          "text": [
            "\r 40%|████      | 6/15 [06:56<10:23, 69.28s/it]"
          ]
        },
        {
          "output_type": "stream",
          "name": "stdout",
          "text": [
            "🟢 Test Accuracy (%):  84.22299208144796\n",
            "👉 Train Epoch 6:\n",
            "Step 607: [0/6413 (0%)] Loss: 0.025554\n",
            "Step 617: [640/6413 (10%)] Loss: 0.145408\n",
            "Step 627: [1280/6413 (20%)] Loss: 0.107891\n",
            "Step 637: [1920/6413 (30%)] Loss: 0.021597\n",
            "Step 647: [2560/6413 (40%)] Loss: 0.207705\n",
            "Step 657: [3200/6413 (50%)] Loss: 0.021777\n",
            "Step 667: [3840/6413 (59%)] Loss: 0.044778\n",
            "Step 677: [4480/6413 (69%)] Loss: 0.176764\n",
            "Step 687: [5120/6413 (79%)] Loss: 0.014080\n",
            "Step 697: [5760/6413 (89%)] Loss: 0.062171\n",
            "Step 707: [1300/6413 (99%)] Loss: 0.064863\n"
          ]
        },
        {
          "output_type": "stream",
          "name": "stderr",
          "text": [
            "\r 47%|████▋     | 7/15 [08:05<09:13, 69.24s/it]"
          ]
        },
        {
          "output_type": "stream",
          "name": "stdout",
          "text": [
            "🟢 Test Accuracy (%):  83.50890837104072\n",
            "👉 Train Epoch 7:\n",
            "Step 708: [0/6413 (0%)] Loss: 0.152887\n",
            "Step 718: [640/6413 (10%)] Loss: 0.013195\n",
            "Step 728: [1280/6413 (20%)] Loss: 0.008998\n",
            "Step 738: [1920/6413 (30%)] Loss: 0.035738\n",
            "Step 748: [2560/6413 (40%)] Loss: 0.089418\n",
            "Step 758: [3200/6413 (50%)] Loss: 0.072710\n",
            "Step 768: [3840/6413 (59%)] Loss: 0.170168\n",
            "Step 778: [4480/6413 (69%)] Loss: 0.084269\n",
            "Step 788: [5120/6413 (79%)] Loss: 0.048381\n",
            "Step 798: [5760/6413 (89%)] Loss: 0.024346\n",
            "Step 808: [1300/6413 (99%)] Loss: 0.006557\n"
          ]
        },
        {
          "output_type": "stream",
          "name": "stderr",
          "text": [
            "\r 53%|█████▎    | 8/15 [09:14<08:04, 69.21s/it]"
          ]
        },
        {
          "output_type": "stream",
          "name": "stdout",
          "text": [
            "🟢 Test Accuracy (%):  84.40328054298642\n",
            "👉 Train Epoch 8:\n",
            "Step 809: [0/6413 (0%)] Loss: 0.160034\n",
            "Step 819: [640/6413 (10%)] Loss: 0.010237\n",
            "Step 829: [1280/6413 (20%)] Loss: 0.175714\n",
            "Step 839: [1920/6413 (30%)] Loss: 0.020891\n",
            "Step 849: [2560/6413 (40%)] Loss: 0.031152\n",
            "Step 859: [3200/6413 (50%)] Loss: 0.041613\n",
            "Step 869: [3840/6413 (59%)] Loss: 0.029360\n",
            "Step 879: [4480/6413 (69%)] Loss: 0.077234\n",
            "Step 889: [5120/6413 (79%)] Loss: 0.017326\n",
            "Step 899: [5760/6413 (89%)] Loss: 0.037953\n",
            "Step 909: [1300/6413 (99%)] Loss: 1.134083\n"
          ]
        },
        {
          "output_type": "stream",
          "name": "stderr",
          "text": [
            "\r 60%|██████    | 9/15 [10:24<06:55, 69.22s/it]"
          ]
        },
        {
          "output_type": "stream",
          "name": "stdout",
          "text": [
            "🟢 Test Accuracy (%):  83.62556561085972\n",
            "👉 Train Epoch 9:\n",
            "Step 910: [0/6413 (0%)] Loss: 0.016561\n",
            "Step 920: [640/6413 (10%)] Loss: 0.032769\n",
            "Step 930: [1280/6413 (20%)] Loss: 0.098677\n",
            "Step 940: [1920/6413 (30%)] Loss: 0.077203\n",
            "Step 950: [2560/6413 (40%)] Loss: 0.073498\n",
            "Step 960: [3200/6413 (50%)] Loss: 0.014040\n",
            "Step 970: [3840/6413 (59%)] Loss: 0.130305\n",
            "Step 980: [4480/6413 (69%)] Loss: 0.005930\n",
            "Step 990: [5120/6413 (79%)] Loss: 0.016123\n",
            "Step 1000: [5760/6413 (89%)] Loss: 0.028570\n",
            "Step 1010: [1300/6413 (99%)] Loss: 0.005693\n"
          ]
        },
        {
          "output_type": "stream",
          "name": "stderr",
          "text": [
            "\r 67%|██████▋   | 10/15 [11:33<05:45, 69.20s/it]"
          ]
        },
        {
          "output_type": "stream",
          "name": "stdout",
          "text": [
            "🟢 Test Accuracy (%):  83.34629524886877\n",
            "👉 Train Epoch 10:\n",
            "Step 1011: [0/6413 (0%)] Loss: 0.086367\n",
            "Step 1021: [640/6413 (10%)] Loss: 0.007279\n",
            "Step 1031: [1280/6413 (20%)] Loss: 0.073367\n",
            "Step 1041: [1920/6413 (30%)] Loss: 0.024525\n",
            "Step 1051: [2560/6413 (40%)] Loss: 0.078294\n",
            "Step 1061: [3200/6413 (50%)] Loss: 0.102923\n",
            "Step 1071: [3840/6413 (59%)] Loss: 0.140019\n",
            "Step 1081: [4480/6413 (69%)] Loss: 0.040578\n",
            "Step 1091: [5120/6413 (79%)] Loss: 0.028399\n",
            "Step 1101: [5760/6413 (89%)] Loss: 0.079290\n",
            "Step 1111: [1300/6413 (99%)] Loss: 0.002313\n"
          ]
        },
        {
          "output_type": "stream",
          "name": "stderr",
          "text": [
            "\r 73%|███████▎  | 11/15 [12:42<04:36, 69.18s/it]"
          ]
        },
        {
          "output_type": "stream",
          "name": "stdout",
          "text": [
            "🟢 Test Accuracy (%):  83.90130090497738\n",
            "👉 Train Epoch 11:\n",
            "Step 1112: [0/6413 (0%)] Loss: 0.021243\n",
            "Step 1122: [640/6413 (10%)] Loss: 0.007827\n",
            "Step 1132: [1280/6413 (20%)] Loss: 0.003843\n",
            "Step 1142: [1920/6413 (30%)] Loss: 0.004201\n",
            "Step 1152: [2560/6413 (40%)] Loss: 0.003083\n",
            "Step 1162: [3200/6413 (50%)] Loss: 0.024218\n",
            "Step 1172: [3840/6413 (59%)] Loss: 0.002795\n",
            "Step 1182: [4480/6413 (69%)] Loss: 0.059817\n",
            "Step 1192: [5120/6413 (79%)] Loss: 0.029227\n",
            "Step 1202: [5760/6413 (89%)] Loss: 0.005575\n",
            "Step 1212: [1300/6413 (99%)] Loss: 0.002731\n"
          ]
        },
        {
          "output_type": "stream",
          "name": "stderr",
          "text": [
            "\r 80%|████████  | 12/15 [13:51<03:27, 69.20s/it]"
          ]
        },
        {
          "output_type": "stream",
          "name": "stdout",
          "text": [
            "🟢 Test Accuracy (%):  83.79171380090497\n",
            "👉 Train Epoch 12:\n",
            "Step 1213: [0/6413 (0%)] Loss: 0.008263\n",
            "Step 1223: [640/6413 (10%)] Loss: 0.005819\n",
            "Step 1233: [1280/6413 (20%)] Loss: 0.002582\n",
            "Step 1243: [1920/6413 (30%)] Loss: 0.003639\n",
            "Step 1253: [2560/6413 (40%)] Loss: 0.016855\n",
            "Step 1263: [3200/6413 (50%)] Loss: 0.016177\n",
            "Step 1273: [3840/6413 (59%)] Loss: 0.224476\n",
            "Step 1283: [4480/6413 (69%)] Loss: 0.006523\n",
            "Step 1293: [5120/6413 (79%)] Loss: 0.016877\n",
            "Step 1303: [5760/6413 (89%)] Loss: 0.004401\n",
            "Step 1313: [1300/6413 (99%)] Loss: 0.003862\n"
          ]
        },
        {
          "output_type": "stream",
          "name": "stderr",
          "text": [
            "\r 87%|████████▋ | 13/15 [15:00<02:18, 69.25s/it]"
          ]
        },
        {
          "output_type": "stream",
          "name": "stdout",
          "text": [
            "🟢 Test Accuracy (%):  84.33611425339367\n",
            "👉 Train Epoch 13:\n",
            "Step 1314: [0/6413 (0%)] Loss: 0.002792\n",
            "Step 1324: [640/6413 (10%)] Loss: 0.014568\n",
            "Step 1334: [1280/6413 (20%)] Loss: 0.204878\n",
            "Step 1344: [1920/6413 (30%)] Loss: 0.101350\n",
            "Step 1354: [2560/6413 (40%)] Loss: 0.002501\n",
            "Step 1364: [3200/6413 (50%)] Loss: 0.083521\n",
            "Step 1374: [3840/6413 (59%)] Loss: 0.002860\n",
            "Step 1384: [4480/6413 (69%)] Loss: 0.002756\n",
            "Step 1394: [5120/6413 (79%)] Loss: 0.006713\n",
            "Step 1404: [5760/6413 (89%)] Loss: 0.002016\n",
            "Step 1414: [1300/6413 (99%)] Loss: 0.001906\n"
          ]
        },
        {
          "output_type": "stream",
          "name": "stderr",
          "text": [
            "\r 93%|█████████▎| 14/15 [16:10<01:09, 69.26s/it]"
          ]
        },
        {
          "output_type": "stream",
          "name": "stdout",
          "text": [
            "🟢 Test Accuracy (%):  84.03916855203619\n",
            "👉 Train Epoch 14:\n",
            "Step 1415: [0/6413 (0%)] Loss: 0.003558\n",
            "Step 1425: [640/6413 (10%)] Loss: 0.043057\n",
            "Step 1435: [1280/6413 (20%)] Loss: 0.002425\n",
            "Step 1445: [1920/6413 (30%)] Loss: 0.002554\n",
            "Step 1455: [2560/6413 (40%)] Loss: 0.002156\n",
            "Step 1465: [3200/6413 (50%)] Loss: 0.002930\n",
            "Step 1475: [3840/6413 (59%)] Loss: 0.002163\n",
            "Step 1485: [4480/6413 (69%)] Loss: 0.007375\n",
            "Step 1495: [5120/6413 (79%)] Loss: 0.002786\n",
            "Step 1505: [5760/6413 (89%)] Loss: 0.001980\n",
            "Step 1515: [1300/6413 (99%)] Loss: 0.431469\n"
          ]
        },
        {
          "output_type": "stream",
          "name": "stderr",
          "text": [
            "100%|██████████| 15/15 [17:19<00:00, 69.30s/it]"
          ]
        },
        {
          "output_type": "stream",
          "name": "stdout",
          "text": [
            "🟢 Test Accuracy (%):  84.19824660633485\n"
          ]
        },
        {
          "output_type": "stream",
          "name": "stderr",
          "text": [
            "\n"
          ]
        },
        {
          "output_type": "execute_result",
          "data": {
            "text/plain": [
              "BertForSequenceClassification(\n",
              "  (bert): BertModel(\n",
              "    (embeddings): BertEmbeddings(\n",
              "      (word_embeddings): Embedding(30522, 768, padding_idx=0)\n",
              "      (position_embeddings): Embedding(512, 768)\n",
              "      (token_type_embeddings): Embedding(2, 768)\n",
              "      (LayerNorm): LayerNorm((768,), eps=1e-12, elementwise_affine=True)\n",
              "      (dropout): Dropout(p=0.1, inplace=False)\n",
              "    )\n",
              "    (encoder): BertEncoder(\n",
              "      (layer): ModuleList(\n",
              "        (0-11): 12 x BertLayer(\n",
              "          (attention): BertAttention(\n",
              "            (self): BertSdpaSelfAttention(\n",
              "              (query): Linear(in_features=768, out_features=768, bias=True)\n",
              "              (key): Linear(in_features=768, out_features=768, bias=True)\n",
              "              (value): Linear(in_features=768, out_features=768, bias=True)\n",
              "              (dropout): Dropout(p=0.1, inplace=False)\n",
              "            )\n",
              "            (output): BertSelfOutput(\n",
              "              (dense): Linear(in_features=768, out_features=768, bias=True)\n",
              "              (LayerNorm): LayerNorm((768,), eps=1e-12, elementwise_affine=True)\n",
              "              (dropout): Dropout(p=0.1, inplace=False)\n",
              "            )\n",
              "          )\n",
              "          (intermediate): BertIntermediate(\n",
              "            (dense): Linear(in_features=768, out_features=3072, bias=True)\n",
              "            (intermediate_act_fn): GELUActivation()\n",
              "          )\n",
              "          (output): BertOutput(\n",
              "            (dense): Linear(in_features=3072, out_features=768, bias=True)\n",
              "            (LayerNorm): LayerNorm((768,), eps=1e-12, elementwise_affine=True)\n",
              "            (dropout): Dropout(p=0.1, inplace=False)\n",
              "          )\n",
              "        )\n",
              "      )\n",
              "    )\n",
              "    (pooler): BertPooler(\n",
              "      (dense): Linear(in_features=768, out_features=768, bias=True)\n",
              "      (activation): Tanh()\n",
              "    )\n",
              "  )\n",
              "  (dropout): Dropout(p=0.1, inplace=False)\n",
              "  (classifier): Linear(in_features=768, out_features=2, bias=True)\n",
              ")"
            ]
          },
          "metadata": {},
          "execution_count": 7
        }
      ]
    },
    {
      "cell_type": "code",
      "source": [
        "wandb.finish()"
      ],
      "metadata": {
        "colab": {
          "base_uri": "https://localhost:8080/",
          "height": 266,
          "referenced_widgets": [
            "bd1c5085d16c485b9e3e4bbdadc78482",
            "929c6712e04b496fa9e76d81baf61ff7",
            "642879def1694c2baa2ef7a176eab831",
            "f46ba01078b64f84acb28fe5ef3fc8fc",
            "967093042bcf47a6a88fa93478c9fbd5",
            "01cb20191e5d4528a88dfae39b251f43",
            "17042762c6174f22b20ecf725bc7d94a",
            "519bac0d9bf142a68bcee44fe261d4e8"
          ]
        },
        "id": "TyS5cpPqOxeY",
        "outputId": "fdfe411e-3034-4ffd-a767-1748eb7d2a47"
      },
      "id": "TyS5cpPqOxeY",
      "execution_count": 8,
      "outputs": [
        {
          "output_type": "display_data",
          "data": {
            "text/plain": [
              "VBox(children=(Label(value='0.132 MB of 0.132 MB uploaded\\r'), FloatProgress(value=1.0, max=1.0)))"
            ],
            "application/vnd.jupyter.widget-view+json": {
              "version_major": 2,
              "version_minor": 0,
              "model_id": "bd1c5085d16c485b9e3e4bbdadc78482"
            }
          },
          "metadata": {}
        },
        {
          "output_type": "display_data",
          "data": {
            "text/plain": [
              "<IPython.core.display.HTML object>"
            ],
            "text/html": [
              "\n",
              "    <style>\n",
              "        .wandb-row {\n",
              "            display: flex;\n",
              "            flex-direction: row;\n",
              "            flex-wrap: wrap;\n",
              "            justify-content: flex-start;\n",
              "            width: 100%;\n",
              "        }\n",
              "        .wandb-col {\n",
              "            display: flex;\n",
              "            flex-direction: column;\n",
              "            flex-basis: 100%;\n",
              "            flex: 1;\n",
              "            padding: 10px;\n",
              "        }\n",
              "    </style>\n",
              "<div class=\"wandb-row\"><div class=\"wandb-col\"><h3>Run history:</h3><br/><table class=\"wandb\"><tr><td>eval_accuracy_epoch (%)</td><td>▁▄▆▆▇█▆█▆▆▇▇█▇█</td></tr><tr><td>train_loss</td><td>█▇█▇▆▄▃▃▃▃▂▂▄▃▂▂▁▁▁▃▂▁▁▃▂▁▁▂▁▂▁▃▂▁▁▁▁▁▁▁</td></tr><tr><td>train_loss_epoch</td><td>█▆▄▃▂▂▂▂▂▁▁▁▁▁▁</td></tr></table><br/></div><div class=\"wandb-col\"><h3>Run summary:</h3><br/><table class=\"wandb\"><tr><td>eval_accuracy_epoch (%)</td><td>84.19825</td></tr><tr><td>train_loss</td><td>0.43147</td></tr><tr><td>train_loss_epoch</td><td>0.04133</td></tr></table><br/></div></div>"
            ]
          },
          "metadata": {}
        },
        {
          "output_type": "display_data",
          "data": {
            "text/plain": [
              "<IPython.core.display.HTML object>"
            ],
            "text/html": [
              " View run <strong style=\"color:#cdcd00\">whole-jazz-23</strong> at: <a href='https://wandb.ai/nov05/udacity-awsmle-bert-cola/runs/syufkf88' target=\"_blank\">https://wandb.ai/nov05/udacity-awsmle-bert-cola/runs/syufkf88</a><br/> View project at: <a href='https://wandb.ai/nov05/udacity-awsmle-bert-cola' target=\"_blank\">https://wandb.ai/nov05/udacity-awsmle-bert-cola</a><br/>Synced 4 W&B file(s), 0 media file(s), 7 artifact file(s) and 0 other file(s)"
            ]
          },
          "metadata": {}
        },
        {
          "output_type": "display_data",
          "data": {
            "text/plain": [
              "<IPython.core.display.HTML object>"
            ],
            "text/html": [
              "Find logs at: <code>./wandb/run-20241130_075417-syufkf88/logs</code>"
            ]
          },
          "metadata": {}
        }
      ]
    },
    {
      "cell_type": "markdown",
      "source": [
        "# **Explore BERT-base Architecture**  "
      ],
      "metadata": {
        "id": "FBU7kOfxPx2Q"
      },
      "id": "FBU7kOfxPx2Q"
    },
    {
      "cell_type": "markdown",
      "id": "07bf3539",
      "metadata": {
        "id": "07bf3539"
      },
      "source": [
        "```python\n",
        "BertForSequenceClassification(\n",
        "  (bert): BertModel(\n",
        "    (embeddings): BertEmbeddings(\n",
        "      (word_embeddings): Embedding(30522, 768, padding_idx=0)\n",
        "      (position_embeddings): Embedding(512, 768)\n",
        "      (token_type_embeddings): Embedding(2, 768)\n",
        "      (LayerNorm): LayerNorm((768,), eps=1e-12, elementwise_affine=True)\n",
        "      (dropout): Dropout(p=0.1, inplace=False)\n",
        "    )\n",
        "    (encoder): BertEncoder(\n",
        "      (layer): ModuleList(\n",
        "        (0-11): 12 x BertLayer(\n",
        "          (attention): BertAttention(\n",
        "            (self): BertSdpaSelfAttention(\n",
        "              (query): Linear(in_features=768, out_features=768, bias=True)\n",
        "              (key): Linear(in_features=768, out_features=768, bias=True)\n",
        "              (value): Linear(in_features=768, out_features=768, bias=True)\n",
        "              (dropout): Dropout(p=0.1, inplace=False)\n",
        "            )\n",
        "            (output): BertSelfOutput(\n",
        "              (dense): Linear(in_features=768, out_features=768, bias=True)\n",
        "              (LayerNorm): LayerNorm((768,), eps=1e-12, elementwise_affine=True)\n",
        "              (dropout): Dropout(p=0.1, inplace=False)\n",
        "            )\n",
        "          )\n",
        "          (intermediate): BertIntermediate(\n",
        "            (dense): Linear(in_features=768, out_features=3072, bias=True)\n",
        "            (intermediate_act_fn): GELUActivation()\n",
        "          )\n",
        "          (output): BertOutput(\n",
        "            (dense): Linear(in_features=3072, out_features=768, bias=True)\n",
        "            (LayerNorm): LayerNorm((768,), eps=1e-12, elementwise_affine=True)\n",
        "            (dropout): Dropout(p=0.1, inplace=False)\n",
        "          )\n",
        "        )\n",
        "      )\n",
        "    )\n",
        "    (pooler): BertPooler(\n",
        "      (dense): Linear(in_features=768, out_features=768, bias=True)\n",
        "      (activation): Tanh()\n",
        "    )\n",
        "  )\n",
        "  (dropout): Dropout(p=0.1, inplace=False)\n",
        "  (classifier): Linear(in_features=768, out_features=2, bias=True)\n",
        ")\n",
        "```"
      ]
    },
    {
      "cell_type": "code",
      "source": [
        "from transformers import BertForSequenceClassification\n",
        "model = BertForSequenceClassification.from_pretrained(\n",
        "    \"bert-base-uncased\",  # Use the 12-layer BERT model, with an uncased vocab.\n",
        "    num_labels=2,  # The number of output labels--2 for binary classification\n",
        "    output_attentions=False,  # Whether the model returns attentions weights\n",
        "    output_hidden_states=False,  # Whether the model returns all hidden-states\n",
        ")\n",
        "## Some weights of BertForSequenceClassification were not initialized from the model checkpoint\n",
        "## at bert-base-uncased and are newly initialized: ['classifier.bias', 'classifier.weight']\n",
        "## You should probably TRAIN this model on a down-stream task to be able to use\n",
        "## it for predictions and inference."
      ],
      "metadata": {
        "colab": {
          "base_uri": "https://localhost:8080/"
        },
        "id": "Qn8kI-alGXCx",
        "outputId": "2522744d-e66b-4bc7-c3a6-13ce621a4d4c"
      },
      "id": "Qn8kI-alGXCx",
      "execution_count": 9,
      "outputs": [
        {
          "output_type": "stream",
          "name": "stderr",
          "text": [
            "Some weights of BertForSequenceClassification were not initialized from the model checkpoint at bert-base-uncased and are newly initialized: ['classifier.bias', 'classifier.weight']\n",
            "You should probably TRAIN this model on a down-stream task to be able to use it for predictions and inference.\n"
          ]
        }
      ]
    },
    {
      "cell_type": "code",
      "source": [
        "param_names = [name for name,param in model.named_parameters()]\n",
        "print(len(param_names))\n",
        "param_names[:23]  ## bottom layers param names"
      ],
      "metadata": {
        "colab": {
          "base_uri": "https://localhost:8080/"
        },
        "id": "k2ipgtsM5h8R",
        "outputId": "40f9148d-dbc5-41dc-e139-51eedbb473ec"
      },
      "id": "k2ipgtsM5h8R",
      "execution_count": 10,
      "outputs": [
        {
          "output_type": "stream",
          "name": "stdout",
          "text": [
            "201\n"
          ]
        },
        {
          "output_type": "execute_result",
          "data": {
            "text/plain": [
              "['bert.embeddings.word_embeddings.weight',\n",
              " 'bert.embeddings.position_embeddings.weight',\n",
              " 'bert.embeddings.token_type_embeddings.weight',\n",
              " 'bert.embeddings.LayerNorm.weight',\n",
              " 'bert.embeddings.LayerNorm.bias',\n",
              " 'bert.encoder.layer.0.attention.self.query.weight',\n",
              " 'bert.encoder.layer.0.attention.self.query.bias',\n",
              " 'bert.encoder.layer.0.attention.self.key.weight',\n",
              " 'bert.encoder.layer.0.attention.self.key.bias',\n",
              " 'bert.encoder.layer.0.attention.self.value.weight',\n",
              " 'bert.encoder.layer.0.attention.self.value.bias',\n",
              " 'bert.encoder.layer.0.attention.output.dense.weight',\n",
              " 'bert.encoder.layer.0.attention.output.dense.bias',\n",
              " 'bert.encoder.layer.0.attention.output.LayerNorm.weight',\n",
              " 'bert.encoder.layer.0.attention.output.LayerNorm.bias',\n",
              " 'bert.encoder.layer.0.intermediate.dense.weight',\n",
              " 'bert.encoder.layer.0.intermediate.dense.bias',\n",
              " 'bert.encoder.layer.0.output.dense.weight',\n",
              " 'bert.encoder.layer.0.output.dense.bias',\n",
              " 'bert.encoder.layer.0.output.LayerNorm.weight',\n",
              " 'bert.encoder.layer.0.output.LayerNorm.bias',\n",
              " 'bert.encoder.layer.1.attention.self.query.weight',\n",
              " 'bert.encoder.layer.1.attention.self.query.bias']"
            ]
          },
          "metadata": {},
          "execution_count": 10
        }
      ]
    },
    {
      "cell_type": "code",
      "source": [
        "param_names[-10:]  ## top layers param names"
      ],
      "metadata": {
        "colab": {
          "base_uri": "https://localhost:8080/"
        },
        "id": "53veUfFGIxxH",
        "outputId": "dae71594-940e-4dd8-c009-a1311928b1cf"
      },
      "id": "53veUfFGIxxH",
      "execution_count": 11,
      "outputs": [
        {
          "output_type": "execute_result",
          "data": {
            "text/plain": [
              "['bert.encoder.layer.11.intermediate.dense.weight',\n",
              " 'bert.encoder.layer.11.intermediate.dense.bias',\n",
              " 'bert.encoder.layer.11.output.dense.weight',\n",
              " 'bert.encoder.layer.11.output.dense.bias',\n",
              " 'bert.encoder.layer.11.output.LayerNorm.weight',\n",
              " 'bert.encoder.layer.11.output.LayerNorm.bias',\n",
              " 'bert.pooler.dense.weight',\n",
              " 'bert.pooler.dense.bias',\n",
              " 'classifier.weight',\n",
              " 'classifier.bias']"
            ]
          },
          "metadata": {},
          "execution_count": 11
        }
      ]
    },
    {
      "cell_type": "markdown",
      "source": [
        "* 🟢 BERT-base layers from the bottom to the top:  \n",
        "`[embeddings, encoder.layer[0], encoder.layer[1], ..., encoder.layer[11], pooler, classifier]`"
      ],
      "metadata": {
        "id": "CZKWhlCccuwi"
      },
      "id": "CZKWhlCccuwi"
    },
    {
      "cell_type": "code",
      "source": [
        "## access a specific layer\n",
        "for name, params in model.bert.embeddings.named_parameters():\n",
        "    print(name)"
      ],
      "metadata": {
        "colab": {
          "base_uri": "https://localhost:8080/"
        },
        "id": "WOERAIQFWb2B",
        "outputId": "5acc11a4-b271-45aa-d4e6-0bab37735be6"
      },
      "id": "WOERAIQFWb2B",
      "execution_count": 12,
      "outputs": [
        {
          "output_type": "stream",
          "name": "stdout",
          "text": [
            "word_embeddings.weight\n",
            "position_embeddings.weight\n",
            "token_type_embeddings.weight\n",
            "LayerNorm.weight\n",
            "LayerNorm.bias\n"
          ]
        }
      ]
    },
    {
      "cell_type": "code",
      "source": [
        "## access a specific encoder layer\n",
        "for name, params in model.bert.encoder.layer[0].named_parameters():\n",
        "    print(name)"
      ],
      "metadata": {
        "colab": {
          "base_uri": "https://localhost:8080/"
        },
        "id": "tMbtpN9MYbSI",
        "outputId": "b445ac50-a80c-40b4-e0ff-0d530bccdf26"
      },
      "id": "tMbtpN9MYbSI",
      "execution_count": 13,
      "outputs": [
        {
          "output_type": "stream",
          "name": "stdout",
          "text": [
            "attention.self.query.weight\n",
            "attention.self.query.bias\n",
            "attention.self.key.weight\n",
            "attention.self.key.bias\n",
            "attention.self.value.weight\n",
            "attention.self.value.bias\n",
            "attention.output.dense.weight\n",
            "attention.output.dense.bias\n",
            "attention.output.LayerNorm.weight\n",
            "attention.output.LayerNorm.bias\n",
            "intermediate.dense.weight\n",
            "intermediate.dense.bias\n",
            "output.dense.weight\n",
            "output.dense.bias\n",
            "output.LayerNorm.weight\n",
            "output.LayerNorm.bias\n"
          ]
        }
      ]
    },
    {
      "cell_type": "code",
      "source": [
        "## access a specific layer\n",
        "for name, params in model.bert.pooler.named_parameters():\n",
        "    print(name)"
      ],
      "metadata": {
        "colab": {
          "base_uri": "https://localhost:8080/"
        },
        "id": "44ngP2wubsHv",
        "outputId": "f529049b-a40d-499d-876c-48a7670a6823"
      },
      "id": "44ngP2wubsHv",
      "execution_count": 14,
      "outputs": [
        {
          "output_type": "stream",
          "name": "stdout",
          "text": [
            "dense.weight\n",
            "dense.bias\n"
          ]
        }
      ]
    },
    {
      "cell_type": "markdown",
      "id": "wmMGvdGFFy-a",
      "metadata": {
        "id": "wmMGvdGFFy-a"
      },
      "source": [
        "# **Online discussion**    \n",
        "\n",
        "* [Unfreezing all layers of BERT giving good results than freezing and adding custom Forward layer for Fine-Tuning](https://www.reddit.com/r/MLQuestions/comments/1d07qlz/unfreezing_all_layers_of_bert_giving_good_results/)   \n",
        "\n",
        "* [I just can't fine tune BERT over 40% accuracy for text-classification task](https://www.reddit.com/r/MachineLearning/comments/1bx5r8r/d_i_just_cant_fine_tune_bert_over_40_accuracy_for/)  \n",
        "\n",
        "* [Why do we train whole BERT model for fine tuning and not freeze it?](https://www.reddit.com/r/deeplearning/comments/ndmqm6/why_do_we_train_whole_bert_model_for_fine_tuning/)   \n",
        "  > That is how you usually train BERT. It gives more room for improvement and adjustment than just adding a classifier. The pretrained weights are not destroyed since you use very low learning rates, e.g. 1e-5  \n",
        "\n",
        "* [Why don't we regularize the bias term?](https://www.deepwizai.com/simply-deep/why-does-regularizing-the-bias-lead-to-underfitting-in-neural-networks#:~:text=Regularization%20and%20Bias&text=Each%20bias%20controls%20only%20a,a%20significant%20amount%20of%20underfitting.%E2%80%9D)    \n",
        "  > Each bias controls only a single variable. This means that we do not induce too much variance by leaving the biases unregularized. Also, regularizing the bias parameters can introduce a significant amount of underfitting.” May 17, 2021   \n",
        "\n",
        "* > When using weight decay in optimizers (like in AdamW), **the decay is typically applied only to the weights of the model** (usually the parameters associated with the kernels in layers like Linear or Convolutional). Biases, along with parameters like batch normalization weights, generally do not have weight decay applied by default.\n",
        "\n",
        "  > You **don't have to manually freeze the biases** for this behavior to occur. The optimizer can be set up to apply weight decay only to specific parameters (like weights) and exclude others (like biases). This is often done by creating parameter groups in your optimizer configuration."
      ]
    },
    {
      "cell_type": "code",
      "source": [],
      "metadata": {
        "id": "B7LiGF7LTFzk"
      },
      "id": "B7LiGF7LTFzk",
      "execution_count": 14,
      "outputs": []
    }
  ],
  "metadata": {
    "colab": {
      "provenance": [],
      "toc_visible": true,
      "gpuType": "T4",
      "include_colab_link": true
    },
    "kernelspec": {
      "display_name": "Python 3",
      "name": "python3"
    },
    "language_info": {
      "codemirror_mode": {
        "name": "ipython",
        "version": 3
      },
      "file_extension": ".py",
      "mimetype": "text/x-python",
      "name": "python",
      "nbconvert_exporter": "python",
      "pygments_lexer": "ipython3",
      "version": "3.10.15"
    },
    "widgets": {
      "application/vnd.jupyter.widget-state+json": {
        "cb0db163c3ef4f7c97779fe508df1c19": {
          "model_module": "@jupyter-widgets/controls",
          "model_name": "HBoxModel",
          "model_module_version": "1.5.0",
          "state": {
            "_dom_classes": [],
            "_model_module": "@jupyter-widgets/controls",
            "_model_module_version": "1.5.0",
            "_model_name": "HBoxModel",
            "_view_count": null,
            "_view_module": "@jupyter-widgets/controls",
            "_view_module_version": "1.5.0",
            "_view_name": "HBoxView",
            "box_style": "",
            "children": [
              "IPY_MODEL_8102aa333bd3420799826bf16a52f35d",
              "IPY_MODEL_f5420ac5162e468f92920a75cc001f73",
              "IPY_MODEL_bab5174e513146d6b23cd871a08a5b7c"
            ],
            "layout": "IPY_MODEL_6f288e15e88949be99c5f42d408b356d"
          }
        },
        "8102aa333bd3420799826bf16a52f35d": {
          "model_module": "@jupyter-widgets/controls",
          "model_name": "HTMLModel",
          "model_module_version": "1.5.0",
          "state": {
            "_dom_classes": [],
            "_model_module": "@jupyter-widgets/controls",
            "_model_module_version": "1.5.0",
            "_model_name": "HTMLModel",
            "_view_count": null,
            "_view_module": "@jupyter-widgets/controls",
            "_view_module_version": "1.5.0",
            "_view_name": "HTMLView",
            "description": "",
            "description_tooltip": null,
            "layout": "IPY_MODEL_e7b28a5a1abf4361b1a34d51adbaa25c",
            "placeholder": "​",
            "style": "IPY_MODEL_7f4848163e1d45e6ad5de4e4f7dcd901",
            "value": "tokenizer_config.json: 100%"
          }
        },
        "f5420ac5162e468f92920a75cc001f73": {
          "model_module": "@jupyter-widgets/controls",
          "model_name": "FloatProgressModel",
          "model_module_version": "1.5.0",
          "state": {
            "_dom_classes": [],
            "_model_module": "@jupyter-widgets/controls",
            "_model_module_version": "1.5.0",
            "_model_name": "FloatProgressModel",
            "_view_count": null,
            "_view_module": "@jupyter-widgets/controls",
            "_view_module_version": "1.5.0",
            "_view_name": "ProgressView",
            "bar_style": "success",
            "description": "",
            "description_tooltip": null,
            "layout": "IPY_MODEL_569f379bd02d4c54adeac477dd97952f",
            "max": 48,
            "min": 0,
            "orientation": "horizontal",
            "style": "IPY_MODEL_42d5acc6e0ef4643b36d4ef8d494eb6d",
            "value": 48
          }
        },
        "bab5174e513146d6b23cd871a08a5b7c": {
          "model_module": "@jupyter-widgets/controls",
          "model_name": "HTMLModel",
          "model_module_version": "1.5.0",
          "state": {
            "_dom_classes": [],
            "_model_module": "@jupyter-widgets/controls",
            "_model_module_version": "1.5.0",
            "_model_name": "HTMLModel",
            "_view_count": null,
            "_view_module": "@jupyter-widgets/controls",
            "_view_module_version": "1.5.0",
            "_view_name": "HTMLView",
            "description": "",
            "description_tooltip": null,
            "layout": "IPY_MODEL_e2da6ed4b0df44acb06c5a4bd2bf596c",
            "placeholder": "​",
            "style": "IPY_MODEL_5ff049f61b054353bc1a6a6ab10531e1",
            "value": " 48.0/48.0 [00:00&lt;00:00, 2.91kB/s]"
          }
        },
        "6f288e15e88949be99c5f42d408b356d": {
          "model_module": "@jupyter-widgets/base",
          "model_name": "LayoutModel",
          "model_module_version": "1.2.0",
          "state": {
            "_model_module": "@jupyter-widgets/base",
            "_model_module_version": "1.2.0",
            "_model_name": "LayoutModel",
            "_view_count": null,
            "_view_module": "@jupyter-widgets/base",
            "_view_module_version": "1.2.0",
            "_view_name": "LayoutView",
            "align_content": null,
            "align_items": null,
            "align_self": null,
            "border": null,
            "bottom": null,
            "display": null,
            "flex": null,
            "flex_flow": null,
            "grid_area": null,
            "grid_auto_columns": null,
            "grid_auto_flow": null,
            "grid_auto_rows": null,
            "grid_column": null,
            "grid_gap": null,
            "grid_row": null,
            "grid_template_areas": null,
            "grid_template_columns": null,
            "grid_template_rows": null,
            "height": null,
            "justify_content": null,
            "justify_items": null,
            "left": null,
            "margin": null,
            "max_height": null,
            "max_width": null,
            "min_height": null,
            "min_width": null,
            "object_fit": null,
            "object_position": null,
            "order": null,
            "overflow": null,
            "overflow_x": null,
            "overflow_y": null,
            "padding": null,
            "right": null,
            "top": null,
            "visibility": null,
            "width": null
          }
        },
        "e7b28a5a1abf4361b1a34d51adbaa25c": {
          "model_module": "@jupyter-widgets/base",
          "model_name": "LayoutModel",
          "model_module_version": "1.2.0",
          "state": {
            "_model_module": "@jupyter-widgets/base",
            "_model_module_version": "1.2.0",
            "_model_name": "LayoutModel",
            "_view_count": null,
            "_view_module": "@jupyter-widgets/base",
            "_view_module_version": "1.2.0",
            "_view_name": "LayoutView",
            "align_content": null,
            "align_items": null,
            "align_self": null,
            "border": null,
            "bottom": null,
            "display": null,
            "flex": null,
            "flex_flow": null,
            "grid_area": null,
            "grid_auto_columns": null,
            "grid_auto_flow": null,
            "grid_auto_rows": null,
            "grid_column": null,
            "grid_gap": null,
            "grid_row": null,
            "grid_template_areas": null,
            "grid_template_columns": null,
            "grid_template_rows": null,
            "height": null,
            "justify_content": null,
            "justify_items": null,
            "left": null,
            "margin": null,
            "max_height": null,
            "max_width": null,
            "min_height": null,
            "min_width": null,
            "object_fit": null,
            "object_position": null,
            "order": null,
            "overflow": null,
            "overflow_x": null,
            "overflow_y": null,
            "padding": null,
            "right": null,
            "top": null,
            "visibility": null,
            "width": null
          }
        },
        "7f4848163e1d45e6ad5de4e4f7dcd901": {
          "model_module": "@jupyter-widgets/controls",
          "model_name": "DescriptionStyleModel",
          "model_module_version": "1.5.0",
          "state": {
            "_model_module": "@jupyter-widgets/controls",
            "_model_module_version": "1.5.0",
            "_model_name": "DescriptionStyleModel",
            "_view_count": null,
            "_view_module": "@jupyter-widgets/base",
            "_view_module_version": "1.2.0",
            "_view_name": "StyleView",
            "description_width": ""
          }
        },
        "569f379bd02d4c54adeac477dd97952f": {
          "model_module": "@jupyter-widgets/base",
          "model_name": "LayoutModel",
          "model_module_version": "1.2.0",
          "state": {
            "_model_module": "@jupyter-widgets/base",
            "_model_module_version": "1.2.0",
            "_model_name": "LayoutModel",
            "_view_count": null,
            "_view_module": "@jupyter-widgets/base",
            "_view_module_version": "1.2.0",
            "_view_name": "LayoutView",
            "align_content": null,
            "align_items": null,
            "align_self": null,
            "border": null,
            "bottom": null,
            "display": null,
            "flex": null,
            "flex_flow": null,
            "grid_area": null,
            "grid_auto_columns": null,
            "grid_auto_flow": null,
            "grid_auto_rows": null,
            "grid_column": null,
            "grid_gap": null,
            "grid_row": null,
            "grid_template_areas": null,
            "grid_template_columns": null,
            "grid_template_rows": null,
            "height": null,
            "justify_content": null,
            "justify_items": null,
            "left": null,
            "margin": null,
            "max_height": null,
            "max_width": null,
            "min_height": null,
            "min_width": null,
            "object_fit": null,
            "object_position": null,
            "order": null,
            "overflow": null,
            "overflow_x": null,
            "overflow_y": null,
            "padding": null,
            "right": null,
            "top": null,
            "visibility": null,
            "width": null
          }
        },
        "42d5acc6e0ef4643b36d4ef8d494eb6d": {
          "model_module": "@jupyter-widgets/controls",
          "model_name": "ProgressStyleModel",
          "model_module_version": "1.5.0",
          "state": {
            "_model_module": "@jupyter-widgets/controls",
            "_model_module_version": "1.5.0",
            "_model_name": "ProgressStyleModel",
            "_view_count": null,
            "_view_module": "@jupyter-widgets/base",
            "_view_module_version": "1.2.0",
            "_view_name": "StyleView",
            "bar_color": null,
            "description_width": ""
          }
        },
        "e2da6ed4b0df44acb06c5a4bd2bf596c": {
          "model_module": "@jupyter-widgets/base",
          "model_name": "LayoutModel",
          "model_module_version": "1.2.0",
          "state": {
            "_model_module": "@jupyter-widgets/base",
            "_model_module_version": "1.2.0",
            "_model_name": "LayoutModel",
            "_view_count": null,
            "_view_module": "@jupyter-widgets/base",
            "_view_module_version": "1.2.0",
            "_view_name": "LayoutView",
            "align_content": null,
            "align_items": null,
            "align_self": null,
            "border": null,
            "bottom": null,
            "display": null,
            "flex": null,
            "flex_flow": null,
            "grid_area": null,
            "grid_auto_columns": null,
            "grid_auto_flow": null,
            "grid_auto_rows": null,
            "grid_column": null,
            "grid_gap": null,
            "grid_row": null,
            "grid_template_areas": null,
            "grid_template_columns": null,
            "grid_template_rows": null,
            "height": null,
            "justify_content": null,
            "justify_items": null,
            "left": null,
            "margin": null,
            "max_height": null,
            "max_width": null,
            "min_height": null,
            "min_width": null,
            "object_fit": null,
            "object_position": null,
            "order": null,
            "overflow": null,
            "overflow_x": null,
            "overflow_y": null,
            "padding": null,
            "right": null,
            "top": null,
            "visibility": null,
            "width": null
          }
        },
        "5ff049f61b054353bc1a6a6ab10531e1": {
          "model_module": "@jupyter-widgets/controls",
          "model_name": "DescriptionStyleModel",
          "model_module_version": "1.5.0",
          "state": {
            "_model_module": "@jupyter-widgets/controls",
            "_model_module_version": "1.5.0",
            "_model_name": "DescriptionStyleModel",
            "_view_count": null,
            "_view_module": "@jupyter-widgets/base",
            "_view_module_version": "1.2.0",
            "_view_name": "StyleView",
            "description_width": ""
          }
        },
        "531a77915069498bae8852ae12192425": {
          "model_module": "@jupyter-widgets/controls",
          "model_name": "HBoxModel",
          "model_module_version": "1.5.0",
          "state": {
            "_dom_classes": [],
            "_model_module": "@jupyter-widgets/controls",
            "_model_module_version": "1.5.0",
            "_model_name": "HBoxModel",
            "_view_count": null,
            "_view_module": "@jupyter-widgets/controls",
            "_view_module_version": "1.5.0",
            "_view_name": "HBoxView",
            "box_style": "",
            "children": [
              "IPY_MODEL_81c66c46207b46d4bc221f139dba443c",
              "IPY_MODEL_fba265af5abe4ace8cbc6f3c808a57cd",
              "IPY_MODEL_e2d35f39da724e868bf212eb630912d0"
            ],
            "layout": "IPY_MODEL_63a543ff0cd94385947997b44af03dc3"
          }
        },
        "81c66c46207b46d4bc221f139dba443c": {
          "model_module": "@jupyter-widgets/controls",
          "model_name": "HTMLModel",
          "model_module_version": "1.5.0",
          "state": {
            "_dom_classes": [],
            "_model_module": "@jupyter-widgets/controls",
            "_model_module_version": "1.5.0",
            "_model_name": "HTMLModel",
            "_view_count": null,
            "_view_module": "@jupyter-widgets/controls",
            "_view_module_version": "1.5.0",
            "_view_name": "HTMLView",
            "description": "",
            "description_tooltip": null,
            "layout": "IPY_MODEL_3cbbd5f002ca4985b56833730d28398a",
            "placeholder": "​",
            "style": "IPY_MODEL_53c3f45cad7d4a0581c9360c826b72bc",
            "value": "vocab.txt: 100%"
          }
        },
        "fba265af5abe4ace8cbc6f3c808a57cd": {
          "model_module": "@jupyter-widgets/controls",
          "model_name": "FloatProgressModel",
          "model_module_version": "1.5.0",
          "state": {
            "_dom_classes": [],
            "_model_module": "@jupyter-widgets/controls",
            "_model_module_version": "1.5.0",
            "_model_name": "FloatProgressModel",
            "_view_count": null,
            "_view_module": "@jupyter-widgets/controls",
            "_view_module_version": "1.5.0",
            "_view_name": "ProgressView",
            "bar_style": "success",
            "description": "",
            "description_tooltip": null,
            "layout": "IPY_MODEL_f05912de50c3487bb5586564beaab7a9",
            "max": 231508,
            "min": 0,
            "orientation": "horizontal",
            "style": "IPY_MODEL_65cf58221c00465486a6e27e4f0dec11",
            "value": 231508
          }
        },
        "e2d35f39da724e868bf212eb630912d0": {
          "model_module": "@jupyter-widgets/controls",
          "model_name": "HTMLModel",
          "model_module_version": "1.5.0",
          "state": {
            "_dom_classes": [],
            "_model_module": "@jupyter-widgets/controls",
            "_model_module_version": "1.5.0",
            "_model_name": "HTMLModel",
            "_view_count": null,
            "_view_module": "@jupyter-widgets/controls",
            "_view_module_version": "1.5.0",
            "_view_name": "HTMLView",
            "description": "",
            "description_tooltip": null,
            "layout": "IPY_MODEL_fad1cf8141654526bf97428815533b0d",
            "placeholder": "​",
            "style": "IPY_MODEL_f62342f5be96466c99d1fe066fad417d",
            "value": " 232k/232k [00:00&lt;00:00, 2.94MB/s]"
          }
        },
        "63a543ff0cd94385947997b44af03dc3": {
          "model_module": "@jupyter-widgets/base",
          "model_name": "LayoutModel",
          "model_module_version": "1.2.0",
          "state": {
            "_model_module": "@jupyter-widgets/base",
            "_model_module_version": "1.2.0",
            "_model_name": "LayoutModel",
            "_view_count": null,
            "_view_module": "@jupyter-widgets/base",
            "_view_module_version": "1.2.0",
            "_view_name": "LayoutView",
            "align_content": null,
            "align_items": null,
            "align_self": null,
            "border": null,
            "bottom": null,
            "display": null,
            "flex": null,
            "flex_flow": null,
            "grid_area": null,
            "grid_auto_columns": null,
            "grid_auto_flow": null,
            "grid_auto_rows": null,
            "grid_column": null,
            "grid_gap": null,
            "grid_row": null,
            "grid_template_areas": null,
            "grid_template_columns": null,
            "grid_template_rows": null,
            "height": null,
            "justify_content": null,
            "justify_items": null,
            "left": null,
            "margin": null,
            "max_height": null,
            "max_width": null,
            "min_height": null,
            "min_width": null,
            "object_fit": null,
            "object_position": null,
            "order": null,
            "overflow": null,
            "overflow_x": null,
            "overflow_y": null,
            "padding": null,
            "right": null,
            "top": null,
            "visibility": null,
            "width": null
          }
        },
        "3cbbd5f002ca4985b56833730d28398a": {
          "model_module": "@jupyter-widgets/base",
          "model_name": "LayoutModel",
          "model_module_version": "1.2.0",
          "state": {
            "_model_module": "@jupyter-widgets/base",
            "_model_module_version": "1.2.0",
            "_model_name": "LayoutModel",
            "_view_count": null,
            "_view_module": "@jupyter-widgets/base",
            "_view_module_version": "1.2.0",
            "_view_name": "LayoutView",
            "align_content": null,
            "align_items": null,
            "align_self": null,
            "border": null,
            "bottom": null,
            "display": null,
            "flex": null,
            "flex_flow": null,
            "grid_area": null,
            "grid_auto_columns": null,
            "grid_auto_flow": null,
            "grid_auto_rows": null,
            "grid_column": null,
            "grid_gap": null,
            "grid_row": null,
            "grid_template_areas": null,
            "grid_template_columns": null,
            "grid_template_rows": null,
            "height": null,
            "justify_content": null,
            "justify_items": null,
            "left": null,
            "margin": null,
            "max_height": null,
            "max_width": null,
            "min_height": null,
            "min_width": null,
            "object_fit": null,
            "object_position": null,
            "order": null,
            "overflow": null,
            "overflow_x": null,
            "overflow_y": null,
            "padding": null,
            "right": null,
            "top": null,
            "visibility": null,
            "width": null
          }
        },
        "53c3f45cad7d4a0581c9360c826b72bc": {
          "model_module": "@jupyter-widgets/controls",
          "model_name": "DescriptionStyleModel",
          "model_module_version": "1.5.0",
          "state": {
            "_model_module": "@jupyter-widgets/controls",
            "_model_module_version": "1.5.0",
            "_model_name": "DescriptionStyleModel",
            "_view_count": null,
            "_view_module": "@jupyter-widgets/base",
            "_view_module_version": "1.2.0",
            "_view_name": "StyleView",
            "description_width": ""
          }
        },
        "f05912de50c3487bb5586564beaab7a9": {
          "model_module": "@jupyter-widgets/base",
          "model_name": "LayoutModel",
          "model_module_version": "1.2.0",
          "state": {
            "_model_module": "@jupyter-widgets/base",
            "_model_module_version": "1.2.0",
            "_model_name": "LayoutModel",
            "_view_count": null,
            "_view_module": "@jupyter-widgets/base",
            "_view_module_version": "1.2.0",
            "_view_name": "LayoutView",
            "align_content": null,
            "align_items": null,
            "align_self": null,
            "border": null,
            "bottom": null,
            "display": null,
            "flex": null,
            "flex_flow": null,
            "grid_area": null,
            "grid_auto_columns": null,
            "grid_auto_flow": null,
            "grid_auto_rows": null,
            "grid_column": null,
            "grid_gap": null,
            "grid_row": null,
            "grid_template_areas": null,
            "grid_template_columns": null,
            "grid_template_rows": null,
            "height": null,
            "justify_content": null,
            "justify_items": null,
            "left": null,
            "margin": null,
            "max_height": null,
            "max_width": null,
            "min_height": null,
            "min_width": null,
            "object_fit": null,
            "object_position": null,
            "order": null,
            "overflow": null,
            "overflow_x": null,
            "overflow_y": null,
            "padding": null,
            "right": null,
            "top": null,
            "visibility": null,
            "width": null
          }
        },
        "65cf58221c00465486a6e27e4f0dec11": {
          "model_module": "@jupyter-widgets/controls",
          "model_name": "ProgressStyleModel",
          "model_module_version": "1.5.0",
          "state": {
            "_model_module": "@jupyter-widgets/controls",
            "_model_module_version": "1.5.0",
            "_model_name": "ProgressStyleModel",
            "_view_count": null,
            "_view_module": "@jupyter-widgets/base",
            "_view_module_version": "1.2.0",
            "_view_name": "StyleView",
            "bar_color": null,
            "description_width": ""
          }
        },
        "fad1cf8141654526bf97428815533b0d": {
          "model_module": "@jupyter-widgets/base",
          "model_name": "LayoutModel",
          "model_module_version": "1.2.0",
          "state": {
            "_model_module": "@jupyter-widgets/base",
            "_model_module_version": "1.2.0",
            "_model_name": "LayoutModel",
            "_view_count": null,
            "_view_module": "@jupyter-widgets/base",
            "_view_module_version": "1.2.0",
            "_view_name": "LayoutView",
            "align_content": null,
            "align_items": null,
            "align_self": null,
            "border": null,
            "bottom": null,
            "display": null,
            "flex": null,
            "flex_flow": null,
            "grid_area": null,
            "grid_auto_columns": null,
            "grid_auto_flow": null,
            "grid_auto_rows": null,
            "grid_column": null,
            "grid_gap": null,
            "grid_row": null,
            "grid_template_areas": null,
            "grid_template_columns": null,
            "grid_template_rows": null,
            "height": null,
            "justify_content": null,
            "justify_items": null,
            "left": null,
            "margin": null,
            "max_height": null,
            "max_width": null,
            "min_height": null,
            "min_width": null,
            "object_fit": null,
            "object_position": null,
            "order": null,
            "overflow": null,
            "overflow_x": null,
            "overflow_y": null,
            "padding": null,
            "right": null,
            "top": null,
            "visibility": null,
            "width": null
          }
        },
        "f62342f5be96466c99d1fe066fad417d": {
          "model_module": "@jupyter-widgets/controls",
          "model_name": "DescriptionStyleModel",
          "model_module_version": "1.5.0",
          "state": {
            "_model_module": "@jupyter-widgets/controls",
            "_model_module_version": "1.5.0",
            "_model_name": "DescriptionStyleModel",
            "_view_count": null,
            "_view_module": "@jupyter-widgets/base",
            "_view_module_version": "1.2.0",
            "_view_name": "StyleView",
            "description_width": ""
          }
        },
        "8afd2db6289448b68bf362bb357f8214": {
          "model_module": "@jupyter-widgets/controls",
          "model_name": "HBoxModel",
          "model_module_version": "1.5.0",
          "state": {
            "_dom_classes": [],
            "_model_module": "@jupyter-widgets/controls",
            "_model_module_version": "1.5.0",
            "_model_name": "HBoxModel",
            "_view_count": null,
            "_view_module": "@jupyter-widgets/controls",
            "_view_module_version": "1.5.0",
            "_view_name": "HBoxView",
            "box_style": "",
            "children": [
              "IPY_MODEL_5ad3e5011b234ed990d33bc2f412a835",
              "IPY_MODEL_f91143f818e24f77b9a60b38b04b6bfc",
              "IPY_MODEL_67e727243bb54b8f94d90a1d1f39083a"
            ],
            "layout": "IPY_MODEL_c933b6955fe340bdadef15e2751150ec"
          }
        },
        "5ad3e5011b234ed990d33bc2f412a835": {
          "model_module": "@jupyter-widgets/controls",
          "model_name": "HTMLModel",
          "model_module_version": "1.5.0",
          "state": {
            "_dom_classes": [],
            "_model_module": "@jupyter-widgets/controls",
            "_model_module_version": "1.5.0",
            "_model_name": "HTMLModel",
            "_view_count": null,
            "_view_module": "@jupyter-widgets/controls",
            "_view_module_version": "1.5.0",
            "_view_name": "HTMLView",
            "description": "",
            "description_tooltip": null,
            "layout": "IPY_MODEL_6993e9a574b74647937407eb197910a4",
            "placeholder": "​",
            "style": "IPY_MODEL_5ae4b33e6a8849639a1858d6c4d246c0",
            "value": "tokenizer.json: 100%"
          }
        },
        "f91143f818e24f77b9a60b38b04b6bfc": {
          "model_module": "@jupyter-widgets/controls",
          "model_name": "FloatProgressModel",
          "model_module_version": "1.5.0",
          "state": {
            "_dom_classes": [],
            "_model_module": "@jupyter-widgets/controls",
            "_model_module_version": "1.5.0",
            "_model_name": "FloatProgressModel",
            "_view_count": null,
            "_view_module": "@jupyter-widgets/controls",
            "_view_module_version": "1.5.0",
            "_view_name": "ProgressView",
            "bar_style": "success",
            "description": "",
            "description_tooltip": null,
            "layout": "IPY_MODEL_7fe0c7b73f324173b39bf27f6b7a357f",
            "max": 466062,
            "min": 0,
            "orientation": "horizontal",
            "style": "IPY_MODEL_f4ce542430174b51a0ab34b6e9600ed4",
            "value": 466062
          }
        },
        "67e727243bb54b8f94d90a1d1f39083a": {
          "model_module": "@jupyter-widgets/controls",
          "model_name": "HTMLModel",
          "model_module_version": "1.5.0",
          "state": {
            "_dom_classes": [],
            "_model_module": "@jupyter-widgets/controls",
            "_model_module_version": "1.5.0",
            "_model_name": "HTMLModel",
            "_view_count": null,
            "_view_module": "@jupyter-widgets/controls",
            "_view_module_version": "1.5.0",
            "_view_name": "HTMLView",
            "description": "",
            "description_tooltip": null,
            "layout": "IPY_MODEL_75b6910747504185b056d2186f28ed56",
            "placeholder": "​",
            "style": "IPY_MODEL_0d866c3ca93948c58e49d23ccebc9234",
            "value": " 466k/466k [00:00&lt;00:00, 7.06MB/s]"
          }
        },
        "c933b6955fe340bdadef15e2751150ec": {
          "model_module": "@jupyter-widgets/base",
          "model_name": "LayoutModel",
          "model_module_version": "1.2.0",
          "state": {
            "_model_module": "@jupyter-widgets/base",
            "_model_module_version": "1.2.0",
            "_model_name": "LayoutModel",
            "_view_count": null,
            "_view_module": "@jupyter-widgets/base",
            "_view_module_version": "1.2.0",
            "_view_name": "LayoutView",
            "align_content": null,
            "align_items": null,
            "align_self": null,
            "border": null,
            "bottom": null,
            "display": null,
            "flex": null,
            "flex_flow": null,
            "grid_area": null,
            "grid_auto_columns": null,
            "grid_auto_flow": null,
            "grid_auto_rows": null,
            "grid_column": null,
            "grid_gap": null,
            "grid_row": null,
            "grid_template_areas": null,
            "grid_template_columns": null,
            "grid_template_rows": null,
            "height": null,
            "justify_content": null,
            "justify_items": null,
            "left": null,
            "margin": null,
            "max_height": null,
            "max_width": null,
            "min_height": null,
            "min_width": null,
            "object_fit": null,
            "object_position": null,
            "order": null,
            "overflow": null,
            "overflow_x": null,
            "overflow_y": null,
            "padding": null,
            "right": null,
            "top": null,
            "visibility": null,
            "width": null
          }
        },
        "6993e9a574b74647937407eb197910a4": {
          "model_module": "@jupyter-widgets/base",
          "model_name": "LayoutModel",
          "model_module_version": "1.2.0",
          "state": {
            "_model_module": "@jupyter-widgets/base",
            "_model_module_version": "1.2.0",
            "_model_name": "LayoutModel",
            "_view_count": null,
            "_view_module": "@jupyter-widgets/base",
            "_view_module_version": "1.2.0",
            "_view_name": "LayoutView",
            "align_content": null,
            "align_items": null,
            "align_self": null,
            "border": null,
            "bottom": null,
            "display": null,
            "flex": null,
            "flex_flow": null,
            "grid_area": null,
            "grid_auto_columns": null,
            "grid_auto_flow": null,
            "grid_auto_rows": null,
            "grid_column": null,
            "grid_gap": null,
            "grid_row": null,
            "grid_template_areas": null,
            "grid_template_columns": null,
            "grid_template_rows": null,
            "height": null,
            "justify_content": null,
            "justify_items": null,
            "left": null,
            "margin": null,
            "max_height": null,
            "max_width": null,
            "min_height": null,
            "min_width": null,
            "object_fit": null,
            "object_position": null,
            "order": null,
            "overflow": null,
            "overflow_x": null,
            "overflow_y": null,
            "padding": null,
            "right": null,
            "top": null,
            "visibility": null,
            "width": null
          }
        },
        "5ae4b33e6a8849639a1858d6c4d246c0": {
          "model_module": "@jupyter-widgets/controls",
          "model_name": "DescriptionStyleModel",
          "model_module_version": "1.5.0",
          "state": {
            "_model_module": "@jupyter-widgets/controls",
            "_model_module_version": "1.5.0",
            "_model_name": "DescriptionStyleModel",
            "_view_count": null,
            "_view_module": "@jupyter-widgets/base",
            "_view_module_version": "1.2.0",
            "_view_name": "StyleView",
            "description_width": ""
          }
        },
        "7fe0c7b73f324173b39bf27f6b7a357f": {
          "model_module": "@jupyter-widgets/base",
          "model_name": "LayoutModel",
          "model_module_version": "1.2.0",
          "state": {
            "_model_module": "@jupyter-widgets/base",
            "_model_module_version": "1.2.0",
            "_model_name": "LayoutModel",
            "_view_count": null,
            "_view_module": "@jupyter-widgets/base",
            "_view_module_version": "1.2.0",
            "_view_name": "LayoutView",
            "align_content": null,
            "align_items": null,
            "align_self": null,
            "border": null,
            "bottom": null,
            "display": null,
            "flex": null,
            "flex_flow": null,
            "grid_area": null,
            "grid_auto_columns": null,
            "grid_auto_flow": null,
            "grid_auto_rows": null,
            "grid_column": null,
            "grid_gap": null,
            "grid_row": null,
            "grid_template_areas": null,
            "grid_template_columns": null,
            "grid_template_rows": null,
            "height": null,
            "justify_content": null,
            "justify_items": null,
            "left": null,
            "margin": null,
            "max_height": null,
            "max_width": null,
            "min_height": null,
            "min_width": null,
            "object_fit": null,
            "object_position": null,
            "order": null,
            "overflow": null,
            "overflow_x": null,
            "overflow_y": null,
            "padding": null,
            "right": null,
            "top": null,
            "visibility": null,
            "width": null
          }
        },
        "f4ce542430174b51a0ab34b6e9600ed4": {
          "model_module": "@jupyter-widgets/controls",
          "model_name": "ProgressStyleModel",
          "model_module_version": "1.5.0",
          "state": {
            "_model_module": "@jupyter-widgets/controls",
            "_model_module_version": "1.5.0",
            "_model_name": "ProgressStyleModel",
            "_view_count": null,
            "_view_module": "@jupyter-widgets/base",
            "_view_module_version": "1.2.0",
            "_view_name": "StyleView",
            "bar_color": null,
            "description_width": ""
          }
        },
        "75b6910747504185b056d2186f28ed56": {
          "model_module": "@jupyter-widgets/base",
          "model_name": "LayoutModel",
          "model_module_version": "1.2.0",
          "state": {
            "_model_module": "@jupyter-widgets/base",
            "_model_module_version": "1.2.0",
            "_model_name": "LayoutModel",
            "_view_count": null,
            "_view_module": "@jupyter-widgets/base",
            "_view_module_version": "1.2.0",
            "_view_name": "LayoutView",
            "align_content": null,
            "align_items": null,
            "align_self": null,
            "border": null,
            "bottom": null,
            "display": null,
            "flex": null,
            "flex_flow": null,
            "grid_area": null,
            "grid_auto_columns": null,
            "grid_auto_flow": null,
            "grid_auto_rows": null,
            "grid_column": null,
            "grid_gap": null,
            "grid_row": null,
            "grid_template_areas": null,
            "grid_template_columns": null,
            "grid_template_rows": null,
            "height": null,
            "justify_content": null,
            "justify_items": null,
            "left": null,
            "margin": null,
            "max_height": null,
            "max_width": null,
            "min_height": null,
            "min_width": null,
            "object_fit": null,
            "object_position": null,
            "order": null,
            "overflow": null,
            "overflow_x": null,
            "overflow_y": null,
            "padding": null,
            "right": null,
            "top": null,
            "visibility": null,
            "width": null
          }
        },
        "0d866c3ca93948c58e49d23ccebc9234": {
          "model_module": "@jupyter-widgets/controls",
          "model_name": "DescriptionStyleModel",
          "model_module_version": "1.5.0",
          "state": {
            "_model_module": "@jupyter-widgets/controls",
            "_model_module_version": "1.5.0",
            "_model_name": "DescriptionStyleModel",
            "_view_count": null,
            "_view_module": "@jupyter-widgets/base",
            "_view_module_version": "1.2.0",
            "_view_name": "StyleView",
            "description_width": ""
          }
        },
        "6eed380be3684c8d907964b9864564f8": {
          "model_module": "@jupyter-widgets/controls",
          "model_name": "HBoxModel",
          "model_module_version": "1.5.0",
          "state": {
            "_dom_classes": [],
            "_model_module": "@jupyter-widgets/controls",
            "_model_module_version": "1.5.0",
            "_model_name": "HBoxModel",
            "_view_count": null,
            "_view_module": "@jupyter-widgets/controls",
            "_view_module_version": "1.5.0",
            "_view_name": "HBoxView",
            "box_style": "",
            "children": [
              "IPY_MODEL_0eee4d3dc5934cf2af4a22e065f653fb",
              "IPY_MODEL_e475e488df2343be957a9de380b651a5",
              "IPY_MODEL_3401062e63114e8dace09aa430e651fa"
            ],
            "layout": "IPY_MODEL_4e32ad93abd74fa89c06173fbf458a45"
          }
        },
        "0eee4d3dc5934cf2af4a22e065f653fb": {
          "model_module": "@jupyter-widgets/controls",
          "model_name": "HTMLModel",
          "model_module_version": "1.5.0",
          "state": {
            "_dom_classes": [],
            "_model_module": "@jupyter-widgets/controls",
            "_model_module_version": "1.5.0",
            "_model_name": "HTMLModel",
            "_view_count": null,
            "_view_module": "@jupyter-widgets/controls",
            "_view_module_version": "1.5.0",
            "_view_name": "HTMLView",
            "description": "",
            "description_tooltip": null,
            "layout": "IPY_MODEL_00fb53ab8c964b87b435f33029d3e67f",
            "placeholder": "​",
            "style": "IPY_MODEL_d437e19b3239405796368701476b4842",
            "value": "config.json: 100%"
          }
        },
        "e475e488df2343be957a9de380b651a5": {
          "model_module": "@jupyter-widgets/controls",
          "model_name": "FloatProgressModel",
          "model_module_version": "1.5.0",
          "state": {
            "_dom_classes": [],
            "_model_module": "@jupyter-widgets/controls",
            "_model_module_version": "1.5.0",
            "_model_name": "FloatProgressModel",
            "_view_count": null,
            "_view_module": "@jupyter-widgets/controls",
            "_view_module_version": "1.5.0",
            "_view_name": "ProgressView",
            "bar_style": "success",
            "description": "",
            "description_tooltip": null,
            "layout": "IPY_MODEL_4da347ae3463473d95a90f692c4cfba8",
            "max": 570,
            "min": 0,
            "orientation": "horizontal",
            "style": "IPY_MODEL_2275876dd78b4adc8c0303181a330434",
            "value": 570
          }
        },
        "3401062e63114e8dace09aa430e651fa": {
          "model_module": "@jupyter-widgets/controls",
          "model_name": "HTMLModel",
          "model_module_version": "1.5.0",
          "state": {
            "_dom_classes": [],
            "_model_module": "@jupyter-widgets/controls",
            "_model_module_version": "1.5.0",
            "_model_name": "HTMLModel",
            "_view_count": null,
            "_view_module": "@jupyter-widgets/controls",
            "_view_module_version": "1.5.0",
            "_view_name": "HTMLView",
            "description": "",
            "description_tooltip": null,
            "layout": "IPY_MODEL_c7a7b565679d4fceb1920d930d37d6ae",
            "placeholder": "​",
            "style": "IPY_MODEL_188f0aa42c9a48ac9b8472cd305ace36",
            "value": " 570/570 [00:00&lt;00:00, 29.5kB/s]"
          }
        },
        "4e32ad93abd74fa89c06173fbf458a45": {
          "model_module": "@jupyter-widgets/base",
          "model_name": "LayoutModel",
          "model_module_version": "1.2.0",
          "state": {
            "_model_module": "@jupyter-widgets/base",
            "_model_module_version": "1.2.0",
            "_model_name": "LayoutModel",
            "_view_count": null,
            "_view_module": "@jupyter-widgets/base",
            "_view_module_version": "1.2.0",
            "_view_name": "LayoutView",
            "align_content": null,
            "align_items": null,
            "align_self": null,
            "border": null,
            "bottom": null,
            "display": null,
            "flex": null,
            "flex_flow": null,
            "grid_area": null,
            "grid_auto_columns": null,
            "grid_auto_flow": null,
            "grid_auto_rows": null,
            "grid_column": null,
            "grid_gap": null,
            "grid_row": null,
            "grid_template_areas": null,
            "grid_template_columns": null,
            "grid_template_rows": null,
            "height": null,
            "justify_content": null,
            "justify_items": null,
            "left": null,
            "margin": null,
            "max_height": null,
            "max_width": null,
            "min_height": null,
            "min_width": null,
            "object_fit": null,
            "object_position": null,
            "order": null,
            "overflow": null,
            "overflow_x": null,
            "overflow_y": null,
            "padding": null,
            "right": null,
            "top": null,
            "visibility": null,
            "width": null
          }
        },
        "00fb53ab8c964b87b435f33029d3e67f": {
          "model_module": "@jupyter-widgets/base",
          "model_name": "LayoutModel",
          "model_module_version": "1.2.0",
          "state": {
            "_model_module": "@jupyter-widgets/base",
            "_model_module_version": "1.2.0",
            "_model_name": "LayoutModel",
            "_view_count": null,
            "_view_module": "@jupyter-widgets/base",
            "_view_module_version": "1.2.0",
            "_view_name": "LayoutView",
            "align_content": null,
            "align_items": null,
            "align_self": null,
            "border": null,
            "bottom": null,
            "display": null,
            "flex": null,
            "flex_flow": null,
            "grid_area": null,
            "grid_auto_columns": null,
            "grid_auto_flow": null,
            "grid_auto_rows": null,
            "grid_column": null,
            "grid_gap": null,
            "grid_row": null,
            "grid_template_areas": null,
            "grid_template_columns": null,
            "grid_template_rows": null,
            "height": null,
            "justify_content": null,
            "justify_items": null,
            "left": null,
            "margin": null,
            "max_height": null,
            "max_width": null,
            "min_height": null,
            "min_width": null,
            "object_fit": null,
            "object_position": null,
            "order": null,
            "overflow": null,
            "overflow_x": null,
            "overflow_y": null,
            "padding": null,
            "right": null,
            "top": null,
            "visibility": null,
            "width": null
          }
        },
        "d437e19b3239405796368701476b4842": {
          "model_module": "@jupyter-widgets/controls",
          "model_name": "DescriptionStyleModel",
          "model_module_version": "1.5.0",
          "state": {
            "_model_module": "@jupyter-widgets/controls",
            "_model_module_version": "1.5.0",
            "_model_name": "DescriptionStyleModel",
            "_view_count": null,
            "_view_module": "@jupyter-widgets/base",
            "_view_module_version": "1.2.0",
            "_view_name": "StyleView",
            "description_width": ""
          }
        },
        "4da347ae3463473d95a90f692c4cfba8": {
          "model_module": "@jupyter-widgets/base",
          "model_name": "LayoutModel",
          "model_module_version": "1.2.0",
          "state": {
            "_model_module": "@jupyter-widgets/base",
            "_model_module_version": "1.2.0",
            "_model_name": "LayoutModel",
            "_view_count": null,
            "_view_module": "@jupyter-widgets/base",
            "_view_module_version": "1.2.0",
            "_view_name": "LayoutView",
            "align_content": null,
            "align_items": null,
            "align_self": null,
            "border": null,
            "bottom": null,
            "display": null,
            "flex": null,
            "flex_flow": null,
            "grid_area": null,
            "grid_auto_columns": null,
            "grid_auto_flow": null,
            "grid_auto_rows": null,
            "grid_column": null,
            "grid_gap": null,
            "grid_row": null,
            "grid_template_areas": null,
            "grid_template_columns": null,
            "grid_template_rows": null,
            "height": null,
            "justify_content": null,
            "justify_items": null,
            "left": null,
            "margin": null,
            "max_height": null,
            "max_width": null,
            "min_height": null,
            "min_width": null,
            "object_fit": null,
            "object_position": null,
            "order": null,
            "overflow": null,
            "overflow_x": null,
            "overflow_y": null,
            "padding": null,
            "right": null,
            "top": null,
            "visibility": null,
            "width": null
          }
        },
        "2275876dd78b4adc8c0303181a330434": {
          "model_module": "@jupyter-widgets/controls",
          "model_name": "ProgressStyleModel",
          "model_module_version": "1.5.0",
          "state": {
            "_model_module": "@jupyter-widgets/controls",
            "_model_module_version": "1.5.0",
            "_model_name": "ProgressStyleModel",
            "_view_count": null,
            "_view_module": "@jupyter-widgets/base",
            "_view_module_version": "1.2.0",
            "_view_name": "StyleView",
            "bar_color": null,
            "description_width": ""
          }
        },
        "c7a7b565679d4fceb1920d930d37d6ae": {
          "model_module": "@jupyter-widgets/base",
          "model_name": "LayoutModel",
          "model_module_version": "1.2.0",
          "state": {
            "_model_module": "@jupyter-widgets/base",
            "_model_module_version": "1.2.0",
            "_model_name": "LayoutModel",
            "_view_count": null,
            "_view_module": "@jupyter-widgets/base",
            "_view_module_version": "1.2.0",
            "_view_name": "LayoutView",
            "align_content": null,
            "align_items": null,
            "align_self": null,
            "border": null,
            "bottom": null,
            "display": null,
            "flex": null,
            "flex_flow": null,
            "grid_area": null,
            "grid_auto_columns": null,
            "grid_auto_flow": null,
            "grid_auto_rows": null,
            "grid_column": null,
            "grid_gap": null,
            "grid_row": null,
            "grid_template_areas": null,
            "grid_template_columns": null,
            "grid_template_rows": null,
            "height": null,
            "justify_content": null,
            "justify_items": null,
            "left": null,
            "margin": null,
            "max_height": null,
            "max_width": null,
            "min_height": null,
            "min_width": null,
            "object_fit": null,
            "object_position": null,
            "order": null,
            "overflow": null,
            "overflow_x": null,
            "overflow_y": null,
            "padding": null,
            "right": null,
            "top": null,
            "visibility": null,
            "width": null
          }
        },
        "188f0aa42c9a48ac9b8472cd305ace36": {
          "model_module": "@jupyter-widgets/controls",
          "model_name": "DescriptionStyleModel",
          "model_module_version": "1.5.0",
          "state": {
            "_model_module": "@jupyter-widgets/controls",
            "_model_module_version": "1.5.0",
            "_model_name": "DescriptionStyleModel",
            "_view_count": null,
            "_view_module": "@jupyter-widgets/base",
            "_view_module_version": "1.2.0",
            "_view_name": "StyleView",
            "description_width": ""
          }
        },
        "82edecbabb4445e09b266e355c7a9775": {
          "model_module": "@jupyter-widgets/controls",
          "model_name": "HBoxModel",
          "model_module_version": "1.5.0",
          "state": {
            "_dom_classes": [],
            "_model_module": "@jupyter-widgets/controls",
            "_model_module_version": "1.5.0",
            "_model_name": "HBoxModel",
            "_view_count": null,
            "_view_module": "@jupyter-widgets/controls",
            "_view_module_version": "1.5.0",
            "_view_name": "HBoxView",
            "box_style": "",
            "children": [
              "IPY_MODEL_545f0bc2251b46a69ec7b2bf33180ad5",
              "IPY_MODEL_2cff6d39aabd433388cdf0070a475f22",
              "IPY_MODEL_75c72c51bf6f43e2a3a196d022046bb0"
            ],
            "layout": "IPY_MODEL_95c268f89aa344a5b2a5c389f8ee8bb9"
          }
        },
        "545f0bc2251b46a69ec7b2bf33180ad5": {
          "model_module": "@jupyter-widgets/controls",
          "model_name": "HTMLModel",
          "model_module_version": "1.5.0",
          "state": {
            "_dom_classes": [],
            "_model_module": "@jupyter-widgets/controls",
            "_model_module_version": "1.5.0",
            "_model_name": "HTMLModel",
            "_view_count": null,
            "_view_module": "@jupyter-widgets/controls",
            "_view_module_version": "1.5.0",
            "_view_name": "HTMLView",
            "description": "",
            "description_tooltip": null,
            "layout": "IPY_MODEL_d529b2349444421dbc36e247e2c2fce1",
            "placeholder": "​",
            "style": "IPY_MODEL_ab15132b0c744a239e53e399438a01dc",
            "value": "model.safetensors: 100%"
          }
        },
        "2cff6d39aabd433388cdf0070a475f22": {
          "model_module": "@jupyter-widgets/controls",
          "model_name": "FloatProgressModel",
          "model_module_version": "1.5.0",
          "state": {
            "_dom_classes": [],
            "_model_module": "@jupyter-widgets/controls",
            "_model_module_version": "1.5.0",
            "_model_name": "FloatProgressModel",
            "_view_count": null,
            "_view_module": "@jupyter-widgets/controls",
            "_view_module_version": "1.5.0",
            "_view_name": "ProgressView",
            "bar_style": "success",
            "description": "",
            "description_tooltip": null,
            "layout": "IPY_MODEL_a91c934b37c34d16bd645e238bda6e0d",
            "max": 440449768,
            "min": 0,
            "orientation": "horizontal",
            "style": "IPY_MODEL_d913c919654148cab60fa2a5d54d033c",
            "value": 440449768
          }
        },
        "75c72c51bf6f43e2a3a196d022046bb0": {
          "model_module": "@jupyter-widgets/controls",
          "model_name": "HTMLModel",
          "model_module_version": "1.5.0",
          "state": {
            "_dom_classes": [],
            "_model_module": "@jupyter-widgets/controls",
            "_model_module_version": "1.5.0",
            "_model_name": "HTMLModel",
            "_view_count": null,
            "_view_module": "@jupyter-widgets/controls",
            "_view_module_version": "1.5.0",
            "_view_name": "HTMLView",
            "description": "",
            "description_tooltip": null,
            "layout": "IPY_MODEL_acf38333cdd94668934e922151058be0",
            "placeholder": "​",
            "style": "IPY_MODEL_4136fc07b66442df9cd8d7054760d2c5",
            "value": " 440M/440M [00:02&lt;00:00, 234MB/s]"
          }
        },
        "95c268f89aa344a5b2a5c389f8ee8bb9": {
          "model_module": "@jupyter-widgets/base",
          "model_name": "LayoutModel",
          "model_module_version": "1.2.0",
          "state": {
            "_model_module": "@jupyter-widgets/base",
            "_model_module_version": "1.2.0",
            "_model_name": "LayoutModel",
            "_view_count": null,
            "_view_module": "@jupyter-widgets/base",
            "_view_module_version": "1.2.0",
            "_view_name": "LayoutView",
            "align_content": null,
            "align_items": null,
            "align_self": null,
            "border": null,
            "bottom": null,
            "display": null,
            "flex": null,
            "flex_flow": null,
            "grid_area": null,
            "grid_auto_columns": null,
            "grid_auto_flow": null,
            "grid_auto_rows": null,
            "grid_column": null,
            "grid_gap": null,
            "grid_row": null,
            "grid_template_areas": null,
            "grid_template_columns": null,
            "grid_template_rows": null,
            "height": null,
            "justify_content": null,
            "justify_items": null,
            "left": null,
            "margin": null,
            "max_height": null,
            "max_width": null,
            "min_height": null,
            "min_width": null,
            "object_fit": null,
            "object_position": null,
            "order": null,
            "overflow": null,
            "overflow_x": null,
            "overflow_y": null,
            "padding": null,
            "right": null,
            "top": null,
            "visibility": null,
            "width": null
          }
        },
        "d529b2349444421dbc36e247e2c2fce1": {
          "model_module": "@jupyter-widgets/base",
          "model_name": "LayoutModel",
          "model_module_version": "1.2.0",
          "state": {
            "_model_module": "@jupyter-widgets/base",
            "_model_module_version": "1.2.0",
            "_model_name": "LayoutModel",
            "_view_count": null,
            "_view_module": "@jupyter-widgets/base",
            "_view_module_version": "1.2.0",
            "_view_name": "LayoutView",
            "align_content": null,
            "align_items": null,
            "align_self": null,
            "border": null,
            "bottom": null,
            "display": null,
            "flex": null,
            "flex_flow": null,
            "grid_area": null,
            "grid_auto_columns": null,
            "grid_auto_flow": null,
            "grid_auto_rows": null,
            "grid_column": null,
            "grid_gap": null,
            "grid_row": null,
            "grid_template_areas": null,
            "grid_template_columns": null,
            "grid_template_rows": null,
            "height": null,
            "justify_content": null,
            "justify_items": null,
            "left": null,
            "margin": null,
            "max_height": null,
            "max_width": null,
            "min_height": null,
            "min_width": null,
            "object_fit": null,
            "object_position": null,
            "order": null,
            "overflow": null,
            "overflow_x": null,
            "overflow_y": null,
            "padding": null,
            "right": null,
            "top": null,
            "visibility": null,
            "width": null
          }
        },
        "ab15132b0c744a239e53e399438a01dc": {
          "model_module": "@jupyter-widgets/controls",
          "model_name": "DescriptionStyleModel",
          "model_module_version": "1.5.0",
          "state": {
            "_model_module": "@jupyter-widgets/controls",
            "_model_module_version": "1.5.0",
            "_model_name": "DescriptionStyleModel",
            "_view_count": null,
            "_view_module": "@jupyter-widgets/base",
            "_view_module_version": "1.2.0",
            "_view_name": "StyleView",
            "description_width": ""
          }
        },
        "a91c934b37c34d16bd645e238bda6e0d": {
          "model_module": "@jupyter-widgets/base",
          "model_name": "LayoutModel",
          "model_module_version": "1.2.0",
          "state": {
            "_model_module": "@jupyter-widgets/base",
            "_model_module_version": "1.2.0",
            "_model_name": "LayoutModel",
            "_view_count": null,
            "_view_module": "@jupyter-widgets/base",
            "_view_module_version": "1.2.0",
            "_view_name": "LayoutView",
            "align_content": null,
            "align_items": null,
            "align_self": null,
            "border": null,
            "bottom": null,
            "display": null,
            "flex": null,
            "flex_flow": null,
            "grid_area": null,
            "grid_auto_columns": null,
            "grid_auto_flow": null,
            "grid_auto_rows": null,
            "grid_column": null,
            "grid_gap": null,
            "grid_row": null,
            "grid_template_areas": null,
            "grid_template_columns": null,
            "grid_template_rows": null,
            "height": null,
            "justify_content": null,
            "justify_items": null,
            "left": null,
            "margin": null,
            "max_height": null,
            "max_width": null,
            "min_height": null,
            "min_width": null,
            "object_fit": null,
            "object_position": null,
            "order": null,
            "overflow": null,
            "overflow_x": null,
            "overflow_y": null,
            "padding": null,
            "right": null,
            "top": null,
            "visibility": null,
            "width": null
          }
        },
        "d913c919654148cab60fa2a5d54d033c": {
          "model_module": "@jupyter-widgets/controls",
          "model_name": "ProgressStyleModel",
          "model_module_version": "1.5.0",
          "state": {
            "_model_module": "@jupyter-widgets/controls",
            "_model_module_version": "1.5.0",
            "_model_name": "ProgressStyleModel",
            "_view_count": null,
            "_view_module": "@jupyter-widgets/base",
            "_view_module_version": "1.2.0",
            "_view_name": "StyleView",
            "bar_color": null,
            "description_width": ""
          }
        },
        "acf38333cdd94668934e922151058be0": {
          "model_module": "@jupyter-widgets/base",
          "model_name": "LayoutModel",
          "model_module_version": "1.2.0",
          "state": {
            "_model_module": "@jupyter-widgets/base",
            "_model_module_version": "1.2.0",
            "_model_name": "LayoutModel",
            "_view_count": null,
            "_view_module": "@jupyter-widgets/base",
            "_view_module_version": "1.2.0",
            "_view_name": "LayoutView",
            "align_content": null,
            "align_items": null,
            "align_self": null,
            "border": null,
            "bottom": null,
            "display": null,
            "flex": null,
            "flex_flow": null,
            "grid_area": null,
            "grid_auto_columns": null,
            "grid_auto_flow": null,
            "grid_auto_rows": null,
            "grid_column": null,
            "grid_gap": null,
            "grid_row": null,
            "grid_template_areas": null,
            "grid_template_columns": null,
            "grid_template_rows": null,
            "height": null,
            "justify_content": null,
            "justify_items": null,
            "left": null,
            "margin": null,
            "max_height": null,
            "max_width": null,
            "min_height": null,
            "min_width": null,
            "object_fit": null,
            "object_position": null,
            "order": null,
            "overflow": null,
            "overflow_x": null,
            "overflow_y": null,
            "padding": null,
            "right": null,
            "top": null,
            "visibility": null,
            "width": null
          }
        },
        "4136fc07b66442df9cd8d7054760d2c5": {
          "model_module": "@jupyter-widgets/controls",
          "model_name": "DescriptionStyleModel",
          "model_module_version": "1.5.0",
          "state": {
            "_model_module": "@jupyter-widgets/controls",
            "_model_module_version": "1.5.0",
            "_model_name": "DescriptionStyleModel",
            "_view_count": null,
            "_view_module": "@jupyter-widgets/base",
            "_view_module_version": "1.2.0",
            "_view_name": "StyleView",
            "description_width": ""
          }
        },
        "bd1c5085d16c485b9e3e4bbdadc78482": {
          "model_module": "@jupyter-widgets/controls",
          "model_name": "VBoxModel",
          "model_module_version": "1.5.0",
          "state": {
            "_dom_classes": [],
            "_model_module": "@jupyter-widgets/controls",
            "_model_module_version": "1.5.0",
            "_model_name": "VBoxModel",
            "_view_count": null,
            "_view_module": "@jupyter-widgets/controls",
            "_view_module_version": "1.5.0",
            "_view_name": "VBoxView",
            "box_style": "",
            "children": [
              "IPY_MODEL_929c6712e04b496fa9e76d81baf61ff7",
              "IPY_MODEL_642879def1694c2baa2ef7a176eab831"
            ],
            "layout": "IPY_MODEL_f46ba01078b64f84acb28fe5ef3fc8fc"
          }
        },
        "929c6712e04b496fa9e76d81baf61ff7": {
          "model_module": "@jupyter-widgets/controls",
          "model_name": "LabelModel",
          "model_module_version": "1.5.0",
          "state": {
            "_dom_classes": [],
            "_model_module": "@jupyter-widgets/controls",
            "_model_module_version": "1.5.0",
            "_model_name": "LabelModel",
            "_view_count": null,
            "_view_module": "@jupyter-widgets/controls",
            "_view_module_version": "1.5.0",
            "_view_name": "LabelView",
            "description": "",
            "description_tooltip": null,
            "layout": "IPY_MODEL_967093042bcf47a6a88fa93478c9fbd5",
            "placeholder": "​",
            "style": "IPY_MODEL_01cb20191e5d4528a88dfae39b251f43",
            "value": "0.133 MB of 0.133 MB uploaded\r"
          }
        },
        "642879def1694c2baa2ef7a176eab831": {
          "model_module": "@jupyter-widgets/controls",
          "model_name": "FloatProgressModel",
          "model_module_version": "1.5.0",
          "state": {
            "_dom_classes": [],
            "_model_module": "@jupyter-widgets/controls",
            "_model_module_version": "1.5.0",
            "_model_name": "FloatProgressModel",
            "_view_count": null,
            "_view_module": "@jupyter-widgets/controls",
            "_view_module_version": "1.5.0",
            "_view_name": "ProgressView",
            "bar_style": "",
            "description": "",
            "description_tooltip": null,
            "layout": "IPY_MODEL_17042762c6174f22b20ecf725bc7d94a",
            "max": 1,
            "min": 0,
            "orientation": "horizontal",
            "style": "IPY_MODEL_519bac0d9bf142a68bcee44fe261d4e8",
            "value": 1
          }
        },
        "f46ba01078b64f84acb28fe5ef3fc8fc": {
          "model_module": "@jupyter-widgets/base",
          "model_name": "LayoutModel",
          "model_module_version": "1.2.0",
          "state": {
            "_model_module": "@jupyter-widgets/base",
            "_model_module_version": "1.2.0",
            "_model_name": "LayoutModel",
            "_view_count": null,
            "_view_module": "@jupyter-widgets/base",
            "_view_module_version": "1.2.0",
            "_view_name": "LayoutView",
            "align_content": null,
            "align_items": null,
            "align_self": null,
            "border": null,
            "bottom": null,
            "display": null,
            "flex": null,
            "flex_flow": null,
            "grid_area": null,
            "grid_auto_columns": null,
            "grid_auto_flow": null,
            "grid_auto_rows": null,
            "grid_column": null,
            "grid_gap": null,
            "grid_row": null,
            "grid_template_areas": null,
            "grid_template_columns": null,
            "grid_template_rows": null,
            "height": null,
            "justify_content": null,
            "justify_items": null,
            "left": null,
            "margin": null,
            "max_height": null,
            "max_width": null,
            "min_height": null,
            "min_width": null,
            "object_fit": null,
            "object_position": null,
            "order": null,
            "overflow": null,
            "overflow_x": null,
            "overflow_y": null,
            "padding": null,
            "right": null,
            "top": null,
            "visibility": null,
            "width": null
          }
        },
        "967093042bcf47a6a88fa93478c9fbd5": {
          "model_module": "@jupyter-widgets/base",
          "model_name": "LayoutModel",
          "model_module_version": "1.2.0",
          "state": {
            "_model_module": "@jupyter-widgets/base",
            "_model_module_version": "1.2.0",
            "_model_name": "LayoutModel",
            "_view_count": null,
            "_view_module": "@jupyter-widgets/base",
            "_view_module_version": "1.2.0",
            "_view_name": "LayoutView",
            "align_content": null,
            "align_items": null,
            "align_self": null,
            "border": null,
            "bottom": null,
            "display": null,
            "flex": null,
            "flex_flow": null,
            "grid_area": null,
            "grid_auto_columns": null,
            "grid_auto_flow": null,
            "grid_auto_rows": null,
            "grid_column": null,
            "grid_gap": null,
            "grid_row": null,
            "grid_template_areas": null,
            "grid_template_columns": null,
            "grid_template_rows": null,
            "height": null,
            "justify_content": null,
            "justify_items": null,
            "left": null,
            "margin": null,
            "max_height": null,
            "max_width": null,
            "min_height": null,
            "min_width": null,
            "object_fit": null,
            "object_position": null,
            "order": null,
            "overflow": null,
            "overflow_x": null,
            "overflow_y": null,
            "padding": null,
            "right": null,
            "top": null,
            "visibility": null,
            "width": null
          }
        },
        "01cb20191e5d4528a88dfae39b251f43": {
          "model_module": "@jupyter-widgets/controls",
          "model_name": "DescriptionStyleModel",
          "model_module_version": "1.5.0",
          "state": {
            "_model_module": "@jupyter-widgets/controls",
            "_model_module_version": "1.5.0",
            "_model_name": "DescriptionStyleModel",
            "_view_count": null,
            "_view_module": "@jupyter-widgets/base",
            "_view_module_version": "1.2.0",
            "_view_name": "StyleView",
            "description_width": ""
          }
        },
        "17042762c6174f22b20ecf725bc7d94a": {
          "model_module": "@jupyter-widgets/base",
          "model_name": "LayoutModel",
          "model_module_version": "1.2.0",
          "state": {
            "_model_module": "@jupyter-widgets/base",
            "_model_module_version": "1.2.0",
            "_model_name": "LayoutModel",
            "_view_count": null,
            "_view_module": "@jupyter-widgets/base",
            "_view_module_version": "1.2.0",
            "_view_name": "LayoutView",
            "align_content": null,
            "align_items": null,
            "align_self": null,
            "border": null,
            "bottom": null,
            "display": null,
            "flex": null,
            "flex_flow": null,
            "grid_area": null,
            "grid_auto_columns": null,
            "grid_auto_flow": null,
            "grid_auto_rows": null,
            "grid_column": null,
            "grid_gap": null,
            "grid_row": null,
            "grid_template_areas": null,
            "grid_template_columns": null,
            "grid_template_rows": null,
            "height": null,
            "justify_content": null,
            "justify_items": null,
            "left": null,
            "margin": null,
            "max_height": null,
            "max_width": null,
            "min_height": null,
            "min_width": null,
            "object_fit": null,
            "object_position": null,
            "order": null,
            "overflow": null,
            "overflow_x": null,
            "overflow_y": null,
            "padding": null,
            "right": null,
            "top": null,
            "visibility": null,
            "width": null
          }
        },
        "519bac0d9bf142a68bcee44fe261d4e8": {
          "model_module": "@jupyter-widgets/controls",
          "model_name": "ProgressStyleModel",
          "model_module_version": "1.5.0",
          "state": {
            "_model_module": "@jupyter-widgets/controls",
            "_model_module_version": "1.5.0",
            "_model_name": "ProgressStyleModel",
            "_view_count": null,
            "_view_module": "@jupyter-widgets/base",
            "_view_module_version": "1.2.0",
            "_view_name": "StyleView",
            "bar_color": null,
            "description_width": ""
          }
        }
      }
    },
    "accelerator": "GPU"
  },
  "nbformat": 4,
  "nbformat_minor": 5
}