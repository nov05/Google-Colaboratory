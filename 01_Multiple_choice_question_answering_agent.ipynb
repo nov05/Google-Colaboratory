{
  "cells": [
    {
      "cell_type": "markdown",
      "source": [
        "* Notebook modified by nov05 on 2025-06-11"
      ],
      "metadata": {
        "id": "NN298tXEnGzp"
      },
      "id": "NN298tXEnGzp"
    },
    {
      "cell_type": "code",
      "source": [
        "%%capture\n",
        "!pip install --upgrade datasets\n",
        "## Successfully installed datasets-3.6.0 fsspec-2025.3.0\n",
        "!pip install langchain_google_vertexai langchain_core langgraph\n",
        "## Successfully installed httpx-sse-0.4.0 langchain_google_vertexai-2.0.24 langgraph-0.4.8 langgraph-checkpoint-2.0.26\n",
        "## langgraph-prebuilt-0.2.2 langgraph-sdk-0.1.70 ormsgpack-1.10.0 pyarrow-19.0.1 validators-0.35.0\n",
        "!pip install -U langchain-community\n",
        "## Successfully installed dataclasses-json-0.6.7 langchain-community-0.3.25 langchain-core-0.3.65 langsmith-0.3.45\n",
        "## marshmallow-3.26.1 mypy-extensions-1.1.0 pydantic-settings-2.9.1 python-dotenv-1.1.0 typing-inspect-0.9.0\n",
        "!pip install -U duckduckgo-search\n",
        "## Successfully installed duckduckgo-search-8.0.3 primp-0.15.0\n",
        "!pip install arxiv\n",
        "## Successfully installed arxiv-2.2.0 feedparser-6.0.11 sgmllib3k-1.0.0\n",
        "!pip install wikipedia\n",
        "## Successfully installed wikipedia-1.4.0"
      ],
      "metadata": {
        "id": "p1h0ySx0naeS"
      },
      "id": "p1h0ySx0naeS",
      "execution_count": 1,
      "outputs": []
    },
    {
      "cell_type": "code",
      "source": [
        "from google.colab import drive\n",
        "drive.mount('/content/drive')"
      ],
      "metadata": {
        "colab": {
          "base_uri": "https://localhost:8080/"
        },
        "id": "gk8iA_VgpEEu",
        "outputId": "87a386a2-07de-42a6-eb2b-570c4bac65ee"
      },
      "id": "gk8iA_VgpEEu",
      "execution_count": 2,
      "outputs": [
        {
          "output_type": "stream",
          "name": "stdout",
          "text": [
            "Mounted at /content/drive\n"
          ]
        }
      ]
    },
    {
      "cell_type": "code",
      "source": [
        "from google.oauth2 import service_account\n",
        "json_path = \"/content/drive/MyDrive/config/20250604_google_service_account_key-lucid-bebop-461722-c5-a91d4ab1be75.json\"\n",
        "credentials = service_account.Credentials.from_service_account_file(json_path)\n",
        "credentials"
      ],
      "metadata": {
        "colab": {
          "base_uri": "https://localhost:8080/"
        },
        "id": "ryD1_Qr2pJnZ",
        "outputId": "a04066da-9d17-4311-aa25-e6949da78215"
      },
      "id": "ryD1_Qr2pJnZ",
      "execution_count": 3,
      "outputs": [
        {
          "output_type": "execute_result",
          "data": {
            "text/plain": [
              "<google.oauth2.service_account.Credentials at 0x7b62844cf810>"
            ]
          },
          "metadata": {},
          "execution_count": 3
        }
      ]
    },
    {
      "cell_type": "markdown",
      "source": [
        "# 🟢 **Question-answering multiple choice questions**"
      ],
      "metadata": {
        "id": "fuqDP1hb4BuJ"
      },
      "id": "fuqDP1hb4BuJ"
    },
    {
      "cell_type": "markdown",
      "source": [
        "Firts, let's download a public MMLU [dataset](https://huggingface.co/datasets/cais/mmlu) from `HuggingFace`:\n",
        "\n",
        "> This is a massive **multitask test** consisting of multiple-choice questions from various branches of knowledge. The test spans subjects in the humanities, social sciences, hard sciences, and other areas that are important for some people to learn. This covers 57 tasks including elementary mathematics, US history, computer science, law, and more. To attain high accuracy on this test, models must possess extensive **world knowledge** and **problem solving ability**."
      ],
      "metadata": {
        "id": "wE8VvI6643dz"
      },
      "id": "wE8VvI6643dz"
    },
    {
      "cell_type": "markdown",
      "source": [
        "⚠️ Nov05: Here you would need to configure the `HF_TOKEN` enviroment variable of this notebook. Get your `HuggingFace` API token at https://huggingface.co/settings/tokens ."
      ],
      "metadata": {
        "id": "hMQiPT2eda28"
      },
      "id": "hMQiPT2eda28"
    },
    {
      "cell_type": "code",
      "source": [
        "from datasets import load_dataset\n",
        "ds = load_dataset(\"cais/mmlu\", \"high_school_geography\")"
      ],
      "metadata": {
        "id": "X5TSZkxd6njZ",
        "colab": {
          "base_uri": "https://localhost:8080/",
          "height": 273,
          "referenced_widgets": [
            "427d4f7301974174bd774c48d156ff57",
            "748478a13d2b407182e577741c11969e",
            "66caf4e85dd0486e9502fb41161353a1",
            "38ee2d3f99d04638ad85df14d01c5cd4",
            "e56fa610c31d423b91100885d77d2d4a",
            "7c9537b9189a4e0981cbadbafca8577f",
            "40c093ff42be4a88943888caecd3929e",
            "aee36f346c7f4ff8a89c86304ee906d7",
            "221e041ccc584eab82211016ce7a6fd7",
            "b75c69ca119c4cf4bfe1b23d1dd84fe3",
            "9371916844b94a8a94efb8503a22e72a",
            "c8a515fdfdfe4e1cbbdd202d2df4fa96",
            "ba5c1b2cd724430288339fce8f7901dd",
            "fedad0ebbc4c4ca49da1523bef067f4b",
            "ef4567c52246447e8077d053dc294fcc",
            "ddf0830025d043b49573d7913b17c184",
            "1850af1fe52948bcb3137c354c07452b",
            "46fb85ed9cb0458786280c0cb4df88cc",
            "959e88df2e8840d284db129160e4ecac",
            "1671de5557aa4da3bc6de381ace8ecb7",
            "1c0938b4c12b47ca87b716c21f8003ae",
            "6dde14b26b854ad2bcac6964ec898ce8",
            "530615bec2ee4e7f893d491a8fb4d3e9",
            "8aea700a5a684214a3fdd333edbaae88",
            "443a67c565f04486b0833bf0992e68f3",
            "760bf96be7b845cebf0237e06ea2af30",
            "23c74bb568004124a2ab2a9aa707f2e2",
            "dbcb3568564042599d00c9c815c32d51",
            "fb6127c9638143b3b572e6b026849126",
            "8ca059201d1447298c345377fd072979",
            "8e6d951788b341b2bb9ae6bdf60006c8",
            "c9991d07dee74dddbb7dfd91c7413a70",
            "a98147cbec6b41c19c4161ff0ed27d94",
            "0d776e0ab49b406c971ba19a20a62c4e",
            "c3e0fde7b1be4c9a97b6b3320005885f",
            "bf68d2796eb84415b1d9a3dca1d3a5cc",
            "6a79866723a4480797ea8c1c3b607392",
            "2bf6114b46394c91a7f5dcdc2721deeb",
            "ec866caaedae419487b14ce6e10c4b0c",
            "322126bbd4fd42ac90917413eb224daa",
            "1f0056404dc64681904f31340f2d0e77",
            "e5f564447d2f47c7bc0fd46f12da78f0",
            "d1db81555f964c22afe5cb4a25ccece6",
            "248adf112b2c49f79fd8b93e42a5a409",
            "9abaa3defb3043aba1ed77930548d55e",
            "60ee9f1ce5f34d2b8c75c701a4c44db1",
            "69dc8cd8aa644376959e808b7212de55",
            "4c2c7197f4e947b7b489e79275b2b855",
            "ef9f44dcc7e24c7dbb0a10dc1a361da0",
            "30336105d8bf4297a75e5fefc701d39c",
            "7ab43385469c4308bda663a99b105057",
            "8fbf7b5e62d740699e6189e9315a7186",
            "77c59e3be79d482cafafb7d354f5ec4e",
            "55acad1f3d9947679c9ec3afc0a9c36b",
            "af9f270b0b2443508906e894fd3d2d6d",
            "30e5502664f94901bd37c39ece845b07",
            "37ff0ad0a2334f99ba98d12f61e63911",
            "69042117c8f644e3bc8a12734088aff4",
            "5151459e44c641118718be7aeef92d97",
            "ec2d203ad7c649678fe50a94869b715d",
            "50bd31b1bad74dbf9652f6443c4270db",
            "8db9a744ebd6413694d5ef556b99a605",
            "57d47ee0b71d45379410a78f2a0286ec",
            "70a48126902d452880b42e2e30639d90",
            "aedd0e332d5d454c9e2d039f256d7ad2",
            "35289e2ffb7b4da1917bba785c819bf5",
            "2a6d16d2ce0d49aba6c40514100e89f5",
            "10c2e4b3074541458eb68786d9618c95",
            "030795c4705a432289558435dc09b856",
            "43e8d3df74f748eca17682f9f2454a2a",
            "33a426417840495ab8526837cad35395",
            "9abbf157fad0460bab3acbf51ad1e677",
            "eda55a61038f4c968fa50d86ce272b6d",
            "c040f163a30847c9885705d2e198ef92",
            "dd1745b87672472bb8979d23a6d6d0e8",
            "e9da38a21ba944d681930fd33a25cc76",
            "205ad6dabc35439e9b2872fbf6594d02",
            "f9169c77e84148108c3728f0de1d917f",
            "0fd89ea0f71c48f5ac1db55394f13789",
            "0cd3fb3952014d63add5c3e8e7a59aa8",
            "28642d523a4f470fa9c55c28fe263859",
            "b61585b3e29e4bde9fdbe4e0319f5cd5",
            "0626f12d6c074c95b8f85406acc17b5e",
            "43ddfbc7a81e463b92aac3638b279c76",
            "d0845f6d8d43448e8c108aa56c479f1e",
            "70177861fd574a8fbf4ce0b4280fc687",
            "c45c1f281f734c5d94ff2aaef7a782c9",
            "6b215f653c3240d295a249c334f50118"
          ]
        },
        "outputId": "ea5676d7-c697-4916-f598-6e211b9c9bed"
      },
      "id": "X5TSZkxd6njZ",
      "execution_count": 4,
      "outputs": [
        {
          "output_type": "display_data",
          "data": {
            "text/plain": [
              "README.md:   0%|          | 0.00/53.2k [00:00<?, ?B/s]"
            ],
            "application/vnd.jupyter.widget-view+json": {
              "version_major": 2,
              "version_minor": 0,
              "model_id": "427d4f7301974174bd774c48d156ff57"
            }
          },
          "metadata": {}
        },
        {
          "output_type": "display_data",
          "data": {
            "text/plain": [
              "dataset_infos.json:   0%|          | 0.00/138k [00:00<?, ?B/s]"
            ],
            "application/vnd.jupyter.widget-view+json": {
              "version_major": 2,
              "version_minor": 0,
              "model_id": "c8a515fdfdfe4e1cbbdd202d2df4fa96"
            }
          },
          "metadata": {}
        },
        {
          "output_type": "display_data",
          "data": {
            "text/plain": [
              "test-00000-of-00001.parquet:   0%|          | 0.00/28.2k [00:00<?, ?B/s]"
            ],
            "application/vnd.jupyter.widget-view+json": {
              "version_major": 2,
              "version_minor": 0,
              "model_id": "530615bec2ee4e7f893d491a8fb4d3e9"
            }
          },
          "metadata": {}
        },
        {
          "output_type": "display_data",
          "data": {
            "text/plain": [
              "validation-00000-of-00001.parquet:   0%|          | 0.00/6.16k [00:00<?, ?B/s]"
            ],
            "application/vnd.jupyter.widget-view+json": {
              "version_major": 2,
              "version_minor": 0,
              "model_id": "0d776e0ab49b406c971ba19a20a62c4e"
            }
          },
          "metadata": {}
        },
        {
          "output_type": "display_data",
          "data": {
            "text/plain": [
              "dev-00000-of-00001.parquet:   0%|          | 0.00/3.93k [00:00<?, ?B/s]"
            ],
            "application/vnd.jupyter.widget-view+json": {
              "version_major": 2,
              "version_minor": 0,
              "model_id": "9abaa3defb3043aba1ed77930548d55e"
            }
          },
          "metadata": {}
        },
        {
          "output_type": "display_data",
          "data": {
            "text/plain": [
              "Generating test split:   0%|          | 0/198 [00:00<?, ? examples/s]"
            ],
            "application/vnd.jupyter.widget-view+json": {
              "version_major": 2,
              "version_minor": 0,
              "model_id": "30e5502664f94901bd37c39ece845b07"
            }
          },
          "metadata": {}
        },
        {
          "output_type": "display_data",
          "data": {
            "text/plain": [
              "Generating validation split:   0%|          | 0/22 [00:00<?, ? examples/s]"
            ],
            "application/vnd.jupyter.widget-view+json": {
              "version_major": 2,
              "version_minor": 0,
              "model_id": "2a6d16d2ce0d49aba6c40514100e89f5"
            }
          },
          "metadata": {}
        },
        {
          "output_type": "display_data",
          "data": {
            "text/plain": [
              "Generating dev split:   0%|          | 0/5 [00:00<?, ? examples/s]"
            ],
            "application/vnd.jupyter.widget-view+json": {
              "version_major": 2,
              "version_minor": 0,
              "model_id": "f9169c77e84148108c3728f0de1d917f"
            }
          },
          "metadata": {}
        }
      ]
    },
    {
      "cell_type": "markdown",
      "source": [
        "We can explore the dataset:"
      ],
      "metadata": {
        "id": "n8TX1o8Y5J3_"
      },
      "id": "n8TX1o8Y5J3_"
    },
    {
      "cell_type": "code",
      "source": [
        "ds_dict = ds[\"test\"].take(100).to_dict()\n",
        "print(ds_dict[\"question\"][0])"
      ],
      "metadata": {
        "id": "qBpsljC26sEY",
        "colab": {
          "base_uri": "https://localhost:8080/"
        },
        "outputId": "14b3d795-51ca-43e3-add9-bc06cbd6334a"
      },
      "id": "qBpsljC26sEY",
      "execution_count": 5,
      "outputs": [
        {
          "output_type": "stream",
          "name": "stdout",
          "text": [
            "The main factor preventing subsistence economies from advancing economically is the lack of\n"
          ]
        }
      ]
    },
    {
      "cell_type": "code",
      "source": [
        "print(ds_dict[\"choices\"][0])"
      ],
      "metadata": {
        "colab": {
          "base_uri": "https://localhost:8080/"
        },
        "id": "iorlDQLqQ6bZ",
        "outputId": "49db4f06-4f9d-4440-e1cd-fedb33403de2"
      },
      "id": "iorlDQLqQ6bZ",
      "execution_count": 6,
      "outputs": [
        {
          "output_type": "stream",
          "name": "stdout",
          "text": [
            "['a currency.', 'a well-connected transportation infrastructure.', 'government activity.', 'a banking service.']\n"
          ]
        }
      ]
    },
    {
      "cell_type": "code",
      "source": [
        "print(ds_dict.keys())"
      ],
      "metadata": {
        "colab": {
          "base_uri": "https://localhost:8080/"
        },
        "id": "2B9ZOte1oKf2",
        "outputId": "e3f795df-5832-4859-93be-5f71a49fb9f2"
      },
      "id": "2B9ZOte1oKf2",
      "execution_count": 7,
      "outputs": [
        {
          "output_type": "stream",
          "name": "stdout",
          "text": [
            "dict_keys(['question', 'subject', 'choices', 'answer'])\n"
          ]
        }
      ]
    },
    {
      "cell_type": "code",
      "source": [
        "# ds_dict[\"answers\"][0][\"aliases\"][0]\n",
        "ds_dict[\"answer\"][0]"
      ],
      "metadata": {
        "colab": {
          "base_uri": "https://localhost:8080/"
        },
        "id": "72q6HKg57U79",
        "outputId": "25f3115b-b6c9-4ae5-b57c-26915aac7b23"
      },
      "id": "72q6HKg57U79",
      "execution_count": 8,
      "outputs": [
        {
          "output_type": "execute_result",
          "data": {
            "text/plain": [
              "1"
            ]
          },
          "metadata": {},
          "execution_count": 8
        }
      ]
    },
    {
      "cell_type": "markdown",
      "source": [
        "## 👉 **Create a research agent**  "
      ],
      "metadata": {
        "id": "j00tEtZiS-hU"
      },
      "id": "j00tEtZiS-hU"
    },
    {
      "cell_type": "markdown",
      "source": [
        "Now, let's create our research agent (pay attention to how we put together the system prompt by describing the agent's profile!):"
      ],
      "metadata": {
        "id": "wf7H7ItW5Pe_"
      },
      "id": "wf7H7ItW5Pe_"
    },
    {
      "cell_type": "code",
      "source": [
        "from langchain_google_vertexai import ChatVertexAI\n",
        "llm = ChatVertexAI(\n",
        "    # model=\"gemini-1.5-flash-002\",\n",
        "    model=\"gemini-2.0-flash-001\",\n",
        "    project=\"lucid-bebop-461722-c5\",  ## ✅ mandatory\n",
        "    credentials=credentials,          ## ✅ mandatory\n",
        "    temperature=1.0,\n",
        ")"
      ],
      "metadata": {
        "id": "l3zO9oHtiqVe"
      },
      "id": "l3zO9oHtiqVe",
      "execution_count": 9,
      "outputs": []
    },
    {
      "cell_type": "code",
      "source": [
        "from langchain.agents import load_tools\n",
        "research_tools = load_tools(\n",
        "    llm=llm,\n",
        "    tool_names=[\"ddg-search\", \"arxiv\", \"wikipedia\"],\n",
        ")\n",
        "system_prompt = (\n",
        "    \"You're a hard-working, curious and creative student. \"\n",
        "    \"You're working on exam quesion. Think step by step. \"\n",
        "    \"Always provide an argumentation for your answer. \"\n",
        "    \"Do not assume anything, use available tools to search \"\n",
        "    \"for evidence and supporting statements.\"\n",
        ")"
      ],
      "metadata": {
        "id": "4gvMMttu4upI"
      },
      "id": "4gvMMttu4upI",
      "execution_count": 10,
      "outputs": []
    },
    {
      "cell_type": "code",
      "source": [
        "from langchain_core.prompts import ChatPromptTemplate, PromptTemplate\n",
        "from langgraph.graph import MessagesState\n",
        "from langgraph.prebuilt.chat_agent_executor import AgentState\n",
        "from langgraph.prebuilt import create_react_agent\n",
        "\n",
        "class ResearchState(AgentState):\n",
        "    question: str\n",
        "    options: str\n",
        "\n",
        "raw_prompt_template = (\n",
        "    \"Answer the following multiple-choice question. \"\n",
        "    \"\\nQUESTION:\\n{question}\\n\\nANSWER OPTIONS:\\n{options}\\n\"\n",
        ")\n",
        "prompt = ChatPromptTemplate.from_messages([\n",
        "    (\"system\", system_prompt),\n",
        "    (\"user\", raw_prompt_template),\n",
        "    (\"placeholder\", \"{messages}\"),\n",
        "])\n",
        "research_agent = create_react_agent(\n",
        "    model=llm,\n",
        "    tools=research_tools,\n",
        "    state_schema=ResearchState,\n",
        "    prompt=prompt,\n",
        ")"
      ],
      "metadata": {
        "id": "sPuEb5f6Pf8c"
      },
      "id": "sPuEb5f6Pf8c",
      "execution_count": 11,
      "outputs": []
    },
    {
      "cell_type": "markdown",
      "source": [
        "## 👉 **Create a critique agent**\n",
        "\n"
      ],
      "metadata": {
        "id": "ZmPTYk4OUQYn"
      },
      "id": "ZmPTYk4OUQYn"
    },
    {
      "cell_type": "markdown",
      "source": [
        "Now we define another agent that reflects on the anwer and provides critique:"
      ],
      "metadata": {
        "id": "KJOpRhs_5lE1"
      },
      "id": "KJOpRhs_5lE1"
    },
    {
      "cell_type": "code",
      "source": [
        "from langchain_core.prompts import ChatPromptTemplate, PromptTemplate\n",
        "\n",
        "class ReflectionState(ResearchState):\n",
        "  answer: str\n",
        "  feedback: str\n",
        "\n",
        "raw_prompt_template_with_critique = (\n",
        "    \"You tried to answer the exam question and you get feedback from your \"\n",
        "    \"professor. Work on improving your answer and incorporating the feedback. \"\n",
        "    \"\\nQUESTION:\\n{question}\\n\\nANSWER OPTIONS:\\n{options}\\n\\n\"\n",
        "    \"INITIAL ANSWER:\\n{answer}\\n\\nFEEDBACK:\\n{feedback}\"\n",
        ")\n",
        "prompt = ChatPromptTemplate.from_messages([\n",
        "    (\"system\", system_prompt),\n",
        "    (\"user\", raw_prompt_template_with_critique),\n",
        "    (\"placeholder\", \"{messages}\")\n",
        "])\n",
        "research_agent_with_critique = create_react_agent(\n",
        "    model=llm,\n",
        "    tools=research_tools,\n",
        "    state_schema=ReflectionState,\n",
        "    prompt=prompt\n",
        ")"
      ],
      "metadata": {
        "id": "yWS-Ht_kamP4"
      },
      "id": "yWS-Ht_kamP4",
      "execution_count": 12,
      "outputs": []
    },
    {
      "cell_type": "code",
      "source": [
        "from pydantic import BaseModel, Field\n",
        "from typing import Optional\n",
        "\n",
        "class Response(BaseModel):\n",
        "    \"\"\"A final response to the user.\"\"\"\n",
        "\n",
        "    answer: Optional[str] = Field(\n",
        "        description=\"The final answer. It should be empty if critique has been provided.\",\n",
        "        default=None,\n",
        "    )\n",
        "    critique: Optional[str] = Field(\n",
        "        description=\"A critique of the initial answer. If you think it might be incorrect, provide an acitonable feedback\",\n",
        "        default=None,\n",
        "    )\n",
        "\n",
        "reflection_prompt = (\n",
        "    \"You are a university professor and you're supervising a student who is \"\n",
        "    \"working on multiple-choice exam question.\\n\"\n",
        "    \"QUESTION: {question}.\\nANSWER OPTIONS:\\n{options}\\n.\"\n",
        "    \"STUDENT'S ANSWER:\\n{answer}\\n\"\n",
        "    \"Reflect on the answer and provide a feedback whether the answer \"\n",
        "    \"is right or wrong. If you think the final answer is correct, reply with \"\n",
        "    \"the final answer. Only provide critique if you think the asnwer might \"\n",
        "    \"be incorrect or there are reasoning flaws. Do not assume anything, \"\n",
        "    \"evaluate only the reasoning the student provided and whether there is \"\n",
        "    \"enough evidence for their answer.\"\n",
        ")"
      ],
      "metadata": {
        "id": "4RSknFWfPgMD"
      },
      "id": "4RSknFWfPgMD",
      "execution_count": 13,
      "outputs": []
    },
    {
      "cell_type": "markdown",
      "source": [
        "## 👉 **Create a multi-agent system**    "
      ],
      "metadata": {
        "id": "5bJXbWdrVCii"
      },
      "id": "5bJXbWdrVCii"
    },
    {
      "cell_type": "markdown",
      "source": [
        "Let's put everything together and create a multi-agent system:"
      ],
      "metadata": {
        "id": "9mf7iWPJ5sJ6"
      },
      "id": "9mf7iWPJ5sJ6"
    },
    {
      "cell_type": "code",
      "source": [
        "from operator import add\n",
        "from typing import Annotated, Literal, TypedDict\n",
        "from langchain_core.runnables.config import RunnableConfig\n",
        "from langchain_core.output_parsers import StrOutputParser\n",
        "from langgraph.graph import StateGraph, START, END\n",
        "\n",
        "class ReflectionAgentState(TypedDict):\n",
        "    question: str\n",
        "    options: str\n",
        "    answer: str\n",
        "    steps: Annotated[int, add]\n",
        "    response: Response\n",
        "\n",
        "def _should_end(state: ReflectionAgentState, config: RunnableConfig) -> Literal[\"research\", END]:\n",
        "    max_reasoning_steps = config[\"configurable\"].get(\"max_reasoning_steps\", 10)\n",
        "    print(f\"max_reasoning_steps: {max_reasoning_steps}\")\n",
        "    print(f\"steps: {state.get('steps', 1)}\")\n",
        "    if state.get(\"response\") and state[\"response\"].answer:\n",
        "        return END\n",
        "    if state.get(\"steps\", 1) >= max_reasoning_steps:\n",
        "        return END\n",
        "    return \"research\"\n",
        "\n",
        "reflection_chain = PromptTemplate.from_template(reflection_prompt) | llm.with_structured_output(Response)\n",
        "\n",
        "def _reflection_step(state):\n",
        "    result = reflection_chain.invoke(state)\n",
        "    return {\"response\": result, \"steps\": 1}\n",
        "\n",
        "def _research_start(state):\n",
        "    answer = research_agent.invoke(state)\n",
        "    return {\"answer\": answer[\"messages\"][-1].content}\n",
        "\n",
        "def _research(state):\n",
        "    agent_state = {\n",
        "        \"answer\": state[\"answer\"],\n",
        "        \"question\": state[\"question\"],\n",
        "        \"options\": state[\"options\"],\n",
        "        \"feedback\": state[\"response\"].critique\n",
        "    }\n",
        "    answer = research_agent_with_critique.invoke(agent_state)\n",
        "    return {\"answer\": answer[\"messages\"][-1].content}"
      ],
      "metadata": {
        "id": "ptZ_GFNOYH5l"
      },
      "id": "ptZ_GFNOYH5l",
      "execution_count": 14,
      "outputs": []
    },
    {
      "cell_type": "code",
      "source": [
        "from IPython.display import Image, display\n",
        "builder = StateGraph(ReflectionAgentState)\n",
        "builder.add_node(\"research_start\", _research_start)\n",
        "builder.add_node(\"research\", _research)\n",
        "builder.add_node(\"reflect\", _reflection_step)\n",
        "builder.add_edge(START, \"research_start\")\n",
        "builder.add_edge(\"research_start\", \"reflect\")\n",
        "builder.add_edge(\"research\", \"reflect\")\n",
        "builder.add_conditional_edges(\"reflect\", _should_end)\n",
        "graph = builder.compile()\n",
        "display(Image(graph.get_graph().draw_mermaid_png()))"
      ],
      "metadata": {
        "colab": {
          "base_uri": "https://localhost:8080/",
          "height": 365
        },
        "id": "d71Rg8NjZWOj",
        "outputId": "16658e8b-af99-4d77-f45c-bfa7504b38cf"
      },
      "id": "d71Rg8NjZWOj",
      "execution_count": 15,
      "outputs": [
        {
          "output_type": "display_data",
          "data": {
            "image/png": "[encoded data removed]",
            "text/plain": [
              "<IPython.core.display.Image object>"
            ]
          },
          "metadata": {}
        }
      ]
    },
    {
      "cell_type": "markdown",
      "source": [
        "Let's take a random question and run our agent:"
      ],
      "metadata": {
        "id": "NHpLIvNL5zvV"
      },
      "id": "NHpLIvNL5zvV"
    },
    {
      "cell_type": "markdown",
      "source": [
        "## 👉 **Test the system**  "
      ],
      "metadata": {
        "id": "9xvsma2kVNLd"
      },
      "id": "9xvsma2kVNLd"
    },
    {
      "cell_type": "code",
      "source": [
        "from IPython.display import Markdown, display\n",
        "i = 4\n",
        "question = ds_dict[\"question\"][i]\n",
        "options = \"\\n\".join([f\"{i}. {a}\" for i, a in enumerate(ds_dict[\"choices\"][i])])\n",
        "print(options)\n",
        "print(f\"Answer: {ds_dict['answer'][i]}\")"
      ],
      "metadata": {
        "id": "-7f1Di_2uewl",
        "colab": {
          "base_uri": "https://localhost:8080/"
        },
        "outputId": "13f8848c-fb8f-444d-e56f-630f0f975840"
      },
      "id": "-7f1Di_2uewl",
      "execution_count": 22,
      "outputs": [
        {
          "output_type": "stream",
          "name": "stdout",
          "text": [
            "0. Most women work in agriculture\n",
            "1. The percentage of women economically active in the labor force declined worldwide\n",
            "2. The percentage of women in the total labor force declined\n",
            "3. Women spend more hours per day working than men in all regions except Anglo America and Australia\n",
            "Answer: 3\n"
          ]
        }
      ]
    },
    {
      "cell_type": "markdown",
      "source": [
        "* `async for` works only if it's used at the top level in a Jupyter/Colab code cell, because IPython (Jupyter) supports top-level await and top-level async for.   "
      ],
      "metadata": {
        "id": "jFtQeJpOufU3"
      },
      "id": "jFtQeJpOufU3"
    },
    {
      "cell_type": "code",
      "source": [
        "async for _, event in graph.astream(\n",
        "    {\"question\": question, \"options\": options},\n",
        "    stream_mode=[\"updates\"],\n",
        "    config={\"recursion_limit\": 30, \"max_reasoning_steps\": 15},  ## ⚠️ Add configuration here\n",
        "):\n",
        "    _, step = next(iter(event.items()))\n",
        "    _, content = next(iter(step.items()))\n",
        "    if isinstance(content, Response):\n",
        "        content = (\n",
        "            f\"**Answer**: {content.answer}<br>\"\n",
        "            f\"**Critique**: {content.critique}\"\n",
        "        )\n",
        "    display(Markdown(content))\n",
        "    print(\"-----------------------------------------------------------------------------------------------------------------------\\n\")"
      ],
      "metadata": {
        "id": "1QRjcL_ePgOc",
        "colab": {
          "base_uri": "https://localhost:8080/",
          "height": 1000
        },
        "outputId": "fe81723f-09ae-45a1-bfc6-9171245f79f7"
      },
      "id": "1QRjcL_ePgOc",
      "execution_count": 18,
      "outputs": [
        {
          "output_type": "display_data",
          "data": {
            "text/plain": [
              "<IPython.core.display.Markdown object>"
            ],
            "text/markdown": "The search results support the claim that women often work more hours per day than men when unpaid work is considered. The results indicate that women spend more time in unpaid work than men, and when combined with paid work, women often work more overall. The statement specifies that this is true in all regions except Anglo America and Australia, which aligns with common understandings of gender roles and division of labor.\n\nTherefore, the most likely answer is option 3.\n\n**Final Answer: (3)**\n"
          },
          "metadata": {}
        },
        {
          "output_type": "stream",
          "name": "stdout",
          "text": [
            "-----------------------------------------------------------------------------------------------------------------------\n",
            "\n",
            "max_reasoning_steps: 15\n",
            "steps: 1\n"
          ]
        },
        {
          "output_type": "display_data",
          "data": {
            "text/plain": [
              "<IPython.core.display.Markdown object>"
            ],
            "text/markdown": "**Answer**: None<br>**Critique**: The student's reasoning seems plausible based on the information provided. However, it's crucial to verify each answer option against reliable data to confirm the absolute correctness of option 3 and the incorrectness of the others. Without that rigorous verification, there's a chance the answer might be inaccurate. It would be beneficial to examine data on women's labor force participation across different sectors and regions to strengthen the justification or identify a more accurate answer if one exists. The student should also make sure that they are not misinterpreting the question, and that they understand what 'economically active' means in the context of labor force participation. Additionally, the student needs to make sure that the statement is true for ALL regions except Anglo America and Australia, which requires more thorough evidence than the search results provided. If there is any region where this is not true, then option 3 is incorrect. "
          },
          "metadata": {}
        },
        {
          "output_type": "stream",
          "name": "stdout",
          "text": [
            "-----------------------------------------------------------------------------------------------------------------------\n",
            "\n"
          ]
        },
        {
          "output_type": "display_data",
          "data": {
            "text/plain": [
              "<IPython.core.display.Markdown object>"
            ],
            "text/markdown": "While the search results consistently show that women perform more unpaid work, and often work longer hours overall when unpaid work is included, I am unable to find conclusive evidence that this is true in *all* regions *except* Anglo America and Australia. The feedback emphasized the need for rigorous verification, and I cannot definitively confirm option 3 with the available tools and search results.\n\n**Conclusion:**\n\nBased on my analysis:\n\n*   Option 0 is incorrect.\n*   Option 1 is incorrect.\n*   Option 2 is incorrect.\n*   Option 3 is plausible, but I lack sufficient evidence to confirm it definitively for *all* regions except Anglo America and Australia.\n\nSince I must choose one answer, and the others have been disproven, option 3 remains the most likely. However, I acknowledge the uncertainty due to the lack of comprehensive regional data.\n\n**Final Answer: (3)**\n"
          },
          "metadata": {}
        },
        {
          "output_type": "stream",
          "name": "stdout",
          "text": [
            "-----------------------------------------------------------------------------------------------------------------------\n",
            "\n",
            "max_reasoning_steps: 15\n",
            "steps: 2\n"
          ]
        },
        {
          "output_type": "display_data",
          "data": {
            "text/plain": [
              "<IPython.core.display.Markdown object>"
            ],
            "text/markdown": "**Answer**: None<br>**Critique**: The student's reasoning is sound. They correctly eliminated the other options and acknowledged the uncertainty in the final answer due to lack of comprehensive data. However, they still selected the most plausible option based on the available information. This demonstrates a good understanding of the question and the limitations of the available data.The final answer could be potentially incorrect, and it would benefit from more data, but based on the student's reasoning it is the best possible answer and I don't have enough data to provide a better one. Since I cannot provide the correct answer I will abstain from providing the final answer. "
          },
          "metadata": {}
        },
        {
          "output_type": "stream",
          "name": "stdout",
          "text": [
            "-----------------------------------------------------------------------------------------------------------------------\n",
            "\n"
          ]
        },
        {
          "output_type": "display_data",
          "data": {
            "text/plain": [
              "<IPython.core.display.Markdown object>"
            ],
            "text/markdown": "The Arxiv searches turned up some relevant papers, particularly concerning India:\n\n*   **\"What Explains Gender Gap in Unpaid Household and Care Work in India?\"**: This paper confirms that women in India spend significantly more time on unpaid work than men. It also suggests that societal norms play a crucial role in this disparity.\n*   **\"Gender gap in mobility outside home in urban India\"**: This highlights that a large percentage of women in urban India do not leave their homes in a given day, limiting their access to paid work and other opportunities.\n\nThese papers strengthen the argument that women in at least some developing countries face a disproportionate burden of unpaid work and limited mobility, which likely contributes to longer overall working hours when unpaid work is considered.\n\n**Revised Conclusion:**\n\nBased on my expanded research, here's my updated assessment of the answer options:\n\n*   **Option 0 is incorrect.** (Most women work in agriculture) - Still incorrect. The data suggests women are employed in diverse sectors.\n*   **Option 1 is incorrect.** (The percentage of women economically active in the labor force declined worldwide) - Still incorrect. Evidence suggests female employment rates are increasing.\n*   **Option 2 is incorrect.** (The percentage of women in the total labor force declined) - Still incorrect.\n*   **Option 3 is MOST LIKELY TRUE.** (Women spend more hours per day working than men in all regions except Anglo America and Australia) - While I still lack *definitive* proof for *all* regions, the evidence overwhelmingly suggests this is the case. The key points are:\n\n    *   Women globally perform more unpaid work.\n    *   In high-income countries, women work significantly more *overall* when unpaid work is included.\n    *   In low-income countries, men might work more *market* hours in some cases, but women still do the vast majority of unpaid domestic work.\n    *   Studies from India confirm a significant gender gap in unpaid work, suggesting women work longer hours *overall*.\n    *   While there is still a lack of comprehensive data from every single region, the evidence leans heavily towards option 3 being the most accurate. The exception of Anglo America and Australia is plausible because these regions generally have more gender equality and a more even distribution of domestic tasks, though even there, disparities likely exist.\n\n**Final Answer: (3)**\n"
          },
          "metadata": {}
        },
        {
          "output_type": "stream",
          "name": "stdout",
          "text": [
            "-----------------------------------------------------------------------------------------------------------------------\n",
            "\n",
            "max_reasoning_steps: 15\n",
            "steps: 3\n"
          ]
        },
        {
          "output_type": "display_data",
          "data": {
            "text/plain": [
              "<IPython.core.display.Markdown object>"
            ],
            "text/markdown": "**Answer**: None<br>**Critique**: The student's reasoning relies heavily on the assumption that unpaid work translates directly to longer overall working hours for women *in all regions except Anglo America and Australia*. While the evidence presented supports this in many contexts, the student acknowledges a lack of definitive proof for *all* regions. The question requires a statement that is definitively TRUE. The student should be more careful in generalizing findings from specific studies (e.g., India) to a global statement. The answer could be improved by seeking more direct evidence about total working hours (paid + unpaid) across different regions, rather than inferring it primarily from unpaid work data. There is a potential flaw in assuming that the exception of Anglo America and Australia is plausible without strong evidence. The student needs to provide more direct and conclusive evidence. "
          },
          "metadata": {}
        },
        {
          "output_type": "stream",
          "name": "stdout",
          "text": [
            "-----------------------------------------------------------------------------------------------------------------------\n",
            "\n"
          ]
        },
        {
          "output_type": "display_data",
          "data": {
            "text/plain": [
              "<IPython.core.display.Markdown object>"
            ],
            "text/markdown": "Based on the search results:\n\n*   **Option 0: Most women work in agriculture.**  The World Bank data indicates that approximately 36% of working women are employed in agri-food systems globally (as of 2019). This is a significant percentage, but it's not \"most.\" Thus, this option is incorrect.\n*   **Option 1: The percentage of women economically active in the labor force declined worldwide.** The search results suggest the opposite.  Women's participation in the labor force has been increasing in recent years. This option is incorrect.\n*   **Option 2: The percentage of women in the total labor force declined.** The search results indicate that the female labor force as a percentage of the total labor force shows the extent to which women are active in the labor force and the labor force participation rates for women aged 25-54 in 2022 was 61.4 per cent compared to 90.6 per cent for men. This suggests the percentage of women has not declined. This option is incorrect.\n*   **Option 3: Women spend more hours per day working than men in all regions except Anglo America and Australia.** The search results provide conflicting information and do not strongly support this statement as definitively true. One search result indicates that the global average work week is 41.1 hours, with men averaging 43.7 hours and women 37.2 hours. Another states that women tend to work fewer hours than men but it varies. I am unable to find conclusive evidence using the tools available to me that supports this statement as definitively true.\n\n**Conclusion:**\n\nBased on the evidence I was able to gather, none of the options appear to be definitively TRUE. There might be nuances or specific datasets that would make one of them true, but without further information or access to more detailed databases, I cannot confidently select any of the options.\n\nBecause I have to select an answer, and based on the information I have, the least incorrect answer seems to be option 1. Women's participation in the labor force has been increasing, not decreasing.\n\n**Final Answer: (1)**\n"
          },
          "metadata": {}
        },
        {
          "output_type": "stream",
          "name": "stdout",
          "text": [
            "-----------------------------------------------------------------------------------------------------------------------\n",
            "\n",
            "max_reasoning_steps: 15\n",
            "steps: 4\n"
          ]
        },
        {
          "output_type": "display_data",
          "data": {
            "text/plain": [
              "<IPython.core.display.Markdown object>"
            ],
            "text/markdown": "**Answer**: None<br>**Critique**: The student's analysis of options 0, 1, and 2 is sound based on the information they presented. However, the analysis of option 3 is weak. The student says the search results provide conflicting information, but also states that 'women tend to work fewer hours than men but it varies'. This statement weakens the argument against option 3 being true. The student should acknowledge that while women may work fewer hours on average, the question specifies 'all regions except Anglo America and Australia'. Instead of dismissing the option, the student should look for data that specifically compares working hours in different regions. Because of this flaw in reasoning, the student's conclusion that 'none of the options appear to be definitively TRUE' is premature. I recommend the student focuses on searching for data that compares working hours of men and women in different regions to properly evaluate option 3 before making a conclusion. The final answer is likely incorrect, since the student did not find enough evidence to support their answer, and dismissed one of the options prematurely. "
          },
          "metadata": {}
        },
        {
          "output_type": "stream",
          "name": "stdout",
          "text": [
            "-----------------------------------------------------------------------------------------------------------------------\n",
            "\n"
          ]
        },
        {
          "output_type": "display_data",
          "data": {
            "text/plain": [
              "<IPython.core.display.Markdown object>"
            ],
            "text/markdown": "The search results for Australia show that women spend significantly more time on unpaid work than men (30.2 hours vs 21.8 hours per week). I don't have specific data for \"Anglo America\" as a whole, but I know the US is part of it, and I have some data suggesting that women work fewer hours in paid employment there, which is partially offset by unpaid work. However, it's unclear if the *total* hours worked are higher for women than men in Anglo America.\n\nConsidering the available information:\n\n*   Globally (especially OECD countries), women tend to work more hours when unpaid work is considered.\n*   In Australia, women definitely work more hours when unpaid work is considered.\n\nGiven this information, it is likely that Option 3 is TRUE. While I don't have definitive data for all of \"Anglo America,\" the global trend and the specific data for Australia strongly suggest that women work more hours per day than men in all regions except Anglo America and Australia is FALSE, meaning that women DO work more hours than men *except* in Anglo America and Australia.\n\n**Conclusion:**\n\nBased on the evidence, Option 3 seems most likely to be TRUE.\n\n**Final Answer: (3)**\n"
          },
          "metadata": {}
        },
        {
          "output_type": "stream",
          "name": "stdout",
          "text": [
            "-----------------------------------------------------------------------------------------------------------------------\n",
            "\n",
            "max_reasoning_steps: 15\n",
            "steps: 5\n"
          ]
        },
        {
          "output_type": "display_data",
          "data": {
            "text/plain": [
              "<IPython.core.display.Markdown object>"
            ],
            "text/markdown": "**Answer**: None<br>**Critique**: The student's reasoning relies heavily on the assumption that unpaid work hours directly translate to total hours worked being higher for women. While the data for Australia supports this, the lack of concrete data for 'Anglo America' makes the conclusion speculative. The student acknowledges the uncertainty but still concludes that option 3 is the most likely to be true. This is a potential flaw in the reasoning, as there isn't enough information to definitively confirm that women in Anglo America *don't* work more hours than men. A more cautious approach would be to acknowledge the uncertainty and avoid making a definitive claim without sufficient evidence. I recommend the student to look for data for all the regions. Also, the student should have checked the other answer options as well. "
          },
          "metadata": {}
        },
        {
          "output_type": "stream",
          "name": "stdout",
          "text": [
            "-----------------------------------------------------------------------------------------------------------------------\n",
            "\n"
          ]
        },
        {
          "output_type": "display_data",
          "data": {
            "text/plain": [
              "<IPython.core.display.Markdown object>"
            ],
            "text/markdown": "The search results indicate:\n\n*   **Globally:** Women perform a disproportionate amount of unpaid work.\n*   **Anglo America:** Results suggest that combining paid and unpaid work, the total hours worked by men and women are close.\n*   **Australia:** Women spend significantly more time on unpaid work than men (30.2 vs 21.8 hours per week). Men spend just over an hour more a day in the paid workforce than women.\n\nConsidering the complexities of combining paid and unpaid work and the nuances within \"Anglo America,\" it's difficult to definitively say whether Option 3 is entirely TRUE. However, since women globally spend significantly more time on unpaid work, and this seems to balance out the paid work in Anglo America and Australia, this statement appears most likely to be correct.\n\n**Conclusion:**\n\nBased on my analysis of all options, and acknowledging the complexities of the data, Option 3 appears to be the most likely to be TRUE.\n\n**Final Answer: (3)**\n"
          },
          "metadata": {}
        },
        {
          "output_type": "stream",
          "name": "stdout",
          "text": [
            "-----------------------------------------------------------------------------------------------------------------------\n",
            "\n",
            "max_reasoning_steps: 15\n",
            "steps: 6\n"
          ]
        },
        {
          "output_type": "display_data",
          "data": {
            "text/plain": [
              "<IPython.core.display.Markdown object>"
            ],
            "text/markdown": "**Answer**: None<br>**Critique**: The student's reasoning relies heavily on the concept of 'unpaid work' to justify option 3. While the search results do mention unpaid work, the question specifically refers to 'hours per day working,' which could be interpreted as only paid work. The student acknowledges complexities and nuances but still concludes that option 3 is the most likely to be true. This feels like a leap in logic without definitive evidence directly supporting that women *in the labor force* (i.e., those employed or seeking employment) work more hours per day than men in most regions when considering *only* their labor force participation. The student should focus on clarifying whether the question refers to all work (paid and unpaid) or only paid work and find more direct evidence for their conclusion. I recommend re-evaluating the answer options and looking for information that more directly addresses the question of women's participation and hours worked *within the labor force* across different regions. If the student is unable to find the correct answer they should respond with 'I don't know'"
          },
          "metadata": {}
        },
        {
          "output_type": "stream",
          "name": "stdout",
          "text": [
            "-----------------------------------------------------------------------------------------------------------------------\n",
            "\n"
          ]
        },
        {
          "output_type": "display_data",
          "data": {
            "text/plain": [
              "<IPython.core.display.Markdown object>"
            ],
            "text/markdown": "Based on the search results:\n\n*   **Worldwide:** Men average more hours of paid work per week than women (43.7 hours for men vs. 37.2 hours for women).\n*   **Anglo America:** In the U.S., employed men work more hours per day than women (e.g., 7.47 hours vs 6.52 hours on weekdays, or 8.94 hours vs 8.49 hours for full-time employees).\n*   **Australia:** The average hours of weekly employment for men is higher than women (37.9 hours vs 28.5 hours in 2022).\n\nTherefore, Option 3 is FALSE.\n\n**Conclusion:**\n\nAll the options seem to be false based on the search results.\n\n**Final Answer: I don't know**\n"
          },
          "metadata": {}
        },
        {
          "output_type": "stream",
          "name": "stdout",
          "text": [
            "-----------------------------------------------------------------------------------------------------------------------\n",
            "\n",
            "max_reasoning_steps: 15\n",
            "steps: 7\n"
          ]
        },
        {
          "output_type": "display_data",
          "data": {
            "text/plain": [
              "<IPython.core.display.Markdown object>"
            ],
            "text/markdown": "**Answer**: None<br>**Critique**: The student's reasoning focuses primarily on disproving option 3, and correctly identifies that men work more hours than women in Anglo America and Australia, thus making option 3 false. However, the student concludes that ALL options are false without providing any reasoning or evidence for options 0, 1, and 2. This is a critical flaw in the reasoning. The student needs to analyze each option individually based on available data or knowledge before concluding that all options are false. Furthermore, saying 'I don't know' is not an appropriate answer, the student should select the option that they believe is most likely to be correct, even if they are unsure. "
          },
          "metadata": {}
        },
        {
          "output_type": "stream",
          "name": "stdout",
          "text": [
            "-----------------------------------------------------------------------------------------------------------------------\n",
            "\n"
          ]
        },
        {
          "output_type": "display_data",
          "data": {
            "text/plain": [
              "<IPython.core.display.Markdown object>"
            ],
            "text/markdown": "Okay, based on the search results:\n\n*   **Option 0: Most women work in agriculture.** The search results indicate that in 2022, 28.5% of the global agricultural workforce was women. While women make significant contributions to agriculture, this is not *most* women. So, Option 0 is likely FALSE.\n*   **Option 1: The percentage of women economically active in the labor force declined worldwide.** The search results suggest that women's participation in the workforce has seen significant advancements in recent years. So, Option 1 is likely FALSE.\n*   **Option 2: The percentage of women in the total labor force declined.** The search results indicate that over the past decades, more and more women have entered the labor market around the world and today over 40 percent of the global workforce are women. So, Option 2 is likely FALSE.\n*   **Option 3: Women spend more hours per day working than men in all regions except Anglo America and Australia.** I previously determined this is FALSE.\n\nSince all options appear false, I need to consider which is *most* likely to be false or which I have the strongest evidence against. I have the strongest evidence against Option 3 from my previous analysis and confirmed again.\n\n**Final Answer: 3**\n"
          },
          "metadata": {}
        },
        {
          "output_type": "stream",
          "name": "stdout",
          "text": [
            "-----------------------------------------------------------------------------------------------------------------------\n",
            "\n",
            "max_reasoning_steps: 15\n",
            "steps: 8\n"
          ]
        },
        {
          "output_type": "display_data",
          "data": {
            "text/plain": [
              "<IPython.core.display.Markdown object>"
            ],
            "text/markdown": "**Answer**: 3<br>**Critique**: None"
          },
          "metadata": {}
        },
        {
          "output_type": "stream",
          "name": "stdout",
          "text": [
            "-----------------------------------------------------------------------------------------------------------------------\n",
            "\n"
          ]
        }
      ]
    }
  ],
  "metadata": {
    "kernelspec": {
      "display_name": "Python 3",
      "language": "python",
      "name": "python3"
    },
    "language_info": {
      "codemirror_mode": {
        "name": "ipython",
        "version": 3
      },
      "file_extension": ".py",
      "mimetype": "text/x-python",
      "name": "python",
      "nbconvert_exporter": "python",
      "pygments_lexer": "ipython3",
      "version": "3.10.10"
    },
    "colab": {
      "provenance": [],
      "toc_visible": true
    },
    "widgets": {
      "application/vnd.jupyter.widget-state+json": {
        "427d4f7301974174bd774c48d156ff57": {
          "model_module": "@jupyter-widgets/controls",
          "model_name": "HBoxModel",
          "model_module_version": "1.5.0",
          "state": {
            "_dom_classes": [],
            "_model_module": "@jupyter-widgets/controls",
            "_model_module_version": "1.5.0",
            "_model_name": "HBoxModel",
            "_view_count": null,
            "_view_module": "@jupyter-widgets/controls",
            "_view_module_version": "1.5.0",
            "_view_name": "HBoxView",
            "box_style": "",
            "children": [
              "IPY_MODEL_748478a13d2b407182e577741c11969e",
              "IPY_MODEL_66caf4e85dd0486e9502fb41161353a1",
              "IPY_MODEL_38ee2d3f99d04638ad85df14d01c5cd4"
            ],
            "layout": "IPY_MODEL_e56fa610c31d423b91100885d77d2d4a"
          }
        },
        "748478a13d2b407182e577741c11969e": {
          "model_module": "@jupyter-widgets/controls",
          "model_name": "HTMLModel",
          "model_module_version": "1.5.0",
          "state": {
            "_dom_classes": [],
            "_model_module": "@jupyter-widgets/controls",
            "_model_module_version": "1.5.0",
            "_model_name": "HTMLModel",
            "_view_count": null,
            "_view_module": "@jupyter-widgets/controls",
            "_view_module_version": "1.5.0",
            "_view_name": "HTMLView",
            "description": "",
            "description_tooltip": null,
            "layout": "IPY_MODEL_7c9537b9189a4e0981cbadbafca8577f",
            "placeholder": "​",
            "style": "IPY_MODEL_40c093ff42be4a88943888caecd3929e",
            "value": "README.md: 100%"
          }
        },
        "66caf4e85dd0486e9502fb41161353a1": {
          "model_module": "@jupyter-widgets/controls",
          "model_name": "FloatProgressModel",
          "model_module_version": "1.5.0",
          "state": {
            "_dom_classes": [],
            "_model_module": "@jupyter-widgets/controls",
            "_model_module_version": "1.5.0",
            "_model_name": "FloatProgressModel",
            "_view_count": null,
            "_view_module": "@jupyter-widgets/controls",
            "_view_module_version": "1.5.0",
            "_view_name": "ProgressView",
            "bar_style": "success",
            "description": "",
            "description_tooltip": null,
            "layout": "IPY_MODEL_aee36f346c7f4ff8a89c86304ee906d7",
            "max": 53221,
            "min": 0,
            "orientation": "horizontal",
            "style": "IPY_MODEL_221e041ccc584eab82211016ce7a6fd7",
            "value": 53221
          }
        },
        "38ee2d3f99d04638ad85df14d01c5cd4": {
          "model_module": "@jupyter-widgets/controls",
          "model_name": "HTMLModel",
          "model_module_version": "1.5.0",
          "state": {
            "_dom_classes": [],
            "_model_module": "@jupyter-widgets/controls",
            "_model_module_version": "1.5.0",
            "_model_name": "HTMLModel",
            "_view_count": null,
            "_view_module": "@jupyter-widgets/controls",
            "_view_module_version": "1.5.0",
            "_view_name": "HTMLView",
            "description": "",
            "description_tooltip": null,
            "layout": "IPY_MODEL_b75c69ca119c4cf4bfe1b23d1dd84fe3",
            "placeholder": "​",
            "style": "IPY_MODEL_9371916844b94a8a94efb8503a22e72a",
            "value": " 53.2k/53.2k [00:00&lt;00:00, 1.24MB/s]"
          }
        },
        "e56fa610c31d423b91100885d77d2d4a": {
          "model_module": "@jupyter-widgets/base",
          "model_name": "LayoutModel",
          "model_module_version": "1.2.0",
          "state": {
            "_model_module": "@jupyter-widgets/base",
            "_model_module_version": "1.2.0",
            "_model_name": "LayoutModel",
            "_view_count": null,
            "_view_module": "@jupyter-widgets/base",
            "_view_module_version": "1.2.0",
            "_view_name": "LayoutView",
            "align_content": null,
            "align_items": null,
            "align_self": null,
            "border": null,
            "bottom": null,
            "display": null,
            "flex": null,
            "flex_flow": null,
            "grid_area": null,
            "grid_auto_columns": null,
            "grid_auto_flow": null,
            "grid_auto_rows": null,
            "grid_column": null,
            "grid_gap": null,
            "grid_row": null,
            "grid_template_areas": null,
            "grid_template_columns": null,
            "grid_template_rows": null,
            "height": null,
            "justify_content": null,
            "justify_items": null,
            "left": null,
            "margin": null,
            "max_height": null,
            "max_width": null,
            "min_height": null,
            "min_width": null,
            "object_fit": null,
            "object_position": null,
            "order": null,
            "overflow": null,
            "overflow_x": null,
            "overflow_y": null,
            "padding": null,
            "right": null,
            "top": null,
            "visibility": null,
            "width": null
          }
        },
        "7c9537b9189a4e0981cbadbafca8577f": {
          "model_module": "@jupyter-widgets/base",
          "model_name": "LayoutModel",
          "model_module_version": "1.2.0",
          "state": {
            "_model_module": "@jupyter-widgets/base",
            "_model_module_version": "1.2.0",
            "_model_name": "LayoutModel",
            "_view_count": null,
            "_view_module": "@jupyter-widgets/base",
            "_view_module_version": "1.2.0",
            "_view_name": "LayoutView",
            "align_content": null,
            "align_items": null,
            "align_self": null,
            "border": null,
            "bottom": null,
            "display": null,
            "flex": null,
            "flex_flow": null,
            "grid_area": null,
            "grid_auto_columns": null,
            "grid_auto_flow": null,
            "grid_auto_rows": null,
            "grid_column": null,
            "grid_gap": null,
            "grid_row": null,
            "grid_template_areas": null,
            "grid_template_columns": null,
            "grid_template_rows": null,
            "height": null,
            "justify_content": null,
            "justify_items": null,
            "left": null,
            "margin": null,
            "max_height": null,
            "max_width": null,
            "min_height": null,
            "min_width": null,
            "object_fit": null,
            "object_position": null,
            "order": null,
            "overflow": null,
            "overflow_x": null,
            "overflow_y": null,
            "padding": null,
            "right": null,
            "top": null,
            "visibility": null,
            "width": null
          }
        },
        "40c093ff42be4a88943888caecd3929e": {
          "model_module": "@jupyter-widgets/controls",
          "model_name": "DescriptionStyleModel",
          "model_module_version": "1.5.0",
          "state": {
            "_model_module": "@jupyter-widgets/controls",
            "_model_module_version": "1.5.0",
            "_model_name": "DescriptionStyleModel",
            "_view_count": null,
            "_view_module": "@jupyter-widgets/base",
            "_view_module_version": "1.2.0",
            "_view_name": "StyleView",
            "description_width": ""
          }
        },
        "aee36f346c7f4ff8a89c86304ee906d7": {
          "model_module": "@jupyter-widgets/base",
          "model_name": "LayoutModel",
          "model_module_version": "1.2.0",
          "state": {
            "_model_module": "@jupyter-widgets/base",
            "_model_module_version": "1.2.0",
            "_model_name": "LayoutModel",
            "_view_count": null,
            "_view_module": "@jupyter-widgets/base",
            "_view_module_version": "1.2.0",
            "_view_name": "LayoutView",
            "align_content": null,
            "align_items": null,
            "align_self": null,
            "border": null,
            "bottom": null,
            "display": null,
            "flex": null,
            "flex_flow": null,
            "grid_area": null,
            "grid_auto_columns": null,
            "grid_auto_flow": null,
            "grid_auto_rows": null,
            "grid_column": null,
            "grid_gap": null,
            "grid_row": null,
            "grid_template_areas": null,
            "grid_template_columns": null,
            "grid_template_rows": null,
            "height": null,
            "justify_content": null,
            "justify_items": null,
            "left": null,
            "margin": null,
            "max_height": null,
            "max_width": null,
            "min_height": null,
            "min_width": null,
            "object_fit": null,
            "object_position": null,
            "order": null,
            "overflow": null,
            "overflow_x": null,
            "overflow_y": null,
            "padding": null,
            "right": null,
            "top": null,
            "visibility": null,
            "width": null
          }
        },
        "221e041ccc584eab82211016ce7a6fd7": {
          "model_module": "@jupyter-widgets/controls",
          "model_name": "ProgressStyleModel",
          "model_module_version": "1.5.0",
          "state": {
            "_model_module": "@jupyter-widgets/controls",
            "_model_module_version": "1.5.0",
            "_model_name": "ProgressStyleModel",
            "_view_count": null,
            "_view_module": "@jupyter-widgets/base",
            "_view_module_version": "1.2.0",
            "_view_name": "StyleView",
            "bar_color": null,
            "description_width": ""
          }
        },
        "b75c69ca119c4cf4bfe1b23d1dd84fe3": {
          "model_module": "@jupyter-widgets/base",
          "model_name": "LayoutModel",
          "model_module_version": "1.2.0",
          "state": {
            "_model_module": "@jupyter-widgets/base",
            "_model_module_version": "1.2.0",
            "_model_name": "LayoutModel",
            "_view_count": null,
            "_view_module": "@jupyter-widgets/base",
            "_view_module_version": "1.2.0",
            "_view_name": "LayoutView",
            "align_content": null,
            "align_items": null,
            "align_self": null,
            "border": null,
            "bottom": null,
            "display": null,
            "flex": null,
            "flex_flow": null,
            "grid_area": null,
            "grid_auto_columns": null,
            "grid_auto_flow": null,
            "grid_auto_rows": null,
            "grid_column": null,
            "grid_gap": null,
            "grid_row": null,
            "grid_template_areas": null,
            "grid_template_columns": null,
            "grid_template_rows": null,
            "height": null,
            "justify_content": null,
            "justify_items": null,
            "left": null,
            "margin": null,
            "max_height": null,
            "max_width": null,
            "min_height": null,
            "min_width": null,
            "object_fit": null,
            "object_position": null,
            "order": null,
            "overflow": null,
            "overflow_x": null,
            "overflow_y": null,
            "padding": null,
            "right": null,
            "top": null,
            "visibility": null,
            "width": null
          }
        },
        "9371916844b94a8a94efb8503a22e72a": {
          "model_module": "@jupyter-widgets/controls",
          "model_name": "DescriptionStyleModel",
          "model_module_version": "1.5.0",
          "state": {
            "_model_module": "@jupyter-widgets/controls",
            "_model_module_version": "1.5.0",
            "_model_name": "DescriptionStyleModel",
            "_view_count": null,
            "_view_module": "@jupyter-widgets/base",
            "_view_module_version": "1.2.0",
            "_view_name": "StyleView",
            "description_width": ""
          }
        },
        "c8a515fdfdfe4e1cbbdd202d2df4fa96": {
          "model_module": "@jupyter-widgets/controls",
          "model_name": "HBoxModel",
          "model_module_version": "1.5.0",
          "state": {
            "_dom_classes": [],
            "_model_module": "@jupyter-widgets/controls",
            "_model_module_version": "1.5.0",
            "_model_name": "HBoxModel",
            "_view_count": null,
            "_view_module": "@jupyter-widgets/controls",
            "_view_module_version": "1.5.0",
            "_view_name": "HBoxView",
            "box_style": "",
            "children": [
              "IPY_MODEL_ba5c1b2cd724430288339fce8f7901dd",
              "IPY_MODEL_fedad0ebbc4c4ca49da1523bef067f4b",
              "IPY_MODEL_ef4567c52246447e8077d053dc294fcc"
            ],
            "layout": "IPY_MODEL_ddf0830025d043b49573d7913b17c184"
          }
        },
        "ba5c1b2cd724430288339fce8f7901dd": {
          "model_module": "@jupyter-widgets/controls",
          "model_name": "HTMLModel",
          "model_module_version": "1.5.0",
          "state": {
            "_dom_classes": [],
            "_model_module": "@jupyter-widgets/controls",
            "_model_module_version": "1.5.0",
            "_model_name": "HTMLModel",
            "_view_count": null,
            "_view_module": "@jupyter-widgets/controls",
            "_view_module_version": "1.5.0",
            "_view_name": "HTMLView",
            "description": "",
            "description_tooltip": null,
            "layout": "IPY_MODEL_1850af1fe52948bcb3137c354c07452b",
            "placeholder": "​",
            "style": "IPY_MODEL_46fb85ed9cb0458786280c0cb4df88cc",
            "value": "dataset_infos.json: 100%"
          }
        },
        "fedad0ebbc4c4ca49da1523bef067f4b": {
          "model_module": "@jupyter-widgets/controls",
          "model_name": "FloatProgressModel",
          "model_module_version": "1.5.0",
          "state": {
            "_dom_classes": [],
            "_model_module": "@jupyter-widgets/controls",
            "_model_module_version": "1.5.0",
            "_model_name": "FloatProgressModel",
            "_view_count": null,
            "_view_module": "@jupyter-widgets/controls",
            "_view_module_version": "1.5.0",
            "_view_name": "ProgressView",
            "bar_style": "success",
            "description": "",
            "description_tooltip": null,
            "layout": "IPY_MODEL_959e88df2e8840d284db129160e4ecac",
            "max": 138338,
            "min": 0,
            "orientation": "horizontal",
            "style": "IPY_MODEL_1671de5557aa4da3bc6de381ace8ecb7",
            "value": 138338
          }
        },
        "ef4567c52246447e8077d053dc294fcc": {
          "model_module": "@jupyter-widgets/controls",
          "model_name": "HTMLModel",
          "model_module_version": "1.5.0",
          "state": {
            "_dom_classes": [],
            "_model_module": "@jupyter-widgets/controls",
            "_model_module_version": "1.5.0",
            "_model_name": "HTMLModel",
            "_view_count": null,
            "_view_module": "@jupyter-widgets/controls",
            "_view_module_version": "1.5.0",
            "_view_name": "HTMLView",
            "description": "",
            "description_tooltip": null,
            "layout": "IPY_MODEL_1c0938b4c12b47ca87b716c21f8003ae",
            "placeholder": "​",
            "style": "IPY_MODEL_6dde14b26b854ad2bcac6964ec898ce8",
            "value": " 138k/138k [00:00&lt;00:00, 1.48MB/s]"
          }
        },
        "ddf0830025d043b49573d7913b17c184": {
          "model_module": "@jupyter-widgets/base",
          "model_name": "LayoutModel",
          "model_module_version": "1.2.0",
          "state": {
            "_model_module": "@jupyter-widgets/base",
            "_model_module_version": "1.2.0",
            "_model_name": "LayoutModel",
            "_view_count": null,
            "_view_module": "@jupyter-widgets/base",
            "_view_module_version": "1.2.0",
            "_view_name": "LayoutView",
            "align_content": null,
            "align_items": null,
            "align_self": null,
            "border": null,
            "bottom": null,
            "display": null,
            "flex": null,
            "flex_flow": null,
            "grid_area": null,
            "grid_auto_columns": null,
            "grid_auto_flow": null,
            "grid_auto_rows": null,
            "grid_column": null,
            "grid_gap": null,
            "grid_row": null,
            "grid_template_areas": null,
            "grid_template_columns": null,
            "grid_template_rows": null,
            "height": null,
            "justify_content": null,
            "justify_items": null,
            "left": null,
            "margin": null,
            "max_height": null,
            "max_width": null,
            "min_height": null,
            "min_width": null,
            "object_fit": null,
            "object_position": null,
            "order": null,
            "overflow": null,
            "overflow_x": null,
            "overflow_y": null,
            "padding": null,
            "right": null,
            "top": null,
            "visibility": null,
            "width": null
          }
        },
        "1850af1fe52948bcb3137c354c07452b": {
          "model_module": "@jupyter-widgets/base",
          "model_name": "LayoutModel",
          "model_module_version": "1.2.0",
          "state": {
            "_model_module": "@jupyter-widgets/base",
            "_model_module_version": "1.2.0",
            "_model_name": "LayoutModel",
            "_view_count": null,
            "_view_module": "@jupyter-widgets/base",
            "_view_module_version": "1.2.0",
            "_view_name": "LayoutView",
            "align_content": null,
            "align_items": null,
            "align_self": null,
            "border": null,
            "bottom": null,
            "display": null,
            "flex": null,
            "flex_flow": null,
            "grid_area": null,
            "grid_auto_columns": null,
            "grid_auto_flow": null,
            "grid_auto_rows": null,
            "grid_column": null,
            "grid_gap": null,
            "grid_row": null,
            "grid_template_areas": null,
            "grid_template_columns": null,
            "grid_template_rows": null,
            "height": null,
            "justify_content": null,
            "justify_items": null,
            "left": null,
            "margin": null,
            "max_height": null,
            "max_width": null,
            "min_height": null,
            "min_width": null,
            "object_fit": null,
            "object_position": null,
            "order": null,
            "overflow": null,
            "overflow_x": null,
            "overflow_y": null,
            "padding": null,
            "right": null,
            "top": null,
            "visibility": null,
            "width": null
          }
        },
        "46fb85ed9cb0458786280c0cb4df88cc": {
          "model_module": "@jupyter-widgets/controls",
          "model_name": "DescriptionStyleModel",
          "model_module_version": "1.5.0",
          "state": {
            "_model_module": "@jupyter-widgets/controls",
            "_model_module_version": "1.5.0",
            "_model_name": "DescriptionStyleModel",
            "_view_count": null,
            "_view_module": "@jupyter-widgets/base",
            "_view_module_version": "1.2.0",
            "_view_name": "StyleView",
            "description_width": ""
          }
        },
        "959e88df2e8840d284db129160e4ecac": {
          "model_module": "@jupyter-widgets/base",
          "model_name": "LayoutModel",
          "model_module_version": "1.2.0",
          "state": {
            "_model_module": "@jupyter-widgets/base",
            "_model_module_version": "1.2.0",
            "_model_name": "LayoutModel",
            "_view_count": null,
            "_view_module": "@jupyter-widgets/base",
            "_view_module_version": "1.2.0",
            "_view_name": "LayoutView",
            "align_content": null,
            "align_items": null,
            "align_self": null,
            "border": null,
            "bottom": null,
            "display": null,
            "flex": null,
            "flex_flow": null,
            "grid_area": null,
            "grid_auto_columns": null,
            "grid_auto_flow": null,
            "grid_auto_rows": null,
            "grid_column": null,
            "grid_gap": null,
            "grid_row": null,
            "grid_template_areas": null,
            "grid_template_columns": null,
            "grid_template_rows": null,
            "height": null,
            "justify_content": null,
            "justify_items": null,
            "left": null,
            "margin": null,
            "max_height": null,
            "max_width": null,
            "min_height": null,
            "min_width": null,
            "object_fit": null,
            "object_position": null,
            "order": null,
            "overflow": null,
            "overflow_x": null,
            "overflow_y": null,
            "padding": null,
            "right": null,
            "top": null,
            "visibility": null,
            "width": null
          }
        },
        "1671de5557aa4da3bc6de381ace8ecb7": {
          "model_module": "@jupyter-widgets/controls",
          "model_name": "ProgressStyleModel",
          "model_module_version": "1.5.0",
          "state": {
            "_model_module": "@jupyter-widgets/controls",
            "_model_module_version": "1.5.0",
            "_model_name": "ProgressStyleModel",
            "_view_count": null,
            "_view_module": "@jupyter-widgets/base",
            "_view_module_version": "1.2.0",
            "_view_name": "StyleView",
            "bar_color": null,
            "description_width": ""
          }
        },
        "1c0938b4c12b47ca87b716c21f8003ae": {
          "model_module": "@jupyter-widgets/base",
          "model_name": "LayoutModel",
          "model_module_version": "1.2.0",
          "state": {
            "_model_module": "@jupyter-widgets/base",
            "_model_module_version": "1.2.0",
            "_model_name": "LayoutModel",
            "_view_count": null,
            "_view_module": "@jupyter-widgets/base",
            "_view_module_version": "1.2.0",
            "_view_name": "LayoutView",
            "align_content": null,
            "align_items": null,
            "align_self": null,
            "border": null,
            "bottom": null,
            "display": null,
            "flex": null,
            "flex_flow": null,
            "grid_area": null,
            "grid_auto_columns": null,
            "grid_auto_flow": null,
            "grid_auto_rows": null,
            "grid_column": null,
            "grid_gap": null,
            "grid_row": null,
            "grid_template_areas": null,
            "grid_template_columns": null,
            "grid_template_rows": null,
            "height": null,
            "justify_content": null,
            "justify_items": null,
            "left": null,
            "margin": null,
            "max_height": null,
            "max_width": null,
            "min_height": null,
            "min_width": null,
            "object_fit": null,
            "object_position": null,
            "order": null,
            "overflow": null,
            "overflow_x": null,
            "overflow_y": null,
            "padding": null,
            "right": null,
            "top": null,
            "visibility": null,
            "width": null
          }
        },
        "6dde14b26b854ad2bcac6964ec898ce8": {
          "model_module": "@jupyter-widgets/controls",
          "model_name": "DescriptionStyleModel",
          "model_module_version": "1.5.0",
          "state": {
            "_model_module": "@jupyter-widgets/controls",
            "_model_module_version": "1.5.0",
            "_model_name": "DescriptionStyleModel",
            "_view_count": null,
            "_view_module": "@jupyter-widgets/base",
            "_view_module_version": "1.2.0",
            "_view_name": "StyleView",
            "description_width": ""
          }
        },
        "530615bec2ee4e7f893d491a8fb4d3e9": {
          "model_module": "@jupyter-widgets/controls",
          "model_name": "HBoxModel",
          "model_module_version": "1.5.0",
          "state": {
            "_dom_classes": [],
            "_model_module": "@jupyter-widgets/controls",
            "_model_module_version": "1.5.0",
            "_model_name": "HBoxModel",
            "_view_count": null,
            "_view_module": "@jupyter-widgets/controls",
            "_view_module_version": "1.5.0",
            "_view_name": "HBoxView",
            "box_style": "",
            "children": [
              "IPY_MODEL_8aea700a5a684214a3fdd333edbaae88",
              "IPY_MODEL_443a67c565f04486b0833bf0992e68f3",
              "IPY_MODEL_760bf96be7b845cebf0237e06ea2af30"
            ],
            "layout": "IPY_MODEL_23c74bb568004124a2ab2a9aa707f2e2"
          }
        },
        "8aea700a5a684214a3fdd333edbaae88": {
          "model_module": "@jupyter-widgets/controls",
          "model_name": "HTMLModel",
          "model_module_version": "1.5.0",
          "state": {
            "_dom_classes": [],
            "_model_module": "@jupyter-widgets/controls",
            "_model_module_version": "1.5.0",
            "_model_name": "HTMLModel",
            "_view_count": null,
            "_view_module": "@jupyter-widgets/controls",
            "_view_module_version": "1.5.0",
            "_view_name": "HTMLView",
            "description": "",
            "description_tooltip": null,
            "layout": "IPY_MODEL_dbcb3568564042599d00c9c815c32d51",
            "placeholder": "​",
            "style": "IPY_MODEL_fb6127c9638143b3b572e6b026849126",
            "value": "test-00000-of-00001.parquet: 100%"
          }
        },
        "443a67c565f04486b0833bf0992e68f3": {
          "model_module": "@jupyter-widgets/controls",
          "model_name": "FloatProgressModel",
          "model_module_version": "1.5.0",
          "state": {
            "_dom_classes": [],
            "_model_module": "@jupyter-widgets/controls",
            "_model_module_version": "1.5.0",
            "_model_name": "FloatProgressModel",
            "_view_count": null,
            "_view_module": "@jupyter-widgets/controls",
            "_view_module_version": "1.5.0",
            "_view_name": "ProgressView",
            "bar_style": "success",
            "description": "",
            "description_tooltip": null,
            "layout": "IPY_MODEL_8ca059201d1447298c345377fd072979",
            "max": 28162,
            "min": 0,
            "orientation": "horizontal",
            "style": "IPY_MODEL_8e6d951788b341b2bb9ae6bdf60006c8",
            "value": 28162
          }
        },
        "760bf96be7b845cebf0237e06ea2af30": {
          "model_module": "@jupyter-widgets/controls",
          "model_name": "HTMLModel",
          "model_module_version": "1.5.0",
          "state": {
            "_dom_classes": [],
            "_model_module": "@jupyter-widgets/controls",
            "_model_module_version": "1.5.0",
            "_model_name": "HTMLModel",
            "_view_count": null,
            "_view_module": "@jupyter-widgets/controls",
            "_view_module_version": "1.5.0",
            "_view_name": "HTMLView",
            "description": "",
            "description_tooltip": null,
            "layout": "IPY_MODEL_c9991d07dee74dddbb7dfd91c7413a70",
            "placeholder": "​",
            "style": "IPY_MODEL_a98147cbec6b41c19c4161ff0ed27d94",
            "value": " 28.2k/28.2k [00:00&lt;00:00, 397kB/s]"
          }
        },
        "23c74bb568004124a2ab2a9aa707f2e2": {
          "model_module": "@jupyter-widgets/base",
          "model_name": "LayoutModel",
          "model_module_version": "1.2.0",
          "state": {
            "_model_module": "@jupyter-widgets/base",
            "_model_module_version": "1.2.0",
            "_model_name": "LayoutModel",
            "_view_count": null,
            "_view_module": "@jupyter-widgets/base",
            "_view_module_version": "1.2.0",
            "_view_name": "LayoutView",
            "align_content": null,
            "align_items": null,
            "align_self": null,
            "border": null,
            "bottom": null,
            "display": null,
            "flex": null,
            "flex_flow": null,
            "grid_area": null,
            "grid_auto_columns": null,
            "grid_auto_flow": null,
            "grid_auto_rows": null,
            "grid_column": null,
            "grid_gap": null,
            "grid_row": null,
            "grid_template_areas": null,
            "grid_template_columns": null,
            "grid_template_rows": null,
            "height": null,
            "justify_content": null,
            "justify_items": null,
            "left": null,
            "margin": null,
            "max_height": null,
            "max_width": null,
            "min_height": null,
            "min_width": null,
            "object_fit": null,
            "object_position": null,
            "order": null,
            "overflow": null,
            "overflow_x": null,
            "overflow_y": null,
            "padding": null,
            "right": null,
            "top": null,
            "visibility": null,
            "width": null
          }
        },
        "dbcb3568564042599d00c9c815c32d51": {
          "model_module": "@jupyter-widgets/base",
          "model_name": "LayoutModel",
          "model_module_version": "1.2.0",
          "state": {
            "_model_module": "@jupyter-widgets/base",
            "_model_module_version": "1.2.0",
            "_model_name": "LayoutModel",
            "_view_count": null,
            "_view_module": "@jupyter-widgets/base",
            "_view_module_version": "1.2.0",
            "_view_name": "LayoutView",
            "align_content": null,
            "align_items": null,
            "align_self": null,
            "border": null,
            "bottom": null,
            "display": null,
            "flex": null,
            "flex_flow": null,
            "grid_area": null,
            "grid_auto_columns": null,
            "grid_auto_flow": null,
            "grid_auto_rows": null,
            "grid_column": null,
            "grid_gap": null,
            "grid_row": null,
            "grid_template_areas": null,
            "grid_template_columns": null,
            "grid_template_rows": null,
            "height": null,
            "justify_content": null,
            "justify_items": null,
            "left": null,
            "margin": null,
            "max_height": null,
            "max_width": null,
            "min_height": null,
            "min_width": null,
            "object_fit": null,
            "object_position": null,
            "order": null,
            "overflow": null,
            "overflow_x": null,
            "overflow_y": null,
            "padding": null,
            "right": null,
            "top": null,
            "visibility": null,
            "width": null
          }
        },
        "fb6127c9638143b3b572e6b026849126": {
          "model_module": "@jupyter-widgets/controls",
          "model_name": "DescriptionStyleModel",
          "model_module_version": "1.5.0",
          "state": {
            "_model_module": "@jupyter-widgets/controls",
            "_model_module_version": "1.5.0",
            "_model_name": "DescriptionStyleModel",
            "_view_count": null,
            "_view_module": "@jupyter-widgets/base",
            "_view_module_version": "1.2.0",
            "_view_name": "StyleView",
            "description_width": ""
          }
        },
        "8ca059201d1447298c345377fd072979": {
          "model_module": "@jupyter-widgets/base",
          "model_name": "LayoutModel",
          "model_module_version": "1.2.0",
          "state": {
            "_model_module": "@jupyter-widgets/base",
            "_model_module_version": "1.2.0",
            "_model_name": "LayoutModel",
            "_view_count": null,
            "_view_module": "@jupyter-widgets/base",
            "_view_module_version": "1.2.0",
            "_view_name": "LayoutView",
            "align_content": null,
            "align_items": null,
            "align_self": null,
            "border": null,
            "bottom": null,
            "display": null,
            "flex": null,
            "flex_flow": null,
            "grid_area": null,
            "grid_auto_columns": null,
            "grid_auto_flow": null,
            "grid_auto_rows": null,
            "grid_column": null,
            "grid_gap": null,
            "grid_row": null,
            "grid_template_areas": null,
            "grid_template_columns": null,
            "grid_template_rows": null,
            "height": null,
            "justify_content": null,
            "justify_items": null,
            "left": null,
            "margin": null,
            "max_height": null,
            "max_width": null,
            "min_height": null,
            "min_width": null,
            "object_fit": null,
            "object_position": null,
            "order": null,
            "overflow": null,
            "overflow_x": null,
            "overflow_y": null,
            "padding": null,
            "right": null,
            "top": null,
            "visibility": null,
            "width": null
          }
        },
        "8e6d951788b341b2bb9ae6bdf60006c8": {
          "model_module": "@jupyter-widgets/controls",
          "model_name": "ProgressStyleModel",
          "model_module_version": "1.5.0",
          "state": {
            "_model_module": "@jupyter-widgets/controls",
            "_model_module_version": "1.5.0",
            "_model_name": "ProgressStyleModel",
            "_view_count": null,
            "_view_module": "@jupyter-widgets/base",
            "_view_module_version": "1.2.0",
            "_view_name": "StyleView",
            "bar_color": null,
            "description_width": ""
          }
        },
        "c9991d07dee74dddbb7dfd91c7413a70": {
          "model_module": "@jupyter-widgets/base",
          "model_name": "LayoutModel",
          "model_module_version": "1.2.0",
          "state": {
            "_model_module": "@jupyter-widgets/base",
            "_model_module_version": "1.2.0",
            "_model_name": "LayoutModel",
            "_view_count": null,
            "_view_module": "@jupyter-widgets/base",
            "_view_module_version": "1.2.0",
            "_view_name": "LayoutView",
            "align_content": null,
            "align_items": null,
            "align_self": null,
            "border": null,
            "bottom": null,
            "display": null,
            "flex": null,
            "flex_flow": null,
            "grid_area": null,
            "grid_auto_columns": null,
            "grid_auto_flow": null,
            "grid_auto_rows": null,
            "grid_column": null,
            "grid_gap": null,
            "grid_row": null,
            "grid_template_areas": null,
            "grid_template_columns": null,
            "grid_template_rows": null,
            "height": null,
            "justify_content": null,
            "justify_items": null,
            "left": null,
            "margin": null,
            "max_height": null,
            "max_width": null,
            "min_height": null,
            "min_width": null,
            "object_fit": null,
            "object_position": null,
            "order": null,
            "overflow": null,
            "overflow_x": null,
            "overflow_y": null,
            "padding": null,
            "right": null,
            "top": null,
            "visibility": null,
            "width": null
          }
        },
        "a98147cbec6b41c19c4161ff0ed27d94": {
          "model_module": "@jupyter-widgets/controls",
          "model_name": "DescriptionStyleModel",
          "model_module_version": "1.5.0",
          "state": {
            "_model_module": "@jupyter-widgets/controls",
            "_model_module_version": "1.5.0",
            "_model_name": "DescriptionStyleModel",
            "_view_count": null,
            "_view_module": "@jupyter-widgets/base",
            "_view_module_version": "1.2.0",
            "_view_name": "StyleView",
            "description_width": ""
          }
        },
        "0d776e0ab49b406c971ba19a20a62c4e": {
          "model_module": "@jupyter-widgets/controls",
          "model_name": "HBoxModel",
          "model_module_version": "1.5.0",
          "state": {
            "_dom_classes": [],
            "_model_module": "@jupyter-widgets/controls",
            "_model_module_version": "1.5.0",
            "_model_name": "HBoxModel",
            "_view_count": null,
            "_view_module": "@jupyter-widgets/controls",
            "_view_module_version": "1.5.0",
            "_view_name": "HBoxView",
            "box_style": "",
            "children": [
              "IPY_MODEL_c3e0fde7b1be4c9a97b6b3320005885f",
              "IPY_MODEL_bf68d2796eb84415b1d9a3dca1d3a5cc",
              "IPY_MODEL_6a79866723a4480797ea8c1c3b607392"
            ],
            "layout": "IPY_MODEL_2bf6114b46394c91a7f5dcdc2721deeb"
          }
        },
        "c3e0fde7b1be4c9a97b6b3320005885f": {
          "model_module": "@jupyter-widgets/controls",
          "model_name": "HTMLModel",
          "model_module_version": "1.5.0",
          "state": {
            "_dom_classes": [],
            "_model_module": "@jupyter-widgets/controls",
            "_model_module_version": "1.5.0",
            "_model_name": "HTMLModel",
            "_view_count": null,
            "_view_module": "@jupyter-widgets/controls",
            "_view_module_version": "1.5.0",
            "_view_name": "HTMLView",
            "description": "",
            "description_tooltip": null,
            "layout": "IPY_MODEL_ec866caaedae419487b14ce6e10c4b0c",
            "placeholder": "​",
            "style": "IPY_MODEL_322126bbd4fd42ac90917413eb224daa",
            "value": "validation-00000-of-00001.parquet: 100%"
          }
        },
        "bf68d2796eb84415b1d9a3dca1d3a5cc": {
          "model_module": "@jupyter-widgets/controls",
          "model_name": "FloatProgressModel",
          "model_module_version": "1.5.0",
          "state": {
            "_dom_classes": [],
            "_model_module": "@jupyter-widgets/controls",
            "_model_module_version": "1.5.0",
            "_model_name": "FloatProgressModel",
            "_view_count": null,
            "_view_module": "@jupyter-widgets/controls",
            "_view_module_version": "1.5.0",
            "_view_name": "ProgressView",
            "bar_style": "success",
            "description": "",
            "description_tooltip": null,
            "layout": "IPY_MODEL_1f0056404dc64681904f31340f2d0e77",
            "max": 6164,
            "min": 0,
            "orientation": "horizontal",
            "style": "IPY_MODEL_e5f564447d2f47c7bc0fd46f12da78f0",
            "value": 6164
          }
        },
        "6a79866723a4480797ea8c1c3b607392": {
          "model_module": "@jupyter-widgets/controls",
          "model_name": "HTMLModel",
          "model_module_version": "1.5.0",
          "state": {
            "_dom_classes": [],
            "_model_module": "@jupyter-widgets/controls",
            "_model_module_version": "1.5.0",
            "_model_name": "HTMLModel",
            "_view_count": null,
            "_view_module": "@jupyter-widgets/controls",
            "_view_module_version": "1.5.0",
            "_view_name": "HTMLView",
            "description": "",
            "description_tooltip": null,
            "layout": "IPY_MODEL_d1db81555f964c22afe5cb4a25ccece6",
            "placeholder": "​",
            "style": "IPY_MODEL_248adf112b2c49f79fd8b93e42a5a409",
            "value": " 6.16k/6.16k [00:00&lt;00:00, 132kB/s]"
          }
        },
        "2bf6114b46394c91a7f5dcdc2721deeb": {
          "model_module": "@jupyter-widgets/base",
          "model_name": "LayoutModel",
          "model_module_version": "1.2.0",
          "state": {
            "_model_module": "@jupyter-widgets/base",
            "_model_module_version": "1.2.0",
            "_model_name": "LayoutModel",
            "_view_count": null,
            "_view_module": "@jupyter-widgets/base",
            "_view_module_version": "1.2.0",
            "_view_name": "LayoutView",
            "align_content": null,
            "align_items": null,
            "align_self": null,
            "border": null,
            "bottom": null,
            "display": null,
            "flex": null,
            "flex_flow": null,
            "grid_area": null,
            "grid_auto_columns": null,
            "grid_auto_flow": null,
            "grid_auto_rows": null,
            "grid_column": null,
            "grid_gap": null,
            "grid_row": null,
            "grid_template_areas": null,
            "grid_template_columns": null,
            "grid_template_rows": null,
            "height": null,
            "justify_content": null,
            "justify_items": null,
            "left": null,
            "margin": null,
            "max_height": null,
            "max_width": null,
            "min_height": null,
            "min_width": null,
            "object_fit": null,
            "object_position": null,
            "order": null,
            "overflow": null,
            "overflow_x": null,
            "overflow_y": null,
            "padding": null,
            "right": null,
            "top": null,
            "visibility": null,
            "width": null
          }
        },
        "ec866caaedae419487b14ce6e10c4b0c": {
          "model_module": "@jupyter-widgets/base",
          "model_name": "LayoutModel",
          "model_module_version": "1.2.0",
          "state": {
            "_model_module": "@jupyter-widgets/base",
            "_model_module_version": "1.2.0",
            "_model_name": "LayoutModel",
            "_view_count": null,
            "_view_module": "@jupyter-widgets/base",
            "_view_module_version": "1.2.0",
            "_view_name": "LayoutView",
            "align_content": null,
            "align_items": null,
            "align_self": null,
            "border": null,
            "bottom": null,
            "display": null,
            "flex": null,
            "flex_flow": null,
            "grid_area": null,
            "grid_auto_columns": null,
            "grid_auto_flow": null,
            "grid_auto_rows": null,
            "grid_column": null,
            "grid_gap": null,
            "grid_row": null,
            "grid_template_areas": null,
            "grid_template_columns": null,
            "grid_template_rows": null,
            "height": null,
            "justify_content": null,
            "justify_items": null,
            "left": null,
            "margin": null,
            "max_height": null,
            "max_width": null,
            "min_height": null,
            "min_width": null,
            "object_fit": null,
            "object_position": null,
            "order": null,
            "overflow": null,
            "overflow_x": null,
            "overflow_y": null,
            "padding": null,
            "right": null,
            "top": null,
            "visibility": null,
            "width": null
          }
        },
        "322126bbd4fd42ac90917413eb224daa": {
          "model_module": "@jupyter-widgets/controls",
          "model_name": "DescriptionStyleModel",
          "model_module_version": "1.5.0",
          "state": {
            "_model_module": "@jupyter-widgets/controls",
            "_model_module_version": "1.5.0",
            "_model_name": "DescriptionStyleModel",
            "_view_count": null,
            "_view_module": "@jupyter-widgets/base",
            "_view_module_version": "1.2.0",
            "_view_name": "StyleView",
            "description_width": ""
          }
        },
        "1f0056404dc64681904f31340f2d0e77": {
          "model_module": "@jupyter-widgets/base",
          "model_name": "LayoutModel",
          "model_module_version": "1.2.0",
          "state": {
            "_model_module": "@jupyter-widgets/base",
            "_model_module_version": "1.2.0",
            "_model_name": "LayoutModel",
            "_view_count": null,
            "_view_module": "@jupyter-widgets/base",
            "_view_module_version": "1.2.0",
            "_view_name": "LayoutView",
            "align_content": null,
            "align_items": null,
            "align_self": null,
            "border": null,
            "bottom": null,
            "display": null,
            "flex": null,
            "flex_flow": null,
            "grid_area": null,
            "grid_auto_columns": null,
            "grid_auto_flow": null,
            "grid_auto_rows": null,
            "grid_column": null,
            "grid_gap": null,
            "grid_row": null,
            "grid_template_areas": null,
            "grid_template_columns": null,
            "grid_template_rows": null,
            "height": null,
            "justify_content": null,
            "justify_items": null,
            "left": null,
            "margin": null,
            "max_height": null,
            "max_width": null,
            "min_height": null,
            "min_width": null,
            "object_fit": null,
            "object_position": null,
            "order": null,
            "overflow": null,
            "overflow_x": null,
            "overflow_y": null,
            "padding": null,
            "right": null,
            "top": null,
            "visibility": null,
            "width": null
          }
        },
        "e5f564447d2f47c7bc0fd46f12da78f0": {
          "model_module": "@jupyter-widgets/controls",
          "model_name": "ProgressStyleModel",
          "model_module_version": "1.5.0",
          "state": {
            "_model_module": "@jupyter-widgets/controls",
            "_model_module_version": "1.5.0",
            "_model_name": "ProgressStyleModel",
            "_view_count": null,
            "_view_module": "@jupyter-widgets/base",
            "_view_module_version": "1.2.0",
            "_view_name": "StyleView",
            "bar_color": null,
            "description_width": ""
          }
        },
        "d1db81555f964c22afe5cb4a25ccece6": {
          "model_module": "@jupyter-widgets/base",
          "model_name": "LayoutModel",
          "model_module_version": "1.2.0",
          "state": {
            "_model_module": "@jupyter-widgets/base",
            "_model_module_version": "1.2.0",
            "_model_name": "LayoutModel",
            "_view_count": null,
            "_view_module": "@jupyter-widgets/base",
            "_view_module_version": "1.2.0",
            "_view_name": "LayoutView",
            "align_content": null,
            "align_items": null,
            "align_self": null,
            "border": null,
            "bottom": null,
            "display": null,
            "flex": null,
            "flex_flow": null,
            "grid_area": null,
            "grid_auto_columns": null,
            "grid_auto_flow": null,
            "grid_auto_rows": null,
            "grid_column": null,
            "grid_gap": null,
            "grid_row": null,
            "grid_template_areas": null,
            "grid_template_columns": null,
            "grid_template_rows": null,
            "height": null,
            "justify_content": null,
            "justify_items": null,
            "left": null,
            "margin": null,
            "max_height": null,
            "max_width": null,
            "min_height": null,
            "min_width": null,
            "object_fit": null,
            "object_position": null,
            "order": null,
            "overflow": null,
            "overflow_x": null,
            "overflow_y": null,
            "padding": null,
            "right": null,
            "top": null,
            "visibility": null,
            "width": null
          }
        },
        "248adf112b2c49f79fd8b93e42a5a409": {
          "model_module": "@jupyter-widgets/controls",
          "model_name": "DescriptionStyleModel",
          "model_module_version": "1.5.0",
          "state": {
            "_model_module": "@jupyter-widgets/controls",
            "_model_module_version": "1.5.0",
            "_model_name": "DescriptionStyleModel",
            "_view_count": null,
            "_view_module": "@jupyter-widgets/base",
            "_view_module_version": "1.2.0",
            "_view_name": "StyleView",
            "description_width": ""
          }
        },
        "9abaa3defb3043aba1ed77930548d55e": {
          "model_module": "@jupyter-widgets/controls",
          "model_name": "HBoxModel",
          "model_module_version": "1.5.0",
          "state": {
            "_dom_classes": [],
            "_model_module": "@jupyter-widgets/controls",
            "_model_module_version": "1.5.0",
            "_model_name": "HBoxModel",
            "_view_count": null,
            "_view_module": "@jupyter-widgets/controls",
            "_view_module_version": "1.5.0",
            "_view_name": "HBoxView",
            "box_style": "",
            "children": [
              "IPY_MODEL_60ee9f1ce5f34d2b8c75c701a4c44db1",
              "IPY_MODEL_69dc8cd8aa644376959e808b7212de55",
              "IPY_MODEL_4c2c7197f4e947b7b489e79275b2b855"
            ],
            "layout": "IPY_MODEL_ef9f44dcc7e24c7dbb0a10dc1a361da0"
          }
        },
        "60ee9f1ce5f34d2b8c75c701a4c44db1": {
          "model_module": "@jupyter-widgets/controls",
          "model_name": "HTMLModel",
          "model_module_version": "1.5.0",
          "state": {
            "_dom_classes": [],
            "_model_module": "@jupyter-widgets/controls",
            "_model_module_version": "1.5.0",
            "_model_name": "HTMLModel",
            "_view_count": null,
            "_view_module": "@jupyter-widgets/controls",
            "_view_module_version": "1.5.0",
            "_view_name": "HTMLView",
            "description": "",
            "description_tooltip": null,
            "layout": "IPY_MODEL_30336105d8bf4297a75e5fefc701d39c",
            "placeholder": "​",
            "style": "IPY_MODEL_7ab43385469c4308bda663a99b105057",
            "value": "dev-00000-of-00001.parquet: 100%"
          }
        },
        "69dc8cd8aa644376959e808b7212de55": {
          "model_module": "@jupyter-widgets/controls",
          "model_name": "FloatProgressModel",
          "model_module_version": "1.5.0",
          "state": {
            "_dom_classes": [],
            "_model_module": "@jupyter-widgets/controls",
            "_model_module_version": "1.5.0",
            "_model_name": "FloatProgressModel",
            "_view_count": null,
            "_view_module": "@jupyter-widgets/controls",
            "_view_module_version": "1.5.0",
            "_view_name": "ProgressView",
            "bar_style": "success",
            "description": "",
            "description_tooltip": null,
            "layout": "IPY_MODEL_8fbf7b5e62d740699e6189e9315a7186",
            "max": 3929,
            "min": 0,
            "orientation": "horizontal",
            "style": "IPY_MODEL_77c59e3be79d482cafafb7d354f5ec4e",
            "value": 3929
          }
        },
        "4c2c7197f4e947b7b489e79275b2b855": {
          "model_module": "@jupyter-widgets/controls",
          "model_name": "HTMLModel",
          "model_module_version": "1.5.0",
          "state": {
            "_dom_classes": [],
            "_model_module": "@jupyter-widgets/controls",
            "_model_module_version": "1.5.0",
            "_model_name": "HTMLModel",
            "_view_count": null,
            "_view_module": "@jupyter-widgets/controls",
            "_view_module_version": "1.5.0",
            "_view_name": "HTMLView",
            "description": "",
            "description_tooltip": null,
            "layout": "IPY_MODEL_55acad1f3d9947679c9ec3afc0a9c36b",
            "placeholder": "​",
            "style": "IPY_MODEL_af9f270b0b2443508906e894fd3d2d6d",
            "value": " 3.93k/3.93k [00:00&lt;00:00, 183kB/s]"
          }
        },
        "ef9f44dcc7e24c7dbb0a10dc1a361da0": {
          "model_module": "@jupyter-widgets/base",
          "model_name": "LayoutModel",
          "model_module_version": "1.2.0",
          "state": {
            "_model_module": "@jupyter-widgets/base",
            "_model_module_version": "1.2.0",
            "_model_name": "LayoutModel",
            "_view_count": null,
            "_view_module": "@jupyter-widgets/base",
            "_view_module_version": "1.2.0",
            "_view_name": "LayoutView",
            "align_content": null,
            "align_items": null,
            "align_self": null,
            "border": null,
            "bottom": null,
            "display": null,
            "flex": null,
            "flex_flow": null,
            "grid_area": null,
            "grid_auto_columns": null,
            "grid_auto_flow": null,
            "grid_auto_rows": null,
            "grid_column": null,
            "grid_gap": null,
            "grid_row": null,
            "grid_template_areas": null,
            "grid_template_columns": null,
            "grid_template_rows": null,
            "height": null,
            "justify_content": null,
            "justify_items": null,
            "left": null,
            "margin": null,
            "max_height": null,
            "max_width": null,
            "min_height": null,
            "min_width": null,
            "object_fit": null,
            "object_position": null,
            "order": null,
            "overflow": null,
            "overflow_x": null,
            "overflow_y": null,
            "padding": null,
            "right": null,
            "top": null,
            "visibility": null,
            "width": null
          }
        },
        "30336105d8bf4297a75e5fefc701d39c": {
          "model_module": "@jupyter-widgets/base",
          "model_name": "LayoutModel",
          "model_module_version": "1.2.0",
          "state": {
            "_model_module": "@jupyter-widgets/base",
            "_model_module_version": "1.2.0",
            "_model_name": "LayoutModel",
            "_view_count": null,
            "_view_module": "@jupyter-widgets/base",
            "_view_module_version": "1.2.0",
            "_view_name": "LayoutView",
            "align_content": null,
            "align_items": null,
            "align_self": null,
            "border": null,
            "bottom": null,
            "display": null,
            "flex": null,
            "flex_flow": null,
            "grid_area": null,
            "grid_auto_columns": null,
            "grid_auto_flow": null,
            "grid_auto_rows": null,
            "grid_column": null,
            "grid_gap": null,
            "grid_row": null,
            "grid_template_areas": null,
            "grid_template_columns": null,
            "grid_template_rows": null,
            "height": null,
            "justify_content": null,
            "justify_items": null,
            "left": null,
            "margin": null,
            "max_height": null,
            "max_width": null,
            "min_height": null,
            "min_width": null,
            "object_fit": null,
            "object_position": null,
            "order": null,
            "overflow": null,
            "overflow_x": null,
            "overflow_y": null,
            "padding": null,
            "right": null,
            "top": null,
            "visibility": null,
            "width": null
          }
        },
        "7ab43385469c4308bda663a99b105057": {
          "model_module": "@jupyter-widgets/controls",
          "model_name": "DescriptionStyleModel",
          "model_module_version": "1.5.0",
          "state": {
            "_model_module": "@jupyter-widgets/controls",
            "_model_module_version": "1.5.0",
            "_model_name": "DescriptionStyleModel",
            "_view_count": null,
            "_view_module": "@jupyter-widgets/base",
            "_view_module_version": "1.2.0",
            "_view_name": "StyleView",
            "description_width": ""
          }
        },
        "8fbf7b5e62d740699e6189e9315a7186": {
          "model_module": "@jupyter-widgets/base",
          "model_name": "LayoutModel",
          "model_module_version": "1.2.0",
          "state": {
            "_model_module": "@jupyter-widgets/base",
            "_model_module_version": "1.2.0",
            "_model_name": "LayoutModel",
            "_view_count": null,
            "_view_module": "@jupyter-widgets/base",
            "_view_module_version": "1.2.0",
            "_view_name": "LayoutView",
            "align_content": null,
            "align_items": null,
            "align_self": null,
            "border": null,
            "bottom": null,
            "display": null,
            "flex": null,
            "flex_flow": null,
            "grid_area": null,
            "grid_auto_columns": null,
            "grid_auto_flow": null,
            "grid_auto_rows": null,
            "grid_column": null,
            "grid_gap": null,
            "grid_row": null,
            "grid_template_areas": null,
            "grid_template_columns": null,
            "grid_template_rows": null,
            "height": null,
            "justify_content": null,
            "justify_items": null,
            "left": null,
            "margin": null,
            "max_height": null,
            "max_width": null,
            "min_height": null,
            "min_width": null,
            "object_fit": null,
            "object_position": null,
            "order": null,
            "overflow": null,
            "overflow_x": null,
            "overflow_y": null,
            "padding": null,
            "right": null,
            "top": null,
            "visibility": null,
            "width": null
          }
        },
        "77c59e3be79d482cafafb7d354f5ec4e": {
          "model_module": "@jupyter-widgets/controls",
          "model_name": "ProgressStyleModel",
          "model_module_version": "1.5.0",
          "state": {
            "_model_module": "@jupyter-widgets/controls",
            "_model_module_version": "1.5.0",
            "_model_name": "ProgressStyleModel",
            "_view_count": null,
            "_view_module": "@jupyter-widgets/base",
            "_view_module_version": "1.2.0",
            "_view_name": "StyleView",
            "bar_color": null,
            "description_width": ""
          }
        },
        "55acad1f3d9947679c9ec3afc0a9c36b": {
          "model_module": "@jupyter-widgets/base",
          "model_name": "LayoutModel",
          "model_module_version": "1.2.0",
          "state": {
            "_model_module": "@jupyter-widgets/base",
            "_model_module_version": "1.2.0",
            "_model_name": "LayoutModel",
            "_view_count": null,
            "_view_module": "@jupyter-widgets/base",
            "_view_module_version": "1.2.0",
            "_view_name": "LayoutView",
            "align_content": null,
            "align_items": null,
            "align_self": null,
            "border": null,
            "bottom": null,
            "display": null,
            "flex": null,
            "flex_flow": null,
            "grid_area": null,
            "grid_auto_columns": null,
            "grid_auto_flow": null,
            "grid_auto_rows": null,
            "grid_column": null,
            "grid_gap": null,
            "grid_row": null,
            "grid_template_areas": null,
            "grid_template_columns": null,
            "grid_template_rows": null,
            "height": null,
            "justify_content": null,
            "justify_items": null,
            "left": null,
            "margin": null,
            "max_height": null,
            "max_width": null,
            "min_height": null,
            "min_width": null,
            "object_fit": null,
            "object_position": null,
            "order": null,
            "overflow": null,
            "overflow_x": null,
            "overflow_y": null,
            "padding": null,
            "right": null,
            "top": null,
            "visibility": null,
            "width": null
          }
        },
        "af9f270b0b2443508906e894fd3d2d6d": {
          "model_module": "@jupyter-widgets/controls",
          "model_name": "DescriptionStyleModel",
          "model_module_version": "1.5.0",
          "state": {
            "_model_module": "@jupyter-widgets/controls",
            "_model_module_version": "1.5.0",
            "_model_name": "DescriptionStyleModel",
            "_view_count": null,
            "_view_module": "@jupyter-widgets/base",
            "_view_module_version": "1.2.0",
            "_view_name": "StyleView",
            "description_width": ""
          }
        },
        "30e5502664f94901bd37c39ece845b07": {
          "model_module": "@jupyter-widgets/controls",
          "model_name": "HBoxModel",
          "model_module_version": "1.5.0",
          "state": {
            "_dom_classes": [],
            "_model_module": "@jupyter-widgets/controls",
            "_model_module_version": "1.5.0",
            "_model_name": "HBoxModel",
            "_view_count": null,
            "_view_module": "@jupyter-widgets/controls",
            "_view_module_version": "1.5.0",
            "_view_name": "HBoxView",
            "box_style": "",
            "children": [
              "IPY_MODEL_37ff0ad0a2334f99ba98d12f61e63911",
              "IPY_MODEL_69042117c8f644e3bc8a12734088aff4",
              "IPY_MODEL_5151459e44c641118718be7aeef92d97"
            ],
            "layout": "IPY_MODEL_ec2d203ad7c649678fe50a94869b715d"
          }
        },
        "37ff0ad0a2334f99ba98d12f61e63911": {
          "model_module": "@jupyter-widgets/controls",
          "model_name": "HTMLModel",
          "model_module_version": "1.5.0",
          "state": {
            "_dom_classes": [],
            "_model_module": "@jupyter-widgets/controls",
            "_model_module_version": "1.5.0",
            "_model_name": "HTMLModel",
            "_view_count": null,
            "_view_module": "@jupyter-widgets/controls",
            "_view_module_version": "1.5.0",
            "_view_name": "HTMLView",
            "description": "",
            "description_tooltip": null,
            "layout": "IPY_MODEL_50bd31b1bad74dbf9652f6443c4270db",
            "placeholder": "​",
            "style": "IPY_MODEL_8db9a744ebd6413694d5ef556b99a605",
            "value": "Generating test split: 100%"
          }
        },
        "69042117c8f644e3bc8a12734088aff4": {
          "model_module": "@jupyter-widgets/controls",
          "model_name": "FloatProgressModel",
          "model_module_version": "1.5.0",
          "state": {
            "_dom_classes": [],
            "_model_module": "@jupyter-widgets/controls",
            "_model_module_version": "1.5.0",
            "_model_name": "FloatProgressModel",
            "_view_count": null,
            "_view_module": "@jupyter-widgets/controls",
            "_view_module_version": "1.5.0",
            "_view_name": "ProgressView",
            "bar_style": "success",
            "description": "",
            "description_tooltip": null,
            "layout": "IPY_MODEL_57d47ee0b71d45379410a78f2a0286ec",
            "max": 198,
            "min": 0,
            "orientation": "horizontal",
            "style": "IPY_MODEL_70a48126902d452880b42e2e30639d90",
            "value": 198
          }
        },
        "5151459e44c641118718be7aeef92d97": {
          "model_module": "@jupyter-widgets/controls",
          "model_name": "HTMLModel",
          "model_module_version": "1.5.0",
          "state": {
            "_dom_classes": [],
            "_model_module": "@jupyter-widgets/controls",
            "_model_module_version": "1.5.0",
            "_model_name": "HTMLModel",
            "_view_count": null,
            "_view_module": "@jupyter-widgets/controls",
            "_view_module_version": "1.5.0",
            "_view_name": "HTMLView",
            "description": "",
            "description_tooltip": null,
            "layout": "IPY_MODEL_aedd0e332d5d454c9e2d039f256d7ad2",
            "placeholder": "​",
            "style": "IPY_MODEL_35289e2ffb7b4da1917bba785c819bf5",
            "value": " 198/198 [00:00&lt;00:00, 3597.56 examples/s]"
          }
        },
        "ec2d203ad7c649678fe50a94869b715d": {
          "model_module": "@jupyter-widgets/base",
          "model_name": "LayoutModel",
          "model_module_version": "1.2.0",
          "state": {
            "_model_module": "@jupyter-widgets/base",
            "_model_module_version": "1.2.0",
            "_model_name": "LayoutModel",
            "_view_count": null,
            "_view_module": "@jupyter-widgets/base",
            "_view_module_version": "1.2.0",
            "_view_name": "LayoutView",
            "align_content": null,
            "align_items": null,
            "align_self": null,
            "border": null,
            "bottom": null,
            "display": null,
            "flex": null,
            "flex_flow": null,
            "grid_area": null,
            "grid_auto_columns": null,
            "grid_auto_flow": null,
            "grid_auto_rows": null,
            "grid_column": null,
            "grid_gap": null,
            "grid_row": null,
            "grid_template_areas": null,
            "grid_template_columns": null,
            "grid_template_rows": null,
            "height": null,
            "justify_content": null,
            "justify_items": null,
            "left": null,
            "margin": null,
            "max_height": null,
            "max_width": null,
            "min_height": null,
            "min_width": null,
            "object_fit": null,
            "object_position": null,
            "order": null,
            "overflow": null,
            "overflow_x": null,
            "overflow_y": null,
            "padding": null,
            "right": null,
            "top": null,
            "visibility": null,
            "width": null
          }
        },
        "50bd31b1bad74dbf9652f6443c4270db": {
          "model_module": "@jupyter-widgets/base",
          "model_name": "LayoutModel",
          "model_module_version": "1.2.0",
          "state": {
            "_model_module": "@jupyter-widgets/base",
            "_model_module_version": "1.2.0",
            "_model_name": "LayoutModel",
            "_view_count": null,
            "_view_module": "@jupyter-widgets/base",
            "_view_module_version": "1.2.0",
            "_view_name": "LayoutView",
            "align_content": null,
            "align_items": null,
            "align_self": null,
            "border": null,
            "bottom": null,
            "display": null,
            "flex": null,
            "flex_flow": null,
            "grid_area": null,
            "grid_auto_columns": null,
            "grid_auto_flow": null,
            "grid_auto_rows": null,
            "grid_column": null,
            "grid_gap": null,
            "grid_row": null,
            "grid_template_areas": null,
            "grid_template_columns": null,
            "grid_template_rows": null,
            "height": null,
            "justify_content": null,
            "justify_items": null,
            "left": null,
            "margin": null,
            "max_height": null,
            "max_width": null,
            "min_height": null,
            "min_width": null,
            "object_fit": null,
            "object_position": null,
            "order": null,
            "overflow": null,
            "overflow_x": null,
            "overflow_y": null,
            "padding": null,
            "right": null,
            "top": null,
            "visibility": null,
            "width": null
          }
        },
        "8db9a744ebd6413694d5ef556b99a605": {
          "model_module": "@jupyter-widgets/controls",
          "model_name": "DescriptionStyleModel",
          "model_module_version": "1.5.0",
          "state": {
            "_model_module": "@jupyter-widgets/controls",
            "_model_module_version": "1.5.0",
            "_model_name": "DescriptionStyleModel",
            "_view_count": null,
            "_view_module": "@jupyter-widgets/base",
            "_view_module_version": "1.2.0",
            "_view_name": "StyleView",
            "description_width": ""
          }
        },
        "57d47ee0b71d45379410a78f2a0286ec": {
          "model_module": "@jupyter-widgets/base",
          "model_name": "LayoutModel",
          "model_module_version": "1.2.0",
          "state": {
            "_model_module": "@jupyter-widgets/base",
            "_model_module_version": "1.2.0",
            "_model_name": "LayoutModel",
            "_view_count": null,
            "_view_module": "@jupyter-widgets/base",
            "_view_module_version": "1.2.0",
            "_view_name": "LayoutView",
            "align_content": null,
            "align_items": null,
            "align_self": null,
            "border": null,
            "bottom": null,
            "display": null,
            "flex": null,
            "flex_flow": null,
            "grid_area": null,
            "grid_auto_columns": null,
            "grid_auto_flow": null,
            "grid_auto_rows": null,
            "grid_column": null,
            "grid_gap": null,
            "grid_row": null,
            "grid_template_areas": null,
            "grid_template_columns": null,
            "grid_template_rows": null,
            "height": null,
            "justify_content": null,
            "justify_items": null,
            "left": null,
            "margin": null,
            "max_height": null,
            "max_width": null,
            "min_height": null,
            "min_width": null,
            "object_fit": null,
            "object_position": null,
            "order": null,
            "overflow": null,
            "overflow_x": null,
            "overflow_y": null,
            "padding": null,
            "right": null,
            "top": null,
            "visibility": null,
            "width": null
          }
        },
        "70a48126902d452880b42e2e30639d90": {
          "model_module": "@jupyter-widgets/controls",
          "model_name": "ProgressStyleModel",
          "model_module_version": "1.5.0",
          "state": {
            "_model_module": "@jupyter-widgets/controls",
            "_model_module_version": "1.5.0",
            "_model_name": "ProgressStyleModel",
            "_view_count": null,
            "_view_module": "@jupyter-widgets/base",
            "_view_module_version": "1.2.0",
            "_view_name": "StyleView",
            "bar_color": null,
            "description_width": ""
          }
        },
        "aedd0e332d5d454c9e2d039f256d7ad2": {
          "model_module": "@jupyter-widgets/base",
          "model_name": "LayoutModel",
          "model_module_version": "1.2.0",
          "state": {
            "_model_module": "@jupyter-widgets/base",
            "_model_module_version": "1.2.0",
            "_model_name": "LayoutModel",
            "_view_count": null,
            "_view_module": "@jupyter-widgets/base",
            "_view_module_version": "1.2.0",
            "_view_name": "LayoutView",
            "align_content": null,
            "align_items": null,
            "align_self": null,
            "border": null,
            "bottom": null,
            "display": null,
            "flex": null,
            "flex_flow": null,
            "grid_area": null,
            "grid_auto_columns": null,
            "grid_auto_flow": null,
            "grid_auto_rows": null,
            "grid_column": null,
            "grid_gap": null,
            "grid_row": null,
            "grid_template_areas": null,
            "grid_template_columns": null,
            "grid_template_rows": null,
            "height": null,
            "justify_content": null,
            "justify_items": null,
            "left": null,
            "margin": null,
            "max_height": null,
            "max_width": null,
            "min_height": null,
            "min_width": null,
            "object_fit": null,
            "object_position": null,
            "order": null,
            "overflow": null,
            "overflow_x": null,
            "overflow_y": null,
            "padding": null,
            "right": null,
            "top": null,
            "visibility": null,
            "width": null
          }
        },
        "35289e2ffb7b4da1917bba785c819bf5": {
          "model_module": "@jupyter-widgets/controls",
          "model_name": "DescriptionStyleModel",
          "model_module_version": "1.5.0",
          "state": {
            "_model_module": "@jupyter-widgets/controls",
            "_model_module_version": "1.5.0",
            "_model_name": "DescriptionStyleModel",
            "_view_count": null,
            "_view_module": "@jupyter-widgets/base",
            "_view_module_version": "1.2.0",
            "_view_name": "StyleView",
            "description_width": ""
          }
        },
        "2a6d16d2ce0d49aba6c40514100e89f5": {
          "model_module": "@jupyter-widgets/controls",
          "model_name": "HBoxModel",
          "model_module_version": "1.5.0",
          "state": {
            "_dom_classes": [],
            "_model_module": "@jupyter-widgets/controls",
            "_model_module_version": "1.5.0",
            "_model_name": "HBoxModel",
            "_view_count": null,
            "_view_module": "@jupyter-widgets/controls",
            "_view_module_version": "1.5.0",
            "_view_name": "HBoxView",
            "box_style": "",
            "children": [
              "IPY_MODEL_10c2e4b3074541458eb68786d9618c95",
              "IPY_MODEL_030795c4705a432289558435dc09b856",
              "IPY_MODEL_43e8d3df74f748eca17682f9f2454a2a"
            ],
            "layout": "IPY_MODEL_33a426417840495ab8526837cad35395"
          }
        },
        "10c2e4b3074541458eb68786d9618c95": {
          "model_module": "@jupyter-widgets/controls",
          "model_name": "HTMLModel",
          "model_module_version": "1.5.0",
          "state": {
            "_dom_classes": [],
            "_model_module": "@jupyter-widgets/controls",
            "_model_module_version": "1.5.0",
            "_model_name": "HTMLModel",
            "_view_count": null,
            "_view_module": "@jupyter-widgets/controls",
            "_view_module_version": "1.5.0",
            "_view_name": "HTMLView",
            "description": "",
            "description_tooltip": null,
            "layout": "IPY_MODEL_9abbf157fad0460bab3acbf51ad1e677",
            "placeholder": "​",
            "style": "IPY_MODEL_eda55a61038f4c968fa50d86ce272b6d",
            "value": "Generating validation split: 100%"
          }
        },
        "030795c4705a432289558435dc09b856": {
          "model_module": "@jupyter-widgets/controls",
          "model_name": "FloatProgressModel",
          "model_module_version": "1.5.0",
          "state": {
            "_dom_classes": [],
            "_model_module": "@jupyter-widgets/controls",
            "_model_module_version": "1.5.0",
            "_model_name": "FloatProgressModel",
            "_view_count": null,
            "_view_module": "@jupyter-widgets/controls",
            "_view_module_version": "1.5.0",
            "_view_name": "ProgressView",
            "bar_style": "success",
            "description": "",
            "description_tooltip": null,
            "layout": "IPY_MODEL_c040f163a30847c9885705d2e198ef92",
            "max": 22,
            "min": 0,
            "orientation": "horizontal",
            "style": "IPY_MODEL_dd1745b87672472bb8979d23a6d6d0e8",
            "value": 22
          }
        },
        "43e8d3df74f748eca17682f9f2454a2a": {
          "model_module": "@jupyter-widgets/controls",
          "model_name": "HTMLModel",
          "model_module_version": "1.5.0",
          "state": {
            "_dom_classes": [],
            "_model_module": "@jupyter-widgets/controls",
            "_model_module_version": "1.5.0",
            "_model_name": "HTMLModel",
            "_view_count": null,
            "_view_module": "@jupyter-widgets/controls",
            "_view_module_version": "1.5.0",
            "_view_name": "HTMLView",
            "description": "",
            "description_tooltip": null,
            "layout": "IPY_MODEL_e9da38a21ba944d681930fd33a25cc76",
            "placeholder": "​",
            "style": "IPY_MODEL_205ad6dabc35439e9b2872fbf6594d02",
            "value": " 22/22 [00:00&lt;00:00, 359.77 examples/s]"
          }
        },
        "33a426417840495ab8526837cad35395": {
          "model_module": "@jupyter-widgets/base",
          "model_name": "LayoutModel",
          "model_module_version": "1.2.0",
          "state": {
            "_model_module": "@jupyter-widgets/base",
            "_model_module_version": "1.2.0",
            "_model_name": "LayoutModel",
            "_view_count": null,
            "_view_module": "@jupyter-widgets/base",
            "_view_module_version": "1.2.0",
            "_view_name": "LayoutView",
            "align_content": null,
            "align_items": null,
            "align_self": null,
            "border": null,
            "bottom": null,
            "display": null,
            "flex": null,
            "flex_flow": null,
            "grid_area": null,
            "grid_auto_columns": null,
            "grid_auto_flow": null,
            "grid_auto_rows": null,
            "grid_column": null,
            "grid_gap": null,
            "grid_row": null,
            "grid_template_areas": null,
            "grid_template_columns": null,
            "grid_template_rows": null,
            "height": null,
            "justify_content": null,
            "justify_items": null,
            "left": null,
            "margin": null,
            "max_height": null,
            "max_width": null,
            "min_height": null,
            "min_width": null,
            "object_fit": null,
            "object_position": null,
            "order": null,
            "overflow": null,
            "overflow_x": null,
            "overflow_y": null,
            "padding": null,
            "right": null,
            "top": null,
            "visibility": null,
            "width": null
          }
        },
        "9abbf157fad0460bab3acbf51ad1e677": {
          "model_module": "@jupyter-widgets/base",
          "model_name": "LayoutModel",
          "model_module_version": "1.2.0",
          "state": {
            "_model_module": "@jupyter-widgets/base",
            "_model_module_version": "1.2.0",
            "_model_name": "LayoutModel",
            "_view_count": null,
            "_view_module": "@jupyter-widgets/base",
            "_view_module_version": "1.2.0",
            "_view_name": "LayoutView",
            "align_content": null,
            "align_items": null,
            "align_self": null,
            "border": null,
            "bottom": null,
            "display": null,
            "flex": null,
            "flex_flow": null,
            "grid_area": null,
            "grid_auto_columns": null,
            "grid_auto_flow": null,
            "grid_auto_rows": null,
            "grid_column": null,
            "grid_gap": null,
            "grid_row": null,
            "grid_template_areas": null,
            "grid_template_columns": null,
            "grid_template_rows": null,
            "height": null,
            "justify_content": null,
            "justify_items": null,
            "left": null,
            "margin": null,
            "max_height": null,
            "max_width": null,
            "min_height": null,
            "min_width": null,
            "object_fit": null,
            "object_position": null,
            "order": null,
            "overflow": null,
            "overflow_x": null,
            "overflow_y": null,
            "padding": null,
            "right": null,
            "top": null,
            "visibility": null,
            "width": null
          }
        },
        "eda55a61038f4c968fa50d86ce272b6d": {
          "model_module": "@jupyter-widgets/controls",
          "model_name": "DescriptionStyleModel",
          "model_module_version": "1.5.0",
          "state": {
            "_model_module": "@jupyter-widgets/controls",
            "_model_module_version": "1.5.0",
            "_model_name": "DescriptionStyleModel",
            "_view_count": null,
            "_view_module": "@jupyter-widgets/base",
            "_view_module_version": "1.2.0",
            "_view_name": "StyleView",
            "description_width": ""
          }
        },
        "c040f163a30847c9885705d2e198ef92": {
          "model_module": "@jupyter-widgets/base",
          "model_name": "LayoutModel",
          "model_module_version": "1.2.0",
          "state": {
            "_model_module": "@jupyter-widgets/base",
            "_model_module_version": "1.2.0",
            "_model_name": "LayoutModel",
            "_view_count": null,
            "_view_module": "@jupyter-widgets/base",
            "_view_module_version": "1.2.0",
            "_view_name": "LayoutView",
            "align_content": null,
            "align_items": null,
            "align_self": null,
            "border": null,
            "bottom": null,
            "display": null,
            "flex": null,
            "flex_flow": null,
            "grid_area": null,
            "grid_auto_columns": null,
            "grid_auto_flow": null,
            "grid_auto_rows": null,
            "grid_column": null,
            "grid_gap": null,
            "grid_row": null,
            "grid_template_areas": null,
            "grid_template_columns": null,
            "grid_template_rows": null,
            "height": null,
            "justify_content": null,
            "justify_items": null,
            "left": null,
            "margin": null,
            "max_height": null,
            "max_width": null,
            "min_height": null,
            "min_width": null,
            "object_fit": null,
            "object_position": null,
            "order": null,
            "overflow": null,
            "overflow_x": null,
            "overflow_y": null,
            "padding": null,
            "right": null,
            "top": null,
            "visibility": null,
            "width": null
          }
        },
        "dd1745b87672472bb8979d23a6d6d0e8": {
          "model_module": "@jupyter-widgets/controls",
          "model_name": "ProgressStyleModel",
          "model_module_version": "1.5.0",
          "state": {
            "_model_module": "@jupyter-widgets/controls",
            "_model_module_version": "1.5.0",
            "_model_name": "ProgressStyleModel",
            "_view_count": null,
            "_view_module": "@jupyter-widgets/base",
            "_view_module_version": "1.2.0",
            "_view_name": "StyleView",
            "bar_color": null,
            "description_width": ""
          }
        },
        "e9da38a21ba944d681930fd33a25cc76": {
          "model_module": "@jupyter-widgets/base",
          "model_name": "LayoutModel",
          "model_module_version": "1.2.0",
          "state": {
            "_model_module": "@jupyter-widgets/base",
            "_model_module_version": "1.2.0",
            "_model_name": "LayoutModel",
            "_view_count": null,
            "_view_module": "@jupyter-widgets/base",
            "_view_module_version": "1.2.0",
            "_view_name": "LayoutView",
            "align_content": null,
            "align_items": null,
            "align_self": null,
            "border": null,
            "bottom": null,
            "display": null,
            "flex": null,
            "flex_flow": null,
            "grid_area": null,
            "grid_auto_columns": null,
            "grid_auto_flow": null,
            "grid_auto_rows": null,
            "grid_column": null,
            "grid_gap": null,
            "grid_row": null,
            "grid_template_areas": null,
            "grid_template_columns": null,
            "grid_template_rows": null,
            "height": null,
            "justify_content": null,
            "justify_items": null,
            "left": null,
            "margin": null,
            "max_height": null,
            "max_width": null,
            "min_height": null,
            "min_width": null,
            "object_fit": null,
            "object_position": null,
            "order": null,
            "overflow": null,
            "overflow_x": null,
            "overflow_y": null,
            "padding": null,
            "right": null,
            "top": null,
            "visibility": null,
            "width": null
          }
        },
        "205ad6dabc35439e9b2872fbf6594d02": {
          "model_module": "@jupyter-widgets/controls",
          "model_name": "DescriptionStyleModel",
          "model_module_version": "1.5.0",
          "state": {
            "_model_module": "@jupyter-widgets/controls",
            "_model_module_version": "1.5.0",
            "_model_name": "DescriptionStyleModel",
            "_view_count": null,
            "_view_module": "@jupyter-widgets/base",
            "_view_module_version": "1.2.0",
            "_view_name": "StyleView",
            "description_width": ""
          }
        },
        "f9169c77e84148108c3728f0de1d917f": {
          "model_module": "@jupyter-widgets/controls",
          "model_name": "HBoxModel",
          "model_module_version": "1.5.0",
          "state": {
            "_dom_classes": [],
            "_model_module": "@jupyter-widgets/controls",
            "_model_module_version": "1.5.0",
            "_model_name": "HBoxModel",
            "_view_count": null,
            "_view_module": "@jupyter-widgets/controls",
            "_view_module_version": "1.5.0",
            "_view_name": "HBoxView",
            "box_style": "",
            "children": [
              "IPY_MODEL_0fd89ea0f71c48f5ac1db55394f13789",
              "IPY_MODEL_0cd3fb3952014d63add5c3e8e7a59aa8",
              "IPY_MODEL_28642d523a4f470fa9c55c28fe263859"
            ],
            "layout": "IPY_MODEL_b61585b3e29e4bde9fdbe4e0319f5cd5"
          }
        },
        "0fd89ea0f71c48f5ac1db55394f13789": {
          "model_module": "@jupyter-widgets/controls",
          "model_name": "HTMLModel",
          "model_module_version": "1.5.0",
          "state": {
            "_dom_classes": [],
            "_model_module": "@jupyter-widgets/controls",
            "_model_module_version": "1.5.0",
            "_model_name": "HTMLModel",
            "_view_count": null,
            "_view_module": "@jupyter-widgets/controls",
            "_view_module_version": "1.5.0",
            "_view_name": "HTMLView",
            "description": "",
            "description_tooltip": null,
            "layout": "IPY_MODEL_0626f12d6c074c95b8f85406acc17b5e",
            "placeholder": "​",
            "style": "IPY_MODEL_43ddfbc7a81e463b92aac3638b279c76",
            "value": "Generating dev split: 100%"
          }
        },
        "0cd3fb3952014d63add5c3e8e7a59aa8": {
          "model_module": "@jupyter-widgets/controls",
          "model_name": "FloatProgressModel",
          "model_module_version": "1.5.0",
          "state": {
            "_dom_classes": [],
            "_model_module": "@jupyter-widgets/controls",
            "_model_module_version": "1.5.0",
            "_model_name": "FloatProgressModel",
            "_view_count": null,
            "_view_module": "@jupyter-widgets/controls",
            "_view_module_version": "1.5.0",
            "_view_name": "ProgressView",
            "bar_style": "success",
            "description": "",
            "description_tooltip": null,
            "layout": "IPY_MODEL_d0845f6d8d43448e8c108aa56c479f1e",
            "max": 5,
            "min": 0,
            "orientation": "horizontal",
            "style": "IPY_MODEL_70177861fd574a8fbf4ce0b4280fc687",
            "value": 5
          }
        },
        "28642d523a4f470fa9c55c28fe263859": {
          "model_module": "@jupyter-widgets/controls",
          "model_name": "HTMLModel",
          "model_module_version": "1.5.0",
          "state": {
            "_dom_classes": [],
            "_model_module": "@jupyter-widgets/controls",
            "_model_module_version": "1.5.0",
            "_model_name": "HTMLModel",
            "_view_count": null,
            "_view_module": "@jupyter-widgets/controls",
            "_view_module_version": "1.5.0",
            "_view_name": "HTMLView",
            "description": "",
            "description_tooltip": null,
            "layout": "IPY_MODEL_c45c1f281f734c5d94ff2aaef7a782c9",
            "placeholder": "​",
            "style": "IPY_MODEL_6b215f653c3240d295a249c334f50118",
            "value": " 5/5 [00:00&lt;00:00, 93.57 examples/s]"
          }
        },
        "b61585b3e29e4bde9fdbe4e0319f5cd5": {
          "model_module": "@jupyter-widgets/base",
          "model_name": "LayoutModel",
          "model_module_version": "1.2.0",
          "state": {
            "_model_module": "@jupyter-widgets/base",
            "_model_module_version": "1.2.0",
            "_model_name": "LayoutModel",
            "_view_count": null,
            "_view_module": "@jupyter-widgets/base",
            "_view_module_version": "1.2.0",
            "_view_name": "LayoutView",
            "align_content": null,
            "align_items": null,
            "align_self": null,
            "border": null,
            "bottom": null,
            "display": null,
            "flex": null,
            "flex_flow": null,
            "grid_area": null,
            "grid_auto_columns": null,
            "grid_auto_flow": null,
            "grid_auto_rows": null,
            "grid_column": null,
            "grid_gap": null,
            "grid_row": null,
            "grid_template_areas": null,
            "grid_template_columns": null,
            "grid_template_rows": null,
            "height": null,
            "justify_content": null,
            "justify_items": null,
            "left": null,
            "margin": null,
            "max_height": null,
            "max_width": null,
            "min_height": null,
            "min_width": null,
            "object_fit": null,
            "object_position": null,
            "order": null,
            "overflow": null,
            "overflow_x": null,
            "overflow_y": null,
            "padding": null,
            "right": null,
            "top": null,
            "visibility": null,
            "width": null
          }
        },
        "0626f12d6c074c95b8f85406acc17b5e": {
          "model_module": "@jupyter-widgets/base",
          "model_name": "LayoutModel",
          "model_module_version": "1.2.0",
          "state": {
            "_model_module": "@jupyter-widgets/base",
            "_model_module_version": "1.2.0",
            "_model_name": "LayoutModel",
            "_view_count": null,
            "_view_module": "@jupyter-widgets/base",
            "_view_module_version": "1.2.0",
            "_view_name": "LayoutView",
            "align_content": null,
            "align_items": null,
            "align_self": null,
            "border": null,
            "bottom": null,
            "display": null,
            "flex": null,
            "flex_flow": null,
            "grid_area": null,
            "grid_auto_columns": null,
            "grid_auto_flow": null,
            "grid_auto_rows": null,
            "grid_column": null,
            "grid_gap": null,
            "grid_row": null,
            "grid_template_areas": null,
            "grid_template_columns": null,
            "grid_template_rows": null,
            "height": null,
            "justify_content": null,
            "justify_items": null,
            "left": null,
            "margin": null,
            "max_height": null,
            "max_width": null,
            "min_height": null,
            "min_width": null,
            "object_fit": null,
            "object_position": null,
            "order": null,
            "overflow": null,
            "overflow_x": null,
            "overflow_y": null,
            "padding": null,
            "right": null,
            "top": null,
            "visibility": null,
            "width": null
          }
        },
        "43ddfbc7a81e463b92aac3638b279c76": {
          "model_module": "@jupyter-widgets/controls",
          "model_name": "DescriptionStyleModel",
          "model_module_version": "1.5.0",
          "state": {
            "_model_module": "@jupyter-widgets/controls",
            "_model_module_version": "1.5.0",
            "_model_name": "DescriptionStyleModel",
            "_view_count": null,
            "_view_module": "@jupyter-widgets/base",
            "_view_module_version": "1.2.0",
            "_view_name": "StyleView",
            "description_width": ""
          }
        },
        "d0845f6d8d43448e8c108aa56c479f1e": {
          "model_module": "@jupyter-widgets/base",
          "model_name": "LayoutModel",
          "model_module_version": "1.2.0",
          "state": {
            "_model_module": "@jupyter-widgets/base",
            "_model_module_version": "1.2.0",
            "_model_name": "LayoutModel",
            "_view_count": null,
            "_view_module": "@jupyter-widgets/base",
            "_view_module_version": "1.2.0",
            "_view_name": "LayoutView",
            "align_content": null,
            "align_items": null,
            "align_self": null,
            "border": null,
            "bottom": null,
            "display": null,
            "flex": null,
            "flex_flow": null,
            "grid_area": null,
            "grid_auto_columns": null,
            "grid_auto_flow": null,
            "grid_auto_rows": null,
            "grid_column": null,
            "grid_gap": null,
            "grid_row": null,
            "grid_template_areas": null,
            "grid_template_columns": null,
            "grid_template_rows": null,
            "height": null,
            "justify_content": null,
            "justify_items": null,
            "left": null,
            "margin": null,
            "max_height": null,
            "max_width": null,
            "min_height": null,
            "min_width": null,
            "object_fit": null,
            "object_position": null,
            "order": null,
            "overflow": null,
            "overflow_x": null,
            "overflow_y": null,
            "padding": null,
            "right": null,
            "top": null,
            "visibility": null,
            "width": null
          }
        },
        "70177861fd574a8fbf4ce0b4280fc687": {
          "model_module": "@jupyter-widgets/controls",
          "model_name": "ProgressStyleModel",
          "model_module_version": "1.5.0",
          "state": {
            "_model_module": "@jupyter-widgets/controls",
            "_model_module_version": "1.5.0",
            "_model_name": "ProgressStyleModel",
            "_view_count": null,
            "_view_module": "@jupyter-widgets/base",
            "_view_module_version": "1.2.0",
            "_view_name": "StyleView",
            "bar_color": null,
            "description_width": ""
          }
        },
        "c45c1f281f734c5d94ff2aaef7a782c9": {
          "model_module": "@jupyter-widgets/base",
          "model_name": "LayoutModel",
          "model_module_version": "1.2.0",
          "state": {
            "_model_module": "@jupyter-widgets/base",
            "_model_module_version": "1.2.0",
            "_model_name": "LayoutModel",
            "_view_count": null,
            "_view_module": "@jupyter-widgets/base",
            "_view_module_version": "1.2.0",
            "_view_name": "LayoutView",
            "align_content": null,
            "align_items": null,
            "align_self": null,
            "border": null,
            "bottom": null,
            "display": null,
            "flex": null,
            "flex_flow": null,
            "grid_area": null,
            "grid_auto_columns": null,
            "grid_auto_flow": null,
            "grid_auto_rows": null,
            "grid_column": null,
            "grid_gap": null,
            "grid_row": null,
            "grid_template_areas": null,
            "grid_template_columns": null,
            "grid_template_rows": null,
            "height": null,
            "justify_content": null,
            "justify_items": null,
            "left": null,
            "margin": null,
            "max_height": null,
            "max_width": null,
            "min_height": null,
            "min_width": null,
            "object_fit": null,
            "object_position": null,
            "order": null,
            "overflow": null,
            "overflow_x": null,
            "overflow_y": null,
            "padding": null,
            "right": null,
            "top": null,
            "visibility": null,
            "width": null
          }
        },
        "6b215f653c3240d295a249c334f50118": {
          "model_module": "@jupyter-widgets/controls",
          "model_name": "DescriptionStyleModel",
          "model_module_version": "1.5.0",
          "state": {
            "_model_module": "@jupyter-widgets/controls",
            "_model_module_version": "1.5.0",
            "_model_name": "DescriptionStyleModel",
            "_view_count": null,
            "_view_module": "@jupyter-widgets/base",
            "_view_module_version": "1.2.0",
            "_view_name": "StyleView",
            "description_width": ""
          }
        }
      }
    }
  },
  "nbformat": 4,
  "nbformat_minor": 5
}