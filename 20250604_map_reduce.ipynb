{
  "cells": [
    {
      "cell_type": "markdown",
      "metadata": {
        "id": "view-in-github",
        "colab_type": "text"
      },
      "source": [
        "<a href=\"https://colab.research.google.com/github/nov05/Google-Colaboratory/blob/master/20250604_map_reduce.ipynb\" target=\"_parent\"><img src=\"https://colab.research.google.com/assets/colab-badge.svg\" alt=\"Open In Colab\"/></a>"
      ]
    },
    {
      "cell_type": "markdown",
      "source": [
        "* Notebook modified by nov05 on 2025-06-04  "
      ],
      "metadata": {
        "id": "9aGVhfaWKXuL"
      },
      "id": "9aGVhfaWKXuL"
    },
    {
      "cell_type": "code",
      "source": [
        "!pip install langchain_google_vertexai langchain_core langgraph\n",
        "## Successfully installed httpx-sse-0.4.0 langchain_google_vertexai-2.0.24 langgraph-0.4.8 langgraph-checkpoint-2.0.26\n",
        "## langgraph-prebuilt-0.2.2 langgraph-sdk-0.1.70 ormsgpack-1.10.0 pyarrow-19.0.1 validators-0.35.0"
      ],
      "metadata": {
        "colab": {
          "base_uri": "https://localhost:8080/"
        },
        "collapsed": true,
        "id": "f5Jdf8yIUWom",
        "outputId": "c9f4cb95-2fe8-4712-ba5b-3105e566e48f"
      },
      "id": "f5Jdf8yIUWom",
      "execution_count": null,
      "outputs": [
        {
          "output_type": "stream",
          "name": "stdout",
          "text": [
            "Collecting langchain_google_vertexai\n",
            "  Downloading langchain_google_vertexai-2.0.24-py3-none-any.whl.metadata (4.0 kB)\n",
            "Requirement already satisfied: langchain_core in /usr/local/lib/python3.11/dist-packages (0.3.63)\n",
            "Collecting langgraph\n",
            "  Downloading langgraph-0.4.8-py3-none-any.whl.metadata (6.8 kB)\n",
            "Requirement already satisfied: bottleneck<2.0.0,>=1.4.2 in /usr/local/lib/python3.11/dist-packages (from langchain_google_vertexai) (1.4.2)\n",
            "Requirement already satisfied: google-cloud-aiplatform<2.0.0,>=1.92.0 in /usr/local/lib/python3.11/dist-packages (from langchain_google_vertexai) (1.95.0)\n",
            "Requirement already satisfied: google-cloud-storage<3.0.0,>=2.18.0 in /usr/local/lib/python3.11/dist-packages (from langchain_google_vertexai) (2.19.0)\n",
            "Requirement already satisfied: httpx<0.29.0,>=0.28.0 in /usr/local/lib/python3.11/dist-packages (from langchain_google_vertexai) (0.28.1)\n",
            "Collecting httpx-sse<0.5.0,>=0.4.0 (from langchain_google_vertexai)\n",
            "  Downloading httpx_sse-0.4.0-py3-none-any.whl.metadata (9.0 kB)\n",
            "Requirement already satisfied: numexpr<3.0.0,>=2.8.6 in /usr/local/lib/python3.11/dist-packages (from langchain_google_vertexai) (2.10.2)\n",
            "Collecting pyarrow<20.0.0,>=19.0.1 (from langchain_google_vertexai)\n",
            "  Downloading pyarrow-19.0.1-cp311-cp311-manylinux_2_28_x86_64.whl.metadata (3.3 kB)\n",
            "Requirement already satisfied: pydantic<3.0,>=2.9 in /usr/local/lib/python3.11/dist-packages (from langchain_google_vertexai) (2.11.5)\n",
            "Collecting validators<1,>=0.22.0 (from langchain_google_vertexai)\n",
            "  Downloading validators-0.35.0-py3-none-any.whl.metadata (3.9 kB)\n",
            "Requirement already satisfied: langsmith<0.4,>=0.1.126 in /usr/local/lib/python3.11/dist-packages (from langchain_core) (0.3.43)\n",
            "Requirement already satisfied: tenacity!=8.4.0,<10.0.0,>=8.1.0 in /usr/local/lib/python3.11/dist-packages (from langchain_core) (9.1.2)\n",
            "Requirement already satisfied: jsonpatch<2.0,>=1.33 in /usr/local/lib/python3.11/dist-packages (from langchain_core) (1.33)\n",
            "Requirement already satisfied: PyYAML>=5.3 in /usr/local/lib/python3.11/dist-packages (from langchain_core) (6.0.2)\n",
            "Requirement already satisfied: packaging<25,>=23.2 in /usr/local/lib/python3.11/dist-packages (from langchain_core) (24.2)\n",
            "Requirement already satisfied: typing-extensions>=4.7 in /usr/local/lib/python3.11/dist-packages (from langchain_core) (4.13.2)\n",
            "Collecting langgraph-checkpoint>=2.0.26 (from langgraph)\n",
            "  Downloading langgraph_checkpoint-2.0.26-py3-none-any.whl.metadata (4.6 kB)\n",
            "Collecting langgraph-prebuilt>=0.2.0 (from langgraph)\n",
            "  Downloading langgraph_prebuilt-0.2.2-py3-none-any.whl.metadata (4.5 kB)\n",
            "Collecting langgraph-sdk>=0.1.42 (from langgraph)\n",
            "  Downloading langgraph_sdk-0.1.70-py3-none-any.whl.metadata (1.5 kB)\n",
            "Requirement already satisfied: xxhash>=3.5.0 in /usr/local/lib/python3.11/dist-packages (from langgraph) (3.5.0)\n",
            "Requirement already satisfied: numpy in /usr/local/lib/python3.11/dist-packages (from bottleneck<2.0.0,>=1.4.2->langchain_google_vertexai) (2.0.2)\n",
            "Requirement already satisfied: google-api-core!=2.0.*,!=2.1.*,!=2.2.*,!=2.3.*,!=2.4.*,!=2.5.*,!=2.6.*,!=2.7.*,<3.0.0,>=1.34.1 in /usr/local/lib/python3.11/dist-packages (from google-api-core[grpc]!=2.0.*,!=2.1.*,!=2.2.*,!=2.3.*,!=2.4.*,!=2.5.*,!=2.6.*,!=2.7.*,<3.0.0,>=1.34.1->google-cloud-aiplatform<2.0.0,>=1.92.0->langchain_google_vertexai) (2.24.2)\n",
            "Requirement already satisfied: google-auth<3.0.0,>=2.14.1 in /usr/local/lib/python3.11/dist-packages (from google-cloud-aiplatform<2.0.0,>=1.92.0->langchain_google_vertexai) (2.38.0)\n",
            "Requirement already satisfied: proto-plus<2.0.0,>=1.22.3 in /usr/local/lib/python3.11/dist-packages (from google-cloud-aiplatform<2.0.0,>=1.92.0->langchain_google_vertexai) (1.26.1)\n",
            "Requirement already satisfied: protobuf!=4.21.0,!=4.21.1,!=4.21.2,!=4.21.3,!=4.21.4,!=4.21.5,<7.0.0,>=3.20.2 in /usr/local/lib/python3.11/dist-packages (from google-cloud-aiplatform<2.0.0,>=1.92.0->langchain_google_vertexai) (5.29.5)\n",
            "Requirement already satisfied: google-cloud-bigquery!=3.20.0,<4.0.0,>=1.15.0 in /usr/local/lib/python3.11/dist-packages (from google-cloud-aiplatform<2.0.0,>=1.92.0->langchain_google_vertexai) (3.34.0)\n",
            "Requirement already satisfied: google-cloud-resource-manager<3.0.0,>=1.3.3 in /usr/local/lib/python3.11/dist-packages (from google-cloud-aiplatform<2.0.0,>=1.92.0->langchain_google_vertexai) (1.14.2)\n",
            "Requirement already satisfied: shapely<3.0.0 in /usr/local/lib/python3.11/dist-packages (from google-cloud-aiplatform<2.0.0,>=1.92.0->langchain_google_vertexai) (2.1.1)\n",
            "Requirement already satisfied: google-genai<2.0.0,>=1.0.0 in /usr/local/lib/python3.11/dist-packages (from google-cloud-aiplatform<2.0.0,>=1.92.0->langchain_google_vertexai) (1.17.0)\n",
            "Requirement already satisfied: docstring-parser<1 in /usr/local/lib/python3.11/dist-packages (from google-cloud-aiplatform<2.0.0,>=1.92.0->langchain_google_vertexai) (0.16)\n",
            "Requirement already satisfied: google-cloud-core<3.0dev,>=2.3.0 in /usr/local/lib/python3.11/dist-packages (from google-cloud-storage<3.0.0,>=2.18.0->langchain_google_vertexai) (2.4.3)\n",
            "Requirement already satisfied: google-resumable-media>=2.7.2 in /usr/local/lib/python3.11/dist-packages (from google-cloud-storage<3.0.0,>=2.18.0->langchain_google_vertexai) (2.7.2)\n",
            "Requirement already satisfied: requests<3.0.0dev,>=2.18.0 in /usr/local/lib/python3.11/dist-packages (from google-cloud-storage<3.0.0,>=2.18.0->langchain_google_vertexai) (2.32.3)\n",
            "Requirement already satisfied: google-crc32c<2.0dev,>=1.0 in /usr/local/lib/python3.11/dist-packages (from google-cloud-storage<3.0.0,>=2.18.0->langchain_google_vertexai) (1.7.1)\n",
            "Requirement already satisfied: anyio in /usr/local/lib/python3.11/dist-packages (from httpx<0.29.0,>=0.28.0->langchain_google_vertexai) (4.9.0)\n",
            "Requirement already satisfied: certifi in /usr/local/lib/python3.11/dist-packages (from httpx<0.29.0,>=0.28.0->langchain_google_vertexai) (2025.4.26)\n",
            "Requirement already satisfied: httpcore==1.* in /usr/local/lib/python3.11/dist-packages (from httpx<0.29.0,>=0.28.0->langchain_google_vertexai) (1.0.9)\n",
            "Requirement already satisfied: idna in /usr/local/lib/python3.11/dist-packages (from httpx<0.29.0,>=0.28.0->langchain_google_vertexai) (3.10)\n",
            "Requirement already satisfied: h11>=0.16 in /usr/local/lib/python3.11/dist-packages (from httpcore==1.*->httpx<0.29.0,>=0.28.0->langchain_google_vertexai) (0.16.0)\n",
            "Requirement already satisfied: jsonpointer>=1.9 in /usr/local/lib/python3.11/dist-packages (from jsonpatch<2.0,>=1.33->langchain_core) (3.0.0)\n",
            "Collecting ormsgpack<2.0.0,>=1.8.0 (from langgraph-checkpoint>=2.0.26->langgraph)\n",
            "  Downloading ormsgpack-1.10.0-cp311-cp311-manylinux_2_17_x86_64.manylinux2014_x86_64.whl.metadata (43 kB)\n",
            "\u001b[2K     \u001b[90m━━━━━━━━━━━━━━━━━━━━━━━━━━━━━━━━━━━━━━━━\u001b[0m \u001b[32m43.7/43.7 kB\u001b[0m \u001b[31m1.4 MB/s\u001b[0m eta \u001b[36m0:00:00\u001b[0m\n",
            "\u001b[?25hRequirement already satisfied: orjson>=3.10.1 in /usr/local/lib/python3.11/dist-packages (from langgraph-sdk>=0.1.42->langgraph) (3.10.18)\n",
            "Requirement already satisfied: requests-toolbelt<2.0.0,>=1.0.0 in /usr/local/lib/python3.11/dist-packages (from langsmith<0.4,>=0.1.126->langchain_core) (1.0.0)\n",
            "Requirement already satisfied: zstandard<0.24.0,>=0.23.0 in /usr/local/lib/python3.11/dist-packages (from langsmith<0.4,>=0.1.126->langchain_core) (0.23.0)\n",
            "Requirement already satisfied: annotated-types>=0.6.0 in /usr/local/lib/python3.11/dist-packages (from pydantic<3.0,>=2.9->langchain_google_vertexai) (0.7.0)\n",
            "Requirement already satisfied: pydantic-core==2.33.2 in /usr/local/lib/python3.11/dist-packages (from pydantic<3.0,>=2.9->langchain_google_vertexai) (2.33.2)\n",
            "Requirement already satisfied: typing-inspection>=0.4.0 in /usr/local/lib/python3.11/dist-packages (from pydantic<3.0,>=2.9->langchain_google_vertexai) (0.4.1)\n",
            "Requirement already satisfied: googleapis-common-protos<2.0.0,>=1.56.2 in /usr/local/lib/python3.11/dist-packages (from google-api-core!=2.0.*,!=2.1.*,!=2.2.*,!=2.3.*,!=2.4.*,!=2.5.*,!=2.6.*,!=2.7.*,<3.0.0,>=1.34.1->google-api-core[grpc]!=2.0.*,!=2.1.*,!=2.2.*,!=2.3.*,!=2.4.*,!=2.5.*,!=2.6.*,!=2.7.*,<3.0.0,>=1.34.1->google-cloud-aiplatform<2.0.0,>=1.92.0->langchain_google_vertexai) (1.70.0)\n",
            "Requirement already satisfied: grpcio<2.0dev,>=1.33.2 in /usr/local/lib/python3.11/dist-packages (from google-api-core[grpc]!=2.0.*,!=2.1.*,!=2.2.*,!=2.3.*,!=2.4.*,!=2.5.*,!=2.6.*,!=2.7.*,<3.0.0,>=1.34.1->google-cloud-aiplatform<2.0.0,>=1.92.0->langchain_google_vertexai) (1.71.0)\n",
            "Requirement already satisfied: grpcio-status<2.0.dev0,>=1.33.2 in /usr/local/lib/python3.11/dist-packages (from google-api-core[grpc]!=2.0.*,!=2.1.*,!=2.2.*,!=2.3.*,!=2.4.*,!=2.5.*,!=2.6.*,!=2.7.*,<3.0.0,>=1.34.1->google-cloud-aiplatform<2.0.0,>=1.92.0->langchain_google_vertexai) (1.71.0)\n",
            "Requirement already satisfied: cachetools<6.0,>=2.0.0 in /usr/local/lib/python3.11/dist-packages (from google-auth<3.0.0,>=2.14.1->google-cloud-aiplatform<2.0.0,>=1.92.0->langchain_google_vertexai) (5.5.2)\n",
            "Requirement already satisfied: pyasn1-modules>=0.2.1 in /usr/local/lib/python3.11/dist-packages (from google-auth<3.0.0,>=2.14.1->google-cloud-aiplatform<2.0.0,>=1.92.0->langchain_google_vertexai) (0.4.2)\n",
            "Requirement already satisfied: rsa<5,>=3.1.4 in /usr/local/lib/python3.11/dist-packages (from google-auth<3.0.0,>=2.14.1->google-cloud-aiplatform<2.0.0,>=1.92.0->langchain_google_vertexai) (4.9.1)\n",
            "Requirement already satisfied: python-dateutil<3.0.0,>=2.8.2 in /usr/local/lib/python3.11/dist-packages (from google-cloud-bigquery!=3.20.0,<4.0.0,>=1.15.0->google-cloud-aiplatform<2.0.0,>=1.92.0->langchain_google_vertexai) (2.9.0.post0)\n",
            "Requirement already satisfied: grpc-google-iam-v1<1.0.0,>=0.14.0 in /usr/local/lib/python3.11/dist-packages (from google-cloud-resource-manager<3.0.0,>=1.3.3->google-cloud-aiplatform<2.0.0,>=1.92.0->langchain_google_vertexai) (0.14.2)\n",
            "Requirement already satisfied: websockets<15.1.0,>=13.0.0 in /usr/local/lib/python3.11/dist-packages (from google-genai<2.0.0,>=1.0.0->google-cloud-aiplatform<2.0.0,>=1.92.0->langchain_google_vertexai) (15.0.1)\n",
            "Requirement already satisfied: sniffio>=1.1 in /usr/local/lib/python3.11/dist-packages (from anyio->httpx<0.29.0,>=0.28.0->langchain_google_vertexai) (1.3.1)\n",
            "Requirement already satisfied: charset-normalizer<4,>=2 in /usr/local/lib/python3.11/dist-packages (from requests<3.0.0dev,>=2.18.0->google-cloud-storage<3.0.0,>=2.18.0->langchain_google_vertexai) (3.4.2)\n",
            "Requirement already satisfied: urllib3<3,>=1.21.1 in /usr/local/lib/python3.11/dist-packages (from requests<3.0.0dev,>=2.18.0->google-cloud-storage<3.0.0,>=2.18.0->langchain_google_vertexai) (2.4.0)\n",
            "Requirement already satisfied: pyasn1<0.7.0,>=0.6.1 in /usr/local/lib/python3.11/dist-packages (from pyasn1-modules>=0.2.1->google-auth<3.0.0,>=2.14.1->google-cloud-aiplatform<2.0.0,>=1.92.0->langchain_google_vertexai) (0.6.1)\n",
            "Requirement already satisfied: six>=1.5 in /usr/local/lib/python3.11/dist-packages (from python-dateutil<3.0.0,>=2.8.2->google-cloud-bigquery!=3.20.0,<4.0.0,>=1.15.0->google-cloud-aiplatform<2.0.0,>=1.92.0->langchain_google_vertexai) (1.17.0)\n",
            "Downloading langchain_google_vertexai-2.0.24-py3-none-any.whl (100 kB)\n",
            "\u001b[2K   \u001b[90m━━━━━━━━━━━━━━━━━━━━━━━━━━━━━━━━━━━━━━━━\u001b[0m \u001b[32m100.2/100.2 kB\u001b[0m \u001b[31m2.9 MB/s\u001b[0m eta \u001b[36m0:00:00\u001b[0m\n",
            "\u001b[?25hDownloading langgraph-0.4.8-py3-none-any.whl (152 kB)\n",
            "\u001b[2K   \u001b[90m━━━━━━━━━━━━━━━━━━━━━━━━━━━━━━━━━━━━━━━━\u001b[0m \u001b[32m152.4/152.4 kB\u001b[0m \u001b[31m6.3 MB/s\u001b[0m eta \u001b[36m0:00:00\u001b[0m\n",
            "\u001b[?25hDownloading httpx_sse-0.4.0-py3-none-any.whl (7.8 kB)\n",
            "Downloading langgraph_checkpoint-2.0.26-py3-none-any.whl (44 kB)\n",
            "\u001b[2K   \u001b[90m━━━━━━━━━━━━━━━━━━━━━━━━━━━━━━━━━━━━━━━━\u001b[0m \u001b[32m44.2/44.2 kB\u001b[0m \u001b[31m1.9 MB/s\u001b[0m eta \u001b[36m0:00:00\u001b[0m\n",
            "\u001b[?25hDownloading langgraph_prebuilt-0.2.2-py3-none-any.whl (23 kB)\n",
            "Downloading langgraph_sdk-0.1.70-py3-none-any.whl (49 kB)\n",
            "\u001b[2K   \u001b[90m━━━━━━━━━━━━━━━━━━━━━━━━━━━━━━━━━━━━━━━━\u001b[0m \u001b[32m50.0/50.0 kB\u001b[0m \u001b[31m2.0 MB/s\u001b[0m eta \u001b[36m0:00:00\u001b[0m\n",
            "\u001b[?25hDownloading pyarrow-19.0.1-cp311-cp311-manylinux_2_28_x86_64.whl (42.1 MB)\n",
            "\u001b[2K   \u001b[90m━━━━━━━━━━━━━━━━━━━━━━━━━━━━━━━━━━━━━━━━\u001b[0m \u001b[32m42.1/42.1 MB\u001b[0m \u001b[31m11.0 MB/s\u001b[0m eta \u001b[36m0:00:00\u001b[0m\n",
            "\u001b[?25hDownloading validators-0.35.0-py3-none-any.whl (44 kB)\n",
            "\u001b[2K   \u001b[90m━━━━━━━━━━━━━━━━━━━━━━━━━━━━━━━━━━━━━━━━\u001b[0m \u001b[32m44.7/44.7 kB\u001b[0m \u001b[31m1.6 MB/s\u001b[0m eta \u001b[36m0:00:00\u001b[0m\n",
            "\u001b[?25hDownloading ormsgpack-1.10.0-cp311-cp311-manylinux_2_17_x86_64.manylinux2014_x86_64.whl (216 kB)\n",
            "\u001b[2K   \u001b[90m━━━━━━━━━━━━━━━━━━━━━━━━━━━━━━━━━━━━━━━━\u001b[0m \u001b[32m216.5/216.5 kB\u001b[0m \u001b[31m7.5 MB/s\u001b[0m eta \u001b[36m0:00:00\u001b[0m\n",
            "\u001b[?25hInstalling collected packages: validators, pyarrow, ormsgpack, httpx-sse, langgraph-sdk, langgraph-checkpoint, langgraph-prebuilt, langgraph, langchain_google_vertexai\n",
            "  Attempting uninstall: pyarrow\n",
            "    Found existing installation: pyarrow 18.1.0\n",
            "    Uninstalling pyarrow-18.1.0:\n",
            "      Successfully uninstalled pyarrow-18.1.0\n",
            "Successfully installed httpx-sse-0.4.0 langchain_google_vertexai-2.0.24 langgraph-0.4.8 langgraph-checkpoint-2.0.26 langgraph-prebuilt-0.2.2 langgraph-sdk-0.1.70 ormsgpack-1.10.0 pyarrow-19.0.1 validators-0.35.0\n"
          ]
        }
      ]
    },
    {
      "cell_type": "code",
      "source": [
        "from google.colab import drive\n",
        "drive.mount('/content/drive')"
      ],
      "metadata": {
        "colab": {
          "base_uri": "https://localhost:8080/"
        },
        "id": "DfbSYyt9Xbpz",
        "outputId": "e01ccdd4-10cd-422a-8e49-0c15cf3b576d"
      },
      "id": "DfbSYyt9Xbpz",
      "execution_count": null,
      "outputs": [
        {
          "output_type": "stream",
          "name": "stdout",
          "text": [
            "Mounted at /content/drive\n"
          ]
        }
      ]
    },
    {
      "cell_type": "code",
      "source": [
        "from google.oauth2 import service_account\n",
        "json_path = \"/content/drive/MyDrive/config/20250604_google_service_account_key-lucid-bebop-461722-c5-a91d4ab1be75.json\"\n",
        "credentials = service_account.Credentials.from_service_account_file(json_path)\n",
        "print(credentials)"
      ],
      "metadata": {
        "colab": {
          "base_uri": "https://localhost:8080/"
        },
        "id": "I0MJPJ9_XhiG",
        "outputId": "cba91297-9c03-47fd-b6c3-2dff1e76d924"
      },
      "id": "I0MJPJ9_XhiG",
      "execution_count": null,
      "outputs": [
        {
          "output_type": "stream",
          "name": "stdout",
          "text": [
            "<google.oauth2.service_account.Credentials object at 0x782832f05010>\n"
          ]
        }
      ]
    },
    {
      "cell_type": "markdown",
      "id": "OBNgO5Cjr_Z7",
      "metadata": {
        "id": "OBNgO5Cjr_Z7"
      },
      "source": [
        "# 🟢 **Handling a long input**  "
      ]
    },
    {
      "cell_type": "markdown",
      "id": "bwl7HOCuKgBl",
      "metadata": {
        "id": "bwl7HOCuKgBl"
      },
      "source": [
        "Find a long video you'd like to process and put it on GCS:"
      ]
    },
    {
      "cell_type": "code",
      "execution_count": null,
      "id": "oBZTn4m-vYTZ",
      "metadata": {
        "id": "oBZTn4m-vYTZ",
        "colab": {
          "base_uri": "https://localhost:8080/",
          "height": 283
        },
        "outputId": "7ffa2e48-37c1-4fb1-f2d8-93c900c9fd8d"
      },
      "outputs": [
        {
          "output_type": "stream",
          "name": "stdout",
          "text": [
            "--2025-06-05 05:16:04--  https://download.blender.org/peach/bigbuckbunny_movies/BigBuckBunny_320x180.mp4\n",
            "Resolving download.blender.org (download.blender.org)... 172.67.14.163, 104.22.65.163, 104.22.64.163, ...\n",
            "Connecting to download.blender.org (download.blender.org)|172.67.14.163|:443... connected.\n",
            "HTTP request sent, awaiting response... 200 OK\n",
            "Length: 64657027 (62M) [video/mp4]\n",
            "Saving to: ‘video.mp4’\n",
            "\n",
            "video.mp4           100%[===================>]  61.66M   129MB/s    in 0.5s    \n",
            "\n",
            "2025-06-05 05:16:05 (129 MB/s) - ‘video.mp4’ saved [64657027/64657027]\n",
            "\n",
            "Uploading file...\n",
            "Completed upload: https://generativelanguage.googleapis.com/v1beta/files/1002rd0d7n58\n",
            "CPU times: user 1.48 s, sys: 280 ms, total: 1.76 s\n",
            "Wall time: 7.51 s\n"
          ]
        }
      ],
      "source": [
        "%%time\n",
        "import os\n",
        "from google.colab import userdata\n",
        "import google.generativeai as genai\n",
        "\n",
        "## watch the funny animation here\n",
        "video_uri = \"https://download.blender.org/peach/bigbuckbunny_movies/BigBuckBunny_320x180.mp4\"\n",
        "!wget {video_uri} -O video.mp4\n",
        "\n",
        "# genai.configure(api_key=userdata.get('GOOGLE_API_KEY'))  ## ❌ works for GenAI only\n",
        "# video_file_name = \"video.mp4\"\n",
        "# print(f\"Uploading file...\")\n",
        "# video_file = genai.upload_file(path=video_file_name)\n",
        "# video_uri = video_file.uri\n",
        "# print(f\"Completed upload: {video_uri}\")"
      ]
    },
    {
      "cell_type": "code",
      "source": [
        "from google.cloud import storage\n",
        "\n",
        "project = \"lucid-bebop-461722-c5\"\n",
        "bucket_name = \"generative_ai_with_langchain\"\n",
        "blob_name = \"video.mp4\"\n",
        "client = storage.Client(project=project, credentials=credentials)\n",
        "bucket = client.bucket(bucket_name)\n",
        "blob = bucket.blob(blob_name)\n",
        "blob.upload_from_filename(\"video.mp4\")\n",
        "## (Optional) Make it public - ❌ This won't work for VertexAI respects crawling rules.\n",
        "# blob.make_public()\n",
        "# video_uri = blob.public_url\n",
        "# Or use this URI if not public but accessible to Vertex AI\n",
        "video_uri = f\"gs://{bucket_name}/{blob_name}\"  ## ✅\n",
        "print(\"Video URI:\", video_uri)"
      ],
      "metadata": {
        "colab": {
          "base_uri": "https://localhost:8080/"
        },
        "id": "vi5P0NQbjed_",
        "outputId": "e8a0c627-4c93-40be-93d8-5618d61d2373"
      },
      "id": "vi5P0NQbjed_",
      "execution_count": null,
      "outputs": [
        {
          "output_type": "stream",
          "name": "stdout",
          "text": [
            "Video URI: gs://generative_ai_with_langchain/video.mp4\n"
          ]
        }
      ]
    },
    {
      "cell_type": "code",
      "execution_count": null,
      "id": "YN6a7YHILGZF",
      "metadata": {
        "id": "YN6a7YHILGZF",
        "colab": {
          "base_uri": "https://localhost:8080/"
        },
        "outputId": "be4be30c-1b1c-44af-fe0e-7fdba54556b9"
      },
      "outputs": [
        {
          "output_type": "stream",
          "name": "stdout",
          "text": [
            "CPU times: user 145 ms, sys: 36.5 ms, total: 181 ms\n",
            "Wall time: 8.86 s\n"
          ]
        }
      ],
      "source": [
        "%%time\n",
        "from langchain_core.messages import HumanMessage\n",
        "from langchain_core.output_parsers import StrOutputParser\n",
        "from langchain_google_vertexai import ChatVertexAI\n",
        "from langchain_core.runnables import RunnableLambda\n",
        "\n",
        "def _create_input_messages(*, video_uri:str, chunks:int=9, interval_secs:int=10):\n",
        "    video_parts = []\n",
        "    for start_offset in range(chunks):\n",
        "        part = {\n",
        "            \"type\": \"media\", \"file_uri\": video_uri, \"mime_type\": \"video/mp4\",\n",
        "            \"video_metadata\": {\n",
        "                \"start_offset\": {\"seconds\": start_offset*interval_secs},\n",
        "                \"end_offset\": {\"seconds\": (start_offset+1)*interval_secs}}\n",
        "        }\n",
        "        video_parts.append(part)\n",
        "    return [[HumanMessage(content=[human_part, vp])] for vp in video_parts]\n",
        "\n",
        "human_part = {\"type\": \"text\", \"text\": \"Provide a summary of the video.\"}\n",
        "input_messages = _create_input_messages(video_uri=video_uri)\n",
        "## https://cloud.google.com/vertex-ai/generative-ai/docs/models/gemini/2-0-flash\n",
        "llm = ChatVertexAI(\n",
        "    model=\"gemini-2.0-flash-001\",\n",
        "    project=\"lucid-bebop-461722-c5\",  ## ✅ mandatory\n",
        "    credentials=credentials           ## ✅ mandatory\n",
        ")\n",
        "map_chain = llm | StrOutputParser()\n",
        "# summaries = map_chain.batch(input_messages, config={\"max_concurrency\": 3})\n",
        "create_inputs_chain = RunnableLambda(lambda x: _create_input_messages(**x))\n",
        "map_step_chain = create_inputs_chain | RunnableLambda(lambda x: map_chain.batch(x, config={\"max_concurrency\": 3}))\n",
        "summaries = map_step_chain.invoke({\"video_uri\": video_uri})"
      ]
    },
    {
      "cell_type": "markdown",
      "id": "BlD0kaN0ZTAJ",
      "metadata": {
        "id": "BlD0kaN0ZTAJ"
      },
      "source": [
        "Let's define a function to merge summaries together:"
      ]
    },
    {
      "cell_type": "code",
      "execution_count": null,
      "id": "lMUgDnrMM_iY",
      "metadata": {
        "id": "lMUgDnrMM_iY",
        "colab": {
          "base_uri": "https://localhost:8080/",
          "height": 151
        },
        "outputId": "7b7df38a-95d5-4e05-99d6-1aa57a23ebb3"
      },
      "outputs": [
        {
          "output_type": "display_data",
          "data": {
            "text/plain": [
              "<IPython.core.display.Markdown object>"
            ],
            "text/markdown": "The video opens with serene animated landscapes, transitioning from a pink-skied field to a stream and a sleepy blue bird. At the 20-second mark, a cartoon bird falls from a tree, leading to the title card for \"Big Buck Bunny.\" The scene then shifts to a forest clearing showing a bear sleeping in a cave in the base of the tree. A fat rabbit awakens in its burrow, stretches, and emerges into the sunny day. The rabbit explores a green field filled with flowers, enjoying the scenery. It sniffs white flowers, lies in the grass as a butterfly lands on its ear, and finally picks up an apple that falls from the sky, appearing thoughtful. The video appears to be an introduction to the animated short film, \"Big Buck Bunny,\" showcasing the environment and introducing the main character.\n"
          },
          "metadata": {}
        },
        {
          "output_type": "stream",
          "name": "stdout",
          "text": [
            "CPU times: user 21.6 ms, sys: 2.82 ms, total: 24.4 ms\n",
            "Wall time: 1.35 s\n"
          ]
        }
      ],
      "source": [
        "%%time\n",
        "from langchain_core.prompts import PromptTemplate\n",
        "from IPython.display import Markdown, display\n",
        "\n",
        "def _merge_summaries(summaries:list[str], interval_secs:int=10, **kwargs) -> str:\n",
        "    sub_summaries = []\n",
        "    for i, summary in enumerate(summaries):\n",
        "        sub_summary = (\n",
        "            f\"Summary from sec {i*interval_secs} to sec {(i+1)*interval_secs}:\"\n",
        "            f\"\\n{summary}\\n\")\n",
        "        sub_summaries.append(sub_summary)\n",
        "    return \"\".join(sub_summaries)\n",
        "\n",
        "reduce_prompt = PromptTemplate.from_template(\n",
        "    \"You are given a list of summaries that \"\n",
        "    \"of a video splitted into sequential pieces.\\n\"\n",
        "    \"SUMMARIES:\\n{summaries}\"\n",
        "    \"Based on that, prepare a summary of a whole video.\"\n",
        ")\n",
        "reduce_chain = RunnableLambda(lambda x: _merge_summaries(**x)) | reduce_prompt | llm | StrOutputParser()\n",
        "final_summary = reduce_chain.invoke({\"summaries\": summaries})\n",
        "display(Markdown(final_summary))"
      ]
    },
    {
      "cell_type": "markdown",
      "source": [
        "👉 Video summary example:  \n",
        "\n",
        "**Google Cast: Evolution and Future - A Comprehensive Summary**  \n",
        "\n",
        "This video, featuring Majd Bakar and John Affaki, explores the evolution of Google Cast and provides insights into its future direction.\n",
        "\n",
        "**Introduction (0-600 seconds):**\n",
        "\n",
        "The video begins by highlighting the success of Chromecast, a revolutionary $35 device that extends content from mobile devices to HDTVs. The Google Cast SDK and developer program, boasting over 6,000 developers, have been instrumental in expanding the casting ecosystem. The core vision for Google Cast revolves around: redefining interaction models with television (moving away from cumbersome experiences with technologies like gyroscopes and cameras), building a robust ecosystem, ensuring an open platform, and delivering a consistent user experience.  The ubiquity of mobile devices allows developers to focus on function without compromising form. The SDK is available for Android, iOS, and Web Apps in Chrome, and over 50% of Chromecast users utilize multiple platforms.  Key application areas include media streaming (video, music), and photo displays. This content can be served from the Cloud, a mobile device, or a local network. The architecture also supports multiple mobile devices connecting to a single session, enabling collaborative features like party modes, voting, and content sharing.\n",
        "\n",
        "**New Features and Functionality (600-1200 seconds):**\n",
        "\n",
        "The video showcases features like multi-player games (e.g., Big Web Quiz) and the Chromecast home screen displaying dynamic content.  The Chromecast home screen provides context-aware information to users interacting with their phones. John Affaki, leading the Google Cast SDK team, discusses upcoming features including:\n",
        "\n",
        "*   **Cast to nearby devices:** Allowing casting without requiring devices to be on the same Wi-Fi network.\n",
        "*   **Android TV integration:**  Bringing the same Google Cast functionality found in Chromecast to Android TV, enabling projection of Android apps onto the big screen without requiring extensive developer modifications.\n",
        "*   **Media library improvements:** Including accessibility enhancements for the hearing impaired.\n",
        "\n",
        "**Developer Focus and Future Directions (1200-1800 seconds):**\n",
        "\n",
        "The video focuses on improvements for developers, including:\n",
        "\n",
        "*   **Standardized Queuing API:**  Simplifying the creation, modification, and management of media item queues, replacing the need for individual apps to implement their own solutions.\n",
        "*   **Full Featured Media Controls:**  Providing a consistent experience for interacting with media playback from any device.\n",
        "*   **Secure Credential Transfer:**  Offering a secure method for transferring authentication credentials between sender and receiver for seamless service access within Google Cast. This is integrated with the queuing API, allowing for different credentials for different items in the queue.\n",
        "*   **Improved App Discovery:**  Enhancing app discovery through a redesigned chromecast.com/apps website and an updated developer console for data gathering.\n",
        "*   **Expanding Beyond Media:**  Exploring innovative applications beyond media and gaming and encouraging developers to provide feedback.\n",
        "\n",
        "**Q&A: Addressing Developer Concerns (1800-3000 seconds):**\n",
        "\n",
        "The video transitions to a Q&A session where developers raise various issues:\n",
        "\n",
        "*   **Local Content Streaming:** Addressing how to stream local content to Chromecast by utilizing cloud-accessible URLs. Developers are advised to opt-out of local discovery in the development console.\n",
        "*   **Audio/Video Latency:** Acknowledging the beta status of Android mirroring and efforts to minimize audio and video latency, especially for gaming.\n",
        "*   **HMICEC Control:**  Clarifying that application control is not a platform limitation.\n",
        "*   **Feature Timelines:**  While specific timelines are not provided, it is indicated that closed caption APIs are released, and screen casting/closed captioning within Google Play Services would be rolled out within a few weeks.\n",
        "*   **\"Screensaver\" Integration:** Discussing how the presentation API in Android provides similar functionalities for seamless resumption, though not a full replacement for backdrop functionality.\n",
        "*   **Cross-Domain Policies, Wi-Fi Security, and Android TV Hardware:** Addressing technical questions related to cross-domain policies, Wi-Fi security protocols, and hardware differences between Chromecast and Android TV. The lack of Google Play services on Amazon Kindle Fire is also mentioned.\n",
        "\n",
        "**Conclusion:**\n",
        "\n",
        "The video concludes with the presenters thanking the audience and announcing a Chromecast giveaway, highlighting Google's commitment to fostering a thriving Google Cast developer community. The overall message is that Google Cast is continuously evolving, with a focus on improving user experience, simplifying developer integration, and expanding beyond traditional media applications.  "
      ],
      "metadata": {
        "id": "djrAUYm0UgC2"
      },
      "id": "djrAUYm0UgC2"
    },
    {
      "cell_type": "markdown",
      "id": "0fec5027",
      "metadata": {
        "id": "0fec5027"
      },
      "source": [
        "Let's implement a reduce step that merges intermediatesummaries together:"
      ]
    },
    {
      "cell_type": "code",
      "execution_count": null,
      "id": "mEojnz2AQYK1",
      "metadata": {
        "id": "mEojnz2AQYK1",
        "colab": {
          "base_uri": "https://localhost:8080/",
          "height": 159
        },
        "outputId": "d0945162-76cb-45d7-a3a0-339e9f7b013a"
      },
      "outputs": [
        {
          "output_type": "stream",
          "name": "stdout",
          "text": [
            "CPU times: user 146 ms, sys: 29 ms, total: 175 ms\n",
            "Wall time: 14 s\n"
          ]
        },
        {
          "output_type": "execute_result",
          "data": {
            "text/plain": [
              "'\"Big Buck Bunny\" is an animated short film that follows a large, gentle rabbit\\'s experiences in a forest meadow. Initially, he enjoys the peaceful surroundings, but his tranquility is disrupted by a group of mischievous rodents – squirrels and a chinchilla. They steal from him and throw things at him, leading to comical revenge plots.\\n\\nThe rabbit attempts to trap the squirrels using various tools and contraptions, leading to slapstick scenarios involving bombs, booby traps, and chases through the forest. The conflict escalates with squirrels becoming victims of the rabbit\\'s traps. The video culminates with one of the squirrels flying through the air with a kite string, held by the rabbit. The film then transitions to the credits, featuring animated squirrels and rodents in the background. The story blends humor and mild violence in a lighthearted animated style.\\n'"
            ],
            "application/vnd.google.colaboratory.intrinsic+json": {
              "type": "string"
            }
          },
          "metadata": {},
          "execution_count": 43
        }
      ],
      "source": [
        "%%time\n",
        "from langchain_core.runnables import RunnablePassthrough\n",
        "## The class `LLMChain` was deprecated in LangChain 0.1.17 and will be removed in 1.0.\n",
        "## Use :meth:`~RunnableSequence, e.g., `prompt | llm`` instead.\n",
        "# from langchain.chains import LLMChain\n",
        "reduce_chain = (\n",
        "    RunnableLambda(lambda x: _merge_summaries(**x)) |\n",
        "    # LLMChain(llm=llm, prompt=reduce_prompt, output_parser=StrOutputParser())\n",
        "    reduce_prompt | llm | StrOutputParser()\n",
        ")\n",
        "final_chain = (\n",
        "    RunnablePassthrough.assign(summaries=map_step_chain).assign(final_summary=reduce_chain) |\n",
        "    RunnableLambda(lambda x: x[\"final_summary\"])\n",
        ")\n",
        "result = final_chain.invoke({\"video_uri\": video_uri, \"interval_secs\": 60, \"chunks\": 9})  ## almost full length\n",
        "result"
      ]
    },
    {
      "cell_type": "code",
      "source": [
        "display(Markdown(result))"
      ],
      "metadata": {
        "colab": {
          "base_uri": "https://localhost:8080/",
          "height": 139
        },
        "id": "Dx7yJRVjpzj5",
        "outputId": "cfce4238-927e-401c-b2c5-e9e64e4f2fc4"
      },
      "id": "Dx7yJRVjpzj5",
      "execution_count": null,
      "outputs": [
        {
          "output_type": "display_data",
          "data": {
            "text/plain": [
              "<IPython.core.display.Markdown object>"
            ],
            "text/markdown": "\"Big Buck Bunny\" is an animated short film that follows a large, gentle rabbit's experiences in a forest meadow. Initially, he enjoys the peaceful surroundings, but his tranquility is disrupted by a group of mischievous rodents – squirrels and a chinchilla. They steal from him and throw things at him, leading to comical revenge plots.\n\nThe rabbit attempts to trap the squirrels using various tools and contraptions, leading to slapstick scenarios involving bombs, booby traps, and chases through the forest. The conflict escalates with squirrels becoming victims of the rabbit's traps. The video culminates with one of the squirrels flying through the air with a kite string, held by the rabbit. The film then transitions to the credits, featuring animated squirrels and rodents in the background. The story blends humor and mild violence in a lighthearted animated style.\n"
          },
          "metadata": {}
        }
      ]
    },
    {
      "cell_type": "markdown",
      "id": "pXJNqzpsYMxz",
      "metadata": {
        "id": "pXJNqzpsYMxz"
      },
      "source": [
        "## Using LangGraph"
      ]
    },
    {
      "cell_type": "markdown",
      "id": "doF3XfG-YOgj",
      "metadata": {
        "id": "doF3XfG-YOgj"
      },
      "source": [
        "Let's implement the same logic using LangGraph:"
      ]
    },
    {
      "cell_type": "code",
      "execution_count": null,
      "id": "abq7Nb0hYPU0",
      "metadata": {
        "id": "abq7Nb0hYPU0"
      },
      "outputs": [],
      "source": [
        "import operator\n",
        "from typing_extensions import TypedDict\n",
        "from typing import Annotated\n",
        "from langgraph.constants import Send\n",
        "from langgraph.graph import StateGraph, START, END\n",
        "\n",
        "\n",
        "class AgentState(TypedDict):\n",
        "    video_uri: str\n",
        "    chunks: int\n",
        "    interval_secs: int\n",
        "    summaries: Annotated[list, operator.add]\n",
        "    final_summary: str\n",
        "\n",
        "class _ChunkState(TypedDict):\n",
        "    video_uri: str\n",
        "    start_offset: int\n",
        "    interval_secs: int\n",
        "\n",
        "\n",
        "human_part = {\"type\": \"text\", \"text\": \"Provide a summary of the video.\"}\n",
        "\n",
        "async def _summarize_video_chunk(state:  _ChunkState):\n",
        "    start_offset = state[\"start_offset\"]\n",
        "    interval_secs = state[\"interval_secs\"]\n",
        "    video_part = {\n",
        "        \"type\": \"media\", \"file_uri\": state[\"video_uri\"], \"mime_type\": \"video/mp4\",\n",
        "        \"video_metadata\": {\n",
        "            \"start_offset\": {\"seconds\": start_offset*interval_secs},\n",
        "            \"end_offset\": {\"seconds\": (start_offset+1)*interval_secs}}\n",
        "    }\n",
        "    response = await llm.ainvoke(\n",
        "        [HumanMessage(content=[human_part, video_part])])\n",
        "    return {\"summaries\": [response.content]}\n",
        "\n",
        "def _map_summaries(state: AgentState):\n",
        "    chunks = state[\"chunks\"]\n",
        "    payloads = [\n",
        "        {\n",
        "            \"video_uri\": state[\"video_uri\"],\n",
        "            \"interval_secs\": state[\"interval_secs\"],\n",
        "            \"start_offset\": i\n",
        "        } for i in range(state[\"chunks\"])\n",
        "    ]\n",
        "    return [Send(\"summarize_video_chunk\", payload) for payload in payloads]\n",
        "\n",
        "async def _generate_final_summary(state: AgentState):\n",
        "    summary = _merge_summaries(\n",
        "        summaries=state[\"summaries\"], interval_secs=state[\"interval_secs\"])\n",
        "    final_summary = await (reduce_prompt | llm | StrOutputParser()).ainvoke({\"summaries\": summary})\n",
        "    return {\"final_summary\": final_summary}\n",
        "\n",
        "graph = StateGraph(AgentState)\n",
        "graph.add_node(\"summarize_video_chunk\", _summarize_video_chunk)\n",
        "graph.add_node(\"generate_final_summary\", _generate_final_summary)\n",
        "\n",
        "graph.add_conditional_edges(START, _map_summaries, [\"summarize_video_chunk\"])\n",
        "graph.add_edge(\"summarize_video_chunk\", \"generate_final_summary\")\n",
        "graph.add_edge(\"generate_final_summary\", END)\n",
        "\n",
        "app = graph.compile()"
      ]
    },
    {
      "cell_type": "code",
      "execution_count": null,
      "id": "ifyjcuIjYPW6",
      "metadata": {
        "colab": {
          "base_uri": "https://localhost:8080/",
          "height": 350
        },
        "id": "ifyjcuIjYPW6",
        "outputId": "778d079e-95fe-4c69-9158-f484788ab904"
      },
      "outputs": [
        {
          "data": {
            "image/png": "[encoded data removed]",
            "text/plain": [
              "<IPython.core.display.Image object>"
            ]
          },
          "execution_count": 13,
          "metadata": {},
          "output_type": "execute_result"
        }
      ],
      "source": [
        "from IPython.display import Image\n",
        "Image(app.get_graph().draw_mermaid_png())"
      ]
    },
    {
      "cell_type": "code",
      "execution_count": null,
      "id": "bQNNZ3jH5Ts9",
      "metadata": {
        "id": "bQNNZ3jH5Ts9",
        "collapsed": true,
        "outputId": "10f9f1b2-c830-4740-9e6e-5685db54e9da"
      },
      "outputs": [
        {
          "name": "stdout",
          "output_type": "stream",
          "text": [
            "Okay, here's a comprehensive summary of the entire video, synthesized from the individual section summaries:\n",
            "\n",
            "**Overall Video Summary:**\n",
            "\n",
            "The video features Google Engineers Majid Abakar and John Afaki discussing the evolution of Google Cast and its future direction. They highlight Google Cast's goals: redefining TV interaction, offering compelling large-screen experiences, building an open and consistent ecosystem for both users and developers.\n",
            "\n",
            "The presentation covers several key areas:\n",
            "\n",
            "*   **Introduction to Google Cast:** It started with Chromecast for $35 and now encompasses a broader vision of bringing content to the largest screen possible using mobile devices as controllers.\n",
            "*   **Interaction Model:** Focuses on seamless content consumption on large screens, leveraging mobile device portability. The user can use the cloud, their mobile device or the local cloud on other devices. With the ability to connect multiple mobile devices to a single session, this media app can bring great use cases such as party mode, voting and sharing content.\n",
            "*   **Developer Focus:** Emphasizes ease of development using HTML5 and JavaScript, with UX guidelines for consistent user experiences.\n",
            "*   **New Features and Updates:**\n",
            "    *   Casting to nearby devices without Wi-Fi using location and ultrasound.\n",
            "    *   Android TV integration with Cast functionalities.\n",
            "    *   Updated Google Cast SDK supporting Smooth Stream, Dash, and HLS.\n",
            "    *   Enhanced Closed Captioning support.\n",
            "    *   Unified queue management API with functions for insert, remove, and reorder.\n",
            "    *   Media controls on mobile devices for interacting with playing media even without the app.\n",
            "    *   Improved app discovery through a redesigned Chromecast.com/apps website and a new developer console.\n",
            "*   **Beyond Media:** Explores uses beyond media, including games, education, and business applications like presentations and digital signage.\n",
            "*   **Q&A Session:**\n",
            "    *   Discusses streaming local vs. foreign content.\n",
            "    *   Addresses user opt-out of local discovery.\n",
            "    *   Mentions casting from a desktop (experimental feature).\n",
            "    *   Discusses primitives for images and slideshows.\n",
            "    *   Explores the possibility of playing music and streaming photos simultaneously on Android TV (currently not planned).\n",
            "    *   Addresses audio and video latency with Android mirroring (goal of low latency).\n",
            "    *   Covers the option for individual applications to disable video display on the big screen (system function controlled at the level of protection).\n",
            "    *   Confirms Cross Domain Auth is not going away.\n",
            "    *   Mentions considerations for 5 GHz support (cannot discuss future hardware).\n",
            "    *   States codec support will be identical on Chromecast and Android TV.\n",
            "    *   Addresses Kindle Fire compatibility (SDK not available due to Google Play Services dependency).\n",
            "\n",
            "The video concludes with the announcement of free Chromecasts being given away. In essence, the video provides an overview of Google Cast's current state, future enhancements, and its expanding role in various application areas.\n",
            "\n"
          ]
        }
      ],
      "source": [
        "result = await app.ainvoke(\n",
        "    {\"video_uri\": video_uri, \"chunks\": 5, \"interval_secs\": 600},\n",
        "    {\"max_concurrency\": 3}\n",
        ")\n",
        "print(result[\"final_summary\"])"
      ]
    },
    {
      "cell_type": "markdown",
      "source": [
        "👉 Final summanry example:  \n",
        "\n",
        "Okay, here's a comprehensive summary of the entire video, synthesized from the individual section summaries:\n",
        "\n",
        "**Overall Video Summary:**\n",
        "\n",
        "The video features Google Engineers Majid Abakar and John Afaki discussing the evolution of Google Cast and its future direction. They highlight Google Cast's goals: redefining TV interaction, offering compelling large-screen experiences, building an open and consistent ecosystem for both users and developers.\n",
        "\n",
        "The presentation covers several key areas:\n",
        "\n",
        "*   **Introduction to Google Cast:** It started with Chromecast for $35 and now encompasses a broader vision of bringing content to the largest screen possible using mobile devices as controllers.\n",
        "*   **Interaction Model:** Focuses on seamless content consumption on large screens, leveraging mobile device portability. The user can use the cloud, their mobile device or the local cloud on other devices. With the ability to connect multiple mobile devices to a single session, this media app can bring great use cases such as party mode, voting and sharing content.\n",
        "*   **Developer Focus:** Emphasizes ease of development using HTML5 and JavaScript, with UX guidelines for consistent user experiences.\n",
        "*   **New Features and Updates:**\n",
        "    *   Casting to nearby devices without Wi-Fi using location and ultrasound.\n",
        "    *   Android TV integration with Cast functionalities.\n",
        "    *   Updated Google Cast SDK supporting Smooth Stream, Dash, and HLS.\n",
        "    *   Enhanced Closed Captioning support.\n",
        "    *   Unified queue management API with functions for insert, remove, and reorder.\n",
        "    *   Media controls on mobile devices for interacting with playing media even without the app.\n",
        "    *   Improved app discovery through a redesigned Chromecast.com/apps website and a new developer console.\n",
        "*   **Beyond Media:** Explores uses beyond media, including games, education, and business applications like presentations and digital signage.\n",
        "*   **Q&A Session:**\n",
        "    *   Discusses streaming local vs. foreign content.\n",
        "    *   Addresses user opt-out of local discovery.\n",
        "    *   Mentions casting from a desktop (experimental feature).\n",
        "    *   Discusses primitives for images and slideshows.\n",
        "    *   Explores the possibility of playing music and streaming photos simultaneously on Android TV (currently not planned).\n",
        "    *   Addresses audio and video latency with Android mirroring (goal of low latency).\n",
        "    *   Covers the option for individual applications to disable video display on the big screen (system function controlled at the level of protection).\n",
        "    *   Confirms Cross Domain Auth is not going away.\n",
        "    *   Mentions considerations for 5 GHz support (cannot discuss future hardware).\n",
        "    *   States codec support will be identical on Chromecast and Android TV.\n",
        "    *   Addresses Kindle Fire compatibility (SDK not available due to Google Play Services dependency).\n",
        "\n",
        "The video concludes with the announcement of free Chromecasts being given away. In essence, the video provides an overview of Google Cast's current state, future enhancements, and its expanding role in various application areas.\n"
      ],
      "metadata": {
        "id": "rWxcn3H6VosJ"
      },
      "id": "rWxcn3H6VosJ"
    },
    {
      "cell_type": "code",
      "execution_count": null,
      "id": "1zGvMUraxexs",
      "metadata": {
        "colab": {
          "base_uri": "https://localhost:8080/"
        },
        "id": "1zGvMUraxexs",
        "outputId": "7fb420f7-cb08-41b9-9e89-1a7a61ca3d82"
      },
      "outputs": [
        {
          "name": "stdout",
          "output_type": "stream",
          "text": [
            "['summarize_video_chunk']\n",
            "['summarize_video_chunk']\n",
            "['summarize_video_chunk']\n",
            "['summarize_video_chunk']\n",
            "['summarize_video_chunk']\n",
            "['generate_final_summary']\n"
          ]
        }
      ],
      "source": [
        "async for step in app.astream(\n",
        "    {\"video_uri\": video_uri, \"chunks\": 5, \"interval_secs\": 600},\n",
        "    {\"recursion_limit\": 10},\n",
        "):\n",
        "    print(list(step.keys()))"
      ]
    },
    {
      "cell_type": "markdown",
      "id": "pLER-9NAZeO-",
      "metadata": {
        "id": "pLER-9NAZeO-"
      },
      "source": [
        "Let's look at the final summary:"
      ]
    },
    {
      "cell_type": "code",
      "execution_count": null,
      "id": "f6aNAwbDYPZI",
      "metadata": {
        "colab": {
          "base_uri": "https://localhost:8080/",
          "height": 157
        },
        "id": "f6aNAwbDYPZI",
        "outputId": "a6790dfb-5c40-448f-dc80-430c750ac043"
      },
      "outputs": [
        {
          "data": {
            "text/plain": [
              "\"Okay, here's a comprehensive summary of the entire video, synthesized from the individual section summaries:\\n\\n**Overall Video Summary:**\\n\\nThe video features Google Engineers Majid Abakar and John Afaki discussing the evolution of Google Cast and its future direction. They highlight Google Cast's goals: redefining TV interaction, offering compelling large-screen experiences, building an open and consistent ecosystem for both users and developers.\\n\\nThe presentation covers several key areas:\\n\\n*   **Introduction to Google Cast:** It started with Chromecast for $35 and now encompasses a broader vision of bringing content to the largest screen possible using mobile devices as controllers.\\n*   **Interaction Model:** Focuses on seamless content consumption on large screens, leveraging mobile device portability. The user can use the cloud, their mobile device or the local cloud on other devices. With the ability to connect multiple mobile devices to a single session, this media app can bring great use cases such as party mode, voting and sharing content.\\n*   **Developer Focus:** Emphasizes ease of development using HTML5 and JavaScript, with UX guidelines for consistent user experiences.\\n*   **New Features and Updates:**\\n    *   Casting to nearby devices without Wi-Fi using location and ultrasound.\\n    *   Android TV integration with Cast functionalities.\\n    *   Updated Google Cast SDK supporting Smooth Stream, Dash, and HLS.\\n    *   Enhanced Closed Captioning support.\\n    *   Unified queue management API with functions for insert, remove, and reorder.\\n    *   Media controls on mobile devices for interacting with playing media even without the app.\\n    *   Improved app discovery through a redesigned Chromecast.com/apps website and a new developer console.\\n*   **Beyond Media:** Explores uses beyond media, including games, education, and business applications like presentations and digital signage.\\n*   **Q&A Session:**\\n    *   Discusses streaming local vs. foreign content.\\n    *   Addresses user opt-out of local discovery.\\n    *   Mentions casting from a desktop (experimental feature).\\n    *   Discusses primitives for images and slideshows.\\n    *   Explores the possibility of playing music and streaming photos simultaneously on Android TV (currently not planned).\\n    *   Addresses audio and video latency with Android mirroring (goal of low latency).\\n    *   Covers the option for individual applications to disable video display on the big screen (system function controlled at the level of protection).\\n    *   Confirms Cross Domain Auth is not going away.\\n    *   Mentions considerations for 5 GHz support (cannot discuss future hardware).\\n    *   States codec support will be identical on Chromecast and Android TV.\\n    *   Addresses Kindle Fire compatibility (SDK not available due to Google Play Services dependency).\\n\\nThe video concludes with the announcement of free Chromecasts being given away. In essence, the video provides an overview of Google Cast's current state, future enhancements, and its expanding role in various application areas.\\n\""
            ]
          },
          "execution_count": 18,
          "metadata": {},
          "output_type": "execute_result"
        }
      ],
      "source": [
        "result[\"final_summary\"]"
      ]
    }
  ],
  "metadata": {
    "colab": {
      "provenance": [],
      "toc_visible": true,
      "include_colab_link": true
    },
    "kernelspec": {
      "display_name": "Python 3 (ipykernel)",
      "language": "python",
      "name": "python3"
    }
  },
  "nbformat": 4,
  "nbformat_minor": 5
}